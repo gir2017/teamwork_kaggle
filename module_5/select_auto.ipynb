{
 "cells": [
  {
   "cell_type": "markdown",
   "id": "bdc727c3",
   "metadata": {
    "papermill": {
     "duration": 0.049831,
     "end_time": "2021-10-18T11:49:52.243642",
     "exception": false,
     "start_time": "2021-10-18T11:49:52.193811",
     "status": "completed"
    },
    "tags": []
   },
   "source": [
    "<img src=\"https://whatcar.vn/media/2018/09/car-lot-940x470.jpg\"/>\n",
    "\n",
    "# Car price prediction"
   ]
  },
  {
   "cell_type": "code",
   "execution_count": 712,
   "id": "40984705",
   "metadata": {
    "execution": {
     "iopub.execute_input": "2021-10-18T11:49:52.345248Z",
     "iopub.status.busy": "2021-10-18T11:49:52.344171Z",
     "iopub.status.idle": "2021-10-18T11:49:55.076481Z",
     "shell.execute_reply": "2021-10-18T11:49:55.075839Z",
     "shell.execute_reply.started": "2021-10-18T11:11:27.380574Z"
    },
    "papermill": {
     "duration": 2.783128,
     "end_time": "2021-10-18T11:49:55.076657",
     "exception": false,
     "start_time": "2021-10-18T11:49:52.293529",
     "status": "completed"
    },
    "scrolled": true,
    "tags": []
   },
   "outputs": [],
   "source": [
    "# Import all necessary libraries\n",
    "import numpy as np # linear algebra\n",
    "import pandas as pd # data processing, CSV file I/O (e.g. pd.read_csv)\n",
    "import pandas_profiling as pp\n",
    "from pandas_profiling import ProfileReport\n",
    "import re\n",
    "import os\n",
    "\n",
    "import datetime\n",
    "from datetime import datetime\n",
    "\n",
    "import seaborn as sns\n",
    "import matplotlib.pyplot as plt\n",
    "\n",
    "import sys\n",
    "import pdb\n",
    "import ast, json\n",
    "\n",
    "from sklearn.preprocessing import PowerTransformer\n",
    "from sklearn.model_selection import train_test_split, KFold\n",
    "from tqdm.notebook import tqdm\n",
    "from catboost import CatBoostRegressor\n",
    "from sklearn.preprocessing import LabelEncoder, OneHotEncoder, StandardScaler, PolynomialFeatures\n",
    "from sklearn.ensemble import RandomForestRegressor, BaggingRegressor, ExtraTreesRegressor, AdaBoostRegressor, GradientBoostingRegressor, StackingRegressor\n",
    "from sklearn.linear_model import LinearRegression\n",
    "from sklearn.metrics import mean_squared_error\n",
    "\n",
    "import warnings\n",
    "warnings.filterwarnings(\"ignore\")\n",
    "\n",
    "%matplotlib inline"
   ]
  },
  {
   "cell_type": "code",
   "execution_count": 713,
   "id": "aeebc0df",
   "metadata": {
    "execution": {
     "iopub.execute_input": "2021-10-18T11:49:55.176935Z",
     "iopub.status.busy": "2021-10-18T11:49:55.176279Z",
     "iopub.status.idle": "2021-10-18T11:49:55.179190Z",
     "shell.execute_reply": "2021-10-18T11:49:55.178759Z",
     "shell.execute_reply.started": "2021-10-18T09:04:18.484215Z"
    },
    "papermill": {
     "duration": 0.054562,
     "end_time": "2021-10-18T11:49:55.179318",
     "exception": false,
     "start_time": "2021-10-18T11:49:55.124756",
     "status": "completed"
    },
    "tags": []
   },
   "outputs": [],
   "source": [
    "# print all columns in row\n",
    "pd.set_option(\"display.max_columns\", None)"
   ]
  },
  {
   "cell_type": "code",
   "execution_count": 714,
   "id": "f4e55c90",
   "metadata": {
    "execution": {
     "iopub.execute_input": "2021-10-18T11:49:55.278721Z",
     "iopub.status.busy": "2021-10-18T11:49:55.278099Z",
     "iopub.status.idle": "2021-10-18T11:49:59.239133Z",
     "shell.execute_reply": "2021-10-18T11:49:59.238510Z",
     "shell.execute_reply.started": "2021-10-18T09:04:19.318294Z"
    },
    "papermill": {
     "duration": 4.012483,
     "end_time": "2021-10-18T11:49:59.239267",
     "exception": false,
     "start_time": "2021-10-18T11:49:55.226784",
     "status": "completed"
    },
    "tags": []
   },
   "outputs": [],
   "source": [
    "!pip freeze > requirements.txt\n",
    "RANDOM_SEED = 42"
   ]
  },
  {
   "cell_type": "markdown",
   "id": "ac506639",
   "metadata": {},
   "source": [
    "### Kaggle"
   ]
  },
  {
   "cell_type": "code",
   "execution_count": 715,
   "id": "7caba59e",
   "metadata": {
    "execution": {
     "iopub.execute_input": "2021-10-18T11:49:59.341348Z",
     "iopub.status.busy": "2021-10-18T11:49:59.340678Z",
     "iopub.status.idle": "2021-10-18T11:49:59.368657Z",
     "shell.execute_reply": "2021-10-18T11:49:59.368021Z",
     "shell.execute_reply.started": "2021-10-18T09:04:24.445831Z"
    },
    "papermill": {
     "duration": 0.081553,
     "end_time": "2021-10-18T11:49:59.368816",
     "exception": false,
     "start_time": "2021-10-18T11:49:59.287263",
     "status": "completed"
    },
    "tags": []
   },
   "outputs": [],
   "source": [
    "# we will look at both parsed data: manually prepared and ready parsed on 09.09.2020\n",
    "DIR_TRAIN_ready  = '../input/ready-all-auto-ru-09-09-2020/'\n",
    "DIR_TRAIN = '../input/parsed-data/'\n",
    "DIR_TEST   = '../input/sf-dst-car-price-prediction/'\n",
    "files = !ls '../input/parsed-data/'"
   ]
  },
  {
   "cell_type": "markdown",
   "id": "56110bf5",
   "metadata": {},
   "source": [
    "### Locally"
   ]
  },
  {
   "cell_type": "code",
   "execution_count": 716,
   "id": "00aeb871",
   "metadata": {},
   "outputs": [
    {
     "name": "stdout",
     "output_type": "stream",
     "text": [
      "['df_parsed_audi.csv', 'df_parsed_bmw.csv', 'df_parsed_honda.csv', 'df_parsed_infiniti.csv', 'df_parsed_lexus.csv', 'df_parsed_mercedes_mercedes.csv', 'df_parsed_mitsubishi.csv', 'df_parsed_nissan.csv', 'df_parsed_skoda.csv', 'df_parsed_toyota.csv', 'df_parsed_volkswagen.csv', 'df_parsed_volvo.csv']\n"
     ]
    }
   ],
   "source": [
    "DIR_TRAIN_ready  = './input/'\n",
    "DIR_TRAIN = './input/'\n",
    "DIR_TEST   = './input/'\n",
    "files = [x for x in os.listdir('./input/') if x.startswith('df')]\n",
    "print(files)"
   ]
  },
  {
   "cell_type": "markdown",
   "id": "3f05e0de",
   "metadata": {
    "papermill": {
     "duration": 0.048545,
     "end_time": "2021-10-18T11:49:59.465559",
     "exception": false,
     "start_time": "2021-10-18T11:49:59.417014",
     "status": "completed"
    },
    "tags": []
   },
   "source": [
    "## Functions"
   ]
  },
  {
   "cell_type": "code",
   "execution_count": 717,
   "id": "cff63fdd",
   "metadata": {
    "execution": {
     "iopub.execute_input": "2021-10-18T11:49:59.573613Z",
     "iopub.status.busy": "2021-10-18T11:49:59.572526Z",
     "iopub.status.idle": "2021-10-18T11:49:59.574845Z",
     "shell.execute_reply": "2021-10-18T11:49:59.575258Z",
     "shell.execute_reply.started": "2021-10-18T11:27:03.466941Z"
    },
    "papermill": {
     "duration": 0.061131,
     "end_time": "2021-10-18T11:49:59.575451",
     "exception": false,
     "start_time": "2021-10-18T11:49:59.514320",
     "status": "completed"
    },
    "tags": []
   },
   "outputs": [],
   "source": [
    "# MAPE metric\n",
    "def mape(y_true, y_pred):\n",
    "    return np.mean(np.abs((y_pred-y_true)/y_true))\n",
    "\n",
    "# Calculating outliers\n",
    "def outliers(data, col):\n",
    "    IQR = data[col].quantile(0.75) - data[col].quantile(0.25)\n",
    "    perc25 = data[col].quantile(0.25)\n",
    "    perc75 = data[col].quantile(0.75)\n",
    "    l = perc25 - 1.5*IQR\n",
    "    r = perc75 + 1.5*IQR\n",
    "    print(\"For {0} IQR: {1}, \\n\".format(col, IQR),\n",
    "          \"Outliers boundaries: [{0}, {1}].\".format(l, r))\n",
    "    print('Total {} outliers\\n'.format(\n",
    "        data[data[col] > r][col].count() + data[data[col] < l][col].count()),\n",
    "         '{} left outliers \\n'.format(data[data[col] < l][col].count()),\n",
    "         '{} right outliers \\n'.format(data[data[col] > r][col].count())\n",
    "         )\n",
    "\n",
    "# Building a boxplot and  histogram for column\n",
    "def get_hist_box(df, col):\n",
    "    # build a histogram\n",
    "    df[col].value_counts(ascending=True).plot.barh()\n",
    "    \n",
    "    # build a boxplot\n",
    "    fig, ax = plt.subplots(figsize = (15, 10))\n",
    "    sns.boxplot(x = col, y = 'price_log',data=df)\n",
    "    plt.xticks(rotation=45)\n",
    "    ax.set_title('Boxplot for {}'.format(col))\n",
    "    plt.show()\n",
    "    \n",
    "# get color names in ready df\n",
    "def color(row):\n",
    "    #pdb.set_trace()  \n",
    "    if row['Комплектация'] != \"{'id': '0'}\":\n",
    "        try:\n",
    "            val = ast.literal_eval(row['Комплектация'])['vendor_colors'][0]['stock_color']['name_ru']\n",
    "            #val_1 = ast.literal_eval(row['Комплектация'])['vendor_colors'][0]['stock_color']['hex_code']\n",
    "        except KeyError:\n",
    "            val = 'None'\n",
    "    else: \n",
    "        val = 'None'\n",
    "    return val\n",
    "\n",
    "# get complectation_dict for train_ready data\n",
    "def compl(row,col):\n",
    "    #pdb.set_trace()  \n",
    "    # for one row testing\n",
    "    #if ((row[col] != \"{'id': '0'}\") & pd.notnull(row[col])).all():\n",
    "    if ((row[col] != \"{'id': '0'}\") & pd.notnull(row[col])):\n",
    "    #if pd.notnull(row[col]):\n",
    "        try:\n",
    "            val = ast.literal_eval(row[col])['available_options']\n",
    "            \n",
    "        except ValueError:\n",
    "            val = json.loads(row[col])['available_options']\n",
    "        except KeyError:\n",
    "            val = np.nan\n",
    "    else: \n",
    "        val = np.nan\n",
    "    return val\n",
    "\n",
    "# format equipment_dict\n",
    "def equip(row):\n",
    "    #pdb.set_trace()  \n",
    "    if pd.notnull(row['equipment_dict']):\n",
    "        try:\n",
    "            d = json.loads(row['equipment_dict'])\n",
    "        except :\n",
    "            d = ast.literal_eval(row['equipment_dict'])\n",
    "        val = [k for k, v in d.items() if v==True]\n",
    "    else: \n",
    "        val = np.nan\n",
    "    \n",
    "    return val\n",
    "\n",
    "# bind complectation & equipment dict together in one list\n",
    "def equip_compl(row):\n",
    "    #pdb.set_trace()  \n",
    "    if isinstance(row['equipment'], float):\n",
    "        if isinstance(row['complectation_dict'], float):\n",
    "            val = np.nan\n",
    "            \n",
    "        else:\n",
    "            val = row['complectation_dict']\n",
    "    elif isinstance(row['complectation_dict'], float): \n",
    "        val = row['equipment']\n",
    "    else:\n",
    "        try:\n",
    "            val = list(set(row['equipment']+ row['complectation_dict']))\n",
    "        except:\n",
    "            val = list(set(row['equipment']+ ast.literal_eval(row['complectation_dict'])))\n",
    "    return val\n",
    "\n",
    "# format engine displacement\n",
    "def eng_displ(row):\n",
    "    # pdb.set_trace()  \n",
    "    if ((row['train']==1) & (row['new_data']==0) & (row['fuelType']!='электро')):\n",
    "        extracted_value = re.findall('\\d\\.\\d', str(row['name']))\n",
    "        if extracted_value:\n",
    "            return float(extracted_value[0])\n",
    "    elif row['fuelType']=='электро':\n",
    "        return 0\n",
    "    else:\n",
    "        try:\n",
    "            val = str(row['engineDisplacement']).split()[0]\n",
    "            return float(val)\n",
    "        except:\n",
    "            return np.nan\n",
    "        \n",
    "# format engine power\n",
    "def eng_power(row):\n",
    "    # pdb.set_trace()  \n",
    "    if type(row['enginePower']) == str:\n",
    "        extracted_value = float(str(row['enginePower']).split()[0])\n",
    "        return extracted_value\n",
    "    else:\n",
    "        try:\n",
    "            val = row['enginePower']\n",
    "            return float(val)\n",
    "        except:\n",
    "            return np.nan\n",
    "        \n",
    "def fill_st_wheel(brand, model, right_wheel_dict):\n",
    "    try:\n",
    "        if model in right_wheel_dict[brand]:\n",
    "            return 'right'\n",
    "        else:\n",
    "            return 'left'\n",
    "    except:\n",
    "        return 'left'"
   ]
  },
  {
   "cell_type": "code",
   "execution_count": 718,
   "id": "7b8620b2",
   "metadata": {
    "execution": {
     "iopub.execute_input": "2021-10-18T11:49:59.789613Z",
     "iopub.status.busy": "2021-10-18T11:49:59.788877Z",
     "iopub.status.idle": "2021-10-18T11:50:28.417629Z",
     "shell.execute_reply": "2021-10-18T11:50:28.417033Z",
     "shell.execute_reply.started": "2021-10-18T11:00:50.351241Z"
    },
    "papermill": {
     "duration": 28.684956,
     "end_time": "2021-10-18T11:50:28.417773",
     "exception": false,
     "start_time": "2021-10-18T11:49:59.732817",
     "status": "completed"
    },
    "tags": []
   },
   "outputs": [],
   "source": [
    "# read all df\n",
    "# we used ready df from 2020 +\n",
    "# our parsed data from 2021\n",
    "train_r = pd.read_csv(DIR_TRAIN_ready+'all_auto_ru_09_09_2020.csv') \n",
    "\n",
    "train_parsed = pd.DataFrame(columns = ['bodyType', 'brand', 'car_url', 'color', 'complectation_dict',\n",
    "       'description', 'engineDisplacement', 'enginePower', 'equipment_dict',\n",
    "       'fuelType', 'image', 'mileage', 'modelDate', 'model_info', 'model_name',\n",
    "       'name', 'numberOfDoors', 'parsing_unixtime', 'priceCurrency',\n",
    "       'productionDate', 'sell_id', 'super_gen', 'vehicleConfiguration',\n",
    "       'vehicleTransmission', 'vendor', 'Владельцы', 'Владение', 'ПТС',\n",
    "       'Привод', 'Руль', 'Состояние', 'Таможня', 'views', 'date_added',\n",
    "       'region', 'price'])  \n",
    "for file in files:\n",
    "    model = pd.read_csv(DIR_TRAIN+file)\n",
    "    #pdb.set_trace()  \n",
    "    train_parsed = pd.concat([train_parsed,model], ignore_index=True)\n",
    "    \n",
    "test = pd.read_csv(DIR_TEST+'test.csv')\n",
    "sample_submission = pd.read_csv(DIR_TEST+'sample_submission.csv')"
   ]
  },
  {
   "cell_type": "code",
   "execution_count": 719,
   "id": "8bd87778",
   "metadata": {
    "execution": {
     "iopub.execute_input": "2021-10-18T11:50:28.524204Z",
     "iopub.status.busy": "2021-10-18T11:50:28.523465Z",
     "iopub.status.idle": "2021-10-18T11:50:28.561167Z",
     "shell.execute_reply": "2021-10-18T11:50:28.561607Z",
     "shell.execute_reply.started": "2021-10-18T09:42:09.053859Z"
    },
    "papermill": {
     "duration": 0.095591,
     "end_time": "2021-10-18T11:50:28.561778",
     "exception": false,
     "start_time": "2021-10-18T11:50:28.466187",
     "status": "completed"
    },
    "tags": []
   },
   "outputs": [
    {
     "data": {
      "text/html": [
       "<div>\n",
       "<style scoped>\n",
       "    .dataframe tbody tr th:only-of-type {\n",
       "        vertical-align: middle;\n",
       "    }\n",
       "\n",
       "    .dataframe tbody tr th {\n",
       "        vertical-align: top;\n",
       "    }\n",
       "\n",
       "    .dataframe thead th {\n",
       "        text-align: right;\n",
       "    }\n",
       "</style>\n",
       "<table border=\"1\" class=\"dataframe\">\n",
       "  <thead>\n",
       "    <tr style=\"text-align: right;\">\n",
       "      <th></th>\n",
       "      <th>bodyType</th>\n",
       "      <th>brand</th>\n",
       "      <th>car_url</th>\n",
       "      <th>color</th>\n",
       "      <th>complectation_dict</th>\n",
       "      <th>description</th>\n",
       "      <th>engineDisplacement</th>\n",
       "      <th>enginePower</th>\n",
       "      <th>equipment_dict</th>\n",
       "      <th>fuelType</th>\n",
       "      <th>image</th>\n",
       "      <th>mileage</th>\n",
       "      <th>modelDate</th>\n",
       "      <th>model_info</th>\n",
       "      <th>model_name</th>\n",
       "      <th>name</th>\n",
       "      <th>numberOfDoors</th>\n",
       "      <th>parsing_unixtime</th>\n",
       "      <th>priceCurrency</th>\n",
       "      <th>productionDate</th>\n",
       "      <th>sell_id</th>\n",
       "      <th>super_gen</th>\n",
       "      <th>vehicleConfiguration</th>\n",
       "      <th>vehicleTransmission</th>\n",
       "      <th>vendor</th>\n",
       "      <th>Владельцы</th>\n",
       "      <th>Владение</th>\n",
       "      <th>ПТС</th>\n",
       "      <th>Привод</th>\n",
       "      <th>Руль</th>\n",
       "      <th>Состояние</th>\n",
       "      <th>Таможня</th>\n",
       "      <th>views</th>\n",
       "      <th>date_added</th>\n",
       "      <th>region</th>\n",
       "      <th>price</th>\n",
       "    </tr>\n",
       "  </thead>\n",
       "  <tbody>\n",
       "    <tr>\n",
       "      <th>0</th>\n",
       "      <td>лифтбек</td>\n",
       "      <td>SKODA</td>\n",
       "      <td>https://auto.ru/cars/used/sale/skoda/rapid/110...</td>\n",
       "      <td>белый</td>\n",
       "      <td>NaN</td>\n",
       "      <td>Автомобиль в отличном состоянии На фото именно...</td>\n",
       "      <td>1.0 LTR</td>\n",
       "      <td>110 N12</td>\n",
       "      <td>{'cruise-control': True, 'asr': True, 'tinted-...</td>\n",
       "      <td>бензин</td>\n",
       "      <td>https://avatars.mds.yandex.net/get-autoru-vos/...</td>\n",
       "      <td>98000.0</td>\n",
       "      <td>2017.0</td>\n",
       "      <td>NaN</td>\n",
       "      <td>Rapid</td>\n",
       "      <td>Skoda Rapid I Рестайлинг</td>\n",
       "      <td>5.0</td>\n",
       "      <td>1.634236e+09</td>\n",
       "      <td>RUB</td>\n",
       "      <td>2018.0</td>\n",
       "      <td>1.105436e+09</td>\n",
       "      <td>{'sale-data-attributes': {'asciiCat': 'cars', ...</td>\n",
       "      <td>LIFTBACK MECHANICAL 1.0</td>\n",
       "      <td>механическая</td>\n",
       "      <td>EUROPEAN</td>\n",
       "      <td>1 владелец</td>\n",
       "      <td>3 года и 2 месяца</td>\n",
       "      <td>Оригинал</td>\n",
       "      <td>передний</td>\n",
       "      <td>Левый</td>\n",
       "      <td>Не требует ремонта</td>\n",
       "      <td>Растаможен</td>\n",
       "      <td>1069.0</td>\n",
       "      <td>7 октября</td>\n",
       "      <td>в Москве</td>\n",
       "      <td>1030000.0</td>\n",
       "    </tr>\n",
       "    <tr>\n",
       "      <th>1</th>\n",
       "      <td>лифтбек</td>\n",
       "      <td>SKODA</td>\n",
       "      <td>https://auto.ru/cars/used/sale/skoda/octavia/1...</td>\n",
       "      <td>серебристый</td>\n",
       "      <td>NaN</td>\n",
       "      <td>2 собственника по ПТС эксплуатировался одним ч...</td>\n",
       "      <td>1.4 LTR</td>\n",
       "      <td>140 N12</td>\n",
       "      <td>{}</td>\n",
       "      <td>бензин</td>\n",
       "      <td>https://avatars.mds.yandex.net/get-autoru-vos/...</td>\n",
       "      <td>86000.0</td>\n",
       "      <td>2013.0</td>\n",
       "      <td>NaN</td>\n",
       "      <td>Octavia</td>\n",
       "      <td>Skoda Octavia III (A7)</td>\n",
       "      <td>5.0</td>\n",
       "      <td>1.634236e+09</td>\n",
       "      <td>RUB</td>\n",
       "      <td>2015.0</td>\n",
       "      <td>1.105548e+09</td>\n",
       "      <td>{'sale-data-attributes': {'asciiCat': 'cars', ...</td>\n",
       "      <td>LIFTBACK ROBOT 1.4</td>\n",
       "      <td>роботизированная</td>\n",
       "      <td>EUROPEAN</td>\n",
       "      <td>2 владельца</td>\n",
       "      <td>NaN</td>\n",
       "      <td>Оригинал</td>\n",
       "      <td>передний</td>\n",
       "      <td>Левый</td>\n",
       "      <td>Не требует ремонта</td>\n",
       "      <td>Растаможен</td>\n",
       "      <td>464.0</td>\n",
       "      <td>8 октября</td>\n",
       "      <td>в Екатеринбурге</td>\n",
       "      <td>1130000.0</td>\n",
       "    </tr>\n",
       "    <tr>\n",
       "      <th>2</th>\n",
       "      <td>лифтбек</td>\n",
       "      <td>SKODA</td>\n",
       "      <td>https://auto.ru/cars/used/sale/skoda/octavia/1...</td>\n",
       "      <td>синий</td>\n",
       "      <td>NaN</td>\n",
       "      <td>Я второй собственник вписан в ПТС с августа 20...</td>\n",
       "      <td>1.2 LTR</td>\n",
       "      <td>105 N12</td>\n",
       "      <td>{'cruise-control': True, 'engine-proof': True,...</td>\n",
       "      <td>бензин</td>\n",
       "      <td>https://avatars.mds.yandex.net/get-autoru-vos/...</td>\n",
       "      <td>179000.0</td>\n",
       "      <td>2008.0</td>\n",
       "      <td>NaN</td>\n",
       "      <td>Octavia</td>\n",
       "      <td>Skoda Octavia II (A5) Рестайлинг</td>\n",
       "      <td>5.0</td>\n",
       "      <td>1.634236e+09</td>\n",
       "      <td>RUB</td>\n",
       "      <td>2011.0</td>\n",
       "      <td>1.105604e+09</td>\n",
       "      <td>{'sale-data-attributes': {'asciiCat': 'cars', ...</td>\n",
       "      <td>LIFTBACK ROBOT 1.2</td>\n",
       "      <td>роботизированная</td>\n",
       "      <td>EUROPEAN</td>\n",
       "      <td>2 владельца</td>\n",
       "      <td>2 года и 2 месяца</td>\n",
       "      <td>Оригинал</td>\n",
       "      <td>передний</td>\n",
       "      <td>Левый</td>\n",
       "      <td>Не требует ремонта</td>\n",
       "      <td>Растаможен</td>\n",
       "      <td>163.0</td>\n",
       "      <td>13 октября</td>\n",
       "      <td>в Москве</td>\n",
       "      <td>800000.0</td>\n",
       "    </tr>\n",
       "    <tr>\n",
       "      <th>3</th>\n",
       "      <td>лифтбек</td>\n",
       "      <td>SKODA</td>\n",
       "      <td>https://auto.ru/cars/used/sale/skoda/octavia/1...</td>\n",
       "      <td>белый</td>\n",
       "      <td>NaN</td>\n",
       "      <td>Авто в отлично состайни из минусов надо делать...</td>\n",
       "      <td>2.0 LTR</td>\n",
       "      <td>115 N12</td>\n",
       "      <td>{}</td>\n",
       "      <td>бензин</td>\n",
       "      <td>https://avatars.mds.yandex.net/get-autoru-vos/...</td>\n",
       "      <td>514000.0</td>\n",
       "      <td>1996.0</td>\n",
       "      <td>NaN</td>\n",
       "      <td>Octavia</td>\n",
       "      <td>Skoda Octavia I (A4)</td>\n",
       "      <td>5.0</td>\n",
       "      <td>1.634236e+09</td>\n",
       "      <td>RUB</td>\n",
       "      <td>1999.0</td>\n",
       "      <td>1.105094e+09</td>\n",
       "      <td>{'sale-data-attributes': {'asciiCat': 'cars', ...</td>\n",
       "      <td>LIFTBACK MECHANICAL 2.0</td>\n",
       "      <td>механическая</td>\n",
       "      <td>EUROPEAN</td>\n",
       "      <td>3 или более</td>\n",
       "      <td>NaN</td>\n",
       "      <td>Дубликат</td>\n",
       "      <td>передний</td>\n",
       "      <td>Левый</td>\n",
       "      <td>Не требует ремонта</td>\n",
       "      <td>Растаможен</td>\n",
       "      <td>918.0</td>\n",
       "      <td>11 октября</td>\n",
       "      <td>в Москве</td>\n",
       "      <td>150000.0</td>\n",
       "    </tr>\n",
       "    <tr>\n",
       "      <th>4</th>\n",
       "      <td>лифтбек</td>\n",
       "      <td>SKODA</td>\n",
       "      <td>https://auto.ru/cars/new/group/skoda/rapid/217...</td>\n",
       "      <td>белый</td>\n",
       "      <td>NaN</td>\n",
       "      <td>Автомир Богемия Дмитровка Официальный дилер S...</td>\n",
       "      <td>1.6 LTR</td>\n",
       "      <td>110 N12</td>\n",
       "      <td>{'cruise-control': True, 'asr': True, 'tinted-...</td>\n",
       "      <td>бензин</td>\n",
       "      <td>https://avatars.mds.yandex.net/get-autoru-vos/...</td>\n",
       "      <td>NaN</td>\n",
       "      <td>2020.0</td>\n",
       "      <td>NaN</td>\n",
       "      <td>NaN</td>\n",
       "      <td>Skoda Rapid II</td>\n",
       "      <td>5.0</td>\n",
       "      <td>1.634236e+09</td>\n",
       "      <td>RUB</td>\n",
       "      <td>2021.0</td>\n",
       "      <td>1.105618e+09</td>\n",
       "      <td>{'sale-data-attributes': {'asciiCat': 'cars', ...</td>\n",
       "      <td>LIFTBACK AUTOMATIC 1.6</td>\n",
       "      <td>автоматическая</td>\n",
       "      <td>EUROPEAN</td>\n",
       "      <td>NaN</td>\n",
       "      <td>NaN</td>\n",
       "      <td>NaN</td>\n",
       "      <td>NaN</td>\n",
       "      <td>NaN</td>\n",
       "      <td>NaN</td>\n",
       "      <td>NaN</td>\n",
       "      <td>NaN</td>\n",
       "      <td>NaN</td>\n",
       "      <td>NaN</td>\n",
       "      <td>1530000.0</td>\n",
       "    </tr>\n",
       "  </tbody>\n",
       "</table>\n",
       "</div>"
      ],
      "text/plain": [
       "  bodyType  brand                                            car_url  \\\n",
       "0  лифтбек  SKODA  https://auto.ru/cars/used/sale/skoda/rapid/110...   \n",
       "1  лифтбек  SKODA  https://auto.ru/cars/used/sale/skoda/octavia/1...   \n",
       "2  лифтбек  SKODA  https://auto.ru/cars/used/sale/skoda/octavia/1...   \n",
       "3  лифтбек  SKODA  https://auto.ru/cars/used/sale/skoda/octavia/1...   \n",
       "4  лифтбек  SKODA  https://auto.ru/cars/new/group/skoda/rapid/217...   \n",
       "\n",
       "         color complectation_dict  \\\n",
       "0        белый                NaN   \n",
       "1  серебристый                NaN   \n",
       "2        синий                NaN   \n",
       "3        белый                NaN   \n",
       "4        белый                NaN   \n",
       "\n",
       "                                         description engineDisplacement  \\\n",
       "0  Автомобиль в отличном состоянии На фото именно...            1.0 LTR   \n",
       "1  2 собственника по ПТС эксплуатировался одним ч...            1.4 LTR   \n",
       "2  Я второй собственник вписан в ПТС с августа 20...            1.2 LTR   \n",
       "3  Авто в отлично состайни из минусов надо делать...            2.0 LTR   \n",
       "4   Автомир Богемия Дмитровка Официальный дилер S...            1.6 LTR   \n",
       "\n",
       "  enginePower                                     equipment_dict fuelType  \\\n",
       "0     110 N12  {'cruise-control': True, 'asr': True, 'tinted-...   бензин   \n",
       "1     140 N12                                                 {}   бензин   \n",
       "2     105 N12  {'cruise-control': True, 'engine-proof': True,...   бензин   \n",
       "3     115 N12                                                 {}   бензин   \n",
       "4     110 N12  {'cruise-control': True, 'asr': True, 'tinted-...   бензин   \n",
       "\n",
       "                                               image   mileage  modelDate  \\\n",
       "0  https://avatars.mds.yandex.net/get-autoru-vos/...   98000.0     2017.0   \n",
       "1  https://avatars.mds.yandex.net/get-autoru-vos/...   86000.0     2013.0   \n",
       "2  https://avatars.mds.yandex.net/get-autoru-vos/...  179000.0     2008.0   \n",
       "3  https://avatars.mds.yandex.net/get-autoru-vos/...  514000.0     1996.0   \n",
       "4  https://avatars.mds.yandex.net/get-autoru-vos/...       NaN     2020.0   \n",
       "\n",
       "   model_info model_name                              name  numberOfDoors  \\\n",
       "0         NaN      Rapid          Skoda Rapid I Рестайлинг            5.0   \n",
       "1         NaN    Octavia            Skoda Octavia III (A7)            5.0   \n",
       "2         NaN    Octavia  Skoda Octavia II (A5) Рестайлинг            5.0   \n",
       "3         NaN    Octavia              Skoda Octavia I (A4)            5.0   \n",
       "4         NaN        NaN                    Skoda Rapid II            5.0   \n",
       "\n",
       "   parsing_unixtime priceCurrency  productionDate       sell_id  \\\n",
       "0      1.634236e+09           RUB          2018.0  1.105436e+09   \n",
       "1      1.634236e+09           RUB          2015.0  1.105548e+09   \n",
       "2      1.634236e+09           RUB          2011.0  1.105604e+09   \n",
       "3      1.634236e+09           RUB          1999.0  1.105094e+09   \n",
       "4      1.634236e+09           RUB          2021.0  1.105618e+09   \n",
       "\n",
       "                                           super_gen     vehicleConfiguration  \\\n",
       "0  {'sale-data-attributes': {'asciiCat': 'cars', ...  LIFTBACK MECHANICAL 1.0   \n",
       "1  {'sale-data-attributes': {'asciiCat': 'cars', ...       LIFTBACK ROBOT 1.4   \n",
       "2  {'sale-data-attributes': {'asciiCat': 'cars', ...       LIFTBACK ROBOT 1.2   \n",
       "3  {'sale-data-attributes': {'asciiCat': 'cars', ...  LIFTBACK MECHANICAL 2.0   \n",
       "4  {'sale-data-attributes': {'asciiCat': 'cars', ...   LIFTBACK AUTOMATIC 1.6   \n",
       "\n",
       "  vehicleTransmission    vendor    Владельцы           Владение       ПТС  \\\n",
       "0        механическая  EUROPEAN   1 владелец  3 года и 2 месяца  Оригинал   \n",
       "1    роботизированная  EUROPEAN  2 владельца                NaN  Оригинал   \n",
       "2    роботизированная  EUROPEAN  2 владельца  2 года и 2 месяца  Оригинал   \n",
       "3        механическая  EUROPEAN  3 или более                NaN  Дубликат   \n",
       "4      автоматическая  EUROPEAN          NaN                NaN       NaN   \n",
       "\n",
       "     Привод   Руль           Состояние     Таможня   views  date_added  \\\n",
       "0  передний  Левый  Не требует ремонта  Растаможен  1069.0   7 октября   \n",
       "1  передний  Левый  Не требует ремонта  Растаможен   464.0   8 октября   \n",
       "2  передний  Левый  Не требует ремонта  Растаможен   163.0  13 октября   \n",
       "3  передний  Левый  Не требует ремонта  Растаможен   918.0  11 октября   \n",
       "4       NaN    NaN                 NaN         NaN     NaN         NaN   \n",
       "\n",
       "             region      price  \n",
       "0          в Москве  1030000.0  \n",
       "1   в Екатеринбурге  1130000.0  \n",
       "2          в Москве   800000.0  \n",
       "3          в Москве   150000.0  \n",
       "4               NaN  1530000.0  "
      ]
     },
     "execution_count": 719,
     "metadata": {},
     "output_type": "execute_result"
    }
   ],
   "source": [
    "train_parsed.head()"
   ]
  },
  {
   "cell_type": "code",
   "execution_count": 720,
   "id": "deb47bf5",
   "metadata": {
    "execution": {
     "iopub.execute_input": "2021-10-18T11:50:28.666195Z",
     "iopub.status.busy": "2021-10-18T11:50:28.665265Z",
     "iopub.status.idle": "2021-10-18T11:50:28.689639Z",
     "shell.execute_reply": "2021-10-18T11:50:28.690114Z",
     "shell.execute_reply.started": "2021-10-18T09:42:12.757995Z"
    },
    "papermill": {
     "duration": 0.078105,
     "end_time": "2021-10-18T11:50:28.690279",
     "exception": false,
     "start_time": "2021-10-18T11:50:28.612174",
     "status": "completed"
    },
    "tags": []
   },
   "outputs": [
    {
     "data": {
      "text/html": [
       "<div>\n",
       "<style scoped>\n",
       "    .dataframe tbody tr th:only-of-type {\n",
       "        vertical-align: middle;\n",
       "    }\n",
       "\n",
       "    .dataframe tbody tr th {\n",
       "        vertical-align: top;\n",
       "    }\n",
       "\n",
       "    .dataframe thead th {\n",
       "        text-align: right;\n",
       "    }\n",
       "</style>\n",
       "<table border=\"1\" class=\"dataframe\">\n",
       "  <thead>\n",
       "    <tr style=\"text-align: right;\">\n",
       "      <th></th>\n",
       "      <th>bodyType</th>\n",
       "      <th>brand</th>\n",
       "      <th>color</th>\n",
       "      <th>fuelType</th>\n",
       "      <th>modelDate</th>\n",
       "      <th>name</th>\n",
       "      <th>numberOfDoors</th>\n",
       "      <th>productionDate</th>\n",
       "      <th>vehicleConfiguration</th>\n",
       "      <th>vehicleTransmission</th>\n",
       "      <th>engineDisplacement</th>\n",
       "      <th>enginePower</th>\n",
       "      <th>description</th>\n",
       "      <th>mileage</th>\n",
       "      <th>Комплектация</th>\n",
       "      <th>Привод</th>\n",
       "      <th>Руль</th>\n",
       "      <th>Состояние</th>\n",
       "      <th>Владельцы</th>\n",
       "      <th>ПТС</th>\n",
       "      <th>Таможня</th>\n",
       "      <th>Владение</th>\n",
       "      <th>price</th>\n",
       "      <th>start_date</th>\n",
       "      <th>hidden</th>\n",
       "      <th>model</th>\n",
       "    </tr>\n",
       "  </thead>\n",
       "  <tbody>\n",
       "    <tr>\n",
       "      <th>0</th>\n",
       "      <td>Седан</td>\n",
       "      <td>AUDI</td>\n",
       "      <td>040001</td>\n",
       "      <td>бензин</td>\n",
       "      <td>1990.0</td>\n",
       "      <td>2.8 MT (174 л.с.) 4WD</td>\n",
       "      <td>4.0</td>\n",
       "      <td>1991</td>\n",
       "      <td>SEDAN MECHANICAL 2.8</td>\n",
       "      <td>MECHANICAL</td>\n",
       "      <td>2.8</td>\n",
       "      <td>174.0</td>\n",
       "      <td>Машина  в приличном состоянии ,не гнилая не р...</td>\n",
       "      <td>350000</td>\n",
       "      <td>{'id': '0'}</td>\n",
       "      <td>полный</td>\n",
       "      <td>LEFT</td>\n",
       "      <td>NaN</td>\n",
       "      <td>3.0</td>\n",
       "      <td>ORIGINAL</td>\n",
       "      <td>True</td>\n",
       "      <td>NaN</td>\n",
       "      <td>200000.0</td>\n",
       "      <td>2019-10-03T08:09:11Z</td>\n",
       "      <td>NaN</td>\n",
       "      <td>100</td>\n",
       "    </tr>\n",
       "    <tr>\n",
       "      <th>1</th>\n",
       "      <td>Седан</td>\n",
       "      <td>AUDI</td>\n",
       "      <td>EE1D19</td>\n",
       "      <td>бензин</td>\n",
       "      <td>1982.0</td>\n",
       "      <td>1.8 MT (90 л.с.)</td>\n",
       "      <td>4.0</td>\n",
       "      <td>1986</td>\n",
       "      <td>SEDAN MECHANICAL 1.8</td>\n",
       "      <td>MECHANICAL</td>\n",
       "      <td>1.8</td>\n",
       "      <td>90.0</td>\n",
       "      <td>Машина в оригинале не гнилая все вопросы по те...</td>\n",
       "      <td>173424</td>\n",
       "      <td>{'id': '0'}</td>\n",
       "      <td>передний</td>\n",
       "      <td>LEFT</td>\n",
       "      <td>NaN</td>\n",
       "      <td>3.0</td>\n",
       "      <td>ORIGINAL</td>\n",
       "      <td>True</td>\n",
       "      <td>NaN</td>\n",
       "      <td>60000.0</td>\n",
       "      <td>2020-09-06T06:49:40Z</td>\n",
       "      <td>NaN</td>\n",
       "      <td>100</td>\n",
       "    </tr>\n",
       "    <tr>\n",
       "      <th>2</th>\n",
       "      <td>Универсал 5 дв.</td>\n",
       "      <td>AUDI</td>\n",
       "      <td>0000CC</td>\n",
       "      <td>бензин</td>\n",
       "      <td>1988.0</td>\n",
       "      <td>2.3 MT (136 л.с.) 4WD</td>\n",
       "      <td>5.0</td>\n",
       "      <td>1989</td>\n",
       "      <td>WAGON_5_DOORS MECHANICAL 2.3</td>\n",
       "      <td>MECHANICAL</td>\n",
       "      <td>2.3</td>\n",
       "      <td>136.0</td>\n",
       "      <td>ПТС Оригинал!\\nПолный комплект ключей!\\nПо рез...</td>\n",
       "      <td>230000</td>\n",
       "      <td>{'id': '0'}</td>\n",
       "      <td>полный</td>\n",
       "      <td>LEFT</td>\n",
       "      <td>NaN</td>\n",
       "      <td>3.0</td>\n",
       "      <td>ORIGINAL</td>\n",
       "      <td>True</td>\n",
       "      <td>NaN</td>\n",
       "      <td>99000.0</td>\n",
       "      <td>2020-09-02T14:04:21Z</td>\n",
       "      <td>NaN</td>\n",
       "      <td>100</td>\n",
       "    </tr>\n",
       "    <tr>\n",
       "      <th>3</th>\n",
       "      <td>Седан</td>\n",
       "      <td>AUDI</td>\n",
       "      <td>CACECB</td>\n",
       "      <td>бензин</td>\n",
       "      <td>1988.0</td>\n",
       "      <td>1.8 MT (90 л.с.)</td>\n",
       "      <td>4.0</td>\n",
       "      <td>1989</td>\n",
       "      <td>SEDAN MECHANICAL 1.8</td>\n",
       "      <td>MECHANICAL</td>\n",
       "      <td>1.8</td>\n",
       "      <td>90.0</td>\n",
       "      <td>NaN</td>\n",
       "      <td>240000</td>\n",
       "      <td>{'id': '0'}</td>\n",
       "      <td>передний</td>\n",
       "      <td>LEFT</td>\n",
       "      <td>NaN</td>\n",
       "      <td>3.0</td>\n",
       "      <td>ORIGINAL</td>\n",
       "      <td>True</td>\n",
       "      <td>NaN</td>\n",
       "      <td>65000.0</td>\n",
       "      <td>2020-08-23T17:40:09Z</td>\n",
       "      <td>NaN</td>\n",
       "      <td>100</td>\n",
       "    </tr>\n",
       "    <tr>\n",
       "      <th>4</th>\n",
       "      <td>Седан</td>\n",
       "      <td>AUDI</td>\n",
       "      <td>040001</td>\n",
       "      <td>бензин</td>\n",
       "      <td>1990.0</td>\n",
       "      <td>2.0 MT (101 л.с.)</td>\n",
       "      <td>4.0</td>\n",
       "      <td>1991</td>\n",
       "      <td>SEDAN MECHANICAL 2.0</td>\n",
       "      <td>MECHANICAL</td>\n",
       "      <td>2.0</td>\n",
       "      <td>101.0</td>\n",
       "      <td>Машина не гнилая, дыр нет, днище целое, даже в...</td>\n",
       "      <td>300000</td>\n",
       "      <td>{'id': '0'}</td>\n",
       "      <td>передний</td>\n",
       "      <td>LEFT</td>\n",
       "      <td>NaN</td>\n",
       "      <td>3.0</td>\n",
       "      <td>DUPLICATE</td>\n",
       "      <td>True</td>\n",
       "      <td>NaN</td>\n",
       "      <td>100000.0</td>\n",
       "      <td>2020-09-08T09:22:07Z</td>\n",
       "      <td>NaN</td>\n",
       "      <td>100</td>\n",
       "    </tr>\n",
       "  </tbody>\n",
       "</table>\n",
       "</div>"
      ],
      "text/plain": [
       "          bodyType brand   color fuelType  modelDate                   name  \\\n",
       "0            Седан  AUDI  040001   бензин     1990.0  2.8 MT (174 л.с.) 4WD   \n",
       "1            Седан  AUDI  EE1D19   бензин     1982.0       1.8 MT (90 л.с.)   \n",
       "2  Универсал 5 дв.  AUDI  0000CC   бензин     1988.0  2.3 MT (136 л.с.) 4WD   \n",
       "3            Седан  AUDI  CACECB   бензин     1988.0       1.8 MT (90 л.с.)   \n",
       "4            Седан  AUDI  040001   бензин     1990.0      2.0 MT (101 л.с.)   \n",
       "\n",
       "   numberOfDoors  productionDate          vehicleConfiguration  \\\n",
       "0            4.0            1991          SEDAN MECHANICAL 2.8   \n",
       "1            4.0            1986          SEDAN MECHANICAL 1.8   \n",
       "2            5.0            1989  WAGON_5_DOORS MECHANICAL 2.3   \n",
       "3            4.0            1989          SEDAN MECHANICAL 1.8   \n",
       "4            4.0            1991          SEDAN MECHANICAL 2.0   \n",
       "\n",
       "  vehicleTransmission engineDisplacement  enginePower  \\\n",
       "0          MECHANICAL                2.8        174.0   \n",
       "1          MECHANICAL                1.8         90.0   \n",
       "2          MECHANICAL                2.3        136.0   \n",
       "3          MECHANICAL                1.8         90.0   \n",
       "4          MECHANICAL                2.0        101.0   \n",
       "\n",
       "                                         description  mileage Комплектация  \\\n",
       "0   Машина  в приличном состоянии ,не гнилая не р...   350000  {'id': '0'}   \n",
       "1  Машина в оригинале не гнилая все вопросы по те...   173424  {'id': '0'}   \n",
       "2  ПТС Оригинал!\\nПолный комплект ключей!\\nПо рез...   230000  {'id': '0'}   \n",
       "3                                                NaN   240000  {'id': '0'}   \n",
       "4  Машина не гнилая, дыр нет, днище целое, даже в...   300000  {'id': '0'}   \n",
       "\n",
       "     Привод  Руль  Состояние  Владельцы        ПТС  Таможня Владение  \\\n",
       "0    полный  LEFT        NaN        3.0   ORIGINAL     True      NaN   \n",
       "1  передний  LEFT        NaN        3.0   ORIGINAL     True      NaN   \n",
       "2    полный  LEFT        NaN        3.0   ORIGINAL     True      NaN   \n",
       "3  передний  LEFT        NaN        3.0   ORIGINAL     True      NaN   \n",
       "4  передний  LEFT        NaN        3.0  DUPLICATE     True      NaN   \n",
       "\n",
       "      price            start_date  hidden model  \n",
       "0  200000.0  2019-10-03T08:09:11Z     NaN   100  \n",
       "1   60000.0  2020-09-06T06:49:40Z     NaN   100  \n",
       "2   99000.0  2020-09-02T14:04:21Z     NaN   100  \n",
       "3   65000.0  2020-08-23T17:40:09Z     NaN   100  \n",
       "4  100000.0  2020-09-08T09:22:07Z     NaN   100  "
      ]
     },
     "execution_count": 720,
     "metadata": {},
     "output_type": "execute_result"
    }
   ],
   "source": [
    "train_r.head()"
   ]
  },
  {
   "cell_type": "code",
   "execution_count": 721,
   "id": "1ddf14cc",
   "metadata": {
    "execution": {
     "iopub.execute_input": "2021-10-18T11:50:28.808329Z",
     "iopub.status.busy": "2021-10-18T11:50:28.796177Z",
     "iopub.status.idle": "2021-10-18T11:50:28.824844Z",
     "shell.execute_reply": "2021-10-18T11:50:28.824247Z",
     "shell.execute_reply.started": "2021-10-18T09:42:15.254525Z"
    },
    "papermill": {
     "duration": 0.08451,
     "end_time": "2021-10-18T11:50:28.824985",
     "exception": false,
     "start_time": "2021-10-18T11:50:28.740475",
     "status": "completed"
    },
    "scrolled": true,
    "tags": []
   },
   "outputs": [
    {
     "data": {
      "text/html": [
       "<div>\n",
       "<style scoped>\n",
       "    .dataframe tbody tr th:only-of-type {\n",
       "        vertical-align: middle;\n",
       "    }\n",
       "\n",
       "    .dataframe tbody tr th {\n",
       "        vertical-align: top;\n",
       "    }\n",
       "\n",
       "    .dataframe thead th {\n",
       "        text-align: right;\n",
       "    }\n",
       "</style>\n",
       "<table border=\"1\" class=\"dataframe\">\n",
       "  <thead>\n",
       "    <tr style=\"text-align: right;\">\n",
       "      <th></th>\n",
       "      <th>bodyType</th>\n",
       "      <th>brand</th>\n",
       "      <th>car_url</th>\n",
       "      <th>color</th>\n",
       "      <th>complectation_dict</th>\n",
       "      <th>description</th>\n",
       "      <th>engineDisplacement</th>\n",
       "      <th>enginePower</th>\n",
       "      <th>equipment_dict</th>\n",
       "      <th>fuelType</th>\n",
       "      <th>image</th>\n",
       "      <th>mileage</th>\n",
       "      <th>modelDate</th>\n",
       "      <th>model_info</th>\n",
       "      <th>model_name</th>\n",
       "      <th>name</th>\n",
       "      <th>numberOfDoors</th>\n",
       "      <th>parsing_unixtime</th>\n",
       "      <th>priceCurrency</th>\n",
       "      <th>productionDate</th>\n",
       "      <th>sell_id</th>\n",
       "      <th>super_gen</th>\n",
       "      <th>vehicleConfiguration</th>\n",
       "      <th>vehicleTransmission</th>\n",
       "      <th>vendor</th>\n",
       "      <th>Владельцы</th>\n",
       "      <th>Владение</th>\n",
       "      <th>ПТС</th>\n",
       "      <th>Привод</th>\n",
       "      <th>Руль</th>\n",
       "      <th>Состояние</th>\n",
       "      <th>Таможня</th>\n",
       "    </tr>\n",
       "  </thead>\n",
       "  <tbody>\n",
       "    <tr>\n",
       "      <th>0</th>\n",
       "      <td>лифтбек</td>\n",
       "      <td>SKODA</td>\n",
       "      <td>https://auto.ru/cars/used/sale/skoda/octavia/1...</td>\n",
       "      <td>синий</td>\n",
       "      <td>NaN</td>\n",
       "      <td>Все автомобили, представленные в продаже, прох...</td>\n",
       "      <td>1.2 LTR</td>\n",
       "      <td>105 N12</td>\n",
       "      <td>{\"engine-proof\":true,\"tinted-glass\":true,\"airb...</td>\n",
       "      <td>бензин</td>\n",
       "      <td>https://autoru.naydex.net/o9DBXQ270/5ac010hAY0...</td>\n",
       "      <td>74000</td>\n",
       "      <td>2013</td>\n",
       "      <td>{\"code\":\"OCTAVIA\",\"name\":\"Octavia\",\"ru_name\":\"...</td>\n",
       "      <td>OCTAVIA</td>\n",
       "      <td>1.2 AMT (105 л.с.)</td>\n",
       "      <td>5</td>\n",
       "      <td>1603226273</td>\n",
       "      <td>RUB</td>\n",
       "      <td>2014</td>\n",
       "      <td>1100575026</td>\n",
       "      <td>{\"id\":\"10373605\",\"displacement\":1197,\"engine_t...</td>\n",
       "      <td>LIFTBACK ROBOT 1.2</td>\n",
       "      <td>роботизированная</td>\n",
       "      <td>EUROPEAN</td>\n",
       "      <td>3 или более</td>\n",
       "      <td>NaN</td>\n",
       "      <td>Оригинал</td>\n",
       "      <td>передний</td>\n",
       "      <td>Левый</td>\n",
       "      <td>Не требует ремонта</td>\n",
       "      <td>Растаможен</td>\n",
       "    </tr>\n",
       "    <tr>\n",
       "      <th>1</th>\n",
       "      <td>лифтбек</td>\n",
       "      <td>SKODA</td>\n",
       "      <td>https://auto.ru/cars/used/sale/skoda/octavia/1...</td>\n",
       "      <td>чёрный</td>\n",
       "      <td>NaN</td>\n",
       "      <td>ЛОТ: 01217195\\nАвтопрага Север\\nДанный автомоб...</td>\n",
       "      <td>1.6 LTR</td>\n",
       "      <td>110 N12</td>\n",
       "      <td>{\"cruise-control\":true,\"asr\":true,\"esp\":true,\"...</td>\n",
       "      <td>бензин</td>\n",
       "      <td>https://autoru.naydex.net/o9DBXQ270/5ac010hAY0...</td>\n",
       "      <td>60563</td>\n",
       "      <td>2017</td>\n",
       "      <td>{\"code\":\"OCTAVIA\",\"name\":\"Octavia\",\"ru_name\":\"...</td>\n",
       "      <td>OCTAVIA</td>\n",
       "      <td>1.6 MT (110 л.с.)</td>\n",
       "      <td>5</td>\n",
       "      <td>1603226277</td>\n",
       "      <td>RUB</td>\n",
       "      <td>2017</td>\n",
       "      <td>1100549428</td>\n",
       "      <td>{\"id\":\"20913311\",\"displacement\":1598,\"engine_t...</td>\n",
       "      <td>LIFTBACK MECHANICAL 1.6</td>\n",
       "      <td>механическая</td>\n",
       "      <td>EUROPEAN</td>\n",
       "      <td>1 владелец</td>\n",
       "      <td>NaN</td>\n",
       "      <td>Оригинал</td>\n",
       "      <td>передний</td>\n",
       "      <td>Левый</td>\n",
       "      <td>Не требует ремонта</td>\n",
       "      <td>Растаможен</td>\n",
       "    </tr>\n",
       "    <tr>\n",
       "      <th>2</th>\n",
       "      <td>лифтбек</td>\n",
       "      <td>SKODA</td>\n",
       "      <td>https://auto.ru/cars/used/sale/skoda/superb/11...</td>\n",
       "      <td>серый</td>\n",
       "      <td>{\"id\":\"20026336\",\"name\":\"Ambition\",\"available_...</td>\n",
       "      <td>Все автомобили, представленные в продаже, прох...</td>\n",
       "      <td>1.8 LTR</td>\n",
       "      <td>152 N12</td>\n",
       "      <td>{\"cruise-control\":true,\"tinted-glass\":true,\"es...</td>\n",
       "      <td>бензин</td>\n",
       "      <td>https://avatars.mds.yandex.net/get-autoru-vos/...</td>\n",
       "      <td>88000</td>\n",
       "      <td>2013</td>\n",
       "      <td>{\"code\":\"SUPERB\",\"name\":\"Superb\",\"ru_name\":\"Су...</td>\n",
       "      <td>SUPERB</td>\n",
       "      <td>DSG 1.8 AMT (152 л.с.)</td>\n",
       "      <td>5</td>\n",
       "      <td>1603226280</td>\n",
       "      <td>RUB</td>\n",
       "      <td>2014</td>\n",
       "      <td>1100658222</td>\n",
       "      <td>{\"id\":\"20026323\",\"nameplate\":\"DSG\",\"displaceme...</td>\n",
       "      <td>LIFTBACK ROBOT 1.8</td>\n",
       "      <td>роботизированная</td>\n",
       "      <td>EUROPEAN</td>\n",
       "      <td>1 владелец</td>\n",
       "      <td>NaN</td>\n",
       "      <td>Оригинал</td>\n",
       "      <td>передний</td>\n",
       "      <td>Левый</td>\n",
       "      <td>Не требует ремонта</td>\n",
       "      <td>Растаможен</td>\n",
       "    </tr>\n",
       "    <tr>\n",
       "      <th>3</th>\n",
       "      <td>лифтбек</td>\n",
       "      <td>SKODA</td>\n",
       "      <td>https://auto.ru/cars/used/sale/skoda/octavia/1...</td>\n",
       "      <td>коричневый</td>\n",
       "      <td>{\"id\":\"20803582\",\"name\":\"Ambition\",\"available_...</td>\n",
       "      <td>КОМПЛЕКТ ЗИМНЕЙ (ЛЕТНЕЙ) РЕЗИНЫ ПО СЕЗОНУ В ПО...</td>\n",
       "      <td>1.6 LTR</td>\n",
       "      <td>110 N12</td>\n",
       "      <td>{\"cruise-control\":true,\"roller-blind-for-rear-...</td>\n",
       "      <td>бензин</td>\n",
       "      <td>https://autoru.naydex.net/o9DBXQ270/5ac010hAY0...</td>\n",
       "      <td>95000</td>\n",
       "      <td>2013</td>\n",
       "      <td>{\"code\":\"OCTAVIA\",\"name\":\"Octavia\",\"ru_name\":\"...</td>\n",
       "      <td>OCTAVIA</td>\n",
       "      <td>1.6 AT (110 л.с.)</td>\n",
       "      <td>5</td>\n",
       "      <td>1603226284</td>\n",
       "      <td>RUB</td>\n",
       "      <td>2014</td>\n",
       "      <td>1100937408</td>\n",
       "      <td>{\"id\":\"20105521\",\"displacement\":1598,\"engine_t...</td>\n",
       "      <td>LIFTBACK AUTOMATIC 1.6</td>\n",
       "      <td>автоматическая</td>\n",
       "      <td>EUROPEAN</td>\n",
       "      <td>1 владелец</td>\n",
       "      <td>NaN</td>\n",
       "      <td>Оригинал</td>\n",
       "      <td>передний</td>\n",
       "      <td>Левый</td>\n",
       "      <td>Не требует ремонта</td>\n",
       "      <td>Растаможен</td>\n",
       "    </tr>\n",
       "    <tr>\n",
       "      <th>4</th>\n",
       "      <td>лифтбек</td>\n",
       "      <td>SKODA</td>\n",
       "      <td>https://auto.ru/cars/used/sale/skoda/octavia/1...</td>\n",
       "      <td>белый</td>\n",
       "      <td>NaN</td>\n",
       "      <td>ЛОТ: 01220889\\nАвтопрага Север\\n\\nВы можете по...</td>\n",
       "      <td>1.8 LTR</td>\n",
       "      <td>152 N12</td>\n",
       "      <td>{\"cruise-control\":true,\"asr\":true,\"esp\":true,\"...</td>\n",
       "      <td>бензин</td>\n",
       "      <td>https://autoru.naydex.net/o9DBXQ270/5ac010hAY0...</td>\n",
       "      <td>58536</td>\n",
       "      <td>2008</td>\n",
       "      <td>{\"code\":\"OCTAVIA\",\"name\":\"Octavia\",\"ru_name\":\"...</td>\n",
       "      <td>OCTAVIA</td>\n",
       "      <td>1.8 AT (152 л.с.)</td>\n",
       "      <td>5</td>\n",
       "      <td>1603226288</td>\n",
       "      <td>RUB</td>\n",
       "      <td>2012</td>\n",
       "      <td>1101037972</td>\n",
       "      <td>{\"id\":\"4561004\",\"displacement\":1798,\"engine_ty...</td>\n",
       "      <td>LIFTBACK AUTOMATIC 1.8</td>\n",
       "      <td>автоматическая</td>\n",
       "      <td>EUROPEAN</td>\n",
       "      <td>1 владелец</td>\n",
       "      <td>NaN</td>\n",
       "      <td>Оригинал</td>\n",
       "      <td>передний</td>\n",
       "      <td>Левый</td>\n",
       "      <td>Не требует ремонта</td>\n",
       "      <td>Растаможен</td>\n",
       "    </tr>\n",
       "  </tbody>\n",
       "</table>\n",
       "</div>"
      ],
      "text/plain": [
       "  bodyType  brand                                            car_url  \\\n",
       "0  лифтбек  SKODA  https://auto.ru/cars/used/sale/skoda/octavia/1...   \n",
       "1  лифтбек  SKODA  https://auto.ru/cars/used/sale/skoda/octavia/1...   \n",
       "2  лифтбек  SKODA  https://auto.ru/cars/used/sale/skoda/superb/11...   \n",
       "3  лифтбек  SKODA  https://auto.ru/cars/used/sale/skoda/octavia/1...   \n",
       "4  лифтбек  SKODA  https://auto.ru/cars/used/sale/skoda/octavia/1...   \n",
       "\n",
       "        color                                 complectation_dict  \\\n",
       "0       синий                                                NaN   \n",
       "1      чёрный                                                NaN   \n",
       "2       серый  {\"id\":\"20026336\",\"name\":\"Ambition\",\"available_...   \n",
       "3  коричневый  {\"id\":\"20803582\",\"name\":\"Ambition\",\"available_...   \n",
       "4       белый                                                NaN   \n",
       "\n",
       "                                         description engineDisplacement  \\\n",
       "0  Все автомобили, представленные в продаже, прох...            1.2 LTR   \n",
       "1  ЛОТ: 01217195\\nАвтопрага Север\\nДанный автомоб...            1.6 LTR   \n",
       "2  Все автомобили, представленные в продаже, прох...            1.8 LTR   \n",
       "3  КОМПЛЕКТ ЗИМНЕЙ (ЛЕТНЕЙ) РЕЗИНЫ ПО СЕЗОНУ В ПО...            1.6 LTR   \n",
       "4  ЛОТ: 01220889\\nАвтопрага Север\\n\\nВы можете по...            1.8 LTR   \n",
       "\n",
       "  enginePower                                     equipment_dict fuelType  \\\n",
       "0     105 N12  {\"engine-proof\":true,\"tinted-glass\":true,\"airb...   бензин   \n",
       "1     110 N12  {\"cruise-control\":true,\"asr\":true,\"esp\":true,\"...   бензин   \n",
       "2     152 N12  {\"cruise-control\":true,\"tinted-glass\":true,\"es...   бензин   \n",
       "3     110 N12  {\"cruise-control\":true,\"roller-blind-for-rear-...   бензин   \n",
       "4     152 N12  {\"cruise-control\":true,\"asr\":true,\"esp\":true,\"...   бензин   \n",
       "\n",
       "                                               image  mileage  modelDate  \\\n",
       "0  https://autoru.naydex.net/o9DBXQ270/5ac010hAY0...    74000       2013   \n",
       "1  https://autoru.naydex.net/o9DBXQ270/5ac010hAY0...    60563       2017   \n",
       "2  https://avatars.mds.yandex.net/get-autoru-vos/...    88000       2013   \n",
       "3  https://autoru.naydex.net/o9DBXQ270/5ac010hAY0...    95000       2013   \n",
       "4  https://autoru.naydex.net/o9DBXQ270/5ac010hAY0...    58536       2008   \n",
       "\n",
       "                                          model_info model_name  \\\n",
       "0  {\"code\":\"OCTAVIA\",\"name\":\"Octavia\",\"ru_name\":\"...    OCTAVIA   \n",
       "1  {\"code\":\"OCTAVIA\",\"name\":\"Octavia\",\"ru_name\":\"...    OCTAVIA   \n",
       "2  {\"code\":\"SUPERB\",\"name\":\"Superb\",\"ru_name\":\"Су...     SUPERB   \n",
       "3  {\"code\":\"OCTAVIA\",\"name\":\"Octavia\",\"ru_name\":\"...    OCTAVIA   \n",
       "4  {\"code\":\"OCTAVIA\",\"name\":\"Octavia\",\"ru_name\":\"...    OCTAVIA   \n",
       "\n",
       "                     name  numberOfDoors  parsing_unixtime priceCurrency  \\\n",
       "0      1.2 AMT (105 л.с.)              5        1603226273           RUB   \n",
       "1       1.6 MT (110 л.с.)              5        1603226277           RUB   \n",
       "2  DSG 1.8 AMT (152 л.с.)              5        1603226280           RUB   \n",
       "3       1.6 AT (110 л.с.)              5        1603226284           RUB   \n",
       "4       1.8 AT (152 л.с.)              5        1603226288           RUB   \n",
       "\n",
       "   productionDate     sell_id  \\\n",
       "0            2014  1100575026   \n",
       "1            2017  1100549428   \n",
       "2            2014  1100658222   \n",
       "3            2014  1100937408   \n",
       "4            2012  1101037972   \n",
       "\n",
       "                                           super_gen     vehicleConfiguration  \\\n",
       "0  {\"id\":\"10373605\",\"displacement\":1197,\"engine_t...       LIFTBACK ROBOT 1.2   \n",
       "1  {\"id\":\"20913311\",\"displacement\":1598,\"engine_t...  LIFTBACK MECHANICAL 1.6   \n",
       "2  {\"id\":\"20026323\",\"nameplate\":\"DSG\",\"displaceme...       LIFTBACK ROBOT 1.8   \n",
       "3  {\"id\":\"20105521\",\"displacement\":1598,\"engine_t...   LIFTBACK AUTOMATIC 1.6   \n",
       "4  {\"id\":\"4561004\",\"displacement\":1798,\"engine_ty...   LIFTBACK AUTOMATIC 1.8   \n",
       "\n",
       "  vehicleTransmission    vendor    Владельцы Владение       ПТС    Привод  \\\n",
       "0    роботизированная  EUROPEAN  3 или более      NaN  Оригинал  передний   \n",
       "1        механическая  EUROPEAN   1 владелец      NaN  Оригинал  передний   \n",
       "2    роботизированная  EUROPEAN   1 владелец      NaN  Оригинал  передний   \n",
       "3      автоматическая  EUROPEAN   1 владелец      NaN  Оригинал  передний   \n",
       "4      автоматическая  EUROPEAN   1 владелец      NaN  Оригинал  передний   \n",
       "\n",
       "    Руль           Состояние     Таможня  \n",
       "0  Левый  Не требует ремонта  Растаможен  \n",
       "1  Левый  Не требует ремонта  Растаможен  \n",
       "2  Левый  Не требует ремонта  Растаможен  \n",
       "3  Левый  Не требует ремонта  Растаможен  \n",
       "4  Левый  Не требует ремонта  Растаможен  "
      ]
     },
     "execution_count": 721,
     "metadata": {},
     "output_type": "execute_result"
    }
   ],
   "source": [
    "test.head()"
   ]
  },
  {
   "cell_type": "code",
   "execution_count": 722,
   "id": "89de53f6",
   "metadata": {
    "execution": {
     "iopub.execute_input": "2021-10-18T11:50:29.588744Z",
     "iopub.status.busy": "2021-10-18T11:50:29.587330Z",
     "iopub.status.idle": "2021-10-18T11:50:29.974542Z",
     "shell.execute_reply": "2021-10-18T11:50:29.974031Z",
     "shell.execute_reply.started": "2021-10-18T11:01:10.103371Z"
    },
    "papermill": {
     "duration": 0.445308,
     "end_time": "2021-10-18T11:50:29.974718",
     "exception": false,
     "start_time": "2021-10-18T11:50:29.529410",
     "status": "completed"
    },
    "tags": []
   },
   "outputs": [
    {
     "name": "stdout",
     "output_type": "stream",
     "text": [
      "<class 'pandas.core.frame.DataFrame'>\n",
      "RangeIndex: 138775 entries, 0 to 138774\n",
      "Data columns (total 36 columns):\n",
      " #   Column                Non-Null Count   Dtype  \n",
      "---  ------                --------------   -----  \n",
      " 0   bodyType              138708 non-null  object \n",
      " 1   brand                 138710 non-null  object \n",
      " 2   car_url               138748 non-null  object \n",
      " 3   color                 138710 non-null  object \n",
      " 4   complectation_dict    88310 non-null   object \n",
      " 5   description           138710 non-null  object \n",
      " 6   engineDisplacement    138710 non-null  object \n",
      " 7   enginePower           138710 non-null  object \n",
      " 8   equipment_dict        138710 non-null  object \n",
      " 9   fuelType              138708 non-null  object \n",
      " 10  image                 138722 non-null  object \n",
      " 11  mileage               108354 non-null  float64\n",
      " 12  modelDate             138708 non-null  float64\n",
      " 13  model_info            0 non-null       float64\n",
      " 14  model_name            108354 non-null  object \n",
      " 15  name                  138748 non-null  object \n",
      " 16  numberOfDoors         138708 non-null  float64\n",
      " 17  parsing_unixtime      138748 non-null  float64\n",
      " 18  priceCurrency         138748 non-null  object \n",
      " 19  productionDate        138710 non-null  float64\n",
      " 20  sell_id               138710 non-null  float64\n",
      " 21  super_gen             138748 non-null  object \n",
      " 22  vehicleConfiguration  138708 non-null  object \n",
      " 23  vehicleTransmission   138708 non-null  object \n",
      " 24  vendor                135059 non-null  object \n",
      " 25  Владельцы             108354 non-null  object \n",
      " 26  Владение              19141 non-null   object \n",
      " 27  ПТС                   108354 non-null  object \n",
      " 28  Привод                108352 non-null  object \n",
      " 29  Руль                  108354 non-null  object \n",
      " 30  Состояние             108353 non-null  object \n",
      " 31  Таможня               108352 non-null  object \n",
      " 32  views                 107515 non-null  float64\n",
      " 33  date_added            108354 non-null  object \n",
      " 34  region                108354 non-null  object \n",
      " 35  price                 134481 non-null  float64\n",
      "dtypes: float64(9), object(27)\n",
      "memory usage: 38.1+ MB\n"
     ]
    }
   ],
   "source": [
    "train_parsed.info()"
   ]
  },
  {
   "cell_type": "code",
   "execution_count": 723,
   "id": "8c6c60af",
   "metadata": {
    "execution": {
     "iopub.execute_input": "2021-10-18T11:50:30.084587Z",
     "iopub.status.busy": "2021-10-18T11:50:30.083723Z",
     "iopub.status.idle": "2021-10-18T11:50:30.173221Z",
     "shell.execute_reply": "2021-10-18T11:50:30.173657Z",
     "shell.execute_reply.started": "2021-10-18T09:42:28.487425Z"
    },
    "papermill": {
     "duration": 0.145704,
     "end_time": "2021-10-18T11:50:30.173834",
     "exception": false,
     "start_time": "2021-10-18T11:50:30.028130",
     "status": "completed"
    },
    "tags": []
   },
   "outputs": [
    {
     "name": "stdout",
     "output_type": "stream",
     "text": [
      "<class 'pandas.core.frame.DataFrame'>\n",
      "RangeIndex: 89378 entries, 0 to 89377\n",
      "Data columns (total 26 columns):\n",
      " #   Column                Non-Null Count  Dtype  \n",
      "---  ------                --------------  -----  \n",
      " 0   bodyType              89377 non-null  object \n",
      " 1   brand                 89378 non-null  object \n",
      " 2   color                 89378 non-null  object \n",
      " 3   fuelType              89378 non-null  object \n",
      " 4   modelDate             89377 non-null  float64\n",
      " 5   name                  89377 non-null  object \n",
      " 6   numberOfDoors         89377 non-null  float64\n",
      " 7   productionDate        89378 non-null  int64  \n",
      " 8   vehicleConfiguration  89377 non-null  object \n",
      " 9   vehicleTransmission   89377 non-null  object \n",
      " 10  engineDisplacement    89377 non-null  object \n",
      " 11  enginePower           89377 non-null  float64\n",
      " 12  description           86124 non-null  object \n",
      " 13  mileage               89378 non-null  int64  \n",
      " 14  Комплектация          89378 non-null  object \n",
      " 15  Привод                89377 non-null  object \n",
      " 16  Руль                  89378 non-null  object \n",
      " 17  Состояние             0 non-null      float64\n",
      " 18  Владельцы             75790 non-null  float64\n",
      " 19  ПТС                   89017 non-null  object \n",
      " 20  Таможня               89378 non-null  bool   \n",
      " 21  Владение              29201 non-null  object \n",
      " 22  price                 88968 non-null  float64\n",
      " 23  start_date            89378 non-null  object \n",
      " 24  hidden                0 non-null      float64\n",
      " 25  model                 89378 non-null  object \n",
      "dtypes: bool(1), float64(7), int64(2), object(16)\n",
      "memory usage: 17.1+ MB\n"
     ]
    }
   ],
   "source": [
    "train_r.info()"
   ]
  },
  {
   "cell_type": "markdown",
   "id": "badd8beb",
   "metadata": {
    "papermill": {
     "duration": 0.050563,
     "end_time": "2021-10-18T11:50:30.275022",
     "exception": false,
     "start_time": "2021-10-18T11:50:30.224459",
     "status": "completed"
    },
    "tags": []
   },
   "source": [
    "We can remove 'hidden' , 'Состояние' columns as trey are empty, it seems that start date is the same as date_added"
   ]
  },
  {
   "cell_type": "code",
   "execution_count": 724,
   "id": "d6b64a83",
   "metadata": {
    "execution": {
     "iopub.execute_input": "2021-10-18T11:50:30.429730Z",
     "iopub.status.busy": "2021-10-18T11:50:30.428773Z",
     "iopub.status.idle": "2021-10-18T11:50:30.442710Z",
     "shell.execute_reply": "2021-10-18T11:50:30.442103Z",
     "shell.execute_reply.started": "2021-10-18T09:42:32.836558Z"
    },
    "papermill": {
     "duration": 0.116916,
     "end_time": "2021-10-18T11:50:30.442843",
     "exception": false,
     "start_time": "2021-10-18T11:50:30.325927",
     "status": "completed"
    },
    "tags": []
   },
   "outputs": [
    {
     "name": "stdout",
     "output_type": "stream",
     "text": [
      "<class 'pandas.core.frame.DataFrame'>\n",
      "RangeIndex: 34686 entries, 0 to 34685\n",
      "Data columns (total 32 columns):\n",
      " #   Column                Non-Null Count  Dtype \n",
      "---  ------                --------------  ----- \n",
      " 0   bodyType              34686 non-null  object\n",
      " 1   brand                 34686 non-null  object\n",
      " 2   car_url               34686 non-null  object\n",
      " 3   color                 34686 non-null  object\n",
      " 4   complectation_dict    6418 non-null   object\n",
      " 5   description           34686 non-null  object\n",
      " 6   engineDisplacement    34686 non-null  object\n",
      " 7   enginePower           34686 non-null  object\n",
      " 8   equipment_dict        24690 non-null  object\n",
      " 9   fuelType              34686 non-null  object\n",
      " 10  image                 34686 non-null  object\n",
      " 11  mileage               34686 non-null  int64 \n",
      " 12  modelDate             34686 non-null  int64 \n",
      " 13  model_info            34686 non-null  object\n",
      " 14  model_name            34686 non-null  object\n",
      " 15  name                  34686 non-null  object\n",
      " 16  numberOfDoors         34686 non-null  int64 \n",
      " 17  parsing_unixtime      34686 non-null  int64 \n",
      " 18  priceCurrency         34686 non-null  object\n",
      " 19  productionDate        34686 non-null  int64 \n",
      " 20  sell_id               34686 non-null  int64 \n",
      " 21  super_gen             34686 non-null  object\n",
      " 22  vehicleConfiguration  34686 non-null  object\n",
      " 23  vehicleTransmission   34686 non-null  object\n",
      " 24  vendor                34686 non-null  object\n",
      " 25  Владельцы             34686 non-null  object\n",
      " 26  Владение              11995 non-null  object\n",
      " 27  ПТС                   34685 non-null  object\n",
      " 28  Привод                34686 non-null  object\n",
      " 29  Руль                  34686 non-null  object\n",
      " 30  Состояние             34686 non-null  object\n",
      " 31  Таможня               34686 non-null  object\n",
      "dtypes: int64(6), object(26)\n",
      "memory usage: 8.5+ MB\n"
     ]
    }
   ],
   "source": [
    "test.info()"
   ]
  },
  {
   "cell_type": "markdown",
   "id": "f7e58920",
   "metadata": {
    "papermill": {
     "duration": 0.053938,
     "end_time": "2021-10-18T11:50:29.476197",
     "exception": false,
     "start_time": "2021-10-18T11:50:29.422259",
     "status": "completed"
    },
    "tags": []
   },
   "source": [
    "So we have empty train_parsed[\"model_info\"] column, and according to the test['model_info']  it contains the information which is presented in other columns. \n",
    "We will remove it"
   ]
  },
  {
   "cell_type": "code",
   "execution_count": 725,
   "id": "bc8f4309",
   "metadata": {},
   "outputs": [],
   "source": [
    "train_parsed.drop(['model_info'], axis = 1, inplace=True)\n",
    "test.drop(['model_info'], axis = 1, inplace=True)"
   ]
  },
  {
   "cell_type": "code",
   "execution_count": 726,
   "id": "a30c3cc2",
   "metadata": {
    "execution": {
     "iopub.execute_input": "2021-10-18T11:50:30.551765Z",
     "iopub.status.busy": "2021-10-18T11:50:30.549588Z",
     "iopub.status.idle": "2021-10-18T11:50:30.554537Z",
     "shell.execute_reply": "2021-10-18T11:50:30.555516Z",
     "shell.execute_reply.started": "2021-10-18T09:42:36.676611Z"
    },
    "papermill": {
     "duration": 0.060296,
     "end_time": "2021-10-18T11:50:30.555699",
     "exception": false,
     "start_time": "2021-10-18T11:50:30.495403",
     "status": "completed"
    },
    "tags": []
   },
   "outputs": [
    {
     "data": {
      "text/plain": [
       "['date_added', 'region', 'price', 'views']"
      ]
     },
     "execution_count": 726,
     "metadata": {},
     "output_type": "execute_result"
    }
   ],
   "source": [
    "# check what columns are in train_parsed and not presented in test\n",
    "  \n",
    "list(set(train_parsed.columns) - set(test.columns))        "
   ]
  },
  {
   "cell_type": "code",
   "execution_count": 727,
   "id": "db14ca5a",
   "metadata": {},
   "outputs": [
    {
     "data": {
      "text/plain": [
       "['model', 'Комплектация', 'start_date', 'hidden']"
      ]
     },
     "execution_count": 727,
     "metadata": {},
     "output_type": "execute_result"
    }
   ],
   "source": [
    "# check what columns are in train_ready and not in train_parsed\n",
    "list(set(train_r.columns) - set(train_parsed.columns))        "
   ]
  },
  {
   "cell_type": "code",
   "execution_count": 728,
   "id": "cdb5f4de",
   "metadata": {
    "execution": {
     "iopub.execute_input": "2021-10-18T11:50:30.665429Z",
     "iopub.status.busy": "2021-10-18T11:50:30.664480Z",
     "iopub.status.idle": "2021-10-18T11:50:30.668254Z",
     "shell.execute_reply": "2021-10-18T11:50:30.667694Z",
     "shell.execute_reply.started": "2021-10-18T09:42:39.299504Z"
    },
    "papermill": {
     "duration": 0.061237,
     "end_time": "2021-10-18T11:50:30.668407",
     "exception": false,
     "start_time": "2021-10-18T11:50:30.607170",
     "status": "completed"
    },
    "tags": []
   },
   "outputs": [
    {
     "data": {
      "text/plain": [
       "['equipment_dict',\n",
       " 'model_name',\n",
       " 'region',\n",
       " 'complectation_dict',\n",
       " 'date_added',\n",
       " 'image',\n",
       " 'priceCurrency',\n",
       " 'vendor',\n",
       " 'sell_id',\n",
       " 'car_url',\n",
       " 'super_gen',\n",
       " 'parsing_unixtime',\n",
       " 'views']"
      ]
     },
     "execution_count": 728,
     "metadata": {},
     "output_type": "execute_result"
    }
   ],
   "source": [
    "# check what columns are in train_parsed and not presented in train_ready\n",
    "list(set(train_parsed.columns) - set(train_r.columns))        "
   ]
  },
  {
   "cell_type": "code",
   "execution_count": 729,
   "id": "f35d2fe6",
   "metadata": {
    "execution": {
     "iopub.execute_input": "2021-10-18T11:50:30.778550Z",
     "iopub.status.busy": "2021-10-18T11:50:30.777952Z",
     "iopub.status.idle": "2021-10-18T11:50:30.781558Z",
     "shell.execute_reply": "2021-10-18T11:50:30.781034Z",
     "shell.execute_reply.started": "2021-10-18T09:42:58.110716Z"
    },
    "papermill": {
     "duration": 0.060716,
     "end_time": "2021-10-18T11:50:30.781688",
     "exception": false,
     "start_time": "2021-10-18T11:50:30.720972",
     "status": "completed"
    },
    "scrolled": true,
    "tags": []
   },
   "outputs": [
    {
     "data": {
      "text/plain": [
       "['equipment_dict',\n",
       " 'model_name',\n",
       " 'complectation_dict',\n",
       " 'image',\n",
       " 'priceCurrency',\n",
       " 'vendor',\n",
       " 'sell_id',\n",
       " 'car_url',\n",
       " 'super_gen',\n",
       " 'parsing_unixtime']"
      ]
     },
     "execution_count": 729,
     "metadata": {},
     "output_type": "execute_result"
    }
   ],
   "source": [
    "# check what columns are in test and not presented in train_ready\n",
    "list(set(test.columns) - set(train_r.columns))        "
   ]
  },
  {
   "cell_type": "code",
   "execution_count": 730,
   "id": "17646b98",
   "metadata": {
    "scrolled": true
   },
   "outputs": [
    {
     "name": "stdout",
     "output_type": "stream",
     "text": [
      "['RUB']\n",
      "['RUB' 'RUR' nan]\n"
     ]
    }
   ],
   "source": [
    "print(test.priceCurrency.unique())\n",
    "print(train_parsed.priceCurrency.unique())"
   ]
  },
  {
   "cell_type": "markdown",
   "id": "4444b34e",
   "metadata": {},
   "source": [
    "According to this https://fingeniy.com/810-i-643-rur-i-rub-kakoj-kod-valyuty-rublya/ 'RUB' & 'RUR' is the same so we have only one currency in price and could remove this column, but will leave it in order to look at it with price column!!!!!!!!!!!!!!!!!!!!!!!!!!!!!!!!!!!!!!!11"
   ]
  },
  {
   "cell_type": "markdown",
   "id": "497762cd",
   "metadata": {
    "papermill": {
     "duration": 0.051422,
     "end_time": "2021-10-18T11:50:30.885193",
     "exception": false,
     "start_time": "2021-10-18T11:50:30.833771",
     "status": "completed"
    },
    "tags": []
   },
   "source": [
    "According to the datasets, we could remove car_url, image columns. We can also add 'vendor column to the parsed data"
   ]
  },
  {
   "cell_type": "code",
   "execution_count": 731,
   "id": "d38ca785",
   "metadata": {},
   "outputs": [
    {
     "data": {
      "text/plain": [
       "['02',\n",
       " '100',\n",
       " '1007',\n",
       " '100NX',\n",
       " '100_SERIES',\n",
       " '106',\n",
       " '107',\n",
       " '120',\n",
       " '121',\n",
       " '140',\n",
       " '180SX',\n",
       " '19',\n",
       " '190_SL',\n",
       " '1ER',\n",
       " '2',\n",
       " '20',\n",
       " '200',\n",
       " '2008',\n",
       " '200SX',\n",
       " '203',\n",
       " '205',\n",
       " '206',\n",
       " '207',\n",
       " '208',\n",
       " '240_SERIES',\n",
       " '280ZX',\n",
       " '2ACTIVETOURER',\n",
       " '2ER',\n",
       " '2GRANDTOURER',\n",
       " '3',\n",
       " '3008',\n",
       " '300C',\n",
       " '300M',\n",
       " '300_LETTER_SERIES',\n",
       " '301',\n",
       " '306',\n",
       " '307',\n",
       " '308',\n",
       " '321',\n",
       " '323',\n",
       " '326',\n",
       " '340',\n",
       " '350Z',\n",
       " '356',\n",
       " '3ER',\n",
       " '3MPS',\n",
       " '4',\n",
       " '4007',\n",
       " '4008',\n",
       " '405',\n",
       " '406',\n",
       " '407',\n",
       " '408',\n",
       " '440',\n",
       " '460',\n",
       " '4RUNNER',\n",
       " '5',\n",
       " '5008',\n",
       " '508',\n",
       " '5ER',\n",
       " '6',\n",
       " '605',\n",
       " '607',\n",
       " '626',\n",
       " '6ER',\n",
       " '6_MPS',\n",
       " '740',\n",
       " '760',\n",
       " '7ER',\n",
       " '80',\n",
       " '806',\n",
       " '850',\n",
       " '8ER',\n",
       " '90',\n",
       " '911',\n",
       " '911_GT3',\n",
       " '918_SPYDER',\n",
       " '920',\n",
       " '924',\n",
       " '928',\n",
       " '940',\n",
       " '944',\n",
       " '960',\n",
       " '968',\n",
       " 'A1',\n",
       " 'A2',\n",
       " 'A3',\n",
       " 'A4',\n",
       " 'A4_ALLROAD',\n",
       " 'A5',\n",
       " 'A6',\n",
       " 'A7',\n",
       " 'A8',\n",
       " 'ACCENT',\n",
       " 'ACCORD',\n",
       " 'ACTY',\n",
       " 'ACTYON',\n",
       " 'ACTYON_SPORT',\n",
       " 'AD',\n",
       " 'ADMIRAL',\n",
       " 'AERIO',\n",
       " 'AEROSTAR',\n",
       " 'AGILA',\n",
       " 'AIRTREK',\n",
       " 'AIRWAVE',\n",
       " 'ALERO',\n",
       " 'ALLEX',\n",
       " 'ALLROAD',\n",
       " 'ALMERA',\n",
       " 'ALMERA_CLASSIC',\n",
       " 'ALMERA_TINO',\n",
       " 'ALPHARD',\n",
       " 'ALTEZZA',\n",
       " 'ALTIMA',\n",
       " 'ALTO',\n",
       " 'AMAROK',\n",
       " 'AMG_GLC_COUPE',\n",
       " 'AMG_GT',\n",
       " 'AMULET',\n",
       " 'ANTARA',\n",
       " 'AQUA',\n",
       " 'ARISTO',\n",
       " 'ARKANA',\n",
       " 'ARMADA',\n",
       " 'ARRIZO7',\n",
       " 'ASCOT',\n",
       " 'ASPIRE',\n",
       " 'ASTRA',\n",
       " 'ASTRA_OPC',\n",
       " 'ASTRO',\n",
       " 'ASX',\n",
       " 'ATLAS',\n",
       " 'ATOS',\n",
       " 'ATS',\n",
       " 'AURIS',\n",
       " 'AUTOZAM_AZ3',\n",
       " 'AVALANCHE',\n",
       " 'AVALON',\n",
       " 'AVANCIER',\n",
       " 'AVANTE',\n",
       " 'AVANTIME',\n",
       " 'AVELLA',\n",
       " 'AVENGER',\n",
       " 'AVENIR',\n",
       " 'AVENSIS',\n",
       " 'AVENSIS_VERSO',\n",
       " 'AVEO',\n",
       " 'AXELA',\n",
       " 'AYGO',\n",
       " 'A_KLASSE',\n",
       " 'A_KLASSE_AMG',\n",
       " 'B9_TRIBECA',\n",
       " 'BALENO',\n",
       " 'BASSARA',\n",
       " 'BB',\n",
       " 'BEETLE',\n",
       " 'BEL_AIR',\n",
       " 'BERLINGO',\n",
       " 'BIANTE',\n",
       " 'BLADE',\n",
       " 'BLAZER',\n",
       " 'BLS',\n",
       " 'BLUEBIRD',\n",
       " 'BLUEBIRD_SYLPHY',\n",
       " 'BONGO',\n",
       " 'BONGO_FRIENDEE',\n",
       " 'BONUS',\n",
       " 'BONUS_3',\n",
       " 'BORA',\n",
       " 'BOXSTER',\n",
       " 'BREVIS',\n",
       " 'BRONCO',\n",
       " 'BRZ',\n",
       " 'BT_50',\n",
       " 'BX',\n",
       " 'B_KLASSE',\n",
       " 'B_SERIES',\n",
       " 'C1',\n",
       " 'C2',\n",
       " 'C3',\n",
       " 'C30',\n",
       " 'C3_AIRCROSS',\n",
       " 'C3_PICASSO',\n",
       " 'C4',\n",
       " 'C4_AIRCROSS',\n",
       " 'C4_PICASSO',\n",
       " 'C5',\n",
       " 'C5_AIRCROSS',\n",
       " 'C6',\n",
       " 'C70',\n",
       " 'C8',\n",
       " 'CABRIO',\n",
       " 'CADDY',\n",
       " 'CALDINA',\n",
       " 'CALIBER',\n",
       " 'CALIBRA',\n",
       " 'CALIFORNIA',\n",
       " 'CAMARO',\n",
       " 'CAMI',\n",
       " 'CAMRY',\n",
       " 'CAMRY_SOLARA',\n",
       " 'CAPELLA',\n",
       " 'CAPRICE',\n",
       " 'CAPTIVA',\n",
       " 'CARAVAN',\n",
       " 'CARAVAN_COACH',\n",
       " 'CARAVELLE',\n",
       " 'CARENS',\n",
       " 'CARINA',\n",
       " 'CARINA_E',\n",
       " 'CARINA_ED',\n",
       " 'CARISMA',\n",
       " 'CARNIVAL',\n",
       " 'CAROL',\n",
       " 'CATERA',\n",
       " 'CAVALIER',\n",
       " 'CAYENNE',\n",
       " 'CAYMAN',\n",
       " 'CAYMAN_GT4',\n",
       " 'CEDRIC',\n",
       " 'CEED',\n",
       " 'CEED_GT',\n",
       " 'CEFIRO',\n",
       " 'CELICA',\n",
       " 'CELSIOR',\n",
       " 'CERATO',\n",
       " 'CHAIRMAN',\n",
       " 'CHALLENGER',\n",
       " 'CHARGER',\n",
       " 'CHARIOT',\n",
       " 'CHASER',\n",
       " 'CHEROKEE',\n",
       " 'CIRRUS',\n",
       " 'CITAN',\n",
       " 'CITY',\n",
       " 'CIVIC',\n",
       " 'CIVIC_FERIO',\n",
       " 'CIVIC_TYPE_R',\n",
       " 'CK',\n",
       " 'CLARUS',\n",
       " 'CLA_KLASSE',\n",
       " 'CLA_KLASSE_AMG',\n",
       " 'CLC_KLASSE',\n",
       " 'CLIO',\n",
       " 'CLIO_RS',\n",
       " 'CLIO_SYMBOL',\n",
       " 'CLIPPER',\n",
       " 'CLIPPER_RIO',\n",
       " 'CLK_KLASSE',\n",
       " 'CLS_KLASSE',\n",
       " 'CLS_KLASSE_AMG',\n",
       " 'CLUBMAN',\n",
       " 'CL_KLASSE',\n",
       " 'CL_KLASSE_AMG',\n",
       " 'CMATIZ',\n",
       " 'COBALT',\n",
       " 'COLT',\n",
       " 'COMBO',\n",
       " 'COMMANDER',\n",
       " 'COMPASS',\n",
       " 'CONCERTO',\n",
       " 'CONCORDE',\n",
       " 'CONTOUR',\n",
       " 'COOLBEAR',\n",
       " 'COROLLA',\n",
       " 'COROLLA_LEVIN',\n",
       " 'COROLLA_RUMION',\n",
       " 'COROLLA_SPACIO',\n",
       " 'COROLLA_VERSO',\n",
       " 'CORONA',\n",
       " 'CORONA_EXIV',\n",
       " 'CORRADO',\n",
       " 'CORSA',\n",
       " 'CORSA_OPC',\n",
       " 'CORSICA',\n",
       " 'CORTINA',\n",
       " 'CORVETTE',\n",
       " 'COUGAR',\n",
       " 'COUNTRYMAN',\n",
       " 'COUPE',\n",
       " 'COWRY',\n",
       " 'CRESTA',\n",
       " 'CRETA',\n",
       " 'CROSSFIRE',\n",
       " 'CROSSROAD',\n",
       " 'CROSSTOUR',\n",
       " 'CROSS_EASTAR',\n",
       " 'CROWN',\n",
       " 'CROWN_MAJESTA',\n",
       " 'CROWN_VICTORIA',\n",
       " 'CRUZE',\n",
       " 'CRUZE_HR',\n",
       " 'CR_V',\n",
       " 'CR_X',\n",
       " 'CR_Z',\n",
       " 'CT',\n",
       " 'CT6',\n",
       " 'CTS',\n",
       " 'CTS_V',\n",
       " 'CUBE',\n",
       " 'CULTUS',\n",
       " 'CURREN',\n",
       " 'CX_3',\n",
       " 'CX_5',\n",
       " 'CX_7',\n",
       " 'CX_9',\n",
       " 'CYNOS',\n",
       " 'C_CROSSER',\n",
       " 'C_ELYSEE',\n",
       " 'C_HR',\n",
       " 'C_KLASSE',\n",
       " 'C_KLASSE_AMG',\n",
       " 'C_MAX',\n",
       " 'DAKOTA',\n",
       " 'DAMAS',\n",
       " 'DART',\n",
       " 'DATSUN',\n",
       " 'DAYZ',\n",
       " 'DAYZ_ROOX',\n",
       " 'DEER',\n",
       " 'DEFENDER',\n",
       " 'DELICA',\n",
       " 'DELICA_D2',\n",
       " 'DELICA_D_5',\n",
       " 'DEMIO',\n",
       " 'DE_VILLE',\n",
       " 'DIAMANTE',\n",
       " 'DINGO',\n",
       " 'DION',\n",
       " 'DISCOVERY',\n",
       " 'DISCOVERY_SPORT',\n",
       " 'DOKKER',\n",
       " 'DOMANI',\n",
       " 'DOMINGO',\n",
       " 'DS',\n",
       " 'DS3',\n",
       " 'DS4',\n",
       " 'DS5',\n",
       " 'DUET',\n",
       " 'DURANGO',\n",
       " 'DUSTER',\n",
       " 'E3',\n",
       " 'ECHO',\n",
       " 'ECLIPSE',\n",
       " 'ECLIPSE_CROSS',\n",
       " 'ECONOLINE',\n",
       " 'ECOSPORT',\n",
       " 'EDGE',\n",
       " 'EDIX',\n",
       " 'EFINI_MS_8',\n",
       " 'EK_WAGON',\n",
       " 'ELANTRA',\n",
       " 'ELDORADO',\n",
       " 'ELEMENT',\n",
       " 'ELGRAND',\n",
       " 'ELYSION',\n",
       " 'EL_CAMINO',\n",
       " 'EMERAUDE',\n",
       " 'EMGRAND',\n",
       " 'EMGRAND_7',\n",
       " 'EMGRAND_GT',\n",
       " 'EMGRAND_X7',\n",
       " 'ENDEAVOR',\n",
       " 'EOS',\n",
       " 'EPICA',\n",
       " 'EQC',\n",
       " 'EQUINOX',\n",
       " 'EQUUS',\n",
       " 'ES',\n",
       " 'ESCALADE',\n",
       " 'ESCAPE',\n",
       " 'ESCORT',\n",
       " 'ESCUDO',\n",
       " 'ESPACE',\n",
       " 'ESPERO',\n",
       " 'ESQUIRE',\n",
       " 'ESTEEM',\n",
       " 'ESTIMA',\n",
       " 'EUNOS_100',\n",
       " 'EUROVAN',\n",
       " 'EVANDA',\n",
       " 'EVERY',\n",
       " 'EVOQUE',\n",
       " 'EX',\n",
       " 'EXCURSION',\n",
       " 'EXPEDITION',\n",
       " 'EXPERT',\n",
       " 'EXPLORER',\n",
       " 'EXPLORER_SPORT_TRAC',\n",
       " 'EXPRESS',\n",
       " 'E_KLASSE',\n",
       " 'E_KLASSE_AMG',\n",
       " 'E_PACE',\n",
       " 'E_TRON',\n",
       " 'FABIA',\n",
       " 'FABIA_RS',\n",
       " 'FAIRLADY_Z',\n",
       " 'FAMILIA',\n",
       " 'FAVORIT',\n",
       " 'FELICIA',\n",
       " 'FESTIVA',\n",
       " 'FIESTA',\n",
       " 'FIESTA_ST',\n",
       " 'FIT',\n",
       " 'FJ_CRUISER',\n",
       " 'FLEETWOOD',\n",
       " 'FLORID',\n",
       " 'FLUENCE',\n",
       " 'FOCUS',\n",
       " 'FOCUS_NA',\n",
       " 'FOCUS_RS',\n",
       " 'FOCUS_ST',\n",
       " 'FORA',\n",
       " 'FORENZA',\n",
       " 'FORESTER',\n",
       " 'FORTUNER',\n",
       " 'FOX',\n",
       " 'FREDA',\n",
       " 'FREED',\n",
       " 'FREELANDER',\n",
       " 'FREESTYLE',\n",
       " 'FRONTERA',\n",
       " 'FR_V',\n",
       " 'FTO',\n",
       " 'FUGA',\n",
       " 'FUNCARGO',\n",
       " 'FUSION',\n",
       " 'FUSION_NA',\n",
       " 'FX',\n",
       " 'F_150',\n",
       " 'F_PACE',\n",
       " 'F_TYPE',\n",
       " 'G35',\n",
       " 'GAIA',\n",
       " 'GALANT',\n",
       " 'GALAXY',\n",
       " 'GALLOPER',\n",
       " 'GC6',\n",
       " 'GENESIS',\n",
       " 'GENESIS_COUPE',\n",
       " 'GENTRA',\n",
       " 'GETZ',\n",
       " 'GLA_CLASS',\n",
       " 'GLA_CLASS_AMG',\n",
       " 'GLB_KLASSE',\n",
       " 'GLC_COUPE',\n",
       " 'GLC_KLASSE',\n",
       " 'GLC_KLASSE_AMG',\n",
       " 'GLE_KLASSE',\n",
       " 'GLE_KLASSE_AMG',\n",
       " 'GLE_KLASSE_COUPE',\n",
       " 'GLE_KLASSE_COUPE_AMG',\n",
       " 'GLK_KLASSE',\n",
       " 'GLORIA',\n",
       " 'GLS_KLASSE',\n",
       " 'GLS_KLASSE_AMG',\n",
       " 'GL_KLASSE',\n",
       " 'GL_KLASSE_AMG',\n",
       " 'GOLF',\n",
       " 'GOLF_GTI',\n",
       " 'GOLF_PLUS',\n",
       " 'GOLF_R',\n",
       " 'GRACE',\n",
       " 'GRANADA',\n",
       " 'GRANDEUR',\n",
       " 'GRANDIS',\n",
       " 'GRANDLAND_X',\n",
       " 'GRAND_CHEROKEE',\n",
       " 'GRAND_HIACE',\n",
       " 'GRAND_STAREX',\n",
       " 'GRAND_VITARA',\n",
       " 'GRANVIA',\n",
       " 'GS',\n",
       " 'GT',\n",
       " 'GT86',\n",
       " 'GT_R',\n",
       " 'GX',\n",
       " 'G_KLASSE',\n",
       " 'G_KLASSE_AMG',\n",
       " 'H200',\n",
       " 'HARRIER',\n",
       " 'HATCH',\n",
       " 'HHR',\n",
       " 'HIACE',\n",
       " 'HIGHLANDER',\n",
       " 'HILUX',\n",
       " 'HILUX_SURF',\n",
       " 'HOVERH3',\n",
       " 'HOVERH5',\n",
       " 'HOVERH6',\n",
       " 'HOVER_2005',\n",
       " 'HOVER_M2',\n",
       " 'HOVER_M4',\n",
       " 'HR_V',\n",
       " 'HS',\n",
       " 'HUSTLER',\n",
       " 'H_1_STAREX',\n",
       " 'I',\n",
       " 'I10',\n",
       " 'I20',\n",
       " 'I3',\n",
       " 'I30',\n",
       " 'I30_N',\n",
       " 'I40',\n",
       " 'I8',\n",
       " 'IGNIS',\n",
       " 'IMPALA',\n",
       " 'IMPREZA',\n",
       " 'IMPREZA_WRX',\n",
       " 'IMPREZA_WRX_STI',\n",
       " 'INDIS',\n",
       " 'INSIGHT',\n",
       " 'INSIGNIA',\n",
       " 'INSIGNIA_OPC',\n",
       " 'INSPIRE',\n",
       " 'INTEGRA',\n",
       " 'INTREPID',\n",
       " 'IPSUM',\n",
       " 'IQ',\n",
       " 'IS',\n",
       " 'ISIS',\n",
       " 'ISTANA',\n",
       " 'IX35',\n",
       " 'IX55',\n",
       " 'I_MIEV',\n",
       " 'I_PACE',\n",
       " 'JAZZ',\n",
       " 'JETTA',\n",
       " 'JIMNY',\n",
       " 'JOICE',\n",
       " 'JOURNEY',\n",
       " 'JUKE',\n",
       " 'JUKE_NISMO',\n",
       " 'JUMPY',\n",
       " 'JUSTY',\n",
       " 'JX',\n",
       " 'K3',\n",
       " 'K5',\n",
       " 'K5_BLAZER',\n",
       " 'K900',\n",
       " 'KA',\n",
       " 'KADETT',\n",
       " 'KALOS',\n",
       " 'KANGOO',\n",
       " 'KAPTUR',\n",
       " 'KAROQ',\n",
       " 'KEI',\n",
       " 'KIMO',\n",
       " 'KIX',\n",
       " 'KIZASHI',\n",
       " 'KLUGER',\n",
       " 'KODIAQ',\n",
       " 'KOLEOS',\n",
       " 'KORANDO',\n",
       " 'KORANDO_SPORTS',\n",
       " 'KUGA',\n",
       " 'KYRON',\n",
       " 'L200',\n",
       " 'L300',\n",
       " 'L400',\n",
       " 'LACETTI',\n",
       " 'LAFESTA',\n",
       " 'LAGUNA',\n",
       " 'LANCER',\n",
       " 'LANCER_CARGO',\n",
       " 'LANCER_EVOLUTION',\n",
       " 'LAND_CRUISER',\n",
       " 'LAND_CRUISER_PRADO',\n",
       " 'LANOS',\n",
       " 'LANTIS',\n",
       " 'LANTRA',\n",
       " 'LARGO',\n",
       " 'LASER',\n",
       " 'LATITUDE',\n",
       " 'LAUREL',\n",
       " 'LAVITA',\n",
       " 'LEAF',\n",
       " 'LEGACY',\n",
       " 'LEGACY_LANCASTER',\n",
       " 'LEGANZA',\n",
       " 'LEGEND',\n",
       " 'LEGNUM',\n",
       " 'LE_BARON',\n",
       " 'LHS',\n",
       " 'LIANA',\n",
       " 'LIBERO',\n",
       " 'LIBERTY',\n",
       " 'LIBETY_NA',\n",
       " 'LIFE',\n",
       " 'LITE_ACE',\n",
       " 'LOGAN',\n",
       " 'LOGO',\n",
       " 'LS',\n",
       " 'LTD_CROWN_VICTORIA',\n",
       " 'LUMINA',\n",
       " 'LUMINA_APV',\n",
       " 'LUPO',\n",
       " 'LX',\n",
       " 'M',\n",
       " 'M1',\n",
       " 'M11',\n",
       " 'M2',\n",
       " 'M3',\n",
       " 'M4',\n",
       " 'M5',\n",
       " 'M6',\n",
       " 'M8',\n",
       " 'MACAN',\n",
       " 'MAGENTIS',\n",
       " 'MAGNUM',\n",
       " 'MAGNUS',\n",
       " 'MALIBU',\n",
       " 'MARCH',\n",
       " 'MARK_II',\n",
       " 'MARK_X',\n",
       " 'MARK_X_ZIO',\n",
       " 'MASTER_ACE_SURF',\n",
       " 'MATIZ',\n",
       " 'MATRIX',\n",
       " 'MAVERICK',\n",
       " 'MAXIMA',\n",
       " 'MAYBACH_GLS',\n",
       " 'MEGANE',\n",
       " 'MEGANE_RS',\n",
       " 'MEGA_CRUISER',\n",
       " 'MERIVA',\n",
       " 'MICRA',\n",
       " 'MILLENIA',\n",
       " 'MINICA',\n",
       " 'MINICAB',\n",
       " 'MIRAGE',\n",
       " 'MISTRAL',\n",
       " 'MK',\n",
       " 'MK_CROSS',\n",
       " 'MOBILIO',\n",
       " 'MOBILIO_SPIKE',\n",
       " 'MOCO',\n",
       " 'MODEL_A',\n",
       " 'MODEL_T',\n",
       " 'MODUS',\n",
       " 'MOHAVES',\n",
       " 'MOKKA',\n",
       " 'MONDEO',\n",
       " 'MONDEO_ST',\n",
       " 'MONTEREY',\n",
       " 'MONTERO',\n",
       " 'MONTERO_SPORT',\n",
       " 'MONTE_CARLO',\n",
       " 'MONZA',\n",
       " 'MPV',\n",
       " 'MR2',\n",
       " 'MR_S',\n",
       " 'MULTIVAN',\n",
       " 'MURANO',\n",
       " 'MUSSO',\n",
       " 'MUSTANG',\n",
       " 'MX_5',\n",
       " 'MX_6',\n",
       " 'M_KLASSE',\n",
       " 'M_KLASSE_AMG',\n",
       " 'NADIA',\n",
       " 'NAVARA',\n",
       " 'NEMO',\n",
       " 'NEON',\n",
       " 'NEW_YORKER',\n",
       " 'NEXIA',\n",
       " 'NITRO',\n",
       " 'NIVA',\n",
       " 'NOAH',\n",
       " 'NOTE',\n",
       " 'NP300',\n",
       " 'NUBIRA',\n",
       " 'NV200',\n",
       " 'NX',\n",
       " 'N_BOX',\n",
       " 'N_ONE',\n",
       " 'N_WGN',\n",
       " 'OCTAVIA',\n",
       " 'OCTAVIA_RS',\n",
       " 'ODYSSEY',\n",
       " 'ODYSSEY_NA',\n",
       " 'OLYMPIA',\n",
       " 'OMEGA',\n",
       " 'OPA',\n",
       " 'OPIRUS',\n",
       " 'OPTIMA',\n",
       " 'ORIENTAL_SON',\n",
       " 'ORIGIN',\n",
       " 'ORION',\n",
       " 'ORLANDO',\n",
       " 'ORTHIA',\n",
       " 'OUTBACK',\n",
       " 'OUTLANDER',\n",
       " 'PACEMAN',\n",
       " 'PACIFICA',\n",
       " 'PAJERO',\n",
       " 'PAJERO_IO',\n",
       " 'PAJERO_MINI',\n",
       " 'PAJERO_PININ',\n",
       " 'PAJERO_SPORT',\n",
       " 'PANAMERA',\n",
       " 'PAO',\n",
       " 'PARTNER',\n",
       " 'PASEO',\n",
       " 'PASSAT',\n",
       " 'PASSAT_CC',\n",
       " 'PASSO',\n",
       " 'PASSPORT',\n",
       " 'PATHFINDER',\n",
       " 'PATRIOT',\n",
       " 'PATROL',\n",
       " 'PEGASUS',\n",
       " 'PERI',\n",
       " 'PHAETON',\n",
       " 'PICANTO',\n",
       " 'PICNIC',\n",
       " 'PILOT',\n",
       " 'PLATZ',\n",
       " 'POINTER',\n",
       " 'POLO',\n",
       " 'POPULAR',\n",
       " 'PRAIRIE',\n",
       " 'PREGIO',\n",
       " 'PRELUDE',\n",
       " 'PREMACY',\n",
       " 'PREMIO',\n",
       " 'PRESAGE',\n",
       " 'PRESIDENT',\n",
       " 'PREVIA',\n",
       " 'PRIDE',\n",
       " 'PRIMASTAR',\n",
       " 'PRIMERA',\n",
       " 'PRIUS',\n",
       " 'PRIUSPLUS',\n",
       " 'PRIUS_ALPHA',\n",
       " 'PROBE',\n",
       " 'PROBOX',\n",
       " 'PROCEED',\n",
       " 'PROCEED_MARVIE',\n",
       " 'PROGRES',\n",
       " 'PROTEGE',\n",
       " 'PT_CRUISER',\n",
       " 'PULSAR',\n",
       " 'Q',\n",
       " 'Q3',\n",
       " 'Q30',\n",
       " 'Q3_SPORTBACK',\n",
       " 'Q5',\n",
       " 'Q50',\n",
       " 'Q60',\n",
       " 'Q7',\n",
       " 'Q70',\n",
       " 'Q8',\n",
       " 'QASHQAI',\n",
       " 'QASHQAI_PLUS_2',\n",
       " 'QQ',\n",
       " 'QQ6',\n",
       " 'QUEST',\n",
       " 'QUORIS',\n",
       " 'QX30',\n",
       " 'QX4',\n",
       " 'QX50',\n",
       " 'QX56',\n",
       " 'QX60',\n",
       " 'QX70',\n",
       " 'QX80',\n",
       " 'R1',\n",
       " 'R2',\n",
       " 'R8',\n",
       " 'RACTIS',\n",
       " 'RAFAGA',\n",
       " 'RAIDER',\n",
       " 'RAM',\n",
       " 'RANGER',\n",
       " 'RANGE_ROVER',\n",
       " 'RANGE_ROVER_SPORT',\n",
       " 'RANGE_ROVER_VELAR',\n",
       " 'RAPID',\n",
       " 'RAUM',\n",
       " 'RAV_4',\n",
       " 'RAY',\n",
       " 'RC',\n",
       " 'RCZ',\n",
       " 'RC_F',\n",
       " 'REGIUS',\n",
       " 'REGIUSACE',\n",
       " 'REKORD',\n",
       " 'RENEGADE',\n",
       " 'RENO',\n",
       " 'RETONA',\n",
       " 'REXTON',\n",
       " 'REZZO',\n",
       " 'RIDGELINE',\n",
       " 'RIO',\n",
       " 'RNESSA',\n",
       " 'RODIUS',\n",
       " 'ROOMSTER',\n",
       " 'ROOMY',\n",
       " 'RS3',\n",
       " 'RS4',\n",
       " 'RS5',\n",
       " 'RS6',\n",
       " 'RS7',\n",
       " 'RVR',\n",
       " 'RX',\n",
       " 'RX_7',\n",
       " 'RX_8',\n",
       " 'R_KLASSE',\n",
       " 'S2000',\n",
       " 'S3',\n",
       " 'S4',\n",
       " 'S40',\n",
       " 'S5',\n",
       " 'S6',\n",
       " 'S60',\n",
       " 'S60_CROSS_COUNTRY',\n",
       " 'S7',\n",
       " 'S70',\n",
       " 'S8',\n",
       " 'S80',\n",
       " 'S90',\n",
       " 'SABER',\n",
       " 'SAFARI',\n",
       " 'SAFE',\n",
       " 'SAFRANE',\n",
       " 'SAILOR',\n",
       " 'SAMBAR',\n",
       " 'SAMURAI',\n",
       " 'SANDERO',\n",
       " 'SANTAMO',\n",
       " 'SANTA_FE',\n",
       " 'SARATOGA',\n",
       " 'SC',\n",
       " 'SC7',\n",
       " 'SCENIC',\n",
       " 'SCEPTER_SEDAN',\n",
       " 'SCIROCCO',\n",
       " 'SCORPIO',\n",
       " 'SEBRING',\n",
       " 'SEDONA',\n",
       " 'SELTOS',\n",
       " 'SENTRA',\n",
       " 'SEPHIA',\n",
       " 'SEQUOIA',\n",
       " 'SERA',\n",
       " 'SERENA',\n",
       " 'SERIES_III',\n",
       " 'SEVILLE',\n",
       " 'SHARAN',\n",
       " 'SHUMA',\n",
       " 'SHUTTLE',\n",
       " 'SIDEKICK',\n",
       " 'SIENNA',\n",
       " 'SIENTA',\n",
       " 'SIERRA',\n",
       " 'SIGMA',\n",
       " 'SIGNUM',\n",
       " 'SILVERADO',\n",
       " 'SILVIA',\n",
       " 'SIMPLEX',\n",
       " 'SINTRA',\n",
       " 'SKYLINE',\n",
       " 'SLC_KLASSE',\n",
       " 'SLC_KLASSE_AMG',\n",
       " 'SLK_KLASSE',\n",
       " 'SLK_KLASSE_AMG',\n",
       " 'SLR_KLASSE',\n",
       " 'SLS_AMG',\n",
       " 'SL_KLASSE',\n",
       " 'SL_KLASSE_AMG',\n",
       " 'SOARER',\n",
       " 'SOLARIS',\n",
       " 'SOLIO',\n",
       " 'SONATA',\n",
       " 'SORENTO',\n",
       " 'SOUL',\n",
       " 'SPACETOURER',\n",
       " 'SPACE_GEAR',\n",
       " 'SPACE_RUNNER',\n",
       " 'SPACE_STAR',\n",
       " 'SPACE_WAGON',\n",
       " 'SPADE',\n",
       " 'SPARK',\n",
       " 'SPECTRA',\n",
       " 'SPLASH',\n",
       " 'SPORTAGE',\n",
       " 'SPRINTER',\n",
       " 'SPRINTER_CARIB',\n",
       " 'SPRINTER_MARINO',\n",
       " 'SPRINTER_TRUENO',\n",
       " 'SQ5',\n",
       " 'SRX',\n",
       " 'SSR',\n",
       " 'STAGEA',\n",
       " 'STAREX',\n",
       " 'STARLET',\n",
       " 'STAVIC',\n",
       " 'STELLA',\n",
       " 'STEPWAGON',\n",
       " 'STINGER',\n",
       " 'STRATUS',\n",
       " 'STREAM',\n",
       " 'STS',\n",
       " 'SUBURBAN',\n",
       " 'SUCCEED',\n",
       " 'SUNNY',\n",
       " 'SUPERB',\n",
       " 'SUPER_SIX',\n",
       " 'SUPRA',\n",
       " 'SVX',\n",
       " 'SWIFT',\n",
       " 'SX4',\n",
       " 'S_CLASS_MAYBACH',\n",
       " 'S_KLASSE',\n",
       " 'S_KLASSE_AMG',\n",
       " 'S_MAX',\n",
       " 'S_MX',\n",
       " 'S_TYPE',\n",
       " 'TACOMA',\n",
       " 'TAHOE',\n",
       " 'TARO',\n",
       " 'TAUNUS',\n",
       " 'TAURUS',\n",
       " 'TAYCAN',\n",
       " 'TEANA',\n",
       " 'TERAMONT',\n",
       " 'TERCEL',\n",
       " 'TERRACAN',\n",
       " 'TERRANO',\n",
       " 'TERRANO_REGULUS',\n",
       " 'THUNDERBIRD',\n",
       " 'TIBURON',\n",
       " 'TICO',\n",
       " 'TIGGO',\n",
       " 'TIGGO_2',\n",
       " 'TIGGO_3',\n",
       " 'TIGGO_4',\n",
       " 'TIGGO_5',\n",
       " 'TIGGO_7',\n",
       " 'TIGRA',\n",
       " 'TIGUAN',\n",
       " 'TIIDA',\n",
       " 'TINO',\n",
       " 'TITAN',\n",
       " 'TOUAREG',\n",
       " 'TOURAN',\n",
       " 'TOURNEO_CONNECT',\n",
       " 'TOURNEO_CUSTOM',\n",
       " 'TOWN_ACE',\n",
       " 'TOWN_AND_COUNTRY',\n",
       " 'TRACKER',\n",
       " 'TRAFIC',\n",
       " 'TRAILBLAZER',\n",
       " 'TRAJET',\n",
       " 'TRANSPORTER',\n",
       " 'TRAVELLER',\n",
       " 'TRAVERSE',\n",
       " 'TRAVIQ',\n",
       " 'TRIBUTE',\n",
       " 'TT',\n",
       " 'TTS',\n",
       " 'TT_RS',\n",
       " 'TUCSON',\n",
       " 'TUNDRA',\n",
       " 'TUSCANI',\n",
       " 'TWINGO',\n",
       " 'TWIZY',\n",
       " 'TYPE_1',\n",
       " 'TYPE_2',\n",
       " 'TYPE_3',\n",
       " 'URVAN',\n",
       " 'UX',\n",
       " 'V40',\n",
       " 'V40_CC',\n",
       " 'V50',\n",
       " 'V60',\n",
       " 'V60_CROSS_COUNTRY',\n",
       " 'V70',\n",
       " 'V8',\n",
       " 'V90_CROSS_COUNTRY',\n",
       " 'VAN',\n",
       " 'VANEO',\n",
       " 'VANETTE',\n",
       " 'VANGUARD',\n",
       " 'VECTRA',\n",
       " 'VECTRA_OPC',\n",
       " 'VELLFIRE',\n",
       " 'VELOSTER',\n",
       " 'VEL_SATIS',\n",
       " 'VENGA',\n",
       " 'VENTO',\n",
       " 'VENTURE',\n",
       " 'VENZA',\n",
       " 'VERISA',\n",
       " 'VERNA',\n",
       " 'VEROSSA',\n",
       " 'VERSO',\n",
       " 'VERSO_S',\n",
       " 'VERY',\n",
       " 'VEZEL',\n",
       " ...]"
      ]
     },
     "execution_count": 731,
     "metadata": {},
     "output_type": "execute_result"
    }
   ],
   "source": [
    "model = sorted(train_r.model.unique())\n",
    "model"
   ]
  },
  {
   "cell_type": "markdown",
   "id": "eb79022e",
   "metadata": {},
   "source": [
    "it seems that model is the same as model_name"
   ]
  },
  {
   "cell_type": "code",
   "execution_count": 732,
   "id": "8984b930",
   "metadata": {
    "execution": {
     "iopub.execute_input": "2021-10-18T11:50:31.002533Z",
     "iopub.status.busy": "2021-10-18T11:50:31.001839Z",
     "iopub.status.idle": "2021-10-18T11:50:31.094529Z",
     "shell.execute_reply": "2021-10-18T11:50:31.094958Z",
     "shell.execute_reply.started": "2021-10-18T11:01:18.678271Z"
    },
    "papermill": {
     "duration": 0.156902,
     "end_time": "2021-10-18T11:50:31.095135",
     "exception": false,
     "start_time": "2021-10-18T11:50:30.938233",
     "status": "completed"
    },
    "tags": []
   },
   "outputs": [],
   "source": [
    "# add vendor column to the ready parsed data\n",
    "ven_dict = pd.Series(test.vendor.values,index=test.brand).to_dict()\n",
    "train_r['vendor'] = train_r.brand.map(ven_dict)\n",
    "\n",
    "train_r.rename(columns= {'start_date':'date_added', 'model':'model_name'}, inplace=True)"
   ]
  },
  {
   "cell_type": "code",
   "execution_count": 733,
   "id": "6a3a9fae",
   "metadata": {
    "execution": {
     "iopub.execute_input": "2021-10-18T11:50:31.205495Z",
     "iopub.status.busy": "2021-10-18T11:50:31.204523Z",
     "iopub.status.idle": "2021-10-18T11:50:31.210190Z",
     "shell.execute_reply": "2021-10-18T11:50:31.210642Z",
     "shell.execute_reply.started": "2021-10-18T11:01:20.008033Z"
    },
    "papermill": {
     "duration": 0.061586,
     "end_time": "2021-10-18T11:50:31.210818",
     "exception": false,
     "start_time": "2021-10-18T11:50:31.149232",
     "status": "completed"
    },
    "tags": []
   },
   "outputs": [],
   "source": [
    "# add date of parsing for ready data\n",
    "s = '09/09/2020'\n",
    "train_r['parsing_unixtime'] = int(datetime.strptime(s, \"%d/%m/%Y\").timestamp())"
   ]
  },
  {
   "cell_type": "code",
   "execution_count": 734,
   "id": "488286dd",
   "metadata": {},
   "outputs": [],
   "source": [
    "# add column with real color names\n",
    "train_r['color_new'] = train_r.apply(color, axis=1)\n",
    "col_dict = pd.Series(train_r[train_r.color_new!= 'None'].\\\n",
    "                     color_new.values,index=train_r[train_r.color_new!= 'None'].color).to_dict()\n",
    "train_r['color_new'] = train_r['color'].map(col_dict)\n",
    "\n",
    "# rename column with real color names \n",
    "train_r.drop('color', axis=1, inplace=True)\n",
    "train_r.rename(columns= {'color_new':'color'}, inplace=True)"
   ]
  },
  {
   "cell_type": "code",
   "execution_count": 735,
   "id": "7fafe29d",
   "metadata": {},
   "outputs": [],
   "source": [
    "# format complectation column before binding\n",
    "train_r['complectation_dict'] = train_r.apply(lambda x: compl(x,'Комплектация'), axis=1)\n",
    "train_r.drop(['hidden', 'Комплектация'], axis = 1, inplace =True)\n"
   ]
  },
  {
   "cell_type": "code",
   "execution_count": 736,
   "id": "6920bd39",
   "metadata": {
    "scrolled": true
   },
   "outputs": [
    {
     "data": {
      "text/html": [
       "<div>\n",
       "<style scoped>\n",
       "    .dataframe tbody tr th:only-of-type {\n",
       "        vertical-align: middle;\n",
       "    }\n",
       "\n",
       "    .dataframe tbody tr th {\n",
       "        vertical-align: top;\n",
       "    }\n",
       "\n",
       "    .dataframe thead th {\n",
       "        text-align: right;\n",
       "    }\n",
       "</style>\n",
       "<table border=\"1\" class=\"dataframe\">\n",
       "  <thead>\n",
       "    <tr style=\"text-align: right;\">\n",
       "      <th></th>\n",
       "      <th>bodyType</th>\n",
       "      <th>brand</th>\n",
       "      <th>fuelType</th>\n",
       "      <th>modelDate</th>\n",
       "      <th>name</th>\n",
       "      <th>numberOfDoors</th>\n",
       "      <th>productionDate</th>\n",
       "      <th>vehicleConfiguration</th>\n",
       "      <th>vehicleTransmission</th>\n",
       "      <th>engineDisplacement</th>\n",
       "      <th>enginePower</th>\n",
       "      <th>description</th>\n",
       "      <th>mileage</th>\n",
       "      <th>Привод</th>\n",
       "      <th>Руль</th>\n",
       "      <th>Состояние</th>\n",
       "      <th>Владельцы</th>\n",
       "      <th>ПТС</th>\n",
       "      <th>Таможня</th>\n",
       "      <th>Владение</th>\n",
       "      <th>price</th>\n",
       "      <th>date_added</th>\n",
       "      <th>model_name</th>\n",
       "      <th>vendor</th>\n",
       "      <th>parsing_unixtime</th>\n",
       "      <th>color</th>\n",
       "      <th>complectation_dict</th>\n",
       "    </tr>\n",
       "  </thead>\n",
       "  <tbody>\n",
       "    <tr>\n",
       "      <th>0</th>\n",
       "      <td>Седан</td>\n",
       "      <td>AUDI</td>\n",
       "      <td>бензин</td>\n",
       "      <td>1990.0</td>\n",
       "      <td>2.8 MT (174 л.с.) 4WD</td>\n",
       "      <td>4.0</td>\n",
       "      <td>1991</td>\n",
       "      <td>SEDAN MECHANICAL 2.8</td>\n",
       "      <td>MECHANICAL</td>\n",
       "      <td>2.8</td>\n",
       "      <td>174.0</td>\n",
       "      <td>Машина  в приличном состоянии ,не гнилая не р...</td>\n",
       "      <td>350000</td>\n",
       "      <td>полный</td>\n",
       "      <td>LEFT</td>\n",
       "      <td>NaN</td>\n",
       "      <td>3.0</td>\n",
       "      <td>ORIGINAL</td>\n",
       "      <td>True</td>\n",
       "      <td>NaN</td>\n",
       "      <td>200000.0</td>\n",
       "      <td>2019-10-03T08:09:11Z</td>\n",
       "      <td>100</td>\n",
       "      <td>EUROPEAN</td>\n",
       "      <td>1599598800</td>\n",
       "      <td>черный</td>\n",
       "      <td>NaN</td>\n",
       "    </tr>\n",
       "    <tr>\n",
       "      <th>1</th>\n",
       "      <td>Седан</td>\n",
       "      <td>AUDI</td>\n",
       "      <td>бензин</td>\n",
       "      <td>1982.0</td>\n",
       "      <td>1.8 MT (90 л.с.)</td>\n",
       "      <td>4.0</td>\n",
       "      <td>1986</td>\n",
       "      <td>SEDAN MECHANICAL 1.8</td>\n",
       "      <td>MECHANICAL</td>\n",
       "      <td>1.8</td>\n",
       "      <td>90.0</td>\n",
       "      <td>Машина в оригинале не гнилая все вопросы по те...</td>\n",
       "      <td>173424</td>\n",
       "      <td>передний</td>\n",
       "      <td>LEFT</td>\n",
       "      <td>NaN</td>\n",
       "      <td>3.0</td>\n",
       "      <td>ORIGINAL</td>\n",
       "      <td>True</td>\n",
       "      <td>NaN</td>\n",
       "      <td>60000.0</td>\n",
       "      <td>2020-09-06T06:49:40Z</td>\n",
       "      <td>100</td>\n",
       "      <td>EUROPEAN</td>\n",
       "      <td>1599598800</td>\n",
       "      <td>красный</td>\n",
       "      <td>NaN</td>\n",
       "    </tr>\n",
       "    <tr>\n",
       "      <th>2</th>\n",
       "      <td>Универсал 5 дв.</td>\n",
       "      <td>AUDI</td>\n",
       "      <td>бензин</td>\n",
       "      <td>1988.0</td>\n",
       "      <td>2.3 MT (136 л.с.) 4WD</td>\n",
       "      <td>5.0</td>\n",
       "      <td>1989</td>\n",
       "      <td>WAGON_5_DOORS MECHANICAL 2.3</td>\n",
       "      <td>MECHANICAL</td>\n",
       "      <td>2.3</td>\n",
       "      <td>136.0</td>\n",
       "      <td>ПТС Оригинал!\\nПолный комплект ключей!\\nПо рез...</td>\n",
       "      <td>230000</td>\n",
       "      <td>полный</td>\n",
       "      <td>LEFT</td>\n",
       "      <td>NaN</td>\n",
       "      <td>3.0</td>\n",
       "      <td>ORIGINAL</td>\n",
       "      <td>True</td>\n",
       "      <td>NaN</td>\n",
       "      <td>99000.0</td>\n",
       "      <td>2020-09-02T14:04:21Z</td>\n",
       "      <td>100</td>\n",
       "      <td>EUROPEAN</td>\n",
       "      <td>1599598800</td>\n",
       "      <td>синий</td>\n",
       "      <td>NaN</td>\n",
       "    </tr>\n",
       "    <tr>\n",
       "      <th>3</th>\n",
       "      <td>Седан</td>\n",
       "      <td>AUDI</td>\n",
       "      <td>бензин</td>\n",
       "      <td>1988.0</td>\n",
       "      <td>1.8 MT (90 л.с.)</td>\n",
       "      <td>4.0</td>\n",
       "      <td>1989</td>\n",
       "      <td>SEDAN MECHANICAL 1.8</td>\n",
       "      <td>MECHANICAL</td>\n",
       "      <td>1.8</td>\n",
       "      <td>90.0</td>\n",
       "      <td>NaN</td>\n",
       "      <td>240000</td>\n",
       "      <td>передний</td>\n",
       "      <td>LEFT</td>\n",
       "      <td>NaN</td>\n",
       "      <td>3.0</td>\n",
       "      <td>ORIGINAL</td>\n",
       "      <td>True</td>\n",
       "      <td>NaN</td>\n",
       "      <td>65000.0</td>\n",
       "      <td>2020-08-23T17:40:09Z</td>\n",
       "      <td>100</td>\n",
       "      <td>EUROPEAN</td>\n",
       "      <td>1599598800</td>\n",
       "      <td>серебряный</td>\n",
       "      <td>NaN</td>\n",
       "    </tr>\n",
       "    <tr>\n",
       "      <th>4</th>\n",
       "      <td>Седан</td>\n",
       "      <td>AUDI</td>\n",
       "      <td>бензин</td>\n",
       "      <td>1990.0</td>\n",
       "      <td>2.0 MT (101 л.с.)</td>\n",
       "      <td>4.0</td>\n",
       "      <td>1991</td>\n",
       "      <td>SEDAN MECHANICAL 2.0</td>\n",
       "      <td>MECHANICAL</td>\n",
       "      <td>2.0</td>\n",
       "      <td>101.0</td>\n",
       "      <td>Машина не гнилая, дыр нет, днище целое, даже в...</td>\n",
       "      <td>300000</td>\n",
       "      <td>передний</td>\n",
       "      <td>LEFT</td>\n",
       "      <td>NaN</td>\n",
       "      <td>3.0</td>\n",
       "      <td>DUPLICATE</td>\n",
       "      <td>True</td>\n",
       "      <td>NaN</td>\n",
       "      <td>100000.0</td>\n",
       "      <td>2020-09-08T09:22:07Z</td>\n",
       "      <td>100</td>\n",
       "      <td>EUROPEAN</td>\n",
       "      <td>1599598800</td>\n",
       "      <td>черный</td>\n",
       "      <td>NaN</td>\n",
       "    </tr>\n",
       "  </tbody>\n",
       "</table>\n",
       "</div>"
      ],
      "text/plain": [
       "          bodyType brand fuelType  modelDate                   name  \\\n",
       "0            Седан  AUDI   бензин     1990.0  2.8 MT (174 л.с.) 4WD   \n",
       "1            Седан  AUDI   бензин     1982.0       1.8 MT (90 л.с.)   \n",
       "2  Универсал 5 дв.  AUDI   бензин     1988.0  2.3 MT (136 л.с.) 4WD   \n",
       "3            Седан  AUDI   бензин     1988.0       1.8 MT (90 л.с.)   \n",
       "4            Седан  AUDI   бензин     1990.0      2.0 MT (101 л.с.)   \n",
       "\n",
       "   numberOfDoors  productionDate          vehicleConfiguration  \\\n",
       "0            4.0            1991          SEDAN MECHANICAL 2.8   \n",
       "1            4.0            1986          SEDAN MECHANICAL 1.8   \n",
       "2            5.0            1989  WAGON_5_DOORS MECHANICAL 2.3   \n",
       "3            4.0            1989          SEDAN MECHANICAL 1.8   \n",
       "4            4.0            1991          SEDAN MECHANICAL 2.0   \n",
       "\n",
       "  vehicleTransmission engineDisplacement  enginePower  \\\n",
       "0          MECHANICAL                2.8        174.0   \n",
       "1          MECHANICAL                1.8         90.0   \n",
       "2          MECHANICAL                2.3        136.0   \n",
       "3          MECHANICAL                1.8         90.0   \n",
       "4          MECHANICAL                2.0        101.0   \n",
       "\n",
       "                                         description  mileage    Привод  Руль  \\\n",
       "0   Машина  в приличном состоянии ,не гнилая не р...   350000    полный  LEFT   \n",
       "1  Машина в оригинале не гнилая все вопросы по те...   173424  передний  LEFT   \n",
       "2  ПТС Оригинал!\\nПолный комплект ключей!\\nПо рез...   230000    полный  LEFT   \n",
       "3                                                NaN   240000  передний  LEFT   \n",
       "4  Машина не гнилая, дыр нет, днище целое, даже в...   300000  передний  LEFT   \n",
       "\n",
       "   Состояние  Владельцы        ПТС  Таможня Владение     price  \\\n",
       "0        NaN        3.0   ORIGINAL     True      NaN  200000.0   \n",
       "1        NaN        3.0   ORIGINAL     True      NaN   60000.0   \n",
       "2        NaN        3.0   ORIGINAL     True      NaN   99000.0   \n",
       "3        NaN        3.0   ORIGINAL     True      NaN   65000.0   \n",
       "4        NaN        3.0  DUPLICATE     True      NaN  100000.0   \n",
       "\n",
       "             date_added model_name    vendor  parsing_unixtime       color  \\\n",
       "0  2019-10-03T08:09:11Z        100  EUROPEAN        1599598800      черный   \n",
       "1  2020-09-06T06:49:40Z        100  EUROPEAN        1599598800     красный   \n",
       "2  2020-09-02T14:04:21Z        100  EUROPEAN        1599598800       синий   \n",
       "3  2020-08-23T17:40:09Z        100  EUROPEAN        1599598800  серебряный   \n",
       "4  2020-09-08T09:22:07Z        100  EUROPEAN        1599598800      черный   \n",
       "\n",
       "  complectation_dict  \n",
       "0                NaN  \n",
       "1                NaN  \n",
       "2                NaN  \n",
       "3                NaN  \n",
       "4                NaN  "
      ]
     },
     "execution_count": 736,
     "metadata": {},
     "output_type": "execute_result"
    }
   ],
   "source": [
    "train_r.head()"
   ]
  },
  {
   "cell_type": "code",
   "execution_count": 737,
   "id": "e64bd26d",
   "metadata": {
    "scrolled": true
   },
   "outputs": [],
   "source": [
    "# format complectation column before binding\n",
    "test['complectation_dict_new'] = test.apply(lambda x: compl(x,'complectation_dict'), axis=1)\n",
    "test.drop('complectation_dict', axis = 1, inplace =True)\n",
    "test.rename(columns= {'complectation_dict_new':'complectation_dict'}, inplace=True)"
   ]
  },
  {
   "cell_type": "code",
   "execution_count": 738,
   "id": "553e9c0c",
   "metadata": {
    "scrolled": true
   },
   "outputs": [
    {
     "data": {
      "text/html": [
       "<div>\n",
       "<style scoped>\n",
       "    .dataframe tbody tr th:only-of-type {\n",
       "        vertical-align: middle;\n",
       "    }\n",
       "\n",
       "    .dataframe tbody tr th {\n",
       "        vertical-align: top;\n",
       "    }\n",
       "\n",
       "    .dataframe thead th {\n",
       "        text-align: right;\n",
       "    }\n",
       "</style>\n",
       "<table border=\"1\" class=\"dataframe\">\n",
       "  <thead>\n",
       "    <tr style=\"text-align: right;\">\n",
       "      <th></th>\n",
       "      <th>bodyType</th>\n",
       "      <th>brand</th>\n",
       "      <th>car_url</th>\n",
       "      <th>color</th>\n",
       "      <th>description</th>\n",
       "      <th>engineDisplacement</th>\n",
       "      <th>enginePower</th>\n",
       "      <th>equipment_dict</th>\n",
       "      <th>fuelType</th>\n",
       "      <th>image</th>\n",
       "      <th>mileage</th>\n",
       "      <th>modelDate</th>\n",
       "      <th>model_name</th>\n",
       "      <th>name</th>\n",
       "      <th>numberOfDoors</th>\n",
       "      <th>parsing_unixtime</th>\n",
       "      <th>priceCurrency</th>\n",
       "      <th>productionDate</th>\n",
       "      <th>sell_id</th>\n",
       "      <th>super_gen</th>\n",
       "      <th>vehicleConfiguration</th>\n",
       "      <th>vehicleTransmission</th>\n",
       "      <th>vendor</th>\n",
       "      <th>Владельцы</th>\n",
       "      <th>Владение</th>\n",
       "      <th>ПТС</th>\n",
       "      <th>Привод</th>\n",
       "      <th>Руль</th>\n",
       "      <th>Состояние</th>\n",
       "      <th>Таможня</th>\n",
       "      <th>complectation_dict</th>\n",
       "    </tr>\n",
       "  </thead>\n",
       "  <tbody>\n",
       "    <tr>\n",
       "      <th>0</th>\n",
       "      <td>лифтбек</td>\n",
       "      <td>SKODA</td>\n",
       "      <td>https://auto.ru/cars/used/sale/skoda/octavia/1...</td>\n",
       "      <td>синий</td>\n",
       "      <td>Все автомобили, представленные в продаже, прох...</td>\n",
       "      <td>1.2 LTR</td>\n",
       "      <td>105 N12</td>\n",
       "      <td>{\"engine-proof\":true,\"tinted-glass\":true,\"airb...</td>\n",
       "      <td>бензин</td>\n",
       "      <td>https://autoru.naydex.net/o9DBXQ270/5ac010hAY0...</td>\n",
       "      <td>74000</td>\n",
       "      <td>2013</td>\n",
       "      <td>OCTAVIA</td>\n",
       "      <td>1.2 AMT (105 л.с.)</td>\n",
       "      <td>5</td>\n",
       "      <td>1603226273</td>\n",
       "      <td>RUB</td>\n",
       "      <td>2014</td>\n",
       "      <td>1100575026</td>\n",
       "      <td>{\"id\":\"10373605\",\"displacement\":1197,\"engine_t...</td>\n",
       "      <td>LIFTBACK ROBOT 1.2</td>\n",
       "      <td>роботизированная</td>\n",
       "      <td>EUROPEAN</td>\n",
       "      <td>3 или более</td>\n",
       "      <td>NaN</td>\n",
       "      <td>Оригинал</td>\n",
       "      <td>передний</td>\n",
       "      <td>Левый</td>\n",
       "      <td>Не требует ремонта</td>\n",
       "      <td>Растаможен</td>\n",
       "      <td>NaN</td>\n",
       "    </tr>\n",
       "    <tr>\n",
       "      <th>1</th>\n",
       "      <td>лифтбек</td>\n",
       "      <td>SKODA</td>\n",
       "      <td>https://auto.ru/cars/used/sale/skoda/octavia/1...</td>\n",
       "      <td>чёрный</td>\n",
       "      <td>ЛОТ: 01217195\\nАвтопрага Север\\nДанный автомоб...</td>\n",
       "      <td>1.6 LTR</td>\n",
       "      <td>110 N12</td>\n",
       "      <td>{\"cruise-control\":true,\"asr\":true,\"esp\":true,\"...</td>\n",
       "      <td>бензин</td>\n",
       "      <td>https://autoru.naydex.net/o9DBXQ270/5ac010hAY0...</td>\n",
       "      <td>60563</td>\n",
       "      <td>2017</td>\n",
       "      <td>OCTAVIA</td>\n",
       "      <td>1.6 MT (110 л.с.)</td>\n",
       "      <td>5</td>\n",
       "      <td>1603226277</td>\n",
       "      <td>RUB</td>\n",
       "      <td>2017</td>\n",
       "      <td>1100549428</td>\n",
       "      <td>{\"id\":\"20913311\",\"displacement\":1598,\"engine_t...</td>\n",
       "      <td>LIFTBACK MECHANICAL 1.6</td>\n",
       "      <td>механическая</td>\n",
       "      <td>EUROPEAN</td>\n",
       "      <td>1 владелец</td>\n",
       "      <td>NaN</td>\n",
       "      <td>Оригинал</td>\n",
       "      <td>передний</td>\n",
       "      <td>Левый</td>\n",
       "      <td>Не требует ремонта</td>\n",
       "      <td>Растаможен</td>\n",
       "      <td>NaN</td>\n",
       "    </tr>\n",
       "    <tr>\n",
       "      <th>2</th>\n",
       "      <td>лифтбек</td>\n",
       "      <td>SKODA</td>\n",
       "      <td>https://auto.ru/cars/used/sale/skoda/superb/11...</td>\n",
       "      <td>серый</td>\n",
       "      <td>Все автомобили, представленные в продаже, прох...</td>\n",
       "      <td>1.8 LTR</td>\n",
       "      <td>152 N12</td>\n",
       "      <td>{\"cruise-control\":true,\"tinted-glass\":true,\"es...</td>\n",
       "      <td>бензин</td>\n",
       "      <td>https://avatars.mds.yandex.net/get-autoru-vos/...</td>\n",
       "      <td>88000</td>\n",
       "      <td>2013</td>\n",
       "      <td>SUPERB</td>\n",
       "      <td>DSG 1.8 AMT (152 л.с.)</td>\n",
       "      <td>5</td>\n",
       "      <td>1603226280</td>\n",
       "      <td>RUB</td>\n",
       "      <td>2014</td>\n",
       "      <td>1100658222</td>\n",
       "      <td>{\"id\":\"20026323\",\"nameplate\":\"DSG\",\"displaceme...</td>\n",
       "      <td>LIFTBACK ROBOT 1.8</td>\n",
       "      <td>роботизированная</td>\n",
       "      <td>EUROPEAN</td>\n",
       "      <td>1 владелец</td>\n",
       "      <td>NaN</td>\n",
       "      <td>Оригинал</td>\n",
       "      <td>передний</td>\n",
       "      <td>Левый</td>\n",
       "      <td>Не требует ремонта</td>\n",
       "      <td>Растаможен</td>\n",
       "      <td>[heated-wash-system, airbag-passenger, lock, d...</td>\n",
       "    </tr>\n",
       "    <tr>\n",
       "      <th>3</th>\n",
       "      <td>лифтбек</td>\n",
       "      <td>SKODA</td>\n",
       "      <td>https://auto.ru/cars/used/sale/skoda/octavia/1...</td>\n",
       "      <td>коричневый</td>\n",
       "      <td>КОМПЛЕКТ ЗИМНЕЙ (ЛЕТНЕЙ) РЕЗИНЫ ПО СЕЗОНУ В ПО...</td>\n",
       "      <td>1.6 LTR</td>\n",
       "      <td>110 N12</td>\n",
       "      <td>{\"cruise-control\":true,\"roller-blind-for-rear-...</td>\n",
       "      <td>бензин</td>\n",
       "      <td>https://autoru.naydex.net/o9DBXQ270/5ac010hAY0...</td>\n",
       "      <td>95000</td>\n",
       "      <td>2013</td>\n",
       "      <td>OCTAVIA</td>\n",
       "      <td>1.6 AT (110 л.с.)</td>\n",
       "      <td>5</td>\n",
       "      <td>1603226284</td>\n",
       "      <td>RUB</td>\n",
       "      <td>2014</td>\n",
       "      <td>1100937408</td>\n",
       "      <td>{\"id\":\"20105521\",\"displacement\":1598,\"engine_t...</td>\n",
       "      <td>LIFTBACK AUTOMATIC 1.6</td>\n",
       "      <td>автоматическая</td>\n",
       "      <td>EUROPEAN</td>\n",
       "      <td>1 владелец</td>\n",
       "      <td>NaN</td>\n",
       "      <td>Оригинал</td>\n",
       "      <td>передний</td>\n",
       "      <td>Левый</td>\n",
       "      <td>Не требует ремонта</td>\n",
       "      <td>Растаможен</td>\n",
       "      <td>[heated-wash-system, airbag-passenger, lock, e...</td>\n",
       "    </tr>\n",
       "    <tr>\n",
       "      <th>4</th>\n",
       "      <td>лифтбек</td>\n",
       "      <td>SKODA</td>\n",
       "      <td>https://auto.ru/cars/used/sale/skoda/octavia/1...</td>\n",
       "      <td>белый</td>\n",
       "      <td>ЛОТ: 01220889\\nАвтопрага Север\\n\\nВы можете по...</td>\n",
       "      <td>1.8 LTR</td>\n",
       "      <td>152 N12</td>\n",
       "      <td>{\"cruise-control\":true,\"asr\":true,\"esp\":true,\"...</td>\n",
       "      <td>бензин</td>\n",
       "      <td>https://autoru.naydex.net/o9DBXQ270/5ac010hAY0...</td>\n",
       "      <td>58536</td>\n",
       "      <td>2008</td>\n",
       "      <td>OCTAVIA</td>\n",
       "      <td>1.8 AT (152 л.с.)</td>\n",
       "      <td>5</td>\n",
       "      <td>1603226288</td>\n",
       "      <td>RUB</td>\n",
       "      <td>2012</td>\n",
       "      <td>1101037972</td>\n",
       "      <td>{\"id\":\"4561004\",\"displacement\":1798,\"engine_ty...</td>\n",
       "      <td>LIFTBACK AUTOMATIC 1.8</td>\n",
       "      <td>автоматическая</td>\n",
       "      <td>EUROPEAN</td>\n",
       "      <td>1 владелец</td>\n",
       "      <td>NaN</td>\n",
       "      <td>Оригинал</td>\n",
       "      <td>передний</td>\n",
       "      <td>Левый</td>\n",
       "      <td>Не требует ремонта</td>\n",
       "      <td>Растаможен</td>\n",
       "      <td>NaN</td>\n",
       "    </tr>\n",
       "  </tbody>\n",
       "</table>\n",
       "</div>"
      ],
      "text/plain": [
       "  bodyType  brand                                            car_url  \\\n",
       "0  лифтбек  SKODA  https://auto.ru/cars/used/sale/skoda/octavia/1...   \n",
       "1  лифтбек  SKODA  https://auto.ru/cars/used/sale/skoda/octavia/1...   \n",
       "2  лифтбек  SKODA  https://auto.ru/cars/used/sale/skoda/superb/11...   \n",
       "3  лифтбек  SKODA  https://auto.ru/cars/used/sale/skoda/octavia/1...   \n",
       "4  лифтбек  SKODA  https://auto.ru/cars/used/sale/skoda/octavia/1...   \n",
       "\n",
       "        color                                        description  \\\n",
       "0       синий  Все автомобили, представленные в продаже, прох...   \n",
       "1      чёрный  ЛОТ: 01217195\\nАвтопрага Север\\nДанный автомоб...   \n",
       "2       серый  Все автомобили, представленные в продаже, прох...   \n",
       "3  коричневый  КОМПЛЕКТ ЗИМНЕЙ (ЛЕТНЕЙ) РЕЗИНЫ ПО СЕЗОНУ В ПО...   \n",
       "4       белый  ЛОТ: 01220889\\nАвтопрага Север\\n\\nВы можете по...   \n",
       "\n",
       "  engineDisplacement enginePower  \\\n",
       "0            1.2 LTR     105 N12   \n",
       "1            1.6 LTR     110 N12   \n",
       "2            1.8 LTR     152 N12   \n",
       "3            1.6 LTR     110 N12   \n",
       "4            1.8 LTR     152 N12   \n",
       "\n",
       "                                      equipment_dict fuelType  \\\n",
       "0  {\"engine-proof\":true,\"tinted-glass\":true,\"airb...   бензин   \n",
       "1  {\"cruise-control\":true,\"asr\":true,\"esp\":true,\"...   бензин   \n",
       "2  {\"cruise-control\":true,\"tinted-glass\":true,\"es...   бензин   \n",
       "3  {\"cruise-control\":true,\"roller-blind-for-rear-...   бензин   \n",
       "4  {\"cruise-control\":true,\"asr\":true,\"esp\":true,\"...   бензин   \n",
       "\n",
       "                                               image  mileage  modelDate  \\\n",
       "0  https://autoru.naydex.net/o9DBXQ270/5ac010hAY0...    74000       2013   \n",
       "1  https://autoru.naydex.net/o9DBXQ270/5ac010hAY0...    60563       2017   \n",
       "2  https://avatars.mds.yandex.net/get-autoru-vos/...    88000       2013   \n",
       "3  https://autoru.naydex.net/o9DBXQ270/5ac010hAY0...    95000       2013   \n",
       "4  https://autoru.naydex.net/o9DBXQ270/5ac010hAY0...    58536       2008   \n",
       "\n",
       "  model_name                    name  numberOfDoors  parsing_unixtime  \\\n",
       "0    OCTAVIA      1.2 AMT (105 л.с.)              5        1603226273   \n",
       "1    OCTAVIA       1.6 MT (110 л.с.)              5        1603226277   \n",
       "2     SUPERB  DSG 1.8 AMT (152 л.с.)              5        1603226280   \n",
       "3    OCTAVIA       1.6 AT (110 л.с.)              5        1603226284   \n",
       "4    OCTAVIA       1.8 AT (152 л.с.)              5        1603226288   \n",
       "\n",
       "  priceCurrency  productionDate     sell_id  \\\n",
       "0           RUB            2014  1100575026   \n",
       "1           RUB            2017  1100549428   \n",
       "2           RUB            2014  1100658222   \n",
       "3           RUB            2014  1100937408   \n",
       "4           RUB            2012  1101037972   \n",
       "\n",
       "                                           super_gen     vehicleConfiguration  \\\n",
       "0  {\"id\":\"10373605\",\"displacement\":1197,\"engine_t...       LIFTBACK ROBOT 1.2   \n",
       "1  {\"id\":\"20913311\",\"displacement\":1598,\"engine_t...  LIFTBACK MECHANICAL 1.6   \n",
       "2  {\"id\":\"20026323\",\"nameplate\":\"DSG\",\"displaceme...       LIFTBACK ROBOT 1.8   \n",
       "3  {\"id\":\"20105521\",\"displacement\":1598,\"engine_t...   LIFTBACK AUTOMATIC 1.6   \n",
       "4  {\"id\":\"4561004\",\"displacement\":1798,\"engine_ty...   LIFTBACK AUTOMATIC 1.8   \n",
       "\n",
       "  vehicleTransmission    vendor    Владельцы Владение       ПТС    Привод  \\\n",
       "0    роботизированная  EUROPEAN  3 или более      NaN  Оригинал  передний   \n",
       "1        механическая  EUROPEAN   1 владелец      NaN  Оригинал  передний   \n",
       "2    роботизированная  EUROPEAN   1 владелец      NaN  Оригинал  передний   \n",
       "3      автоматическая  EUROPEAN   1 владелец      NaN  Оригинал  передний   \n",
       "4      автоматическая  EUROPEAN   1 владелец      NaN  Оригинал  передний   \n",
       "\n",
       "    Руль           Состояние     Таможня  \\\n",
       "0  Левый  Не требует ремонта  Растаможен   \n",
       "1  Левый  Не требует ремонта  Растаможен   \n",
       "2  Левый  Не требует ремонта  Растаможен   \n",
       "3  Левый  Не требует ремонта  Растаможен   \n",
       "4  Левый  Не требует ремонта  Растаможен   \n",
       "\n",
       "                                  complectation_dict  \n",
       "0                                                NaN  \n",
       "1                                                NaN  \n",
       "2  [heated-wash-system, airbag-passenger, lock, d...  \n",
       "3  [heated-wash-system, airbag-passenger, lock, e...  \n",
       "4                                                NaN  "
      ]
     },
     "execution_count": 738,
     "metadata": {},
     "output_type": "execute_result"
    }
   ],
   "source": [
    "test.head()"
   ]
  },
  {
   "cell_type": "code",
   "execution_count": 739,
   "id": "577576d1",
   "metadata": {
    "execution": {
     "iopub.execute_input": "2021-10-18T11:50:31.457667Z",
     "iopub.status.busy": "2021-10-18T11:50:31.456695Z",
     "iopub.status.idle": "2021-10-18T11:50:31.467004Z",
     "shell.execute_reply": "2021-10-18T11:50:31.466358Z",
     "shell.execute_reply.started": "2021-10-18T11:01:23.583032Z"
    },
    "papermill": {
     "duration": 0.06962,
     "end_time": "2021-10-18T11:50:31.467138",
     "exception": false,
     "start_time": "2021-10-18T11:50:31.397518",
     "status": "completed"
    },
    "tags": []
   },
   "outputs": [],
   "source": [
    "# let's add the column showing whether we have train or test set to have the opportunity to combine/split them easily\n",
    "train_parsed['train'] = 1\n",
    "train_r['train'] = 1 \n",
    "test['train'] = 0\n",
    "\n",
    "# this column should be added to the the train datasets because it's present in the test one and is used for the submission \n",
    "train_r['sell_id'] = 0  \n",
    "train_parsed['sell_id'] = 0 \n",
    "\n",
    "# create a column showing whether the data is new or old\n",
    "train_r['new_data'] = 0\n",
    "train_parsed['new_data'] = 1 \n",
    "test['new_data'] = 0"
   ]
  },
  {
   "cell_type": "code",
   "execution_count": 740,
   "id": "34c26fb2",
   "metadata": {
    "execution": {
     "iopub.execute_input": "2021-10-18T11:50:31.581645Z",
     "iopub.status.busy": "2021-10-18T11:50:31.580519Z",
     "iopub.status.idle": "2021-10-18T11:50:31.972859Z",
     "shell.execute_reply": "2021-10-18T11:50:31.973312Z",
     "shell.execute_reply.started": "2021-10-18T11:01:26.378173Z"
    },
    "papermill": {
     "duration": 0.452419,
     "end_time": "2021-10-18T11:50:31.973487",
     "exception": false,
     "start_time": "2021-10-18T11:50:31.521068",
     "status": "completed"
    },
    "tags": []
   },
   "outputs": [
    {
     "data": {
      "text/html": [
       "<div>\n",
       "<style scoped>\n",
       "    .dataframe tbody tr th:only-of-type {\n",
       "        vertical-align: middle;\n",
       "    }\n",
       "\n",
       "    .dataframe tbody tr th {\n",
       "        vertical-align: top;\n",
       "    }\n",
       "\n",
       "    .dataframe thead th {\n",
       "        text-align: right;\n",
       "    }\n",
       "</style>\n",
       "<table border=\"1\" class=\"dataframe\">\n",
       "  <thead>\n",
       "    <tr style=\"text-align: right;\">\n",
       "      <th></th>\n",
       "      <th>bodyType</th>\n",
       "      <th>brand</th>\n",
       "      <th>car_url</th>\n",
       "      <th>color</th>\n",
       "      <th>description</th>\n",
       "      <th>engineDisplacement</th>\n",
       "      <th>enginePower</th>\n",
       "      <th>equipment_dict</th>\n",
       "      <th>fuelType</th>\n",
       "      <th>image</th>\n",
       "      <th>mileage</th>\n",
       "      <th>modelDate</th>\n",
       "      <th>model_name</th>\n",
       "      <th>name</th>\n",
       "      <th>numberOfDoors</th>\n",
       "      <th>parsing_unixtime</th>\n",
       "      <th>priceCurrency</th>\n",
       "      <th>productionDate</th>\n",
       "      <th>sell_id</th>\n",
       "      <th>super_gen</th>\n",
       "      <th>vehicleConfiguration</th>\n",
       "      <th>vehicleTransmission</th>\n",
       "      <th>vendor</th>\n",
       "      <th>owners</th>\n",
       "      <th>ownership</th>\n",
       "      <th>vehicle_licence</th>\n",
       "      <th>driving_gear</th>\n",
       "      <th>steering_wheel</th>\n",
       "      <th>condition</th>\n",
       "      <th>customs</th>\n",
       "      <th>complectation_dict</th>\n",
       "      <th>train</th>\n",
       "      <th>new_data</th>\n",
       "      <th>price</th>\n",
       "      <th>date_added</th>\n",
       "    </tr>\n",
       "  </thead>\n",
       "  <tbody>\n",
       "    <tr>\n",
       "      <th>0</th>\n",
       "      <td>лифтбек</td>\n",
       "      <td>SKODA</td>\n",
       "      <td>https://auto.ru/cars/used/sale/skoda/octavia/1...</td>\n",
       "      <td>синий</td>\n",
       "      <td>Все автомобили, представленные в продаже, прох...</td>\n",
       "      <td>1.2 LTR</td>\n",
       "      <td>105 N12</td>\n",
       "      <td>{\"engine-proof\":true,\"tinted-glass\":true,\"airb...</td>\n",
       "      <td>бензин</td>\n",
       "      <td>https://autoru.naydex.net/o9DBXQ270/5ac010hAY0...</td>\n",
       "      <td>74000.0</td>\n",
       "      <td>2013.0</td>\n",
       "      <td>OCTAVIA</td>\n",
       "      <td>1.2 AMT (105 л.с.)</td>\n",
       "      <td>5.0</td>\n",
       "      <td>1.603226e+09</td>\n",
       "      <td>RUB</td>\n",
       "      <td>2014.0</td>\n",
       "      <td>1100575026</td>\n",
       "      <td>{\"id\":\"10373605\",\"displacement\":1197,\"engine_t...</td>\n",
       "      <td>LIFTBACK ROBOT 1.2</td>\n",
       "      <td>роботизированная</td>\n",
       "      <td>EUROPEAN</td>\n",
       "      <td>3 или более</td>\n",
       "      <td>NaN</td>\n",
       "      <td>Оригинал</td>\n",
       "      <td>передний</td>\n",
       "      <td>Левый</td>\n",
       "      <td>Не требует ремонта</td>\n",
       "      <td>Растаможен</td>\n",
       "      <td>NaN</td>\n",
       "      <td>0</td>\n",
       "      <td>0</td>\n",
       "      <td>NaN</td>\n",
       "      <td>NaN</td>\n",
       "    </tr>\n",
       "    <tr>\n",
       "      <th>1</th>\n",
       "      <td>лифтбек</td>\n",
       "      <td>SKODA</td>\n",
       "      <td>https://auto.ru/cars/used/sale/skoda/octavia/1...</td>\n",
       "      <td>чёрный</td>\n",
       "      <td>ЛОТ: 01217195\\nАвтопрага Север\\nДанный автомоб...</td>\n",
       "      <td>1.6 LTR</td>\n",
       "      <td>110 N12</td>\n",
       "      <td>{\"cruise-control\":true,\"asr\":true,\"esp\":true,\"...</td>\n",
       "      <td>бензин</td>\n",
       "      <td>https://autoru.naydex.net/o9DBXQ270/5ac010hAY0...</td>\n",
       "      <td>60563.0</td>\n",
       "      <td>2017.0</td>\n",
       "      <td>OCTAVIA</td>\n",
       "      <td>1.6 MT (110 л.с.)</td>\n",
       "      <td>5.0</td>\n",
       "      <td>1.603226e+09</td>\n",
       "      <td>RUB</td>\n",
       "      <td>2017.0</td>\n",
       "      <td>1100549428</td>\n",
       "      <td>{\"id\":\"20913311\",\"displacement\":1598,\"engine_t...</td>\n",
       "      <td>LIFTBACK MECHANICAL 1.6</td>\n",
       "      <td>механическая</td>\n",
       "      <td>EUROPEAN</td>\n",
       "      <td>1 владелец</td>\n",
       "      <td>NaN</td>\n",
       "      <td>Оригинал</td>\n",
       "      <td>передний</td>\n",
       "      <td>Левый</td>\n",
       "      <td>Не требует ремонта</td>\n",
       "      <td>Растаможен</td>\n",
       "      <td>NaN</td>\n",
       "      <td>0</td>\n",
       "      <td>0</td>\n",
       "      <td>NaN</td>\n",
       "      <td>NaN</td>\n",
       "    </tr>\n",
       "    <tr>\n",
       "      <th>2</th>\n",
       "      <td>лифтбек</td>\n",
       "      <td>SKODA</td>\n",
       "      <td>https://auto.ru/cars/used/sale/skoda/superb/11...</td>\n",
       "      <td>серый</td>\n",
       "      <td>Все автомобили, представленные в продаже, прох...</td>\n",
       "      <td>1.8 LTR</td>\n",
       "      <td>152 N12</td>\n",
       "      <td>{\"cruise-control\":true,\"tinted-glass\":true,\"es...</td>\n",
       "      <td>бензин</td>\n",
       "      <td>https://avatars.mds.yandex.net/get-autoru-vos/...</td>\n",
       "      <td>88000.0</td>\n",
       "      <td>2013.0</td>\n",
       "      <td>SUPERB</td>\n",
       "      <td>DSG 1.8 AMT (152 л.с.)</td>\n",
       "      <td>5.0</td>\n",
       "      <td>1.603226e+09</td>\n",
       "      <td>RUB</td>\n",
       "      <td>2014.0</td>\n",
       "      <td>1100658222</td>\n",
       "      <td>{\"id\":\"20026323\",\"nameplate\":\"DSG\",\"displaceme...</td>\n",
       "      <td>LIFTBACK ROBOT 1.8</td>\n",
       "      <td>роботизированная</td>\n",
       "      <td>EUROPEAN</td>\n",
       "      <td>1 владелец</td>\n",
       "      <td>NaN</td>\n",
       "      <td>Оригинал</td>\n",
       "      <td>передний</td>\n",
       "      <td>Левый</td>\n",
       "      <td>Не требует ремонта</td>\n",
       "      <td>Растаможен</td>\n",
       "      <td>[heated-wash-system, airbag-passenger, lock, d...</td>\n",
       "      <td>0</td>\n",
       "      <td>0</td>\n",
       "      <td>NaN</td>\n",
       "      <td>NaN</td>\n",
       "    </tr>\n",
       "    <tr>\n",
       "      <th>3</th>\n",
       "      <td>лифтбек</td>\n",
       "      <td>SKODA</td>\n",
       "      <td>https://auto.ru/cars/used/sale/skoda/octavia/1...</td>\n",
       "      <td>коричневый</td>\n",
       "      <td>КОМПЛЕКТ ЗИМНЕЙ (ЛЕТНЕЙ) РЕЗИНЫ ПО СЕЗОНУ В ПО...</td>\n",
       "      <td>1.6 LTR</td>\n",
       "      <td>110 N12</td>\n",
       "      <td>{\"cruise-control\":true,\"roller-blind-for-rear-...</td>\n",
       "      <td>бензин</td>\n",
       "      <td>https://autoru.naydex.net/o9DBXQ270/5ac010hAY0...</td>\n",
       "      <td>95000.0</td>\n",
       "      <td>2013.0</td>\n",
       "      <td>OCTAVIA</td>\n",
       "      <td>1.6 AT (110 л.с.)</td>\n",
       "      <td>5.0</td>\n",
       "      <td>1.603226e+09</td>\n",
       "      <td>RUB</td>\n",
       "      <td>2014.0</td>\n",
       "      <td>1100937408</td>\n",
       "      <td>{\"id\":\"20105521\",\"displacement\":1598,\"engine_t...</td>\n",
       "      <td>LIFTBACK AUTOMATIC 1.6</td>\n",
       "      <td>автоматическая</td>\n",
       "      <td>EUROPEAN</td>\n",
       "      <td>1 владелец</td>\n",
       "      <td>NaN</td>\n",
       "      <td>Оригинал</td>\n",
       "      <td>передний</td>\n",
       "      <td>Левый</td>\n",
       "      <td>Не требует ремонта</td>\n",
       "      <td>Растаможен</td>\n",
       "      <td>[heated-wash-system, airbag-passenger, lock, e...</td>\n",
       "      <td>0</td>\n",
       "      <td>0</td>\n",
       "      <td>NaN</td>\n",
       "      <td>NaN</td>\n",
       "    </tr>\n",
       "    <tr>\n",
       "      <th>4</th>\n",
       "      <td>лифтбек</td>\n",
       "      <td>SKODA</td>\n",
       "      <td>https://auto.ru/cars/used/sale/skoda/octavia/1...</td>\n",
       "      <td>белый</td>\n",
       "      <td>ЛОТ: 01220889\\nАвтопрага Север\\n\\nВы можете по...</td>\n",
       "      <td>1.8 LTR</td>\n",
       "      <td>152 N12</td>\n",
       "      <td>{\"cruise-control\":true,\"asr\":true,\"esp\":true,\"...</td>\n",
       "      <td>бензин</td>\n",
       "      <td>https://autoru.naydex.net/o9DBXQ270/5ac010hAY0...</td>\n",
       "      <td>58536.0</td>\n",
       "      <td>2008.0</td>\n",
       "      <td>OCTAVIA</td>\n",
       "      <td>1.8 AT (152 л.с.)</td>\n",
       "      <td>5.0</td>\n",
       "      <td>1.603226e+09</td>\n",
       "      <td>RUB</td>\n",
       "      <td>2012.0</td>\n",
       "      <td>1101037972</td>\n",
       "      <td>{\"id\":\"4561004\",\"displacement\":1798,\"engine_ty...</td>\n",
       "      <td>LIFTBACK AUTOMATIC 1.8</td>\n",
       "      <td>автоматическая</td>\n",
       "      <td>EUROPEAN</td>\n",
       "      <td>1 владелец</td>\n",
       "      <td>NaN</td>\n",
       "      <td>Оригинал</td>\n",
       "      <td>передний</td>\n",
       "      <td>Левый</td>\n",
       "      <td>Не требует ремонта</td>\n",
       "      <td>Растаможен</td>\n",
       "      <td>NaN</td>\n",
       "      <td>0</td>\n",
       "      <td>0</td>\n",
       "      <td>NaN</td>\n",
       "      <td>NaN</td>\n",
       "    </tr>\n",
       "  </tbody>\n",
       "</table>\n",
       "</div>"
      ],
      "text/plain": [
       "  bodyType  brand                                            car_url  \\\n",
       "0  лифтбек  SKODA  https://auto.ru/cars/used/sale/skoda/octavia/1...   \n",
       "1  лифтбек  SKODA  https://auto.ru/cars/used/sale/skoda/octavia/1...   \n",
       "2  лифтбек  SKODA  https://auto.ru/cars/used/sale/skoda/superb/11...   \n",
       "3  лифтбек  SKODA  https://auto.ru/cars/used/sale/skoda/octavia/1...   \n",
       "4  лифтбек  SKODA  https://auto.ru/cars/used/sale/skoda/octavia/1...   \n",
       "\n",
       "        color                                        description  \\\n",
       "0       синий  Все автомобили, представленные в продаже, прох...   \n",
       "1      чёрный  ЛОТ: 01217195\\nАвтопрага Север\\nДанный автомоб...   \n",
       "2       серый  Все автомобили, представленные в продаже, прох...   \n",
       "3  коричневый  КОМПЛЕКТ ЗИМНЕЙ (ЛЕТНЕЙ) РЕЗИНЫ ПО СЕЗОНУ В ПО...   \n",
       "4       белый  ЛОТ: 01220889\\nАвтопрага Север\\n\\nВы можете по...   \n",
       "\n",
       "  engineDisplacement enginePower  \\\n",
       "0            1.2 LTR     105 N12   \n",
       "1            1.6 LTR     110 N12   \n",
       "2            1.8 LTR     152 N12   \n",
       "3            1.6 LTR     110 N12   \n",
       "4            1.8 LTR     152 N12   \n",
       "\n",
       "                                      equipment_dict fuelType  \\\n",
       "0  {\"engine-proof\":true,\"tinted-glass\":true,\"airb...   бензин   \n",
       "1  {\"cruise-control\":true,\"asr\":true,\"esp\":true,\"...   бензин   \n",
       "2  {\"cruise-control\":true,\"tinted-glass\":true,\"es...   бензин   \n",
       "3  {\"cruise-control\":true,\"roller-blind-for-rear-...   бензин   \n",
       "4  {\"cruise-control\":true,\"asr\":true,\"esp\":true,\"...   бензин   \n",
       "\n",
       "                                               image  mileage  modelDate  \\\n",
       "0  https://autoru.naydex.net/o9DBXQ270/5ac010hAY0...  74000.0     2013.0   \n",
       "1  https://autoru.naydex.net/o9DBXQ270/5ac010hAY0...  60563.0     2017.0   \n",
       "2  https://avatars.mds.yandex.net/get-autoru-vos/...  88000.0     2013.0   \n",
       "3  https://autoru.naydex.net/o9DBXQ270/5ac010hAY0...  95000.0     2013.0   \n",
       "4  https://autoru.naydex.net/o9DBXQ270/5ac010hAY0...  58536.0     2008.0   \n",
       "\n",
       "  model_name                    name  numberOfDoors  parsing_unixtime  \\\n",
       "0    OCTAVIA      1.2 AMT (105 л.с.)            5.0      1.603226e+09   \n",
       "1    OCTAVIA       1.6 MT (110 л.с.)            5.0      1.603226e+09   \n",
       "2     SUPERB  DSG 1.8 AMT (152 л.с.)            5.0      1.603226e+09   \n",
       "3    OCTAVIA       1.6 AT (110 л.с.)            5.0      1.603226e+09   \n",
       "4    OCTAVIA       1.8 AT (152 л.с.)            5.0      1.603226e+09   \n",
       "\n",
       "  priceCurrency  productionDate     sell_id  \\\n",
       "0           RUB          2014.0  1100575026   \n",
       "1           RUB          2017.0  1100549428   \n",
       "2           RUB          2014.0  1100658222   \n",
       "3           RUB          2014.0  1100937408   \n",
       "4           RUB          2012.0  1101037972   \n",
       "\n",
       "                                           super_gen     vehicleConfiguration  \\\n",
       "0  {\"id\":\"10373605\",\"displacement\":1197,\"engine_t...       LIFTBACK ROBOT 1.2   \n",
       "1  {\"id\":\"20913311\",\"displacement\":1598,\"engine_t...  LIFTBACK MECHANICAL 1.6   \n",
       "2  {\"id\":\"20026323\",\"nameplate\":\"DSG\",\"displaceme...       LIFTBACK ROBOT 1.8   \n",
       "3  {\"id\":\"20105521\",\"displacement\":1598,\"engine_t...   LIFTBACK AUTOMATIC 1.6   \n",
       "4  {\"id\":\"4561004\",\"displacement\":1798,\"engine_ty...   LIFTBACK AUTOMATIC 1.8   \n",
       "\n",
       "  vehicleTransmission    vendor       owners ownership vehicle_licence  \\\n",
       "0    роботизированная  EUROPEAN  3 или более       NaN        Оригинал   \n",
       "1        механическая  EUROPEAN   1 владелец       NaN        Оригинал   \n",
       "2    роботизированная  EUROPEAN   1 владелец       NaN        Оригинал   \n",
       "3      автоматическая  EUROPEAN   1 владелец       NaN        Оригинал   \n",
       "4      автоматическая  EUROPEAN   1 владелец       NaN        Оригинал   \n",
       "\n",
       "  driving_gear steering_wheel           condition     customs  \\\n",
       "0     передний          Левый  Не требует ремонта  Растаможен   \n",
       "1     передний          Левый  Не требует ремонта  Растаможен   \n",
       "2     передний          Левый  Не требует ремонта  Растаможен   \n",
       "3     передний          Левый  Не требует ремонта  Растаможен   \n",
       "4     передний          Левый  Не требует ремонта  Растаможен   \n",
       "\n",
       "                                  complectation_dict  train  new_data  price  \\\n",
       "0                                                NaN      0         0    NaN   \n",
       "1                                                NaN      0         0    NaN   \n",
       "2  [heated-wash-system, airbag-passenger, lock, d...      0         0    NaN   \n",
       "3  [heated-wash-system, airbag-passenger, lock, e...      0         0    NaN   \n",
       "4                                                NaN      0         0    NaN   \n",
       "\n",
       "  date_added  \n",
       "0        NaN  \n",
       "1        NaN  \n",
       "2        NaN  \n",
       "3        NaN  \n",
       "4        NaN  "
      ]
     },
     "execution_count": 740,
     "metadata": {},
     "output_type": "execute_result"
    }
   ],
   "source": [
    "bined_df = pd.concat([test, train_r, train_parsed.drop(labels=['views', 'region'], axis=1)], ignore_index=True)\n",
    "# rename russian column names\n",
    "bined_df.rename(columns={'Владельцы': 'owners', 'Владение': 'ownership', 'ПТС': 'vehicle_licence',\n",
    "       'Привод': 'driving_gear', 'Руль': 'steering_wheel', 'Состояние': 'condition', 'Таможня': 'customs'}, inplace=True)\n",
    "\n",
    "bined_df.head()"
   ]
  },
  {
   "cell_type": "code",
   "execution_count": 741,
   "id": "ccbd6488",
   "metadata": {
    "execution": {
     "iopub.execute_input": "2021-10-18T11:50:32.099616Z",
     "iopub.status.busy": "2021-10-18T11:50:32.086408Z",
     "iopub.status.idle": "2021-10-18T11:50:32.470719Z",
     "shell.execute_reply": "2021-10-18T11:50:32.470067Z",
     "shell.execute_reply.started": "2021-10-18T11:01:30.301513Z"
    },
    "papermill": {
     "duration": 0.443697,
     "end_time": "2021-10-18T11:50:32.470874",
     "exception": false,
     "start_time": "2021-10-18T11:50:32.027177",
     "status": "completed"
    },
    "tags": []
   },
   "outputs": [],
   "source": [
    "# look at the data with nan in brand\n",
    "bined_df[bined_df.brand.isnull()]\n",
    "\n",
    "# remove it\n",
    "bined_df.dropna(subset = ['brand'], inplace=True)"
   ]
  },
  {
   "cell_type": "code",
   "execution_count": 742,
   "id": "f2d831be",
   "metadata": {
    "execution": {
     "iopub.execute_input": "2021-10-18T11:50:32.587431Z",
     "iopub.status.busy": "2021-10-18T11:50:32.586452Z",
     "iopub.status.idle": "2021-10-18T11:50:32.960937Z",
     "shell.execute_reply": "2021-10-18T11:50:32.960346Z",
     "shell.execute_reply.started": "2021-10-18T09:43:16.611663Z"
    },
    "papermill": {
     "duration": 0.434014,
     "end_time": "2021-10-18T11:50:32.961094",
     "exception": false,
     "start_time": "2021-10-18T11:50:32.527080",
     "status": "completed"
    },
    "tags": []
   },
   "outputs": [
    {
     "name": "stdout",
     "output_type": "stream",
     "text": [
      "<class 'pandas.core.frame.DataFrame'>\n",
      "Int64Index: 262774 entries, 0 to 262838\n",
      "Data columns (total 35 columns):\n",
      " #   Column                Non-Null Count   Dtype  \n",
      "---  ------                --------------   -----  \n",
      " 0   bodyType              262771 non-null  object \n",
      " 1   brand                 262774 non-null  object \n",
      " 2   car_url               173396 non-null  object \n",
      " 3   color                 262749 non-null  object \n",
      " 4   description           259520 non-null  object \n",
      " 5   engineDisplacement    262773 non-null  object \n",
      " 6   enginePower           262773 non-null  object \n",
      " 7   equipment_dict        163400 non-null  object \n",
      " 8   fuelType              262772 non-null  object \n",
      " 9   image                 173370 non-null  object \n",
      " 10  mileage               232418 non-null  float64\n",
      " 11  modelDate             262771 non-null  float64\n",
      " 12  model_name            232418 non-null  object \n",
      " 13  name                  262773 non-null  object \n",
      " 14  numberOfDoors         262771 non-null  float64\n",
      " 15  parsing_unixtime      262774 non-null  float64\n",
      " 16  priceCurrency         173396 non-null  object \n",
      " 17  productionDate        262774 non-null  float64\n",
      " 18  sell_id               262774 non-null  int64  \n",
      " 19  super_gen             173396 non-null  object \n",
      " 20  vehicleConfiguration  262771 non-null  object \n",
      " 21  vehicleTransmission   262771 non-null  object \n",
      " 22  vendor                219054 non-null  object \n",
      " 23  owners                218830 non-null  object \n",
      " 24  ownership             60337 non-null   object \n",
      " 25  vehicle_licence       232056 non-null  object \n",
      " 26  driving_gear          232415 non-null  object \n",
      " 27  steering_wheel        232418 non-null  object \n",
      " 28  condition             143039 non-null  object \n",
      " 29  customs               232416 non-null  object \n",
      " 30  complectation_dict    124944 non-null  object \n",
      " 31  train                 262774 non-null  int64  \n",
      " 32  new_data              262774 non-null  int64  \n",
      " 33  price                 223449 non-null  float64\n",
      " 34  date_added            197732 non-null  object \n",
      "dtypes: float64(6), int64(3), object(26)\n",
      "memory usage: 72.2+ MB\n"
     ]
    }
   ],
   "source": [
    "bined_df.info()"
   ]
  },
  {
   "cell_type": "code",
   "execution_count": 743,
   "id": "9918fbc7",
   "metadata": {
    "execution": {
     "iopub.execute_input": "2021-10-18T11:50:33.109196Z",
     "iopub.status.busy": "2021-10-18T11:50:33.103512Z",
     "iopub.status.idle": "2021-10-18T11:50:34.193314Z",
     "shell.execute_reply": "2021-10-18T11:50:34.192756Z",
     "shell.execute_reply.started": "2021-10-18T11:01:34.551800Z"
    },
    "papermill": {
     "duration": 1.172644,
     "end_time": "2021-10-18T11:50:34.193472",
     "exception": false,
     "start_time": "2021-10-18T11:50:33.020828",
     "status": "completed"
    },
    "tags": []
   },
   "outputs": [
    {
     "name": "stdout",
     "output_type": "stream",
     "text": [
      "False    259064\n",
      "True       3710\n",
      "dtype: int64\n"
     ]
    }
   ],
   "source": [
    "# As we had some issues with parsing\n",
    "# we need to check how many records are duplicated\n",
    "print(bined_df.astype(str).duplicated(keep=False).value_counts())"
   ]
  },
  {
   "cell_type": "code",
   "execution_count": 744,
   "id": "f55a73d5",
   "metadata": {
    "execution": {
     "iopub.execute_input": "2021-10-18T11:50:34.329044Z",
     "iopub.status.busy": "2021-10-18T11:50:34.328389Z",
     "iopub.status.idle": "2021-10-18T11:50:35.308591Z",
     "shell.execute_reply": "2021-10-18T11:50:35.307962Z",
     "shell.execute_reply.started": "2021-10-18T11:01:38.501234Z"
    },
    "papermill": {
     "duration": 1.059173,
     "end_time": "2021-10-18T11:50:35.308727",
     "exception": false,
     "start_time": "2021-10-18T11:50:34.249554",
     "status": "completed"
    },
    "tags": []
   },
   "outputs": [],
   "source": [
    "# Remove duplicates\n",
    "bined_df = bined_df.loc[bined_df.astype(str).drop_duplicates().index]"
   ]
  },
  {
   "cell_type": "code",
   "execution_count": 745,
   "id": "f1943d2e",
   "metadata": {
    "execution": {
     "iopub.execute_input": "2021-10-18T11:50:35.441878Z",
     "iopub.status.busy": "2021-10-18T11:50:35.441229Z",
     "iopub.status.idle": "2021-10-18T11:50:36.328667Z",
     "shell.execute_reply": "2021-10-18T11:50:36.328064Z",
     "shell.execute_reply.started": "2021-10-18T11:01:41.191943Z"
    },
    "papermill": {
     "duration": 0.966156,
     "end_time": "2021-10-18T11:50:36.328818",
     "exception": false,
     "start_time": "2021-10-18T11:50:35.362662",
     "status": "completed"
    },
    "tags": []
   },
   "outputs": [
    {
     "name": "stdout",
     "output_type": "stream",
     "text": [
      "False    260639\n",
      "dtype: int64\n"
     ]
    }
   ],
   "source": [
    "# Check again\n",
    "print(bined_df.astype(str).duplicated(keep=False).value_counts())"
   ]
  },
  {
   "cell_type": "markdown",
   "id": "005f1a0d",
   "metadata": {
    "papermill": {
     "duration": 0.055873,
     "end_time": "2021-10-18T11:50:36.440223",
     "exception": false,
     "start_time": "2021-10-18T11:50:36.384350",
     "status": "completed"
    },
    "tags": []
   },
   "source": [
    "## EDA"
   ]
  },
  {
   "cell_type": "markdown",
   "id": "3d533b79",
   "metadata": {
    "papermill": {
     "duration": 0.054992,
     "end_time": "2021-10-18T11:50:36.553483",
     "exception": false,
     "start_time": "2021-10-18T11:50:36.498491",
     "status": "completed"
    },
    "tags": []
   },
   "source": [
    "TO DO:\n",
    "* check unique values for every column\n",
    "* fill missing values\n",
    "* drop unnecessary columns\n",
    "* build histograms\n",
    "* build boxplots\n",
    "* build correlation plot"
   ]
  },
  {
   "cell_type": "code",
   "execution_count": 746,
   "id": "f231fe67",
   "metadata": {
    "execution": {
     "iopub.execute_input": "2021-10-18T11:50:36.669147Z",
     "iopub.status.busy": "2021-10-18T11:50:36.668088Z",
     "iopub.status.idle": "2021-10-18T11:50:36.672015Z",
     "shell.execute_reply": "2021-10-18T11:50:36.671440Z",
     "shell.execute_reply.started": "2021-10-18T09:16:00.592578Z"
    },
    "papermill": {
     "duration": 0.063047,
     "end_time": "2021-10-18T11:50:36.672154",
     "exception": false,
     "start_time": "2021-10-18T11:50:36.609107",
     "status": "completed"
    },
    "tags": []
   },
   "outputs": [
    {
     "data": {
      "text/plain": [
       "(260639, 35)"
      ]
     },
     "execution_count": 746,
     "metadata": {},
     "output_type": "execute_result"
    }
   ],
   "source": [
    "# Check the dataset shape\n",
    "bined_df.shape"
   ]
  },
  {
   "cell_type": "code",
   "execution_count": 747,
   "id": "8f8cda5c",
   "metadata": {
    "execution": {
     "iopub.execute_input": "2021-10-18T11:50:36.791977Z",
     "iopub.status.busy": "2021-10-18T11:50:36.791222Z",
     "iopub.status.idle": "2021-10-18T11:50:36.891401Z",
     "shell.execute_reply": "2021-10-18T11:50:36.891970Z",
     "shell.execute_reply.started": "2021-10-18T09:16:05.081328Z"
    },
    "papermill": {
     "duration": 0.165226,
     "end_time": "2021-10-18T11:50:36.892139",
     "exception": false,
     "start_time": "2021-10-18T11:50:36.726913",
     "status": "completed"
    },
    "tags": []
   },
   "outputs": [
    {
     "data": {
      "text/html": [
       "<div>\n",
       "<style scoped>\n",
       "    .dataframe tbody tr th:only-of-type {\n",
       "        vertical-align: middle;\n",
       "    }\n",
       "\n",
       "    .dataframe tbody tr th {\n",
       "        vertical-align: top;\n",
       "    }\n",
       "\n",
       "    .dataframe thead th {\n",
       "        text-align: right;\n",
       "    }\n",
       "</style>\n",
       "<table border=\"1\" class=\"dataframe\">\n",
       "  <thead>\n",
       "    <tr style=\"text-align: right;\">\n",
       "      <th></th>\n",
       "      <th>mileage</th>\n",
       "      <th>modelDate</th>\n",
       "      <th>numberOfDoors</th>\n",
       "      <th>parsing_unixtime</th>\n",
       "      <th>productionDate</th>\n",
       "      <th>sell_id</th>\n",
       "      <th>train</th>\n",
       "      <th>new_data</th>\n",
       "      <th>price</th>\n",
       "    </tr>\n",
       "  </thead>\n",
       "  <tbody>\n",
       "    <tr>\n",
       "      <th>count</th>\n",
       "      <td>2.302830e+05</td>\n",
       "      <td>260636.000000</td>\n",
       "      <td>260636.000000</td>\n",
       "      <td>2.606390e+05</td>\n",
       "      <td>260639.000000</td>\n",
       "      <td>2.606390e+05</td>\n",
       "      <td>260639.000000</td>\n",
       "      <td>260639.000000</td>\n",
       "      <td>2.213140e+05</td>\n",
       "    </tr>\n",
       "    <tr>\n",
       "      <th>mean</th>\n",
       "      <td>1.473372e+05</td>\n",
       "      <td>2009.789250</td>\n",
       "      <td>4.533848</td>\n",
       "      <td>1.618544e+09</td>\n",
       "      <td>2011.959477</td>\n",
       "      <td>1.461625e+08</td>\n",
       "      <td>0.866919</td>\n",
       "      <td>0.532192</td>\n",
       "      <td>2.156369e+06</td>\n",
       "    </tr>\n",
       "    <tr>\n",
       "      <th>std</th>\n",
       "      <td>1.003069e+05</td>\n",
       "      <td>7.432079</td>\n",
       "      <td>0.663351</td>\n",
       "      <td>1.681764e+07</td>\n",
       "      <td>7.141304</td>\n",
       "      <td>3.731165e+08</td>\n",
       "      <td>0.339662</td>\n",
       "      <td>0.498964</td>\n",
       "      <td>3.263852e+06</td>\n",
       "    </tr>\n",
       "    <tr>\n",
       "      <th>min</th>\n",
       "      <td>0.000000e+00</td>\n",
       "      <td>1904.000000</td>\n",
       "      <td>0.000000</td>\n",
       "      <td>1.599599e+09</td>\n",
       "      <td>1904.000000</td>\n",
       "      <td>0.000000e+00</td>\n",
       "      <td>0.000000</td>\n",
       "      <td>0.000000</td>\n",
       "      <td>1.600000e+04</td>\n",
       "    </tr>\n",
       "    <tr>\n",
       "      <th>25%</th>\n",
       "      <td>7.600000e+04</td>\n",
       "      <td>2006.000000</td>\n",
       "      <td>4.000000</td>\n",
       "      <td>1.599599e+09</td>\n",
       "      <td>2008.000000</td>\n",
       "      <td>0.000000e+00</td>\n",
       "      <td>1.000000</td>\n",
       "      <td>0.000000</td>\n",
       "      <td>5.000000e+05</td>\n",
       "    </tr>\n",
       "    <tr>\n",
       "      <th>50%</th>\n",
       "      <td>1.416450e+05</td>\n",
       "      <td>2010.000000</td>\n",
       "      <td>5.000000</td>\n",
       "      <td>1.634223e+09</td>\n",
       "      <td>2012.000000</td>\n",
       "      <td>0.000000e+00</td>\n",
       "      <td>1.000000</td>\n",
       "      <td>1.000000</td>\n",
       "      <td>1.000000e+06</td>\n",
       "    </tr>\n",
       "    <tr>\n",
       "      <th>75%</th>\n",
       "      <td>2.000000e+05</td>\n",
       "      <td>2016.000000</td>\n",
       "      <td>5.000000</td>\n",
       "      <td>1.634268e+09</td>\n",
       "      <td>2018.000000</td>\n",
       "      <td>0.000000e+00</td>\n",
       "      <td>1.000000</td>\n",
       "      <td>1.000000</td>\n",
       "      <td>2.320000e+06</td>\n",
       "    </tr>\n",
       "    <tr>\n",
       "      <th>max</th>\n",
       "      <td>1.150000e+06</td>\n",
       "      <td>2021.000000</td>\n",
       "      <td>5.000000</td>\n",
       "      <td>1.634351e+09</td>\n",
       "      <td>2021.000000</td>\n",
       "      <td>1.101375e+09</td>\n",
       "      <td>1.000000</td>\n",
       "      <td>1.000000</td>\n",
       "      <td>9.900000e+07</td>\n",
       "    </tr>\n",
       "  </tbody>\n",
       "</table>\n",
       "</div>"
      ],
      "text/plain": [
       "            mileage      modelDate  numberOfDoors  parsing_unixtime  \\\n",
       "count  2.302830e+05  260636.000000  260636.000000      2.606390e+05   \n",
       "mean   1.473372e+05    2009.789250       4.533848      1.618544e+09   \n",
       "std    1.003069e+05       7.432079       0.663351      1.681764e+07   \n",
       "min    0.000000e+00    1904.000000       0.000000      1.599599e+09   \n",
       "25%    7.600000e+04    2006.000000       4.000000      1.599599e+09   \n",
       "50%    1.416450e+05    2010.000000       5.000000      1.634223e+09   \n",
       "75%    2.000000e+05    2016.000000       5.000000      1.634268e+09   \n",
       "max    1.150000e+06    2021.000000       5.000000      1.634351e+09   \n",
       "\n",
       "       productionDate       sell_id          train       new_data  \\\n",
       "count   260639.000000  2.606390e+05  260639.000000  260639.000000   \n",
       "mean      2011.959477  1.461625e+08       0.866919       0.532192   \n",
       "std          7.141304  3.731165e+08       0.339662       0.498964   \n",
       "min       1904.000000  0.000000e+00       0.000000       0.000000   \n",
       "25%       2008.000000  0.000000e+00       1.000000       0.000000   \n",
       "50%       2012.000000  0.000000e+00       1.000000       1.000000   \n",
       "75%       2018.000000  0.000000e+00       1.000000       1.000000   \n",
       "max       2021.000000  1.101375e+09       1.000000       1.000000   \n",
       "\n",
       "              price  \n",
       "count  2.213140e+05  \n",
       "mean   2.156369e+06  \n",
       "std    3.263852e+06  \n",
       "min    1.600000e+04  \n",
       "25%    5.000000e+05  \n",
       "50%    1.000000e+06  \n",
       "75%    2.320000e+06  \n",
       "max    9.900000e+07  "
      ]
     },
     "execution_count": 747,
     "metadata": {},
     "output_type": "execute_result"
    }
   ],
   "source": [
    "bined_df.describe()"
   ]
  },
  {
   "cell_type": "code",
   "execution_count": 748,
   "id": "cf4baf0c",
   "metadata": {
    "execution": {
     "iopub.execute_input": "2021-10-18T11:50:37.007729Z",
     "iopub.status.busy": "2021-10-18T11:50:37.006750Z",
     "iopub.status.idle": "2021-10-18T11:50:37.012582Z",
     "shell.execute_reply": "2021-10-18T11:50:37.013086Z",
     "shell.execute_reply.started": "2021-10-18T09:16:41.200536Z"
    },
    "papermill": {
     "duration": 0.065725,
     "end_time": "2021-10-18T11:50:37.013250",
     "exception": false,
     "start_time": "2021-10-18T11:50:36.947525",
     "status": "completed"
    },
    "tags": []
   },
   "outputs": [],
   "source": [
    "# bined_df.columns"
   ]
  },
  {
   "cell_type": "code",
   "execution_count": 749,
   "id": "a026e2e3",
   "metadata": {
    "execution": {
     "iopub.execute_input": "2021-10-18T11:50:37.160065Z",
     "iopub.status.busy": "2021-10-18T11:50:37.147078Z",
     "iopub.status.idle": "2021-10-18T11:50:37.786593Z",
     "shell.execute_reply": "2021-10-18T11:50:37.786092Z",
     "shell.execute_reply.started": "2021-10-18T09:16:45.673990Z"
    },
    "papermill": {
     "duration": 0.717256,
     "end_time": "2021-10-18T11:50:37.786734",
     "exception": false,
     "start_time": "2021-10-18T11:50:37.069478",
     "status": "completed"
    },
    "tags": []
   },
   "outputs": [
    {
     "data": {
      "text/plain": [
       "bodyType                     3\n",
       "brand                        0\n",
       "car_url                  87243\n",
       "color                       25\n",
       "description               3233\n",
       "engineDisplacement           1\n",
       "enginePower                  1\n",
       "equipment_dict           97239\n",
       "fuelType                     2\n",
       "image                    87269\n",
       "mileage                  30356\n",
       "modelDate                    3\n",
       "model_name               30356\n",
       "name                         1\n",
       "numberOfDoors                3\n",
       "parsing_unixtime             0\n",
       "priceCurrency            87243\n",
       "productionDate               0\n",
       "sell_id                      0\n",
       "super_gen                87243\n",
       "vehicleConfiguration         3\n",
       "vehicleTransmission          3\n",
       "vendor                   43251\n",
       "owners                   42352\n",
       "ownership               200509\n",
       "vehicle_licence          30714\n",
       "driving_gear             30359\n",
       "steering_wheel           30356\n",
       "condition               117600\n",
       "customs                  30358\n",
       "complectation_dict      137400\n",
       "train                        0\n",
       "new_data                     0\n",
       "price                    39325\n",
       "date_added               65042\n",
       "dtype: int64"
      ]
     },
     "execution_count": 749,
     "metadata": {},
     "output_type": "execute_result"
    }
   ],
   "source": [
    "# Count missing values in every column\n",
    "bined_df.isna().sum()"
   ]
  },
  {
   "cell_type": "markdown",
   "id": "e4054f6b",
   "metadata": {
    "papermill": {
     "duration": 0.057014,
     "end_time": "2021-10-18T11:50:38.616775",
     "exception": false,
     "start_time": "2021-10-18T11:50:38.559761",
     "status": "completed"
    },
    "tags": []
   },
   "source": [
    "### Profile report"
   ]
  },
  {
   "cell_type": "code",
   "execution_count": 750,
   "id": "de33a987",
   "metadata": {
    "execution": {
     "iopub.execute_input": "2021-10-18T11:50:38.736895Z",
     "iopub.status.busy": "2021-10-18T11:50:38.736206Z",
     "iopub.status.idle": "2021-10-18T11:50:38.738148Z",
     "shell.execute_reply": "2021-10-18T11:50:38.738613Z",
     "shell.execute_reply.started": "2021-10-18T09:17:49.708385Z"
    },
    "papermill": {
     "duration": 0.064582,
     "end_time": "2021-10-18T11:50:38.738794",
     "exception": false,
     "start_time": "2021-10-18T11:50:38.674212",
     "status": "completed"
    },
    "tags": []
   },
   "outputs": [],
   "source": [
    "# Perform quick analysis\n",
    "# bined_profile = \n",
    "# pp.ProfileReport(bined_df, correlations={\n",
    "#        \"pearson\": {\"calculate\": True},\n",
    "#        \"spearman\": {\"calculate\": True},\n",
    "#        \"kendall\": {\"calculate\": False},\n",
    "#        \"phi_k\": {\"calculate\": True},\n",
    "#        \"cramers\": {\"calculate\": True},\n",
    "#    })\n",
    "# bined_profile.to_file(\"bined_profile.html\")"
   ]
  },
  {
   "cell_type": "markdown",
   "id": "e0ebb497",
   "metadata": {
    "papermill": {
     "duration": 0.070833,
     "end_time": "2021-10-18T11:50:38.882981",
     "exception": false,
     "start_time": "2021-10-18T11:50:38.812148",
     "status": "completed"
    },
    "tags": []
   },
   "source": [
    "**Summary:**\n",
    "* the dataset consists of 34 variables and 260660 observations\n",
    "* 11.9% values are missing\n",
    "* the data needs cleaning and formatting\n",
    "* the report shows that we have 8 numeric, 23 categorical variables and 3 of an unsupported type (needs investigation)\n",
    "* for the 'bodyType' column we need to convert values to lower register and remove extra information about doors\n",
    "* we have 36 brands in the final dataset so we need to leave only 12\n",
    "* 'complectation_dict' column needs to be checked for any useful data\n",
    "* we can try to extract some new data from the 'description' column then drop it (if we don't have time for it, then we'll just drop it)\n",
    "* 'engineDisplacement' column values need to be converted to numeric (float) values\n",
    "* 'mileage' values need to be explored\n",
    "* for the 'name' column we need to decide what information we can extract\n",
    "* in the 'numberOfDoors' column we need to check records with 0 doors\n",
    "* from the 'parsing_unixtime' column we need to extract some useful data and the drop it\n",
    "* we shouldn't include 'sell_id'column into numerical columns list\n",
    "* 'vehicleConfiguration' column obviously combines information from 'vehicleTransmission', 'engineDisplacement' and 'bodyType' columns\n",
    "* 'vehicle_licence' column needs to be formatted to English lowercase\n",
    "* 76.8% of values in the 'ownership' columns are missing, e.g. we can drop the column\n",
    "* we need to format 'steering_wheel' values to English, lower register\n",
    "* 'condition' column either have \"не требует ремонта\" value or empty, probably we should drop it\n",
    "* 'customs' column probably should be dropped, too\n",
    "* there's expectedly strong correlation between 'mileage', 'modelDate' and 'productionDate' variables\n",
    "* 'vendor' and 'brand' variables are also strongly correlated"
   ]
  },
  {
   "cell_type": "markdown",
   "id": "23b24b6b",
   "metadata": {
    "papermill": {
     "duration": 0.059035,
     "end_time": "2021-10-18T11:50:39.001146",
     "exception": false,
     "start_time": "2021-10-18T11:50:38.942111",
     "status": "completed"
    },
    "tags": []
   },
   "source": [
    "### Detailed feature analysis"
   ]
  },
  {
   "cell_type": "code",
   "execution_count": 751,
   "id": "8deb5380",
   "metadata": {
    "execution": {
     "iopub.execute_input": "2021-10-18T11:50:39.153986Z",
     "iopub.status.busy": "2021-10-18T11:50:39.120859Z",
     "iopub.status.idle": "2021-10-18T11:50:39.214323Z",
     "shell.execute_reply": "2021-10-18T11:50:39.214772Z",
     "shell.execute_reply.started": "2021-10-18T11:01:51.935026Z"
    },
    "papermill": {
     "duration": 0.157513,
     "end_time": "2021-10-18T11:50:39.214950",
     "exception": false,
     "start_time": "2021-10-18T11:50:39.057437",
     "status": "completed"
    },
    "tags": []
   },
   "outputs": [],
   "source": [
    "# Drop unnecessary columns\n",
    "bined_df.drop(['car_url', 'image'], axis = 1, inplace = True) "
   ]
  },
  {
   "cell_type": "code",
   "execution_count": 752,
   "id": "4385c6cb",
   "metadata": {},
   "outputs": [
    {
     "name": "stdout",
     "output_type": "stream",
     "text": [
      "<class 'pandas.core.frame.DataFrame'>\n",
      "Int64Index: 260639 entries, 0 to 262838\n",
      "Data columns (total 33 columns):\n",
      " #   Column                Non-Null Count   Dtype  \n",
      "---  ------                --------------   -----  \n",
      " 0   bodyType              260636 non-null  object \n",
      " 1   brand                 260639 non-null  object \n",
      " 2   color                 260614 non-null  object \n",
      " 3   description           257406 non-null  object \n",
      " 4   engineDisplacement    260638 non-null  object \n",
      " 5   enginePower           260638 non-null  object \n",
      " 6   equipment_dict        163400 non-null  object \n",
      " 7   fuelType              260637 non-null  object \n",
      " 8   mileage               230283 non-null  float64\n",
      " 9   modelDate             260636 non-null  float64\n",
      " 10  model_name            230283 non-null  object \n",
      " 11  name                  260638 non-null  object \n",
      " 12  numberOfDoors         260636 non-null  float64\n",
      " 13  parsing_unixtime      260639 non-null  float64\n",
      " 14  priceCurrency         173396 non-null  object \n",
      " 15  productionDate        260639 non-null  float64\n",
      " 16  sell_id               260639 non-null  int64  \n",
      " 17  super_gen             173396 non-null  object \n",
      " 18  vehicleConfiguration  260636 non-null  object \n",
      " 19  vehicleTransmission   260636 non-null  object \n",
      " 20  vendor                217388 non-null  object \n",
      " 21  owners                218287 non-null  object \n",
      " 22  ownership             60130 non-null   object \n",
      " 23  vehicle_licence       229925 non-null  object \n",
      " 24  driving_gear          230280 non-null  object \n",
      " 25  steering_wheel        230283 non-null  object \n",
      " 26  condition             143039 non-null  object \n",
      " 27  customs               230281 non-null  object \n",
      " 28  complectation_dict    123239 non-null  object \n",
      " 29  train                 260639 non-null  int64  \n",
      " 30  new_data              260639 non-null  int64  \n",
      " 31  price                 221314 non-null  float64\n",
      " 32  date_added            195597 non-null  object \n",
      "dtypes: float64(6), int64(3), object(24)\n",
      "memory usage: 67.6+ MB\n"
     ]
    }
   ],
   "source": [
    "bined_df.info()"
   ]
  },
  {
   "cell_type": "code",
   "execution_count": 753,
   "id": "8585e0f6",
   "metadata": {},
   "outputs": [],
   "source": [
    "# Create feature categories lists\n",
    "\n",
    "# numerical features\n",
    "num_cols = []\n",
    "\n",
    "# binary features\n",
    "bin_cols = []\n",
    "\n",
    "# categorical features\n",
    "cat_cols = []\n",
    "\n",
    "# other features\n",
    "other = ['sell_id', 'train', 'new_data']"
   ]
  },
  {
   "cell_type": "markdown",
   "id": "cb401d22",
   "metadata": {},
   "source": [
    "#### price"
   ]
  },
  {
   "cell_type": "code",
   "execution_count": 754,
   "id": "8ab0bc8e",
   "metadata": {},
   "outputs": [
    {
     "data": {
      "text/plain": [
       "count    2.213140e+05\n",
       "mean     2.156369e+06\n",
       "std      3.263852e+06\n",
       "min      1.600000e+04\n",
       "25%      5.000000e+05\n",
       "50%      1.000000e+06\n",
       "75%      2.320000e+06\n",
       "max      9.900000e+07\n",
       "Name: price, dtype: float64"
      ]
     },
     "execution_count": 754,
     "metadata": {},
     "output_type": "execute_result"
    }
   ],
   "source": [
    "# Let's start with the target variable\n",
    "bined_df.price.describe()"
   ]
  },
  {
   "cell_type": "code",
   "execution_count": 755,
   "id": "d83c43a3",
   "metadata": {},
   "outputs": [
    {
     "data": {
      "text/plain": [
       "4639"
      ]
     },
     "execution_count": 755,
     "metadata": {},
     "output_type": "execute_result"
    }
   ],
   "source": [
    "# Check empty price values for records from non test dataset\n",
    "bined_df[bined_df.train == 1].price.isna().sum()"
   ]
  },
  {
   "cell_type": "code",
   "execution_count": 756,
   "id": "df494ef7",
   "metadata": {},
   "outputs": [],
   "source": [
    "# Drop these values because we can't teach the model with empty target value\n",
    "bined_df = bined_df.drop(bined_df[(bined_df.train == 1) & (bined_df.price.isna())].index)"
   ]
  },
  {
   "cell_type": "code",
   "execution_count": 757,
   "id": "01af0e12",
   "metadata": {},
   "outputs": [
    {
     "data": {
      "text/plain": [
       "0"
      ]
     },
     "execution_count": 757,
     "metadata": {},
     "output_type": "execute_result"
    }
   ],
   "source": [
    "# Check the result\n",
    "bined_df[bined_df.train == 1].price.isna().sum()"
   ]
  },
  {
   "cell_type": "code",
   "execution_count": 758,
   "id": "c262629d",
   "metadata": {},
   "outputs": [
    {
     "data": {
      "text/plain": [
       "124064    1030000.0\n",
       "124065    1130000.0\n",
       "124066     800000.0\n",
       "124067     150000.0\n",
       "124068    1530000.0\n",
       "            ...    \n",
       "262834     110000.0\n",
       "262835    7160000.0\n",
       "262836    1370000.0\n",
       "262837    1610000.0\n",
       "262838    9580000.0\n",
       "Name: price, Length: 134481, dtype: float64"
      ]
     },
     "execution_count": 758,
     "metadata": {},
     "output_type": "execute_result"
    }
   ],
   "source": [
    "bined_df.loc[bined_df.new_data == 1, 'price']"
   ]
  },
  {
   "cell_type": "code",
   "execution_count": 759,
   "id": "505d9f33",
   "metadata": {},
   "outputs": [],
   "source": [
    "# According to https://mag.auto.ru/article/risepricescalltouchpres/ the average\n",
    "# price increase is 15% for new cars and 25% for used cars\n",
    "# Let's try the average percent for these two (20 %)\n",
    "bined_df.loc[bined_df.new_data == 1,'price'] = bined_df.loc[bined_df.new_data == 1,'price']*0.8"
   ]
  },
  {
   "cell_type": "code",
   "execution_count": 760,
   "id": "50fb4a0b",
   "metadata": {},
   "outputs": [
    {
     "data": {
      "text/plain": [
       "124064     824000.0\n",
       "124065     904000.0\n",
       "124066     640000.0\n",
       "124067     120000.0\n",
       "124068    1224000.0\n",
       "            ...    \n",
       "262834      88000.0\n",
       "262835    5728000.0\n",
       "262836    1096000.0\n",
       "262837    1288000.0\n",
       "262838    7664000.0\n",
       "Name: price, Length: 134481, dtype: float64"
      ]
     },
     "execution_count": 760,
     "metadata": {},
     "output_type": "execute_result"
    }
   ],
   "source": [
    "bined_df.loc[bined_df.new_data == 1, 'price']"
   ]
  },
  {
   "cell_type": "code",
   "execution_count": 761,
   "id": "c970d32d",
   "metadata": {},
   "outputs": [
    {
     "data": {
      "text/plain": [
       "<AxesSubplot:>"
      ]
     },
     "execution_count": 761,
     "metadata": {},
     "output_type": "execute_result"
    },
    {
     "data": {
      "image/png": "[encoded data removed]",
      "text/plain": [
       "<Figure size 432x288 with 1 Axes>"
      ]
     },
     "metadata": {
      "needs_background": "light"
     },
     "output_type": "display_data"
    }
   ],
   "source": [
    "bined_df.price.hist()"
   ]
  },
  {
   "cell_type": "code",
   "execution_count": 762,
   "id": "4c59999b",
   "metadata": {},
   "outputs": [
    {
     "data": {
      "text/plain": [
       "<AxesSubplot:xlabel='price', ylabel='Density'>"
      ]
     },
     "execution_count": 762,
     "metadata": {},
     "output_type": "execute_result"
    },
    {
     "data": {
      "image/png": "[encoded data removed]",
      "text/plain": [
       "<Figure size 576x360 with 1 Axes>"
      ]
     },
     "metadata": {
      "needs_background": "light"
     },
     "output_type": "display_data"
    }
   ],
   "source": [
    "fig, axes = plt.subplots(1, figsize=(8, 5))\n",
    "sns.distplot(bined_df['price'])"
   ]
  },
  {
   "cell_type": "markdown",
   "id": "6ae4db88",
   "metadata": {},
   "source": [
    "We can see that this distribution doesn't look normal. Let's take a look at the logarithm of the price."
   ]
  },
  {
   "cell_type": "code",
   "execution_count": 763,
   "id": "fa4ed289",
   "metadata": {},
   "outputs": [],
   "source": [
    "bined_df['price_log'] = np.log(bined_df['price'])"
   ]
  },
  {
   "cell_type": "code",
   "execution_count": 764,
   "id": "cc833bc5",
   "metadata": {},
   "outputs": [],
   "source": [
    "other.append('price_log')"
   ]
  },
  {
   "cell_type": "code",
   "execution_count": 765,
   "id": "d7100182",
   "metadata": {},
   "outputs": [
    {
     "data": {
      "text/plain": [
       "count    221314.000000\n",
       "mean         13.781053\n",
       "std           1.094490\n",
       "min           9.680344\n",
       "25%          13.038982\n",
       "50%          13.687677\n",
       "75%          14.490494\n",
       "max          18.410630\n",
       "Name: price_log, dtype: float64"
      ]
     },
     "execution_count": 765,
     "metadata": {},
     "output_type": "execute_result"
    }
   ],
   "source": [
    "bined_df.price_log.describe()"
   ]
  },
  {
   "cell_type": "code",
   "execution_count": 766,
   "id": "a40658b8",
   "metadata": {},
   "outputs": [
    {
     "data": {
      "text/plain": [
       "<AxesSubplot:xlabel='price_log', ylabel='Density'>"
      ]
     },
     "execution_count": 766,
     "metadata": {},
     "output_type": "execute_result"
    },
    {
     "data": {
      "image/png": "[encoded data removed]",
      "text/plain": [
       "<Figure size 432x288 with 1 Axes>"
      ]
     },
     "metadata": {
      "needs_background": "light"
     },
     "output_type": "display_data"
    },
    {
     "data": {
      "image/png": "[encoded data removed]",
      "text/plain": [
       "<Figure size 576x360 with 1 Axes>"
      ]
     },
     "metadata": {
      "needs_background": "light"
     },
     "output_type": "display_data"
    }
   ],
   "source": [
    "bined_df.price_log.hist()\n",
    "fig, axes = plt.subplots(1, figsize=(8, 5))\n",
    "sns.distplot(bined_df['price_log'])"
   ]
  },
  {
   "cell_type": "markdown",
   "id": "d00dd9b7",
   "metadata": {},
   "source": [
    "Now the distribution looks much better so we'll work with 'price_log' column"
   ]
  },
  {
   "cell_type": "code",
   "execution_count": 767,
   "id": "89212a70",
   "metadata": {},
   "outputs": [
    {
     "name": "stdout",
     "output_type": "stream",
     "text": [
      "For price_log IQR: 1.451511999431272, \n",
      " Outliers boundaries: [10.861713769318369, 16.66776176704346].\n",
      "Total 893 outliers\n",
      " 444 left outliers \n",
      " 449 right outliers \n",
      "\n"
     ]
    }
   ],
   "source": [
    "outliers(bined_df, 'price_log')"
   ]
  },
  {
   "cell_type": "markdown",
   "id": "212d0f12",
   "metadata": {},
   "source": [
    "According to histograms and outliers calculation there are no abnormal price values"
   ]
  },
  {
   "cell_type": "code",
   "execution_count": 768,
   "id": "3d36bbb5",
   "metadata": {},
   "outputs": [
    {
     "data": {
      "text/plain": [
       "121580    45000000.0\n",
       "121565    48000000.0\n",
       "123341    52500000.0\n",
       "121571    54057400.0\n",
       "121573    54057400.0\n",
       "121567    54560408.0\n",
       "121589    54560408.0\n",
       "121563    58089720.0\n",
       "121575    58089720.0\n",
       "121564    59087576.0\n",
       "121568    59087576.0\n",
       "121560    65435792.0\n",
       "121899    68500000.0\n",
       "91271     99000000.0\n",
       "Name: price, dtype: float64"
      ]
     },
     "execution_count": 768,
     "metadata": {},
     "output_type": "execute_result"
    }
   ],
   "source": [
    "bined_df[(bined_df.train == 1) & (bined_df.price > 38000000)].price.sort_values()"
   ]
  },
  {
   "cell_type": "markdown",
   "id": "8f4094ad",
   "metadata": {},
   "source": [
    "Current highest price on auto.ru is 37 M RUR. Doesn't look like these values are outliers because we have a combined dataset for 2020-2021, so there could have been such high prices. "
   ]
  },
  {
   "cell_type": "markdown",
   "id": "50bbd48a",
   "metadata": {
    "papermill": {
     "duration": 0.056874,
     "end_time": "2021-10-18T11:50:39.327629",
     "exception": false,
     "start_time": "2021-10-18T11:50:39.270755",
     "status": "completed"
    },
    "tags": []
   },
   "source": [
    "#### bodyType"
   ]
  },
  {
   "cell_type": "code",
   "execution_count": 769,
   "id": "7e286adf",
   "metadata": {
    "execution": {
     "iopub.execute_input": "2021-10-18T11:50:39.443364Z",
     "iopub.status.busy": "2021-10-18T11:50:39.442502Z",
     "iopub.status.idle": "2021-10-18T11:50:39.467155Z",
     "shell.execute_reply": "2021-10-18T11:50:39.466596Z",
     "shell.execute_reply.started": "2021-10-18T11:01:54.785671Z"
    },
    "papermill": {
     "duration": 0.083923,
     "end_time": "2021-10-18T11:50:39.467291",
     "exception": false,
     "start_time": "2021-10-18T11:50:39.383368",
     "status": "completed"
    },
    "tags": []
   },
   "outputs": [
    {
     "data": {
      "text/plain": [
       "array(['лифтбек', 'внедорожник 5 дв.', 'хэтчбек 5 дв.', 'седан',\n",
       "       'компактвэн', 'универсал 5 дв.', 'пикап одинарная кабина',\n",
       "       'хэтчбек 3 дв.', 'купе', 'кабриолет', 'минивэн',\n",
       "       'пикап двойная кабина', 'внедорожник 3 дв.', 'родстер', 'микровэн',\n",
       "       'седан 2 дв.', 'купе-хардтоп', 'фастбек', 'тарга',\n",
       "       'внедорожник открытый', 'лимузин', 'пикап полуторная кабина',\n",
       "       'седан-хардтоп', 'фургон', 'Седан', 'Универсал 5 дв.',\n",
       "       'Хэтчбек 5 дв. Sportback', 'Хэтчбек 3 дв.', 'Хэтчбек 5 дв.',\n",
       "       'Кабриолет', 'Купе', 'Лифтбек Sportback', 'Лифтбек', 'Седан Long',\n",
       "       'Внедорожник 5 дв.', 'Кабриолет Roadster', 'Седан 2 дв.',\n",
       "       'Седан Gran Coupe', 'Компактвэн', 'Компактвэн Gran Tourer',\n",
       "       'Лифтбек Gran Turismo', 'Хэтчбек 3 дв. Compact',\n",
       "       'Лифтбек Gran Coupe', 'Купе-хардтоп', 'Родстер Roadster',\n",
       "       'Родстер', 'Внедорожник 5 дв. ESV', 'Минивэн',\n",
       "       'Пикап Двойная кабина', 'Внедорожник 3 дв.',\n",
       "       'Пикап Одинарная кабина', 'Тарга', 'Пикап Двойная кабина Crew Cab',\n",
       "       'Пикап Двойная кабина Double',\n",
       "       'Пикап Одинарная кабина Regular Cab', 'Внедорожник 5 дв. EXT',\n",
       "       'Седан SRT8', 'Минивэн SWB', 'Минивэн Grand', 'Компактвэн Grand',\n",
       "       'Универсал 5 дв. CrossTourer', 'Минивэн Long', 'Минивэн XL',\n",
       "       'Микровэн Coach', 'Хэтчбек 5 дв. Best', 'Хэтчбек 5 дв. SRT4',\n",
       "       'Купе SRT', 'Седан SRT', 'Пикап Полуторная кабина',\n",
       "       'Пикап Двойная кабина Quad Cab',\n",
       "       'Пикап Полуторная кабина Quad Cab',\n",
       "       'Пикап Двойная кабина Crew Cab TRX',\n",
       "       'Пикап Полуторная кабина Club Cab',\n",
       "       'Пикап Двойная кабина Raptor SuperCrew',\n",
       "       'Пикап Двойная кабина CrewCab',\n",
       "       'Пикап Двойная кабина Raptor CrewCab',\n",
       "       'Пикап Двойная кабина Super Crew',\n",
       "       'Пикап Полуторная кабина Raptor', 'Пикап Двойная кабина SuperCrew',\n",
       "       'Кабриолет StreetKa', 'Пикап Двойная кабина Double Cab',\n",
       "       'Пикап Полуторная кабина Rap Cab', 'Компактвэн LWB',\n",
       "       'Компактвэн SWB', 'Минивэн LWB', 'Фастбек', 'Седан Type-S',\n",
       "       'Микровэн', 'Универсал 5 дв. Shuttle', nan, 'Родстер del Sol',\n",
       "       'Компактвэн Spike', 'Минивэн Spada', 'Седан Limousine',\n",
       "       'Внедорожник 5 дв. Grand', 'Хэтчбек 4 дв.', 'Седан SWB',\n",
       "       'Седан LWB', 'Внедорожник 5 дв. SRT',\n",
       "       'Внедорожник 5 дв. Trackhawk', 'Внедорожник 5 дв. SRT8',\n",
       "       'Внедорожник открытый', 'Хэтчбек 5 дв. GT Line',\n",
       "       'Хэтчбек 5 дв. X-Line', 'Хэтчбек 5 дв. EU',\n",
       "       'Внедорожник 5 дв. Prime', 'Внедорожник 5 дв. L', 'Минивэн Brawny',\n",
       "       'Универсал 5 дв. S-Familia', 'Кабриолет JCW', 'Кабриолет Cooper S',\n",
       "       'Хэтчбек 3 дв. Cooper S', 'Универсал 5 дв. JCW',\n",
       "       'Универсал 5 дв. Cooper S', 'Внедорожник 5 дв. Cooper S',\n",
       "       'Внедорожник 5 дв. JCW', 'Купе Cooper S', 'Хэтчбек 3 дв. JCW',\n",
       "       'Хэтчбек 5 дв. Cooper S', 'Универсал 5 дв. Plus', 'Купе Asti',\n",
       "       'Минивэн Caravan Elgrand', 'Компактвэн Joy',\n",
       "       'Универсал 5 дв. California', 'Седан Latio', 'Хэтчбек 3 дв. GTC',\n",
       "       'Универсал 5 дв. Country Tourer', 'Минивэн L', 'Тарга Targa',\n",
       "       'Купе RS', 'Седан Stepway', 'Хэтчбек 5 дв. Stepway',\n",
       "       'Компактвэн RX4', 'Компактвэн Conquest', 'Седан 120',\n",
       "       'Хэтчбек 5 дв. Scout', 'Универсал 5 дв. Scout',\n",
       "       'Универсал 5 дв. Spaceback', 'Внедорожник 5 дв. tS',\n",
       "       'Хэтчбек 5 дв. XV', 'Внедорожник 5 дв. XL-7',\n",
       "       'Универсал 5 дв. Gita', 'Седан US Market', 'Седан Japan Market',\n",
       "       'Седан Gracia', 'Универсал 5 дв. Gracia', 'Седан-хардтоп',\n",
       "       'Универсал 5 дв. Fielder', 'Седан Axio', 'Седан-хардтоп Ceres',\n",
       "       'Хэтчбек 5 дв. Runx', 'Лифтбек Liftback', 'Седан Premio',\n",
       "       'Седан T140', 'Минивэн Lucida', 'Минивэн Emina', 'Минивэн Regius',\n",
       "       'Пикап Двойная кабина Double cab', 'Внедорожник 3 дв. 78',\n",
       "       'Внедорожник 5 дв. 76', 'Пикап Одинарная кабина 79',\n",
       "       'Внедорожник 5 дв. Arctic Trucks', 'Компактвэн Noah',\n",
       "       'Универсал 5 дв. Blit', 'Универсал 5 дв. Qualis',\n",
       "       'Внедорожник 5 дв. Long', 'Пикап Полуторная кабина Long Bed',\n",
       "       'Пикап Двойная кабина CrewMax', 'Универсал 5 дв. Ardeo',\n",
       "       'Компактвэн Life', 'Компактвэн Maxi', 'Компактвэн Life Maxi',\n",
       "       'Компактвэн Alltrack', 'Универсал 5 дв. Alltrack',\n",
       "       'Хэтчбек 5 дв. Cross', 'Внедорожник 5 дв. Allspace',\n",
       "       'Компактвэн Cross', 'Фургон', 'Фургон Kasten',\n",
       "       'Универсал 5 дв. XC', 'Внедорожник 5 дв. 110',\n",
       "       'Внедорожник 3 дв. 90', 'Хэтчбек 5 дв. Long',\n",
       "       'Универсал 5 дв. All-Terrain', 'Внедорожник 5 дв. 4x4',\n",
       "       'Лимузин Pullman', 'Минивэн Extralong', 'Минивэн Marco Polo',\n",
       "       'Минивэн Extra Long', 'Минивэн L2', 'Минивэн L3', 'Минивэн L1',\n",
       "       'Пикап Двойная кабина Sports'], dtype=object)"
      ]
     },
     "execution_count": 769,
     "metadata": {},
     "output_type": "execute_result"
    }
   ],
   "source": [
    "# Check the unique values for bodyType\n",
    "bined_df.bodyType.unique()"
   ]
  },
  {
   "cell_type": "code",
   "execution_count": 770,
   "id": "993d9b85",
   "metadata": {
    "execution": {
     "iopub.execute_input": "2021-10-18T11:50:39.584653Z",
     "iopub.status.busy": "2021-10-18T11:50:39.584020Z",
     "iopub.status.idle": "2021-10-18T11:50:39.755761Z",
     "shell.execute_reply": "2021-10-18T11:50:39.756269Z",
     "shell.execute_reply.started": "2021-10-18T11:01:58.819905Z"
    },
    "papermill": {
     "duration": 0.232353,
     "end_time": "2021-10-18T11:50:39.756473",
     "exception": false,
     "start_time": "2021-10-18T11:50:39.524120",
     "status": "completed"
    },
    "tags": []
   },
   "outputs": [],
   "source": [
    "# Transform into one word lowercase name\n",
    "bined_df['bodyType'] = bined_df['bodyType'].apply(lambda x: str(x).lower().split()[0])"
   ]
  },
  {
   "cell_type": "code",
   "execution_count": 771,
   "id": "1b1f9316",
   "metadata": {
    "execution": {
     "iopub.execute_input": "2021-10-18T11:50:39.876006Z",
     "iopub.status.busy": "2021-10-18T11:50:39.875439Z",
     "iopub.status.idle": "2021-10-18T11:50:39.907697Z",
     "shell.execute_reply": "2021-10-18T11:50:39.908224Z",
     "shell.execute_reply.started": "2021-10-18T11:05:10.808234Z"
    },
    "papermill": {
     "duration": 0.093489,
     "end_time": "2021-10-18T11:50:39.908413",
     "exception": false,
     "start_time": "2021-10-18T11:50:39.814924",
     "status": "completed"
    },
    "tags": []
   },
   "outputs": [
    {
     "data": {
      "text/plain": [
       "внедорожник      102613\n",
       "седан             87924\n",
       "хэтчбек           20501\n",
       "лифтбек           19153\n",
       "универсал          7957\n",
       "минивэн            5471\n",
       "купе               4720\n",
       "компактвэн         3442\n",
       "пикап              1767\n",
       "купе-хардтоп        783\n",
       "кабриолет           608\n",
       "родстер             481\n",
       "фургон              440\n",
       "микровэн             73\n",
       "седан-хардтоп        36\n",
       "лимузин              13\n",
       "тарга                11\n",
       "фастбек               4\n",
       "nan                   3\n",
       "Name: bodyType, dtype: int64"
      ]
     },
     "execution_count": 771,
     "metadata": {},
     "output_type": "execute_result"
    }
   ],
   "source": [
    "bined_df.bodyType.value_counts()"
   ]
  },
  {
   "cell_type": "code",
   "execution_count": 772,
   "id": "0df518fa",
   "metadata": {
    "execution": {
     "iopub.execute_input": "2021-10-18T11:50:40.046830Z",
     "iopub.status.busy": "2021-10-18T11:50:40.045758Z",
     "iopub.status.idle": "2021-10-18T11:50:40.073726Z",
     "shell.execute_reply": "2021-10-18T11:50:40.074162Z",
     "shell.execute_reply.started": "2021-10-18T11:05:14.357185Z"
    },
    "papermill": {
     "duration": 0.107437,
     "end_time": "2021-10-18T11:50:40.074327",
     "exception": false,
     "start_time": "2021-10-18T11:50:39.966890",
     "status": "completed"
    },
    "tags": []
   },
   "outputs": [
    {
     "data": {
      "text/html": [
       "<div>\n",
       "<style scoped>\n",
       "    .dataframe tbody tr th:only-of-type {\n",
       "        vertical-align: middle;\n",
       "    }\n",
       "\n",
       "    .dataframe tbody tr th {\n",
       "        vertical-align: top;\n",
       "    }\n",
       "\n",
       "    .dataframe thead th {\n",
       "        text-align: right;\n",
       "    }\n",
       "</style>\n",
       "<table border=\"1\" class=\"dataframe\">\n",
       "  <thead>\n",
       "    <tr style=\"text-align: right;\">\n",
       "      <th></th>\n",
       "      <th>bodyType</th>\n",
       "      <th>brand</th>\n",
       "      <th>color</th>\n",
       "      <th>description</th>\n",
       "      <th>engineDisplacement</th>\n",
       "      <th>enginePower</th>\n",
       "      <th>equipment_dict</th>\n",
       "      <th>fuelType</th>\n",
       "      <th>mileage</th>\n",
       "      <th>modelDate</th>\n",
       "      <th>model_name</th>\n",
       "      <th>name</th>\n",
       "      <th>numberOfDoors</th>\n",
       "      <th>parsing_unixtime</th>\n",
       "      <th>priceCurrency</th>\n",
       "      <th>productionDate</th>\n",
       "      <th>sell_id</th>\n",
       "      <th>super_gen</th>\n",
       "      <th>vehicleConfiguration</th>\n",
       "      <th>vehicleTransmission</th>\n",
       "      <th>vendor</th>\n",
       "      <th>owners</th>\n",
       "      <th>ownership</th>\n",
       "      <th>vehicle_licence</th>\n",
       "      <th>driving_gear</th>\n",
       "      <th>steering_wheel</th>\n",
       "      <th>condition</th>\n",
       "      <th>customs</th>\n",
       "      <th>complectation_dict</th>\n",
       "      <th>train</th>\n",
       "      <th>new_data</th>\n",
       "      <th>price</th>\n",
       "      <th>date_added</th>\n",
       "      <th>price_log</th>\n",
       "    </tr>\n",
       "  </thead>\n",
       "  <tbody>\n",
       "    <tr>\n",
       "      <th>59310</th>\n",
       "      <td>nan</td>\n",
       "      <td>HONDA</td>\n",
       "      <td>серебряный</td>\n",
       "      <td>Продаю Honda Civic Suttle 1989 г. выпуска, неу...</td>\n",
       "      <td>NaN</td>\n",
       "      <td>NaN</td>\n",
       "      <td>NaN</td>\n",
       "      <td>универсал</td>\n",
       "      <td>400000.0</td>\n",
       "      <td>NaN</td>\n",
       "      <td>CIVIC</td>\n",
       "      <td>NaN</td>\n",
       "      <td>NaN</td>\n",
       "      <td>1.599599e+09</td>\n",
       "      <td>NaN</td>\n",
       "      <td>1989.0</td>\n",
       "      <td>0</td>\n",
       "      <td>NaN</td>\n",
       "      <td>NaN</td>\n",
       "      <td>NaN</td>\n",
       "      <td>JAPANESE</td>\n",
       "      <td>3.0</td>\n",
       "      <td>NaN</td>\n",
       "      <td>ORIGINAL</td>\n",
       "      <td>NaN</td>\n",
       "      <td>LEFT</td>\n",
       "      <td>NaN</td>\n",
       "      <td>True</td>\n",
       "      <td>NaN</td>\n",
       "      <td>1</td>\n",
       "      <td>0</td>\n",
       "      <td>120000.0</td>\n",
       "      <td>2020-04-10T16:07:57Z</td>\n",
       "      <td>11.695247</td>\n",
       "    </tr>\n",
       "    <tr>\n",
       "      <th>160253</th>\n",
       "      <td>nan</td>\n",
       "      <td>HONDA</td>\n",
       "      <td>пурпурный</td>\n",
       "      <td>В хорошем состоянии на ходу</td>\n",
       "      <td>LTR</td>\n",
       "      <td>undefined N12</td>\n",
       "      <td>{}</td>\n",
       "      <td>NaN</td>\n",
       "      <td>260000.0</td>\n",
       "      <td>NaN</td>\n",
       "      <td>Civic</td>\n",
       "      <td>Honda Civic</td>\n",
       "      <td>NaN</td>\n",
       "      <td>1.634279e+09</td>\n",
       "      <td>RUB</td>\n",
       "      <td>1989.0</td>\n",
       "      <td>0</td>\n",
       "      <td>{'sale-data-attributes': {'asciiCat': 'cars', ...</td>\n",
       "      <td>NaN</td>\n",
       "      <td>NaN</td>\n",
       "      <td>JAPANESE</td>\n",
       "      <td>3 или более</td>\n",
       "      <td>NaN</td>\n",
       "      <td>Оригинал</td>\n",
       "      <td>NaN</td>\n",
       "      <td>Левый</td>\n",
       "      <td>Не требует ремонта</td>\n",
       "      <td>Растаможен</td>\n",
       "      <td>NaN</td>\n",
       "      <td>1</td>\n",
       "      <td>1</td>\n",
       "      <td>104000.0</td>\n",
       "      <td>13 марта 2020</td>\n",
       "      <td>11.552146</td>\n",
       "    </tr>\n",
       "    <tr>\n",
       "      <th>261029</th>\n",
       "      <td>nan</td>\n",
       "      <td>VOLVO</td>\n",
       "      <td>коричневый</td>\n",
       "      <td>Продам VOLVO V70 универсал в отличном состояни...</td>\n",
       "      <td>LTR</td>\n",
       "      <td>undefined N12</td>\n",
       "      <td>{'engine-proof': True, 'cruise-control': True,...</td>\n",
       "      <td>NaN</td>\n",
       "      <td>133000.0</td>\n",
       "      <td>NaN</td>\n",
       "      <td>V70</td>\n",
       "      <td>Volvo V70</td>\n",
       "      <td>NaN</td>\n",
       "      <td>1.634288e+09</td>\n",
       "      <td>RUB</td>\n",
       "      <td>2008.0</td>\n",
       "      <td>0</td>\n",
       "      <td>{'sale-data-attributes': {'asciiCat': 'cars', ...</td>\n",
       "      <td>NaN</td>\n",
       "      <td>NaN</td>\n",
       "      <td>EUROPEAN</td>\n",
       "      <td>2 владельца</td>\n",
       "      <td>3 месяца</td>\n",
       "      <td>Оригинал</td>\n",
       "      <td>NaN</td>\n",
       "      <td>Левый</td>\n",
       "      <td>Не требует ремонта</td>\n",
       "      <td>Растаможен</td>\n",
       "      <td>NaN</td>\n",
       "      <td>1</td>\n",
       "      <td>1</td>\n",
       "      <td>768000.0</td>\n",
       "      <td>9 августа</td>\n",
       "      <td>13.551545</td>\n",
       "    </tr>\n",
       "  </tbody>\n",
       "</table>\n",
       "</div>"
      ],
      "text/plain": [
       "       bodyType  brand       color  \\\n",
       "59310       nan  HONDA  серебряный   \n",
       "160253      nan  HONDA   пурпурный   \n",
       "261029      nan  VOLVO  коричневый   \n",
       "\n",
       "                                              description engineDisplacement  \\\n",
       "59310   Продаю Honda Civic Suttle 1989 г. выпуска, неу...                NaN   \n",
       "160253                        В хорошем состоянии на ходу                LTR   \n",
       "261029  Продам VOLVO V70 универсал в отличном состояни...                LTR   \n",
       "\n",
       "          enginePower                                     equipment_dict  \\\n",
       "59310             NaN                                                NaN   \n",
       "160253  undefined N12                                                 {}   \n",
       "261029  undefined N12  {'engine-proof': True, 'cruise-control': True,...   \n",
       "\n",
       "         fuelType   mileage  modelDate model_name         name  numberOfDoors  \\\n",
       "59310   универсал  400000.0        NaN      CIVIC          NaN            NaN   \n",
       "160253        NaN  260000.0        NaN      Civic  Honda Civic            NaN   \n",
       "261029        NaN  133000.0        NaN        V70    Volvo V70            NaN   \n",
       "\n",
       "        parsing_unixtime priceCurrency  productionDate  sell_id  \\\n",
       "59310       1.599599e+09           NaN          1989.0        0   \n",
       "160253      1.634279e+09           RUB          1989.0        0   \n",
       "261029      1.634288e+09           RUB          2008.0        0   \n",
       "\n",
       "                                                super_gen  \\\n",
       "59310                                                 NaN   \n",
       "160253  {'sale-data-attributes': {'asciiCat': 'cars', ...   \n",
       "261029  {'sale-data-attributes': {'asciiCat': 'cars', ...   \n",
       "\n",
       "       vehicleConfiguration vehicleTransmission    vendor       owners  \\\n",
       "59310                   NaN                 NaN  JAPANESE          3.0   \n",
       "160253                  NaN                 NaN  JAPANESE  3 или более   \n",
       "261029                  NaN                 NaN  EUROPEAN  2 владельца   \n",
       "\n",
       "       ownership vehicle_licence driving_gear steering_wheel  \\\n",
       "59310        NaN        ORIGINAL          NaN           LEFT   \n",
       "160253       NaN        Оригинал          NaN          Левый   \n",
       "261029  3 месяца        Оригинал          NaN          Левый   \n",
       "\n",
       "                 condition     customs complectation_dict  train  new_data  \\\n",
       "59310                  NaN        True                NaN      1         0   \n",
       "160253  Не требует ремонта  Растаможен                NaN      1         1   \n",
       "261029  Не требует ремонта  Растаможен                NaN      1         1   \n",
       "\n",
       "           price            date_added  price_log  \n",
       "59310   120000.0  2020-04-10T16:07:57Z  11.695247  \n",
       "160253  104000.0         13 марта 2020  11.552146  \n",
       "261029  768000.0             9 августа  13.551545  "
      ]
     },
     "execution_count": 772,
     "metadata": {},
     "output_type": "execute_result"
    }
   ],
   "source": [
    "# As there are 3 nan values let's try to replace them\n",
    "bined_df[bined_df['bodyType'] == 'nan']"
   ]
  },
  {
   "cell_type": "code",
   "execution_count": 773,
   "id": "3109c842",
   "metadata": {
    "execution": {
     "iopub.execute_input": "2021-10-18T11:50:40.243589Z",
     "iopub.status.busy": "2021-10-18T11:50:40.242948Z",
     "iopub.status.idle": "2021-10-18T11:50:40.254785Z",
     "shell.execute_reply": "2021-10-18T11:50:40.255260Z",
     "shell.execute_reply.started": "2021-10-18T11:14:40.331403Z"
    },
    "papermill": {
     "duration": 0.073373,
     "end_time": "2021-10-18T11:50:40.255450",
     "exception": false,
     "start_time": "2021-10-18T11:50:40.182077",
     "status": "completed"
    },
    "tags": []
   },
   "outputs": [
    {
     "data": {
      "text/plain": [
       "str"
      ]
     },
     "execution_count": 773,
     "metadata": {},
     "output_type": "execute_result"
    }
   ],
   "source": [
    "type(bined_df.loc[160253]['bodyType'])"
   ]
  },
  {
   "cell_type": "code",
   "execution_count": 774,
   "id": "40bc9aca",
   "metadata": {
    "execution": {
     "iopub.execute_input": "2021-10-18T11:50:40.377949Z",
     "iopub.status.busy": "2021-10-18T11:50:40.377341Z",
     "iopub.status.idle": "2021-10-18T11:50:40.380680Z",
     "shell.execute_reply": "2021-10-18T11:50:40.380209Z",
     "shell.execute_reply.started": "2021-10-18T11:14:42.086941Z"
    },
    "papermill": {
     "duration": 0.066557,
     "end_time": "2021-10-18T11:50:40.380818",
     "exception": false,
     "start_time": "2021-10-18T11:50:40.314261",
     "status": "completed"
    },
    "tags": []
   },
   "outputs": [
    {
     "data": {
      "text/plain": [
       "'nan'"
      ]
     },
     "execution_count": 774,
     "metadata": {},
     "output_type": "execute_result"
    }
   ],
   "source": [
    "bined_df.loc[59310].bodyType"
   ]
  },
  {
   "cell_type": "code",
   "execution_count": 775,
   "id": "0591b3fd",
   "metadata": {
    "execution": {
     "iopub.execute_input": "2021-10-18T11:50:40.625920Z",
     "iopub.status.busy": "2021-10-18T11:50:40.625276Z",
     "iopub.status.idle": "2021-10-18T11:50:40.639305Z",
     "shell.execute_reply": "2021-10-18T11:50:40.639783Z",
     "shell.execute_reply.started": "2021-10-18T11:16:55.911816Z"
    },
    "papermill": {
     "duration": 0.076933,
     "end_time": "2021-10-18T11:50:40.639966",
     "exception": false,
     "start_time": "2021-10-18T11:50:40.563033",
     "status": "completed"
    },
    "tags": []
   },
   "outputs": [],
   "source": [
    "# Let's fill empty values with correct ones\n",
    "bined_df.bodyType.loc[59310] = 'универсал'\n",
    "bined_df.bodyType.loc[160253] = 'хэтчбек'\n",
    "bined_df.bodyType.loc[261029] = 'универсал'"
   ]
  },
  {
   "cell_type": "code",
   "execution_count": 776,
   "id": "235c9a67",
   "metadata": {
    "execution": {
     "iopub.execute_input": "2021-10-18T11:50:40.760576Z",
     "iopub.status.busy": "2021-10-18T11:50:40.759901Z",
     "iopub.status.idle": "2021-10-18T11:50:40.790750Z",
     "shell.execute_reply": "2021-10-18T11:50:40.791271Z",
     "shell.execute_reply.started": "2021-10-18T11:16:57.866813Z"
    },
    "papermill": {
     "duration": 0.093002,
     "end_time": "2021-10-18T11:50:40.791468",
     "exception": false,
     "start_time": "2021-10-18T11:50:40.698466",
     "status": "completed"
    },
    "tags": []
   },
   "outputs": [
    {
     "data": {
      "text/html": [
       "<div>\n",
       "<style scoped>\n",
       "    .dataframe tbody tr th:only-of-type {\n",
       "        vertical-align: middle;\n",
       "    }\n",
       "\n",
       "    .dataframe tbody tr th {\n",
       "        vertical-align: top;\n",
       "    }\n",
       "\n",
       "    .dataframe thead th {\n",
       "        text-align: right;\n",
       "    }\n",
       "</style>\n",
       "<table border=\"1\" class=\"dataframe\">\n",
       "  <thead>\n",
       "    <tr style=\"text-align: right;\">\n",
       "      <th></th>\n",
       "      <th>bodyType</th>\n",
       "      <th>brand</th>\n",
       "      <th>color</th>\n",
       "      <th>description</th>\n",
       "      <th>engineDisplacement</th>\n",
       "      <th>enginePower</th>\n",
       "      <th>equipment_dict</th>\n",
       "      <th>fuelType</th>\n",
       "      <th>mileage</th>\n",
       "      <th>modelDate</th>\n",
       "      <th>model_name</th>\n",
       "      <th>name</th>\n",
       "      <th>numberOfDoors</th>\n",
       "      <th>parsing_unixtime</th>\n",
       "      <th>priceCurrency</th>\n",
       "      <th>productionDate</th>\n",
       "      <th>sell_id</th>\n",
       "      <th>super_gen</th>\n",
       "      <th>vehicleConfiguration</th>\n",
       "      <th>vehicleTransmission</th>\n",
       "      <th>vendor</th>\n",
       "      <th>owners</th>\n",
       "      <th>ownership</th>\n",
       "      <th>vehicle_licence</th>\n",
       "      <th>driving_gear</th>\n",
       "      <th>steering_wheel</th>\n",
       "      <th>condition</th>\n",
       "      <th>customs</th>\n",
       "      <th>complectation_dict</th>\n",
       "      <th>train</th>\n",
       "      <th>new_data</th>\n",
       "      <th>price</th>\n",
       "      <th>date_added</th>\n",
       "      <th>price_log</th>\n",
       "    </tr>\n",
       "  </thead>\n",
       "  <tbody>\n",
       "  </tbody>\n",
       "</table>\n",
       "</div>"
      ],
      "text/plain": [
       "Empty DataFrame\n",
       "Columns: [bodyType, brand, color, description, engineDisplacement, enginePower, equipment_dict, fuelType, mileage, modelDate, model_name, name, numberOfDoors, parsing_unixtime, priceCurrency, productionDate, sell_id, super_gen, vehicleConfiguration, vehicleTransmission, vendor, owners, ownership, vehicle_licence, driving_gear, steering_wheel, condition, customs, complectation_dict, train, new_data, price, date_added, price_log]\n",
       "Index: []"
      ]
     },
     "execution_count": 776,
     "metadata": {},
     "output_type": "execute_result"
    }
   ],
   "source": [
    "bined_df[bined_df['bodyType'] == 'nan']"
   ]
  },
  {
   "cell_type": "code",
   "execution_count": 777,
   "id": "7da8846a",
   "metadata": {
    "execution": {
     "iopub.execute_input": "2021-10-18T11:50:40.912854Z",
     "iopub.status.busy": "2021-10-18T11:50:40.912224Z",
     "iopub.status.idle": "2021-10-18T11:50:41.629992Z",
     "shell.execute_reply": "2021-10-18T11:50:41.629390Z",
     "shell.execute_reply.started": "2021-10-18T11:27:20.628717Z"
    },
    "papermill": {
     "duration": 0.779781,
     "end_time": "2021-10-18T11:50:41.630264",
     "exception": true,
     "start_time": "2021-10-18T11:50:40.850483",
     "status": "failed"
    },
    "tags": []
   },
   "outputs": [
    {
     "data": {
      "image/png": "[encoded data removed]",
      "text/plain": [
       "<Figure size 432x288 with 1 Axes>"
      ]
     },
     "metadata": {
      "needs_background": "light"
     },
     "output_type": "display_data"
    },
    {
     "data": {
      "image/png": "[encoded data removed]",
      "text/plain": [
       "<Figure size 1080x720 with 1 Axes>"
      ]
     },
     "metadata": {
      "needs_background": "light"
     },
     "output_type": "display_data"
    }
   ],
   "source": [
    "get_hist_box(bined_df, 'bodyType')"
   ]
  },
  {
   "cell_type": "markdown",
   "id": "78c24a80",
   "metadata": {
    "papermill": {
     "duration": null,
     "end_time": null,
     "exception": null,
     "start_time": null,
     "status": "pending"
    },
    "tags": []
   },
   "source": [
    "Here we can see that the most popular models are внедорожник, седан, хэтчбек, лифтбек. Тарга and лимузин have the highest average price. Among the most popular models body type внедорожник is the most expensive."
   ]
  },
  {
   "cell_type": "code",
   "execution_count": 778,
   "id": "5381d3fb",
   "metadata": {},
   "outputs": [],
   "source": [
    "# Add this column to cat_cols\n",
    "cat_cols.append('bodyType')"
   ]
  },
  {
   "cell_type": "markdown",
   "id": "e17f6c52",
   "metadata": {
    "papermill": {
     "duration": null,
     "end_time": null,
     "exception": null,
     "start_time": null,
     "status": "pending"
    },
    "tags": []
   },
   "source": [
    "#### brand"
   ]
  },
  {
   "cell_type": "code",
   "execution_count": 779,
   "id": "e2ac825a",
   "metadata": {
    "execution": {
     "iopub.execute_input": "2021-10-18T11:24:20.459065Z",
     "iopub.status.busy": "2021-10-18T11:24:20.458327Z",
     "iopub.status.idle": "2021-10-18T11:24:20.482956Z",
     "shell.execute_reply": "2021-10-18T11:24:20.481994Z",
     "shell.execute_reply.started": "2021-10-18T11:24:20.459018Z"
    },
    "papermill": {
     "duration": null,
     "end_time": null,
     "exception": null,
     "start_time": null,
     "status": "pending"
    },
    "tags": []
   },
   "outputs": [
    {
     "data": {
      "text/plain": [
       "array(['SKODA', 'AUDI', 'HONDA', 'VOLVO', 'BMW', 'NISSAN', 'INFINITI',\n",
       "       'MERCEDES', 'TOYOTA', 'LEXUS', 'VOLKSWAGEN', 'MITSUBISHI',\n",
       "       'CADILLAC', 'CHERY', 'CHEVROLET', 'CHRYSLER', 'CITROEN', 'DAEWOO',\n",
       "       'DODGE', 'FORD', 'GEELY', 'HYUNDAI', 'JAGUAR', 'JEEP', 'KIA',\n",
       "       'MAZDA', 'MINI', 'OPEL', 'PEUGEOT', 'PORSCHE', 'RENAULT', 'SUBARU',\n",
       "       'SUZUKI', 'GREAT_WALL', 'LAND_ROVER', 'SSANG_YONG'], dtype=object)"
      ]
     },
     "execution_count": 779,
     "metadata": {},
     "output_type": "execute_result"
    }
   ],
   "source": [
    "# Check the unique values for brand\n",
    "bined_df.brand.unique()"
   ]
  },
  {
   "cell_type": "code",
   "execution_count": 780,
   "id": "96c653b0",
   "metadata": {
    "execution": {
     "iopub.execute_input": "2021-10-18T11:24:22.364946Z",
     "iopub.status.busy": "2021-10-18T11:24:22.364302Z",
     "iopub.status.idle": "2021-10-18T11:24:22.370911Z",
     "shell.execute_reply": "2021-10-18T11:24:22.369984Z",
     "shell.execute_reply.started": "2021-10-18T11:24:22.364906Z"
    },
    "papermill": {
     "duration": null,
     "end_time": null,
     "exception": null,
     "start_time": null,
     "status": "pending"
    },
    "tags": []
   },
   "outputs": [],
   "source": [
    "brands = test.brand.unique().tolist()"
   ]
  },
  {
   "cell_type": "code",
   "execution_count": 781,
   "id": "bb255cb6",
   "metadata": {
    "execution": {
     "iopub.execute_input": "2021-10-18T11:24:27.942310Z",
     "iopub.status.busy": "2021-10-18T11:24:27.941467Z",
     "iopub.status.idle": "2021-10-18T11:24:27.947740Z",
     "shell.execute_reply": "2021-10-18T11:24:27.947097Z",
     "shell.execute_reply.started": "2021-10-18T11:24:27.942255Z"
    },
    "papermill": {
     "duration": null,
     "end_time": null,
     "exception": null,
     "start_time": null,
     "status": "pending"
    },
    "tags": []
   },
   "outputs": [
    {
     "data": {
      "text/plain": [
       "['SKODA',\n",
       " 'AUDI',\n",
       " 'HONDA',\n",
       " 'VOLVO',\n",
       " 'BMW',\n",
       " 'NISSAN',\n",
       " 'INFINITI',\n",
       " 'MERCEDES',\n",
       " 'TOYOTA',\n",
       " 'LEXUS',\n",
       " 'VOLKSWAGEN',\n",
       " 'MITSUBISHI']"
      ]
     },
     "execution_count": 781,
     "metadata": {},
     "output_type": "execute_result"
    }
   ],
   "source": [
    "brands"
   ]
  },
  {
   "cell_type": "code",
   "execution_count": 782,
   "id": "834fdf9d",
   "metadata": {
    "execution": {
     "iopub.execute_input": "2021-10-18T11:24:30.173855Z",
     "iopub.status.busy": "2021-10-18T11:24:30.172882Z",
     "iopub.status.idle": "2021-10-18T11:24:30.450241Z",
     "shell.execute_reply": "2021-10-18T11:24:30.449522Z",
     "shell.execute_reply.started": "2021-10-18T11:24:30.173804Z"
    },
    "papermill": {
     "duration": null,
     "end_time": null,
     "exception": null,
     "start_time": null,
     "status": "pending"
    },
    "tags": []
   },
   "outputs": [],
   "source": [
    "# Delete brands that are not presented in test dataframe\n",
    "bined_df = bined_df[bined_df.brand.isin(brands)]"
   ]
  },
  {
   "cell_type": "code",
   "execution_count": 783,
   "id": "4f13681b",
   "metadata": {
    "execution": {
     "iopub.execute_input": "2021-10-18T11:24:32.895348Z",
     "iopub.status.busy": "2021-10-18T11:24:32.895019Z",
     "iopub.status.idle": "2021-10-18T11:24:32.914663Z",
     "shell.execute_reply": "2021-10-18T11:24:32.913746Z",
     "shell.execute_reply.started": "2021-10-18T11:24:32.895313Z"
    },
    "papermill": {
     "duration": null,
     "end_time": null,
     "exception": null,
     "start_time": null,
     "status": "pending"
    },
    "tags": []
   },
   "outputs": [
    {
     "data": {
      "text/plain": [
       "array(['SKODA', 'AUDI', 'HONDA', 'VOLVO', 'BMW', 'NISSAN', 'INFINITI',\n",
       "       'MERCEDES', 'TOYOTA', 'LEXUS', 'VOLKSWAGEN', 'MITSUBISHI'],\n",
       "      dtype=object)"
      ]
     },
     "execution_count": 783,
     "metadata": {},
     "output_type": "execute_result"
    }
   ],
   "source": [
    "bined_df.brand.unique()"
   ]
  },
  {
   "cell_type": "code",
   "execution_count": 784,
   "id": "3406b795",
   "metadata": {
    "execution": {
     "iopub.execute_input": "2021-10-18T11:27:45.686957Z",
     "iopub.status.busy": "2021-10-18T11:27:45.686650Z",
     "iopub.status.idle": "2021-10-18T11:27:46.416575Z",
     "shell.execute_reply": "2021-10-18T11:27:46.415629Z",
     "shell.execute_reply.started": "2021-10-18T11:27:45.686927Z"
    },
    "papermill": {
     "duration": null,
     "end_time": null,
     "exception": null,
     "start_time": null,
     "status": "pending"
    },
    "tags": []
   },
   "outputs": [
    {
     "data": {
      "image/png": "[encoded data removed]",
      "text/plain": [
       "<Figure size 432x288 with 1 Axes>"
      ]
     },
     "metadata": {
      "needs_background": "light"
     },
     "output_type": "display_data"
    },
    {
     "data": {
      "image/png": "[encoded data removed]",
      "text/plain": [
       "<Figure size 1080x720 with 1 Axes>"
      ]
     },
     "metadata": {
      "needs_background": "light"
     },
     "output_type": "display_data"
    }
   ],
   "source": [
    "get_hist_box(bined_df, 'brand')"
   ]
  },
  {
   "cell_type": "markdown",
   "id": "1fcf350c",
   "metadata": {
    "papermill": {
     "duration": null,
     "end_time": null,
     "exception": null,
     "start_time": null,
     "status": "pending"
    },
    "tags": []
   },
   "source": [
    "By the time of the analysis Mercedes has the highest average price and Honda has the lowest."
   ]
  },
  {
   "cell_type": "code",
   "execution_count": 785,
   "id": "2da06275",
   "metadata": {},
   "outputs": [],
   "source": [
    "# Add this column to cat_cols\n",
    "cat_cols.append('brand')"
   ]
  },
  {
   "cell_type": "markdown",
   "id": "d5c077f9",
   "metadata": {
    "papermill": {
     "duration": null,
     "end_time": null,
     "exception": null,
     "start_time": null,
     "status": "pending"
    },
    "tags": []
   },
   "source": [
    "#### color"
   ]
  },
  {
   "cell_type": "code",
   "execution_count": 786,
   "id": "6d6f0cd8",
   "metadata": {},
   "outputs": [
    {
     "data": {
      "text/plain": [
       "array(['синий', 'чёрный', 'серый', 'коричневый', 'белый', 'пурпурный',\n",
       "       'бежевый', 'серебристый', 'красный', 'зелёный', 'жёлтый',\n",
       "       'голубой', 'оранжевый', 'фиолетовый', 'золотистый', 'розовый',\n",
       "       'черный', 'серебряный', nan], dtype=object)"
      ]
     },
     "execution_count": 786,
     "metadata": {},
     "output_type": "execute_result"
    }
   ],
   "source": [
    "# Check the unique values for color\n",
    "bined_df.color.unique()"
   ]
  },
  {
   "cell_type": "code",
   "execution_count": 787,
   "id": "dec5bd2b",
   "metadata": {},
   "outputs": [
    {
     "data": {
      "image/png": "[encoded data removed]",
      "text/plain": [
       "<Figure size 432x288 with 1 Axes>"
      ]
     },
     "metadata": {
      "needs_background": "light"
     },
     "output_type": "display_data"
    },
    {
     "data": {
      "image/png": "[encoded data removed]",
      "text/plain": [
       "<Figure size 1080x720 with 1 Axes>"
      ]
     },
     "metadata": {
      "needs_background": "light"
     },
     "output_type": "display_data"
    }
   ],
   "source": [
    "get_hist_box(bined_df, 'color')"
   ]
  },
  {
   "cell_type": "markdown",
   "id": "943eea14",
   "metadata": {},
   "source": [
    "The most popular color is black, black cars have the highest average price."
   ]
  },
  {
   "cell_type": "code",
   "execution_count": 788,
   "id": "949fab94",
   "metadata": {},
   "outputs": [],
   "source": [
    "# Add this column to cat_cols\n",
    "cat_cols.append('color')"
   ]
  },
  {
   "cell_type": "markdown",
   "id": "c6ca82c4",
   "metadata": {
    "papermill": {
     "duration": null,
     "end_time": null,
     "exception": null,
     "start_time": null,
     "status": "pending"
    },
    "tags": []
   },
   "source": [
    "#### description"
   ]
  },
  {
   "cell_type": "code",
   "execution_count": 789,
   "id": "82499520",
   "metadata": {},
   "outputs": [
    {
     "data": {
      "text/plain": [
       "'Все автомобили, представленные в продаже, проходят тщательную проверку по более 40 параметрам. Предоставляем гарантию юридической чистоты, а так же год технической гарантии на двигатель и КПП. Бесплатный тест-драйв. Возможно оформление автомобиля в кредит!\\n\\nПреимущества автокредитования:\\n— Первоначальный взнос от 0%;\\n— Более 30 кредитных программ;\\n— Процентная ставка от 6% годовых;\\n— Срок кредита от 6 месяцев до 7 лет;\\n— Оформление кредита по двум документам;\\n— Досрочное погашение без штрафов и комиссий;\\n— Сумма кредита до 2 млн рублей;\\n— Оформление КАСКО – по желанию;\\n— Без справок и поручителей.\\n\\nСотрудничаем с 12 аккредитованными и сертифицированными банками РФ, среднее время ожидания решения банка 20–30 минут.\\n\\nПри покупке автомобиля по программе «Trade-in – выгодный обмен» или в кредит, получите дополнительную скидку до 80 000 рублей на данный автомобиль!\\n\\nЗаписаться на тест-драйв, а так же получить подробную информацию можно у специалистов автоцентра по указанному номеру телефона.'"
      ]
     },
     "execution_count": 789,
     "metadata": {},
     "output_type": "execute_result"
    }
   ],
   "source": [
    "# Let's check the values\n",
    "bined_df.description[2]"
   ]
  },
  {
   "cell_type": "markdown",
   "id": "1b382630",
   "metadata": {},
   "source": [
    "Only 1.3% of descriptions are missing, but the only way we can use this column is to try to process the text (e.g. extract some keywords). If we have enough time we'll return to this column, but by now we'll drop it."
   ]
  },
  {
   "cell_type": "code",
   "execution_count": 790,
   "id": "5918a3c0",
   "metadata": {},
   "outputs": [],
   "source": [
    "bined_df.drop(['description'], axis = 1, inplace = True)"
   ]
  },
  {
   "cell_type": "markdown",
   "id": "2bfa3335",
   "metadata": {
    "papermill": {
     "duration": null,
     "end_time": null,
     "exception": null,
     "start_time": null,
     "status": "pending"
    },
    "tags": []
   },
   "source": [
    "#### engineDisplacement"
   ]
  },
  {
   "cell_type": "code",
   "execution_count": 791,
   "id": "157d846b",
   "metadata": {
    "scrolled": true
   },
   "outputs": [
    {
     "data": {
      "text/plain": [
       "array(['1.2 LTR', '1.6 LTR', '1.8 LTR', '2.0 LTR', '1.4 LTR', '1.3 LTR',\n",
       "       '1.0 LTR', '3.6 LTR', '1.5 LTR', '1.9 LTR', '2.8 LTR', '1.1 LTR',\n",
       "       '2.5 LTR', '4.2 LTR', '3.0 LTR', '4.0 LTR', '5.9 LTR', '2.7 LTR',\n",
       "       '3.1 LTR', '2.4 LTR', '5.2 LTR', '3.2 LTR', '4.1 LTR', '6.3 LTR',\n",
       "       '2.3 LTR', '6.0 LTR', '2.2 LTR', '3.7 LTR', '2.9 LTR', '5.0 LTR',\n",
       "       '3.3 LTR', '2.1 LTR', '2.6 LTR', ' LTR', '3.5 LTR', '1.7 LTR',\n",
       "       '0.7 LTR', '4.4 LTR', '4.8 LTR', '5.4 LTR', '6.6 LTR', '4.9 LTR',\n",
       "       '3.8 LTR', '3.4 LTR', '3.9 LTR', '4.6 LTR', '5.6 LTR', '4.5 LTR',\n",
       "       '5.5 LTR', '6.2 LTR', '4.7 LTR', '4.3 LTR', '5.8 LTR', '5.3 LTR',\n",
       "       '5.7 LTR', '2.8', '1.8', '2.3', '2.0', '2.6', '2.2', 'S4', '2.0d',\n",
       "       '2.5d', '1.9', '2.1', '2.4', '1.6', '1.9d', '1.6d', '1.3', '3.3',\n",
       "       '1.4', '1.2d', 'ultra', '1.2', '3.2', '1.5', '8V', '3.1', '3.0d',\n",
       "       '2.7d', '16V', '3.0', '7S-tronic', 'tiptronic', '40', '45', '55',\n",
       "       '2.7', '4.2', 'S-tronic', 'Tiptronic', 'Long', '4.0', '60', '3.9d',\n",
       "       '6.0', '3.7', '4.1d', '35', '8tiptronic', 'clean', '2.0hyb', '3.6',\n",
       "       '5.9d', 'V10', 'V8', '2.5', '2.9', '5.0', '5.2', 'M135i', '116i',\n",
       "       '120i', '118i', '135i', 'M140i', '125i', '120d', '130i', '118d',\n",
       "       '218i', '220i', '220d', 'M235i', '218d', '216d', '335i', '320i',\n",
       "       '318i', '318d', '320d', '316i', '328i', '330i', '325xi', '325i',\n",
       "       '330d', '340i', '323i', '335d', '335xi', '330xi', '316', '315',\n",
       "       '318', 'N46', '420d', '428i', '420i', '435i', '430i', '440i',\n",
       "       '520d', '530d', '525i', '523i', '520i', '530i', '525d', '528i',\n",
       "       '550i', '535d', 'M550i', 'M550d', '540i', '535i', '530xi', '530Li',\n",
       "       '525xi', '518', '520Li', '528Li', '535xi', '545i', '524d', '518i',\n",
       "       '535Li', '530xd', '630i', '640i', '650i', '640d', '630d', '620d',\n",
       "       '635i', '645i', '750d', '740i', '730Ld', '750i', '750Li', '740Li',\n",
       "       '730d', '730i', '750Ld', '730Li', '740d', 'M760Li', '740Ld',\n",
       "       'Active', '760Li', '735i', '745d', '728i', '728Li', '760i', '745i',\n",
       "       '745Li', '735Li', '733i', '725d', 'M850i', '840d', '840i', '850i',\n",
       "       '94Ah', 'Electro', 'S', '0.7hyb', '1.5hyb', 'Competition', '4.4',\n",
       "       '4.9', '18i', '20i', '18d', '20d', '25d', '28i', '23d', '25i',\n",
       "       'sDrive18i', 'xDrive20i', 'xDrive18d', 'xDrive20d', '30d', 'M40d',\n",
       "       '30i', '35i', 'M40i', '35d', 'M50d', '40i', '48i', '3.0sd', '50i',\n",
       "       '3.0i', '40d', 'M50i', '4.4i', '4.8i', '3.0si', '4.8is', '40e',\n",
       "       '4.6is', 'ActiveHybrid', '23i', '35is', 'Type', '3.5', 'Sport',\n",
       "       '0.7', 'Hybrid', 'AMT', 'Shuttle', '1.7', nan, '2.2d', 'del',\n",
       "       'Spike', '1.3hyb', 'Spada', 'EX25', 'EX35', 'EX37', 'FX37', 'FX35',\n",
       "       'FX50', 'FX45', 'FX30d', 'FX', 'G37', 'G35', 'G25', 'G20', 'I30',\n",
       "       'JX35', 'M37', 'M35', 'M56', 'M25', 'M45', 'Q45', '3.5hyb', '5.6',\n",
       "       '2.5hyb', '200h', '250', '200', '300', '350', '330', '300h',\n",
       "       '450h', '430', '460', '470', '250h', '200t', '250C', '400', '600h',\n",
       "       '500', '570', '450d', '450', '270', '400h', '350L', 'Grandis',\n",
       "       'CZ1', 'CZ2', 'Plus', 'CZ3', '1.1', '2.8d', '2.3d', '3.8', 'VR-4',\n",
       "       'Easy', '2.4d', 'Super', 'Classic', 'Cedia', '5-speed', 'PHEV',\n",
       "       '3.2d', 'Cubic', '30kWh', '1.0', '1.2hyb', '1.5d', '4.2d', '4.8',\n",
       "       'Joy', '4.5', 'Latio', '100', 'Scout', '1.4d', 'DSG7', 'DSG',\n",
       "       'ACT', '3.4', '4.7', '2.4hyb', 'US', 'Japan', 'Gracia',\n",
       "       'Prominent', 'GT-Four', 'GT', 'Fielder', 'Axio', 'Ceres', 'Runx',\n",
       "       'i', 'SF', 'Premio', '4.3', '1.8hyb', 'Lucida', 'Emina', '3.3hyb',\n",
       "       'Regius', '4.5d', '4.6', '3.4d', '105', 'Cygnus', '78', '76', '79',\n",
       "       '5.7', '3.5d', '4.0d', '3.6d', 'Arctic', 'Noah', 'Qualis', 'JDM',\n",
       "       'CrewMax', 'Double', 'Ardeo', 'Multimode', 'full-time',\n",
       "       'part-time', 'Maxi', 'BiFuel', 'Alltrack', 'EcoFuel', '4MOTION',\n",
       "       'e-Golf', 'KAT', 'VR6', 'GTI\"35\"', '5-Seater', '4-Seater', '4.9d',\n",
       "       'Cross', 'Allspace', '3.0hyb', '4.1', 'Syncro', '1.7d', 'R',\n",
       "       'T-5R', 'Bi-Fuel', 'XC', '180', '160', '170', '220', '150', '140',\n",
       "       '210', 'C', '63', '53', '43', '230', '240', '280', '320', '109',\n",
       "       '550', '600', '420', '65', 'All-Terrain', '290', '50', 'Brabus',\n",
       "       '560', '650', 'Pullman', '380', '260', '5.3', '5.4', '6.2', 'L1',\n",
       "       'L3', 'L2', 'Marco', '121', '113', '111', '119', '114', '112',\n",
       "       '108', '115', '110', '116'], dtype=object)"
      ]
     },
     "execution_count": 791,
     "metadata": {},
     "output_type": "execute_result"
    }
   ],
   "source": [
    "# Check unique values\n",
    "bined_df.engineDisplacement.unique()"
   ]
  },
  {
   "cell_type": "code",
   "execution_count": 792,
   "id": "7b163236",
   "metadata": {},
   "outputs": [
    {
     "data": {
      "text/plain": [
       "array([1.2, 1.6, 1.8, 2. , 1.4, 1.3, 1. , 3.6, 1.5, 1.9, 2.8, 1.1, 2.5,\n",
       "       4.2, 3. , 4. , 5.9, 2.7, 3.1, 2.4, 5.2, 3.2, 4.1, 6.3, 2.3, 6. ,\n",
       "       2.2, 3.7, 2.9, 5. , 3.3, 2.1, 2.6, 0. , 3.5, 1.7, 0.7, 4.4, 4.8,\n",
       "       5.4, 6.6, 4.9, 3.8, 3.4, 3.9, 4.6, 5.6, 4.5, 5.5, 6.2, 4.7, 4.3,\n",
       "       5.8, 5.3, 5.7, nan])"
      ]
     },
     "execution_count": 792,
     "metadata": {},
     "output_type": "execute_result"
    }
   ],
   "source": [
    "# format engine displacement\n",
    "bined_df['engineDisplacement'] = bined_df.apply(eng_displ, axis = 1)\n",
    "bined_df['engineDisplacement'] .unique()"
   ]
  },
  {
   "cell_type": "code",
   "execution_count": 793,
   "id": "67cca4d9",
   "metadata": {},
   "outputs": [
    {
     "data": {
      "text/plain": [
       "56"
      ]
     },
     "execution_count": 793,
     "metadata": {},
     "output_type": "execute_result"
    }
   ],
   "source": [
    "len(bined_df['engineDisplacement'].unique())"
   ]
  },
  {
   "cell_type": "markdown",
   "id": "69632b19",
   "metadata": {},
   "source": [
    "There's 55 different engine modifications, let's examine top 20 of them."
   ]
  },
  {
   "cell_type": "code",
   "execution_count": 794,
   "id": "a1acd480",
   "metadata": {
    "scrolled": true
   },
   "outputs": [
    {
     "data": {
      "text/html": [
       "<div>\n",
       "<style scoped>\n",
       "    .dataframe tbody tr th:only-of-type {\n",
       "        vertical-align: middle;\n",
       "    }\n",
       "\n",
       "    .dataframe tbody tr th {\n",
       "        vertical-align: top;\n",
       "    }\n",
       "\n",
       "    .dataframe thead th {\n",
       "        text-align: right;\n",
       "    }\n",
       "</style>\n",
       "<table border=\"1\" class=\"dataframe\">\n",
       "  <thead>\n",
       "    <tr style=\"text-align: right;\">\n",
       "      <th></th>\n",
       "      <th>bodyType</th>\n",
       "      <th>brand</th>\n",
       "      <th>color</th>\n",
       "      <th>engineDisplacement</th>\n",
       "      <th>enginePower</th>\n",
       "      <th>equipment_dict</th>\n",
       "      <th>fuelType</th>\n",
       "      <th>mileage</th>\n",
       "      <th>modelDate</th>\n",
       "      <th>model_name</th>\n",
       "      <th>name</th>\n",
       "      <th>numberOfDoors</th>\n",
       "      <th>parsing_unixtime</th>\n",
       "      <th>priceCurrency</th>\n",
       "      <th>productionDate</th>\n",
       "      <th>sell_id</th>\n",
       "      <th>super_gen</th>\n",
       "      <th>vehicleConfiguration</th>\n",
       "      <th>vehicleTransmission</th>\n",
       "      <th>vendor</th>\n",
       "      <th>owners</th>\n",
       "      <th>ownership</th>\n",
       "      <th>vehicle_licence</th>\n",
       "      <th>driving_gear</th>\n",
       "      <th>steering_wheel</th>\n",
       "      <th>condition</th>\n",
       "      <th>customs</th>\n",
       "      <th>complectation_dict</th>\n",
       "      <th>train</th>\n",
       "      <th>new_data</th>\n",
       "      <th>price</th>\n",
       "      <th>date_added</th>\n",
       "      <th>price_log</th>\n",
       "    </tr>\n",
       "  </thead>\n",
       "  <tbody>\n",
       "    <tr>\n",
       "      <th>59310</th>\n",
       "      <td>универсал</td>\n",
       "      <td>HONDA</td>\n",
       "      <td>серебряный</td>\n",
       "      <td>NaN</td>\n",
       "      <td>NaN</td>\n",
       "      <td>NaN</td>\n",
       "      <td>универсал</td>\n",
       "      <td>400000.0</td>\n",
       "      <td>NaN</td>\n",
       "      <td>CIVIC</td>\n",
       "      <td>NaN</td>\n",
       "      <td>NaN</td>\n",
       "      <td>1.599599e+09</td>\n",
       "      <td>NaN</td>\n",
       "      <td>1989.0</td>\n",
       "      <td>0</td>\n",
       "      <td>NaN</td>\n",
       "      <td>NaN</td>\n",
       "      <td>NaN</td>\n",
       "      <td>JAPANESE</td>\n",
       "      <td>3.0</td>\n",
       "      <td>NaN</td>\n",
       "      <td>ORIGINAL</td>\n",
       "      <td>NaN</td>\n",
       "      <td>LEFT</td>\n",
       "      <td>NaN</td>\n",
       "      <td>True</td>\n",
       "      <td>NaN</td>\n",
       "      <td>1</td>\n",
       "      <td>0</td>\n",
       "      <td>120000.0</td>\n",
       "      <td>2020-04-10T16:07:57Z</td>\n",
       "      <td>11.695247</td>\n",
       "    </tr>\n",
       "    <tr>\n",
       "      <th>160253</th>\n",
       "      <td>хэтчбек</td>\n",
       "      <td>HONDA</td>\n",
       "      <td>пурпурный</td>\n",
       "      <td>NaN</td>\n",
       "      <td>undefined N12</td>\n",
       "      <td>{}</td>\n",
       "      <td>NaN</td>\n",
       "      <td>260000.0</td>\n",
       "      <td>NaN</td>\n",
       "      <td>Civic</td>\n",
       "      <td>Honda Civic</td>\n",
       "      <td>NaN</td>\n",
       "      <td>1.634279e+09</td>\n",
       "      <td>RUB</td>\n",
       "      <td>1989.0</td>\n",
       "      <td>0</td>\n",
       "      <td>{'sale-data-attributes': {'asciiCat': 'cars', ...</td>\n",
       "      <td>NaN</td>\n",
       "      <td>NaN</td>\n",
       "      <td>JAPANESE</td>\n",
       "      <td>3 или более</td>\n",
       "      <td>NaN</td>\n",
       "      <td>Оригинал</td>\n",
       "      <td>NaN</td>\n",
       "      <td>Левый</td>\n",
       "      <td>Не требует ремонта</td>\n",
       "      <td>Растаможен</td>\n",
       "      <td>NaN</td>\n",
       "      <td>1</td>\n",
       "      <td>1</td>\n",
       "      <td>104000.0</td>\n",
       "      <td>13 марта 2020</td>\n",
       "      <td>11.552146</td>\n",
       "    </tr>\n",
       "    <tr>\n",
       "      <th>261029</th>\n",
       "      <td>универсал</td>\n",
       "      <td>VOLVO</td>\n",
       "      <td>коричневый</td>\n",
       "      <td>NaN</td>\n",
       "      <td>undefined N12</td>\n",
       "      <td>{'engine-proof': True, 'cruise-control': True,...</td>\n",
       "      <td>NaN</td>\n",
       "      <td>133000.0</td>\n",
       "      <td>NaN</td>\n",
       "      <td>V70</td>\n",
       "      <td>Volvo V70</td>\n",
       "      <td>NaN</td>\n",
       "      <td>1.634288e+09</td>\n",
       "      <td>RUB</td>\n",
       "      <td>2008.0</td>\n",
       "      <td>0</td>\n",
       "      <td>{'sale-data-attributes': {'asciiCat': 'cars', ...</td>\n",
       "      <td>NaN</td>\n",
       "      <td>NaN</td>\n",
       "      <td>EUROPEAN</td>\n",
       "      <td>2 владельца</td>\n",
       "      <td>3 месяца</td>\n",
       "      <td>Оригинал</td>\n",
       "      <td>NaN</td>\n",
       "      <td>Левый</td>\n",
       "      <td>Не требует ремонта</td>\n",
       "      <td>Растаможен</td>\n",
       "      <td>NaN</td>\n",
       "      <td>1</td>\n",
       "      <td>1</td>\n",
       "      <td>768000.0</td>\n",
       "      <td>9 августа</td>\n",
       "      <td>13.551545</td>\n",
       "    </tr>\n",
       "  </tbody>\n",
       "</table>\n",
       "</div>"
      ],
      "text/plain": [
       "         bodyType  brand       color  engineDisplacement    enginePower  \\\n",
       "59310   универсал  HONDA  серебряный                 NaN            NaN   \n",
       "160253    хэтчбек  HONDA   пурпурный                 NaN  undefined N12   \n",
       "261029  универсал  VOLVO  коричневый                 NaN  undefined N12   \n",
       "\n",
       "                                           equipment_dict   fuelType  \\\n",
       "59310                                                 NaN  универсал   \n",
       "160253                                                 {}        NaN   \n",
       "261029  {'engine-proof': True, 'cruise-control': True,...        NaN   \n",
       "\n",
       "         mileage  modelDate model_name         name  numberOfDoors  \\\n",
       "59310   400000.0        NaN      CIVIC          NaN            NaN   \n",
       "160253  260000.0        NaN      Civic  Honda Civic            NaN   \n",
       "261029  133000.0        NaN        V70    Volvo V70            NaN   \n",
       "\n",
       "        parsing_unixtime priceCurrency  productionDate  sell_id  \\\n",
       "59310       1.599599e+09           NaN          1989.0        0   \n",
       "160253      1.634279e+09           RUB          1989.0        0   \n",
       "261029      1.634288e+09           RUB          2008.0        0   \n",
       "\n",
       "                                                super_gen  \\\n",
       "59310                                                 NaN   \n",
       "160253  {'sale-data-attributes': {'asciiCat': 'cars', ...   \n",
       "261029  {'sale-data-attributes': {'asciiCat': 'cars', ...   \n",
       "\n",
       "       vehicleConfiguration vehicleTransmission    vendor       owners  \\\n",
       "59310                   NaN                 NaN  JAPANESE          3.0   \n",
       "160253                  NaN                 NaN  JAPANESE  3 или более   \n",
       "261029                  NaN                 NaN  EUROPEAN  2 владельца   \n",
       "\n",
       "       ownership vehicle_licence driving_gear steering_wheel  \\\n",
       "59310        NaN        ORIGINAL          NaN           LEFT   \n",
       "160253       NaN        Оригинал          NaN          Левый   \n",
       "261029  3 месяца        Оригинал          NaN          Левый   \n",
       "\n",
       "                 condition     customs complectation_dict  train  new_data  \\\n",
       "59310                  NaN        True                NaN      1         0   \n",
       "160253  Не требует ремонта  Растаможен                NaN      1         1   \n",
       "261029  Не требует ремонта  Растаможен                NaN      1         1   \n",
       "\n",
       "           price            date_added  price_log  \n",
       "59310   120000.0  2020-04-10T16:07:57Z  11.695247  \n",
       "160253  104000.0         13 марта 2020  11.552146  \n",
       "261029  768000.0             9 августа  13.551545  "
      ]
     },
     "execution_count": 794,
     "metadata": {},
     "output_type": "execute_result"
    }
   ],
   "source": [
    "bined_df[bined_df.engineDisplacement.isna()]"
   ]
  },
  {
   "cell_type": "markdown",
   "id": "c918b8af",
   "metadata": {},
   "source": [
    "We see the same records. They obviously have the bad quality, so it's better to drop there rows."
   ]
  },
  {
   "cell_type": "code",
   "execution_count": 795,
   "id": "b4499454",
   "metadata": {},
   "outputs": [],
   "source": [
    "bined_df = bined_df[~bined_df.engineDisplacement.isna()]"
   ]
  },
  {
   "cell_type": "code",
   "execution_count": 796,
   "id": "be6e2a1f",
   "metadata": {},
   "outputs": [
    {
     "data": {
      "text/html": [
       "<div>\n",
       "<style scoped>\n",
       "    .dataframe tbody tr th:only-of-type {\n",
       "        vertical-align: middle;\n",
       "    }\n",
       "\n",
       "    .dataframe tbody tr th {\n",
       "        vertical-align: top;\n",
       "    }\n",
       "\n",
       "    .dataframe thead th {\n",
       "        text-align: right;\n",
       "    }\n",
       "</style>\n",
       "<table border=\"1\" class=\"dataframe\">\n",
       "  <thead>\n",
       "    <tr style=\"text-align: right;\">\n",
       "      <th></th>\n",
       "      <th>bodyType</th>\n",
       "      <th>brand</th>\n",
       "      <th>color</th>\n",
       "      <th>engineDisplacement</th>\n",
       "      <th>enginePower</th>\n",
       "      <th>equipment_dict</th>\n",
       "      <th>fuelType</th>\n",
       "      <th>mileage</th>\n",
       "      <th>modelDate</th>\n",
       "      <th>model_name</th>\n",
       "      <th>name</th>\n",
       "      <th>numberOfDoors</th>\n",
       "      <th>parsing_unixtime</th>\n",
       "      <th>priceCurrency</th>\n",
       "      <th>productionDate</th>\n",
       "      <th>sell_id</th>\n",
       "      <th>super_gen</th>\n",
       "      <th>vehicleConfiguration</th>\n",
       "      <th>vehicleTransmission</th>\n",
       "      <th>vendor</th>\n",
       "      <th>owners</th>\n",
       "      <th>ownership</th>\n",
       "      <th>vehicle_licence</th>\n",
       "      <th>driving_gear</th>\n",
       "      <th>steering_wheel</th>\n",
       "      <th>condition</th>\n",
       "      <th>customs</th>\n",
       "      <th>complectation_dict</th>\n",
       "      <th>train</th>\n",
       "      <th>new_data</th>\n",
       "      <th>price</th>\n",
       "      <th>date_added</th>\n",
       "      <th>price_log</th>\n",
       "    </tr>\n",
       "  </thead>\n",
       "  <tbody>\n",
       "  </tbody>\n",
       "</table>\n",
       "</div>"
      ],
      "text/plain": [
       "Empty DataFrame\n",
       "Columns: [bodyType, brand, color, engineDisplacement, enginePower, equipment_dict, fuelType, mileage, modelDate, model_name, name, numberOfDoors, parsing_unixtime, priceCurrency, productionDate, sell_id, super_gen, vehicleConfiguration, vehicleTransmission, vendor, owners, ownership, vehicle_licence, driving_gear, steering_wheel, condition, customs, complectation_dict, train, new_data, price, date_added, price_log]\n",
       "Index: []"
      ]
     },
     "execution_count": 796,
     "metadata": {},
     "output_type": "execute_result"
    }
   ],
   "source": [
    "bined_df[bined_df.engineDisplacement.isna()]"
   ]
  },
  {
   "cell_type": "code",
   "execution_count": 797,
   "id": "81e68c82",
   "metadata": {},
   "outputs": [
    {
     "data": {
      "text/plain": [
       "count    216599.000000\n",
       "mean          2.363527\n",
       "std           0.908748\n",
       "min           0.000000\n",
       "25%           1.800000\n",
       "50%           2.000000\n",
       "75%           3.000000\n",
       "max           6.600000\n",
       "Name: engineDisplacement, dtype: float64"
      ]
     },
     "execution_count": 797,
     "metadata": {},
     "output_type": "execute_result"
    }
   ],
   "source": [
    "bined_df.engineDisplacement.describe()"
   ]
  },
  {
   "cell_type": "code",
   "execution_count": 798,
   "id": "31d38549",
   "metadata": {},
   "outputs": [
    {
     "data": {
      "text/plain": [
       "<AxesSubplot:>"
      ]
     },
     "execution_count": 798,
     "metadata": {},
     "output_type": "execute_result"
    },
    {
     "data": {
      "image/png": "[encoded data removed]",
      "text/plain": [
       "<Figure size 432x288 with 1 Axes>"
      ]
     },
     "metadata": {
      "needs_background": "light"
     },
     "output_type": "display_data"
    }
   ],
   "source": [
    "bined_df.engineDisplacement.hist(bins = 20)"
   ]
  },
  {
   "cell_type": "code",
   "execution_count": 799,
   "id": "285fa7a5",
   "metadata": {},
   "outputs": [
    {
     "data": {
      "text/plain": [
       "2.0    53142\n",
       "1.6    28954\n",
       "3.0    25504\n",
       "2.5    16503\n",
       "1.8    14633\n",
       "1.4    12843\n",
       "3.5     9010\n",
       "2.4     8126\n",
       "4.0     4941\n",
       "2.9     4230\n",
       "1.5     4179\n",
       "1.2     3170\n",
       "2.1     2102\n",
       "1.3     2060\n",
       "4.7     2055\n",
       "3.2     2030\n",
       "4.5     1912\n",
       "2.7     1856\n",
       "4.4     1825\n",
       "2.8     1684\n",
       "Name: engineDisplacement, dtype: int64"
      ]
     },
     "execution_count": 799,
     "metadata": {},
     "output_type": "execute_result"
    }
   ],
   "source": [
    "bined_df.engineDisplacement.value_counts().head(20)"
   ]
  },
  {
   "cell_type": "code",
   "execution_count": 800,
   "id": "01636eda",
   "metadata": {},
   "outputs": [
    {
     "data": {
      "text/plain": [
       "(1.32, 2.64]       144677\n",
       "(2.64, 3.96]        47625\n",
       "(3.96, 5.28]        13423\n",
       "(-0.0076, 1.32]      7326\n",
       "(5.28, 6.6]          3548\n",
       "Name: engineDisplacement, dtype: int64"
      ]
     },
     "execution_count": 800,
     "metadata": {},
     "output_type": "execute_result"
    }
   ],
   "source": [
    "bined_df.engineDisplacement.value_counts(bins = 5)"
   ]
  },
  {
   "cell_type": "code",
   "execution_count": 801,
   "id": "6d70a14d",
   "metadata": {},
   "outputs": [],
   "source": [
    "bined_engD = bined_df[bined_df.engineDisplacement<3]"
   ]
  },
  {
   "cell_type": "code",
   "execution_count": 802,
   "id": "2d90cf8c",
   "metadata": {},
   "outputs": [
    {
     "data": {
      "text/plain": [
       "<AxesSubplot:xlabel='engineDisplacement', ylabel='price_log'>"
      ]
     },
     "execution_count": 802,
     "metadata": {},
     "output_type": "execute_result"
    },
    {
     "data": {
      "image/png": "[encoded data removed]",
      "text/plain": [
       "<Figure size 1080x720 with 1 Axes>"
      ]
     },
     "metadata": {
      "needs_background": "light"
     },
     "output_type": "display_data"
    }
   ],
   "source": [
    "fig, ax = plt.subplots(figsize = (15, 10))\n",
    "sns.boxplot(x = 'engineDisplacement', y = 'price_log', data=bined_engD)"
   ]
  },
  {
   "cell_type": "code",
   "execution_count": 803,
   "id": "d945b267",
   "metadata": {
    "scrolled": true
   },
   "outputs": [
    {
     "name": "stdout",
     "output_type": "stream",
     "text": [
      "For engineDisplacement IQR: 1.2, \n",
      " Outliers boundaries: [2.220446049250313e-16, 4.8].\n",
      "Total 4565 outliers\n",
      " 347 left outliers \n",
      " 4218 right outliers \n",
      "\n"
     ]
    }
   ],
   "source": [
    "outliers(bined_df, 'engineDisplacement')"
   ]
  },
  {
   "cell_type": "markdown",
   "id": "c40597ab",
   "metadata": {},
   "source": [
    "The most popular engine volume is 2.0 LTR, but these cars have not the highest average price."
   ]
  },
  {
   "cell_type": "markdown",
   "id": "2f85a021",
   "metadata": {
    "papermill": {
     "duration": null,
     "end_time": null,
     "exception": null,
     "start_time": null,
     "status": "pending"
    },
    "tags": []
   },
   "source": [
    "#### enginePower"
   ]
  },
  {
   "cell_type": "code",
   "execution_count": 804,
   "id": "91c26f0a",
   "metadata": {
    "scrolled": true
   },
   "outputs": [
    {
     "data": {
      "text/plain": [
       "array(['105 N12', '110 N12', '152 N12', '200 N12', '102 N12', '150 N12',\n",
       "       '90 N12', '180 N12', '220 N12', '122 N12', '70 N12', '140 N12',\n",
       "       '125 N12', '54 N12', '86 N12', '75 N12', '64 N12', '95 N12',\n",
       "       '260 N12', '170 N12', '80 N12', '68 N12', '160 N12', '115 N12',\n",
       "       '280 N12', '53 N12', '60 N12', '143 N12', '42 N12', '101 N12',\n",
       "       '58 N12', '193 N12', '79 N12', '30 N12', '100 N12', '50 N12',\n",
       "       '163 N12', '225 N12', '420 N12', '211 N12', '245 N12', '560 N12',\n",
       "       '500 N12', '249 N12', '450 N12', '605 N12', '250 N12', '354 N12',\n",
       "       '120 N12', '290 N12', '230 N12', '350 N12', '204 N12', '255 N12',\n",
       "       '340 N12', '177 N12', '272 N12', '372 N12', '210 N12', '130 N12',\n",
       "       '300 N12', '190 N12', '239 N12', '435 N12', '333 N12', '271 N12',\n",
       "       '326 N12', '238 N12', '310 N12', '233 N12', '252 N12', '133 N12',\n",
       "       '460 N12', '520 N12', '400 N12', '525 N12', '367 N12', '265 N12',\n",
       "       '550 N12', '580 N12', '88 N12', '165 N12', '430 N12', '335 N12',\n",
       "       '174 N12', '224 N12', '136 N12', '256 N12', '338 N12', '112 N12',\n",
       "       '218 N12', '360 N12', '93 N12', '182 N12', '113 N12', '240 N12',\n",
       "       '270 N12', '137 N12', '155 N12', '61 N12', '254 N12', '116 N12',\n",
       "       '71 N12', '285 N12', '408 N12', '166 N12', '156 N12', '257 N12',\n",
       "       '201 N12', '162 N12', '194 N12', '142 N12', '154 N12', '147 N12',\n",
       "       '281 N12', '243 N12', '118 N12', '128 N12', '91 N12', '83 N12',\n",
       "       '205 N12', '247 N12', '188 N12', '295 N12', '275 N12', '78 N12',\n",
       "       '109 N12', '94 N12', '185 N12', '258 N12', '145 N12', '132 N12',\n",
       "       '135 N12', '52 N12', '66 N12', '124 N12', '98 N12', '215 N12',\n",
       "       '158 N12', '99 N12', '103 N12', '131 N12', '126 N12', '235 N12',\n",
       "       '181 N12', '315 N12', '203 N12', '231 N12', '82 N12', '304 N12',\n",
       "       '175 N12', '320 N12', '213 N12', '144 N12', '146 N12', '151 N12',\n",
       "       '111 N12', '286 N12', '306 N12', '107 N12', '184 N12', '313 N12',\n",
       "       '264 N12', '575 N12', '407 N12', '192 N12', '129 N12', '555 N12',\n",
       "       '625 N12', '329 N12', '370 N12', '381 N12', '269 N12', '600 N12',\n",
       "       '510 N12', '544 N12', '462 N12', '355 N12', '507 N12', '609 N12',\n",
       "       '431 N12', '530 N12', '387 N12', '610 N12', '197 N12', '343 N12',\n",
       "       '445 N12', '171 N12', '51 N12', '46 N12', '347 N12', '321 N12',\n",
       "       '167 N12', '141 N12', '169 N12', '405 N12', '117 N12', '114 N12',\n",
       "       '173 N12', '234 N12', '540 N12', '106 N12', '49 N12', '248 N12',\n",
       "       '317 N12', '309 N12', '97 N12', '121 N12', '268 N12', '149 N12',\n",
       "       '87 N12', '85 N12', '65 N12', '67 N12', '127 N12', '485 N12',\n",
       "       '186 N12', '222 N12', '307 N12', '262 N12', '302 N12', '284 N12',\n",
       "       '325 N12', '168 N12', '221 N12', '330 N12', '283 N12', '328 N12',\n",
       "       '303 N12', '278 N12', '388 N12', '571 N12', '585 N12', '612 N12',\n",
       "       '401 N12', '279 N12', '455 N12', '382 N12', '557 N12', '517 N12',\n",
       "       '394 N12', '422 N12', '292 N12', '469 N12', '522 N12', '296 N12',\n",
       "       '639 N12', '390 N12', '476 N12', '630 N12', '402 N12', '487 N12',\n",
       "       '558 N12', '421 N12', '316 N12', '514 N12', '457 N12', '626 N12',\n",
       "       '242 N12', '38 N12', '32 N12', '223 N12', '72 N12', '305 N12',\n",
       "       '183 N12', '273 N12', '159 N12', '76 N12', '148 N12', '179 N12',\n",
       "       '73 N12', '277 N12', '282 N12', '178 N12', '288 N12', '199 N12',\n",
       "       '266 N12', '92 N12', '74 N12', '324 N12', '232 N12', '157 N12',\n",
       "       '69 N12', '212 N12', '276 N12', '202 N12', '77 N12', '164 N12',\n",
       "       '96 N12', '84 N12', '228 N12', '108 N12', '208 N12', '263 N12',\n",
       "       '294 N12', '318 N12', '380 N12', '219 N12', '214 N12', '383 N12',\n",
       "       '241 N12', '57 N12', '55 N12', '104 N12', '48 N12', '40 N12',\n",
       "       '44 N12', '227 N12', '139 N12', '209 N12', '195 N12', '189 N12',\n",
       "       '480 N12', '591 N12', '301 N12', 174.0, 90.0, 136.0, 101.0, 133.0,\n",
       "       150.0, 115.0, 137.0, 112.0, 230.0, 70.0, 88.0, 100.0, 75.0, 165.0,\n",
       "       182.0, 170.0, 113.0, 80.0, 54.0, 60.0, 71.0, 122.0, 125.0, 61.0,\n",
       "       102.0, 190.0, 180.0, 160.0, 105.0, 140.0, 110.0, 250.0, 200.0,\n",
       "       130.0, 120.0, 225.0, 163.0, 211.0, 249.0, 255.0, 143.0, 220.0,\n",
       "       239.0, 265.0, 116.0, 193.0, 177.0, 240.0, 245.0, 204.0, 340.0,\n",
       "       300.0, 233.0, 310.0, 210.0, 218.0, 290.0, 333.0, 335.0, 224.0,\n",
       "       350.0, 155.0, 254.0, 338.0, 435.0, 372.0, 460.0, 275.0, 500.0,\n",
       "       260.0, 450.0, 420.0, 280.0, 326.0, 285.0, 408.0, 271.0, 272.0,\n",
       "       270.0, 238.0, 252.0, 610.0, 525.0, 430.0, 367.0, 605.0, 560.0,\n",
       "       580.0, 256.0, 354.0, 571.0, 360.0, 520.0, 400.0, 156.0, 306.0,\n",
       "       320.0, 184.0, 129.0, 258.0, 231.0, 118.0, 286.0, 192.0, 98.0,\n",
       "       234.0, 171.0, 46.0, 51.0, 407.0, 530.0, 235.0, 381.0, 462.0, 197.0,\n",
       "       109.0, 313.0, 609.0, 544.0, 445.0, 329.0, 188.0, 370.0, 410.0,\n",
       "       431.0, 343.0, 507.0, 600.0, 625.0, 510.0, 355.0, 269.0, 264.0,\n",
       "       347.0, 555.0, 575.0, 321.0, 201.0, 281.0, 131.0, 154.0, 152.0,\n",
       "       147.0, 135.0, 53.0, 215.0, 44.0, 142.0, 95.0, 92.0, 114.0, 94.0,\n",
       "       103.0, 126.0, 91.0, 85.0, 166.0, 128.0, 186.0, 162.0, 145.0, 194.0,\n",
       "       86.0, 124.0, 83.0, 78.0, 295.0, 205.0, 50.0, 65.0, 64.0, 58.0,\n",
       "       284.0, 257.0, 243.0, 185.0, 247.0, 242.0, 158.0, 132.0, 222.0,\n",
       "       302.0, 330.0, 307.0, 328.0, 315.0, 309.0, 303.0, 278.0, 405.0,\n",
       "       304.0, 221.0, 168.0, 325.0, 283.0, 262.0, 99.0, 214.0, 277.0,\n",
       "       228.0, 161.0, 317.0, 296.0, 219.0, 208.0, 292.0, 212.0, 279.0,\n",
       "       305.0, 263.0, 181.0, 380.0, 394.0, 388.0, 282.0, 294.0, 421.0,\n",
       "       383.0, 318.0, 477.0, 276.0, 223.0, 288.0, 146.0, 139.0, 117.0,\n",
       "       82.0, 84.0, 148.0, 175.0, 213.0, 149.0, 195.0, 144.0, 52.0, 67.0,\n",
       "       178.0, 87.0, 48.0, 203.0, 199.0, 167.0, 227.0, 121.0, 202.0, 141.0,\n",
       "       209.0, 169.0, 107.0, 97.0, 79.0, 49.0, 540.0, 485.0, 550.0, 68.0,\n",
       "       268.0, 248.0, 153.0, 106.0, 127.0, 173.0, 42.0, 30.0, 273.0, 74.0,\n",
       "       73.0, 159.0, 179.0, 157.0, 72.0, 151.0, 232.0, 187.0, 189.0, 96.0,\n",
       "       108.0, 183.0, 69.0, 76.0, 111.0, 77.0, 266.0, 55.0, 236.0, 241.0,\n",
       "       104.0, 57.0, 476.0, 557.0, 639.0, 585.0, 390.0, 457.0, 487.0,\n",
       "       517.0, 612.0, 299.0, 402.0, 514.0, 401.0, 422.0, 700.0, 800.0,\n",
       "       382.0, 558.0, 455.0, 469.0, 630.0, 32.0, 316.0, 564.0, 626.0,\n",
       "       591.0, 38.0, '299 N12', '456 N12', '646 N12', '385 N12', '349 N12',\n",
       "       '448 N12', '410 N12', '161 N12', '314 N12', '176 N12', '237 N12',\n",
       "       '477 N12', '417 N12', '423 N12', '311 N12', '503 N12', '537 N12',\n",
       "       '670 N12', '41 N12', '415 N12', '187 N12', '253 N12', '226 N12',\n",
       "       '196 N12', '261 N12'], dtype=object)"
      ]
     },
     "execution_count": 804,
     "metadata": {},
     "output_type": "execute_result"
    }
   ],
   "source": [
    "# Check unique values\n",
    "bined_df.enginePower.unique()"
   ]
  },
  {
   "cell_type": "code",
   "execution_count": 805,
   "id": "c8e827ac",
   "metadata": {
    "scrolled": true
   },
   "outputs": [
    {
     "data": {
      "text/plain": [
       "[30.0,\n",
       " 32.0,\n",
       " 38.0,\n",
       " 40.0,\n",
       " 41.0,\n",
       " 42.0,\n",
       " 44.0,\n",
       " 46.0,\n",
       " 48.0,\n",
       " 49.0,\n",
       " 50.0,\n",
       " 51.0,\n",
       " 52.0,\n",
       " 53.0,\n",
       " 54.0,\n",
       " 55.0,\n",
       " 57.0,\n",
       " 58.0,\n",
       " 60.0,\n",
       " 61.0,\n",
       " 64.0,\n",
       " 65.0,\n",
       " 66.0,\n",
       " 67.0,\n",
       " 68.0,\n",
       " 69.0,\n",
       " 70.0,\n",
       " 71.0,\n",
       " 72.0,\n",
       " 73.0,\n",
       " 74.0,\n",
       " 75.0,\n",
       " 76.0,\n",
       " 77.0,\n",
       " 78.0,\n",
       " 79.0,\n",
       " 80.0,\n",
       " 82.0,\n",
       " 83.0,\n",
       " 84.0,\n",
       " 85.0,\n",
       " 86.0,\n",
       " 87.0,\n",
       " 88.0,\n",
       " 90.0,\n",
       " 91.0,\n",
       " 92.0,\n",
       " 93.0,\n",
       " 94.0,\n",
       " 95.0,\n",
       " 96.0,\n",
       " 97.0,\n",
       " 98.0,\n",
       " 99.0,\n",
       " 100.0,\n",
       " 101.0,\n",
       " 102.0,\n",
       " 103.0,\n",
       " 104.0,\n",
       " 105.0,\n",
       " 106.0,\n",
       " 107.0,\n",
       " 108.0,\n",
       " 109.0,\n",
       " 110.0,\n",
       " 111.0,\n",
       " 112.0,\n",
       " 113.0,\n",
       " 114.0,\n",
       " 115.0,\n",
       " 116.0,\n",
       " 117.0,\n",
       " 118.0,\n",
       " 120.0,\n",
       " 121.0,\n",
       " 122.0,\n",
       " 124.0,\n",
       " 125.0,\n",
       " 126.0,\n",
       " 127.0,\n",
       " 128.0,\n",
       " 129.0,\n",
       " 130.0,\n",
       " 131.0,\n",
       " 132.0,\n",
       " 133.0,\n",
       " 135.0,\n",
       " 136.0,\n",
       " 137.0,\n",
       " 139.0,\n",
       " 140.0,\n",
       " 141.0,\n",
       " 142.0,\n",
       " 143.0,\n",
       " 144.0,\n",
       " 145.0,\n",
       " 146.0,\n",
       " 147.0,\n",
       " 148.0,\n",
       " 149.0,\n",
       " 150.0,\n",
       " 151.0,\n",
       " 152.0,\n",
       " 153.0,\n",
       " 154.0,\n",
       " 155.0,\n",
       " 156.0,\n",
       " 157.0,\n",
       " 158.0,\n",
       " 159.0,\n",
       " 160.0,\n",
       " 161.0,\n",
       " 162.0,\n",
       " 163.0,\n",
       " 164.0,\n",
       " 165.0,\n",
       " 166.0,\n",
       " 167.0,\n",
       " 168.0,\n",
       " 169.0,\n",
       " 170.0,\n",
       " 171.0,\n",
       " 173.0,\n",
       " 174.0,\n",
       " 175.0,\n",
       " 176.0,\n",
       " 177.0,\n",
       " 178.0,\n",
       " 179.0,\n",
       " 180.0,\n",
       " 181.0,\n",
       " 182.0,\n",
       " 183.0,\n",
       " 184.0,\n",
       " 185.0,\n",
       " 186.0,\n",
       " 187.0,\n",
       " 188.0,\n",
       " 189.0,\n",
       " 190.0,\n",
       " 192.0,\n",
       " 193.0,\n",
       " 194.0,\n",
       " 195.0,\n",
       " 196.0,\n",
       " 197.0,\n",
       " 199.0,\n",
       " 200.0,\n",
       " 201.0,\n",
       " 202.0,\n",
       " 203.0,\n",
       " 204.0,\n",
       " 205.0,\n",
       " 208.0,\n",
       " 209.0,\n",
       " 210.0,\n",
       " 211.0,\n",
       " 212.0,\n",
       " 213.0,\n",
       " 214.0,\n",
       " 215.0,\n",
       " 218.0,\n",
       " 219.0,\n",
       " 220.0,\n",
       " 221.0,\n",
       " 222.0,\n",
       " 223.0,\n",
       " 224.0,\n",
       " 225.0,\n",
       " 226.0,\n",
       " 227.0,\n",
       " 228.0,\n",
       " 230.0,\n",
       " 231.0,\n",
       " 232.0,\n",
       " 233.0,\n",
       " 234.0,\n",
       " 235.0,\n",
       " 236.0,\n",
       " 237.0,\n",
       " 238.0,\n",
       " 239.0,\n",
       " 240.0,\n",
       " 241.0,\n",
       " 242.0,\n",
       " 243.0,\n",
       " 245.0,\n",
       " 247.0,\n",
       " 248.0,\n",
       " 249.0,\n",
       " 250.0,\n",
       " 252.0,\n",
       " 253.0,\n",
       " 254.0,\n",
       " 255.0,\n",
       " 256.0,\n",
       " 257.0,\n",
       " 258.0,\n",
       " 260.0,\n",
       " 261.0,\n",
       " 262.0,\n",
       " 263.0,\n",
       " 264.0,\n",
       " 265.0,\n",
       " 266.0,\n",
       " 268.0,\n",
       " 269.0,\n",
       " 270.0,\n",
       " 271.0,\n",
       " 272.0,\n",
       " 273.0,\n",
       " 275.0,\n",
       " 276.0,\n",
       " 277.0,\n",
       " 278.0,\n",
       " 279.0,\n",
       " 280.0,\n",
       " 281.0,\n",
       " 282.0,\n",
       " 283.0,\n",
       " 284.0,\n",
       " 285.0,\n",
       " 286.0,\n",
       " 288.0,\n",
       " 290.0,\n",
       " 292.0,\n",
       " 294.0,\n",
       " 295.0,\n",
       " 296.0,\n",
       " 299.0,\n",
       " 300.0,\n",
       " 301.0,\n",
       " 302.0,\n",
       " 303.0,\n",
       " 304.0,\n",
       " 305.0,\n",
       " 306.0,\n",
       " 307.0,\n",
       " 309.0,\n",
       " 310.0,\n",
       " 311.0,\n",
       " 313.0,\n",
       " 314.0,\n",
       " 315.0,\n",
       " 316.0,\n",
       " 317.0,\n",
       " 318.0,\n",
       " 320.0,\n",
       " 321.0,\n",
       " 324.0,\n",
       " 325.0,\n",
       " 326.0,\n",
       " 328.0,\n",
       " 329.0,\n",
       " 330.0,\n",
       " 333.0,\n",
       " 335.0,\n",
       " 338.0,\n",
       " 340.0,\n",
       " 343.0,\n",
       " 347.0,\n",
       " 349.0,\n",
       " 350.0,\n",
       " 354.0,\n",
       " 355.0,\n",
       " 360.0,\n",
       " 367.0,\n",
       " 370.0,\n",
       " 372.0,\n",
       " 380.0,\n",
       " 381.0,\n",
       " 382.0,\n",
       " 383.0,\n",
       " 385.0,\n",
       " 387.0,\n",
       " 388.0,\n",
       " 390.0,\n",
       " 394.0,\n",
       " 400.0,\n",
       " 401.0,\n",
       " 402.0,\n",
       " 405.0,\n",
       " 407.0,\n",
       " 408.0,\n",
       " 410.0,\n",
       " 415.0,\n",
       " 417.0,\n",
       " 420.0,\n",
       " 421.0,\n",
       " 422.0,\n",
       " 423.0,\n",
       " 430.0,\n",
       " 431.0,\n",
       " 435.0,\n",
       " 445.0,\n",
       " 448.0,\n",
       " 450.0,\n",
       " 455.0,\n",
       " 456.0,\n",
       " 457.0,\n",
       " 460.0,\n",
       " 462.0,\n",
       " 469.0,\n",
       " 476.0,\n",
       " 477.0,\n",
       " 480.0,\n",
       " 485.0,\n",
       " 487.0,\n",
       " 500.0,\n",
       " 503.0,\n",
       " 507.0,\n",
       " 510.0,\n",
       " 514.0,\n",
       " 517.0,\n",
       " 520.0,\n",
       " 522.0,\n",
       " 525.0,\n",
       " 530.0,\n",
       " 537.0,\n",
       " 540.0,\n",
       " 544.0,\n",
       " 550.0,\n",
       " 555.0,\n",
       " 557.0,\n",
       " 558.0,\n",
       " 560.0,\n",
       " 564.0,\n",
       " 571.0,\n",
       " 575.0,\n",
       " 580.0,\n",
       " 585.0,\n",
       " 591.0,\n",
       " 600.0,\n",
       " 605.0,\n",
       " 609.0,\n",
       " 610.0,\n",
       " 612.0,\n",
       " 625.0,\n",
       " 626.0,\n",
       " 630.0,\n",
       " 639.0,\n",
       " 646.0,\n",
       " 670.0,\n",
       " 700.0,\n",
       " 800.0]"
      ]
     },
     "execution_count": 805,
     "metadata": {},
     "output_type": "execute_result"
    }
   ],
   "source": [
    "bined_df['enginePower'] = bined_df.apply(eng_power, axis = 1)\n",
    "sorted(bined_df['enginePower'] .unique())"
   ]
  },
  {
   "cell_type": "markdown",
   "id": "cce6817c",
   "metadata": {},
   "source": [
    "There is no NaN's here"
   ]
  },
  {
   "cell_type": "code",
   "execution_count": 968,
   "id": "69b3c27c",
   "metadata": {},
   "outputs": [
    {
     "data": {
      "text/plain": [
       "<AxesSubplot:>"
      ]
     },
     "execution_count": 968,
     "metadata": {},
     "output_type": "execute_result"
    },
    {
     "data": {
      "image/png": "[encoded data removed]",
      "text/plain": [
       "<Figure size 432x288 with 1 Axes>"
      ]
     },
     "metadata": {
      "needs_background": "light"
     },
     "output_type": "display_data"
    }
   ],
   "source": [
    "bined_df.enginePower.hist()"
   ]
  },
  {
   "cell_type": "markdown",
   "id": "0192b3ca",
   "metadata": {},
   "source": [
    "#### equipment_dict"
   ]
  },
  {
   "cell_type": "code",
   "execution_count": 806,
   "id": "1b0b6874",
   "metadata": {},
   "outputs": [
    {
     "data": {
      "text/plain": [
       "'{\"engine-proof\":true,\"tinted-glass\":true,\"airbag-driver\":true,\"aux\":true,\"isofix\":true,\"electro-window-front\":true,\"ashtray-and-cigarette-lighter\":true,\"airbag-passenger\":true,\"computer\":true,\"high-beam-assist\":true,\"seat-transformation\":true,\"isofix-front\":true,\"wheel-power\":true,\"alarm\":true,\"lock\":true,\"door-sill-panel\":true,\"fabric-seats\":true,\"electro-mirrors\":true,\"airbag-rear-side\":true,\"electro-window-back\":true,\"steel-wheels\":true,\"ptf\":true,\"16-inch-wheels\":true,\"rain-sensor\":true,\"airbag-side\":true,\"audiosystem-cd\":true,\"dark-interior\":true,\"cooling-box\":true,\"condition\":true,\"abs\":true,\"power-child-locks-rear-doors\":true,\"front-seats-heat\":true,\"wheel-configuration2\":true,\"wheel-configuration1\":true,\"12v-socket\":true,\"park-assist-r\":true}'"
      ]
     },
     "execution_count": 806,
     "metadata": {},
     "output_type": "execute_result"
    }
   ],
   "source": [
    "bined_df.equipment_dict[0]"
   ]
  },
  {
   "cell_type": "code",
   "execution_count": 807,
   "id": "1b184540",
   "metadata": {},
   "outputs": [],
   "source": [
    "bined_df['equipment'] = bined_df.apply(equip, axis = 1)\n",
    "bined_df.drop('equipment_dict', inplace = True, axis = 1)"
   ]
  },
  {
   "cell_type": "markdown",
   "id": "7205d95e",
   "metadata": {},
   "source": [
    "##### bind equipment & complectation_dict in one column"
   ]
  },
  {
   "cell_type": "code",
   "execution_count": 808,
   "id": "4479fd3d",
   "metadata": {},
   "outputs": [],
   "source": [
    "bined_df['equip_compl'] = bined_df.apply(equip_compl, axis = 1)\n",
    "bined_df.drop(['equipment', 'complectation_dict'], axis = 1, inplace = True)"
   ]
  },
  {
   "cell_type": "code",
   "execution_count": 809,
   "id": "164d2fc6",
   "metadata": {},
   "outputs": [
    {
     "data": {
      "text/plain": [
       "['engine-proof',\n",
       " 'tinted-glass',\n",
       " 'airbag-driver',\n",
       " 'aux',\n",
       " 'isofix',\n",
       " 'electro-window-front',\n",
       " 'ashtray-and-cigarette-lighter',\n",
       " 'airbag-passenger',\n",
       " 'computer',\n",
       " 'high-beam-assist',\n",
       " 'seat-transformation',\n",
       " 'isofix-front',\n",
       " 'wheel-power',\n",
       " 'alarm',\n",
       " 'lock',\n",
       " 'door-sill-panel',\n",
       " 'fabric-seats',\n",
       " 'electro-mirrors',\n",
       " 'airbag-rear-side',\n",
       " 'electro-window-back',\n",
       " 'steel-wheels',\n",
       " 'ptf',\n",
       " '16-inch-wheels',\n",
       " 'rain-sensor',\n",
       " 'airbag-side',\n",
       " 'audiosystem-cd',\n",
       " 'dark-interior',\n",
       " 'cooling-box',\n",
       " 'condition',\n",
       " 'abs',\n",
       " 'power-child-locks-rear-doors',\n",
       " 'front-seats-heat',\n",
       " 'wheel-configuration2',\n",
       " 'wheel-configuration1',\n",
       " '12v-socket',\n",
       " 'park-assist-r']"
      ]
     },
     "execution_count": 809,
     "metadata": {},
     "output_type": "execute_result"
    }
   ],
   "source": [
    "bined_df.equip_compl[0]"
   ]
  },
  {
   "cell_type": "markdown",
   "id": "27599a45",
   "metadata": {
    "papermill": {
     "duration": null,
     "end_time": null,
     "exception": null,
     "start_time": null,
     "status": "pending"
    },
    "tags": []
   },
   "source": [
    "#### fuelType"
   ]
  },
  {
   "cell_type": "code",
   "execution_count": 810,
   "id": "2349141b",
   "metadata": {},
   "outputs": [
    {
     "data": {
      "text/plain": [
       "бензин     165881\n",
       "дизель      48153\n",
       "гибрид       1747\n",
       "газ           471\n",
       "электро       347\n",
       "Name: fuelType, dtype: int64"
      ]
     },
     "execution_count": 810,
     "metadata": {},
     "output_type": "execute_result"
    }
   ],
   "source": [
    "# Check unique values for fuelType\n",
    "bined_df.fuelType.value_counts()"
   ]
  },
  {
   "cell_type": "code",
   "execution_count": 811,
   "id": "4a16e935",
   "metadata": {},
   "outputs": [
    {
     "data": {
      "text/plain": [
       "0"
      ]
     },
     "execution_count": 811,
     "metadata": {},
     "output_type": "execute_result"
    }
   ],
   "source": [
    "# Check empty values\n",
    "bined_df.fuelType.isna().sum()"
   ]
  },
  {
   "cell_type": "code",
   "execution_count": 812,
   "id": "33365565",
   "metadata": {},
   "outputs": [],
   "source": [
    "# bined_df[bined_df.fuelType.isna()]"
   ]
  },
  {
   "cell_type": "code",
   "execution_count": 813,
   "id": "59a92b7b",
   "metadata": {},
   "outputs": [],
   "source": [
    "# Replace empty values with mode\n",
    "# bined_df.fuelType = bined_df.fuelType.apply(lambda x: bined_df.fuelType.mode()[0]\n",
    "#                                           if pd.isnull(x) == True else x)"
   ]
  },
  {
   "cell_type": "code",
   "execution_count": 814,
   "id": "4a79039d",
   "metadata": {},
   "outputs": [
    {
     "data": {
      "image/png": "[encoded data removed]",
      "text/plain": [
       "<Figure size 432x288 with 1 Axes>"
      ]
     },
     "metadata": {
      "needs_background": "light"
     },
     "output_type": "display_data"
    },
    {
     "data": {
      "image/png": "[encoded data removed]",
      "text/plain": [
       "<Figure size 1080x720 with 1 Axes>"
      ]
     },
     "metadata": {
      "needs_background": "light"
     },
     "output_type": "display_data"
    }
   ],
   "source": [
    "get_hist_box(bined_df, 'fuelType')"
   ]
  },
  {
   "cell_type": "markdown",
   "id": "801dab43",
   "metadata": {},
   "source": [
    "Cars with gasoline engine are the most popular, but the most expensive ones have diesel engines."
   ]
  },
  {
   "cell_type": "code",
   "execution_count": 815,
   "id": "eb10a3af",
   "metadata": {},
   "outputs": [],
   "source": [
    "cat_cols.append('fuelType')"
   ]
  },
  {
   "cell_type": "markdown",
   "id": "c5711cf5",
   "metadata": {
    "papermill": {
     "duration": null,
     "end_time": null,
     "exception": null,
     "start_time": null,
     "status": "pending"
    },
    "tags": []
   },
   "source": [
    "#### mileage"
   ]
  },
  {
   "cell_type": "code",
   "execution_count": 816,
   "id": "3148cbbe",
   "metadata": {},
   "outputs": [
    {
     "data": {
      "text/plain": [
       "array([  74000.,   60563.,   88000., ..., 1017000.,  548000.,  630000.])"
      ]
     },
     "execution_count": 816,
     "metadata": {},
     "output_type": "execute_result"
    }
   ],
   "source": [
    "# Check unique values for mileage\n",
    "bined_df.mileage.unique()"
   ]
  },
  {
   "cell_type": "code",
   "execution_count": 817,
   "id": "9df0c8a5",
   "metadata": {},
   "outputs": [
    {
     "data": {
      "text/plain": [
       "count    1.864710e+05\n",
       "mean     1.502645e+05\n",
       "std      1.025851e+05\n",
       "min      0.000000e+00\n",
       "25%      7.600000e+04\n",
       "50%      1.440000e+05\n",
       "75%      2.035580e+05\n",
       "max      1.150000e+06\n",
       "Name: mileage, dtype: float64"
      ]
     },
     "execution_count": 817,
     "metadata": {},
     "output_type": "execute_result"
    }
   ],
   "source": [
    "bined_df.mileage.describe()"
   ]
  },
  {
   "cell_type": "code",
   "execution_count": 918,
   "id": "7eca1095",
   "metadata": {},
   "outputs": [
    {
     "data": {
      "text/plain": [
       "30128"
      ]
     },
     "execution_count": 918,
     "metadata": {},
     "output_type": "execute_result"
    }
   ],
   "source": [
    "bined_df.mileage.isna().sum()"
   ]
  },
  {
   "cell_type": "code",
   "execution_count": 923,
   "id": "8fc533af",
   "metadata": {},
   "outputs": [
    {
     "data": {
      "text/plain": [
       "9593"
      ]
     },
     "execution_count": 923,
     "metadata": {},
     "output_type": "execute_result"
    }
   ],
   "source": [
    "len(bined_df[bined_df.mileage == 0])"
   ]
  },
  {
   "cell_type": "code",
   "execution_count": 928,
   "id": "4de23da0",
   "metadata": {},
   "outputs": [
    {
     "data": {
      "text/html": [
       "<div>\n",
       "<style scoped>\n",
       "    .dataframe tbody tr th:only-of-type {\n",
       "        vertical-align: middle;\n",
       "    }\n",
       "\n",
       "    .dataframe tbody tr th {\n",
       "        vertical-align: top;\n",
       "    }\n",
       "\n",
       "    .dataframe thead th {\n",
       "        text-align: right;\n",
       "    }\n",
       "</style>\n",
       "<table border=\"1\" class=\"dataframe\">\n",
       "  <thead>\n",
       "    <tr style=\"text-align: right;\">\n",
       "      <th></th>\n",
       "      <th>bodyType</th>\n",
       "      <th>brand</th>\n",
       "      <th>color</th>\n",
       "      <th>engineDisplacement</th>\n",
       "      <th>enginePower</th>\n",
       "      <th>fuelType</th>\n",
       "      <th>mileage</th>\n",
       "      <th>modelDate</th>\n",
       "      <th>model_name</th>\n",
       "      <th>name</th>\n",
       "      <th>numberOfDoors</th>\n",
       "      <th>productionDate</th>\n",
       "      <th>sell_id</th>\n",
       "      <th>super_gen</th>\n",
       "      <th>vehicleConfiguration</th>\n",
       "      <th>vehicleTransmission</th>\n",
       "      <th>vendor</th>\n",
       "      <th>owners</th>\n",
       "      <th>ownership</th>\n",
       "      <th>vehicle_licence</th>\n",
       "      <th>driving_gear</th>\n",
       "      <th>steering_wheel</th>\n",
       "      <th>condition</th>\n",
       "      <th>customs</th>\n",
       "      <th>train</th>\n",
       "      <th>new_data</th>\n",
       "      <th>price</th>\n",
       "      <th>date_added</th>\n",
       "      <th>price_log</th>\n",
       "      <th>equip_compl</th>\n",
       "      <th>parsing_unixtime</th>\n",
       "    </tr>\n",
       "  </thead>\n",
       "  <tbody>\n",
       "    <tr>\n",
       "      <th>124068</th>\n",
       "      <td>лифтбек</td>\n",
       "      <td>SKODA</td>\n",
       "      <td>белый</td>\n",
       "      <td>1.6</td>\n",
       "      <td>110.0</td>\n",
       "      <td>бензин</td>\n",
       "      <td>NaN</td>\n",
       "      <td>2020.0</td>\n",
       "      <td>NaN</td>\n",
       "      <td>Skoda Rapid II</td>\n",
       "      <td>5.0</td>\n",
       "      <td>2021.0</td>\n",
       "      <td>0</td>\n",
       "      <td>{'sale-data-attributes': {'asciiCat': 'cars', ...</td>\n",
       "      <td>LIFTBACK AUTOMATIC 1.6</td>\n",
       "      <td>automatic</td>\n",
       "      <td>EUROPEAN</td>\n",
       "      <td>nan</td>\n",
       "      <td>NaN</td>\n",
       "      <td>NaN</td>\n",
       "      <td>NaN</td>\n",
       "      <td>NaN</td>\n",
       "      <td>NaN</td>\n",
       "      <td>NaN</td>\n",
       "      <td>1</td>\n",
       "      <td>1</td>\n",
       "      <td>1224000.0</td>\n",
       "      <td>NaN</td>\n",
       "      <td>14.017635</td>\n",
       "      <td>[cruise-control, asr, tinted-glass, esp, usb, ...</td>\n",
       "      <td>1.634159e+09</td>\n",
       "    </tr>\n",
       "    <tr>\n",
       "      <th>124074</th>\n",
       "      <td>лифтбек</td>\n",
       "      <td>SKODA</td>\n",
       "      <td>серый</td>\n",
       "      <td>1.6</td>\n",
       "      <td>110.0</td>\n",
       "      <td>бензин</td>\n",
       "      <td>NaN</td>\n",
       "      <td>2020.0</td>\n",
       "      <td>NaN</td>\n",
       "      <td>Skoda Rapid II</td>\n",
       "      <td>5.0</td>\n",
       "      <td>2021.0</td>\n",
       "      <td>0</td>\n",
       "      <td>{'sale-data-attributes': {'asciiCat': 'cars', ...</td>\n",
       "      <td>LIFTBACK AUTOMATIC 1.6</td>\n",
       "      <td>automatic</td>\n",
       "      <td>EUROPEAN</td>\n",
       "      <td>nan</td>\n",
       "      <td>NaN</td>\n",
       "      <td>NaN</td>\n",
       "      <td>NaN</td>\n",
       "      <td>NaN</td>\n",
       "      <td>NaN</td>\n",
       "      <td>NaN</td>\n",
       "      <td>1</td>\n",
       "      <td>1</td>\n",
       "      <td>1184000.0</td>\n",
       "      <td>NaN</td>\n",
       "      <td>13.984409</td>\n",
       "      <td>[usb, tyre-pressure, dark-interior, front-seat...</td>\n",
       "      <td>1.634159e+09</td>\n",
       "    </tr>\n",
       "    <tr>\n",
       "      <th>124079</th>\n",
       "      <td>лифтбек</td>\n",
       "      <td>SKODA</td>\n",
       "      <td>чёрный</td>\n",
       "      <td>1.4</td>\n",
       "      <td>125.0</td>\n",
       "      <td>бензин</td>\n",
       "      <td>NaN</td>\n",
       "      <td>2020.0</td>\n",
       "      <td>NaN</td>\n",
       "      <td>Skoda Rapid II</td>\n",
       "      <td>5.0</td>\n",
       "      <td>2021.0</td>\n",
       "      <td>0</td>\n",
       "      <td>{'sale-data-attributes': {'asciiCat': 'cars', ...</td>\n",
       "      <td>LIFTBACK ROBOT 1.4</td>\n",
       "      <td>robot</td>\n",
       "      <td>EUROPEAN</td>\n",
       "      <td>nan</td>\n",
       "      <td>NaN</td>\n",
       "      <td>NaN</td>\n",
       "      <td>NaN</td>\n",
       "      <td>NaN</td>\n",
       "      <td>NaN</td>\n",
       "      <td>NaN</td>\n",
       "      <td>1</td>\n",
       "      <td>1</td>\n",
       "      <td>1256000.0</td>\n",
       "      <td>NaN</td>\n",
       "      <td>14.043443</td>\n",
       "      <td>[cruise-control, glonass, asr, esp, airbag-dri...</td>\n",
       "      <td>1.634159e+09</td>\n",
       "    </tr>\n",
       "    <tr>\n",
       "      <th>124080</th>\n",
       "      <td>лифтбек</td>\n",
       "      <td>SKODA</td>\n",
       "      <td>серый</td>\n",
       "      <td>1.4</td>\n",
       "      <td>125.0</td>\n",
       "      <td>бензин</td>\n",
       "      <td>NaN</td>\n",
       "      <td>2020.0</td>\n",
       "      <td>NaN</td>\n",
       "      <td>Skoda Rapid II</td>\n",
       "      <td>5.0</td>\n",
       "      <td>2021.0</td>\n",
       "      <td>0</td>\n",
       "      <td>{'sale-data-attributes': {'asciiCat': 'cars', ...</td>\n",
       "      <td>LIFTBACK ROBOT 1.4</td>\n",
       "      <td>robot</td>\n",
       "      <td>EUROPEAN</td>\n",
       "      <td>nan</td>\n",
       "      <td>NaN</td>\n",
       "      <td>NaN</td>\n",
       "      <td>NaN</td>\n",
       "      <td>NaN</td>\n",
       "      <td>NaN</td>\n",
       "      <td>NaN</td>\n",
       "      <td>1</td>\n",
       "      <td>1</td>\n",
       "      <td>1256000.0</td>\n",
       "      <td>NaN</td>\n",
       "      <td>14.043443</td>\n",
       "      <td>[cruise-control, asr, glonass, esp, airbag-dri...</td>\n",
       "      <td>1.634159e+09</td>\n",
       "    </tr>\n",
       "    <tr>\n",
       "      <th>124084</th>\n",
       "      <td>лифтбек</td>\n",
       "      <td>SKODA</td>\n",
       "      <td>серебристый</td>\n",
       "      <td>1.4</td>\n",
       "      <td>125.0</td>\n",
       "      <td>бензин</td>\n",
       "      <td>NaN</td>\n",
       "      <td>2020.0</td>\n",
       "      <td>NaN</td>\n",
       "      <td>Skoda Rapid II</td>\n",
       "      <td>5.0</td>\n",
       "      <td>2021.0</td>\n",
       "      <td>0</td>\n",
       "      <td>{'sale-data-attributes': {'asciiCat': 'cars', ...</td>\n",
       "      <td>LIFTBACK ROBOT 1.4</td>\n",
       "      <td>robot</td>\n",
       "      <td>EUROPEAN</td>\n",
       "      <td>nan</td>\n",
       "      <td>NaN</td>\n",
       "      <td>NaN</td>\n",
       "      <td>NaN</td>\n",
       "      <td>NaN</td>\n",
       "      <td>NaN</td>\n",
       "      <td>NaN</td>\n",
       "      <td>1</td>\n",
       "      <td>1</td>\n",
       "      <td>1208000.0</td>\n",
       "      <td>NaN</td>\n",
       "      <td>14.004477</td>\n",
       "      <td>[cruise-control, asr, tinted-glass, esp, usb, ...</td>\n",
       "      <td>1.634159e+09</td>\n",
       "    </tr>\n",
       "    <tr>\n",
       "      <th>...</th>\n",
       "      <td>...</td>\n",
       "      <td>...</td>\n",
       "      <td>...</td>\n",
       "      <td>...</td>\n",
       "      <td>...</td>\n",
       "      <td>...</td>\n",
       "      <td>...</td>\n",
       "      <td>...</td>\n",
       "      <td>...</td>\n",
       "      <td>...</td>\n",
       "      <td>...</td>\n",
       "      <td>...</td>\n",
       "      <td>...</td>\n",
       "      <td>...</td>\n",
       "      <td>...</td>\n",
       "      <td>...</td>\n",
       "      <td>...</td>\n",
       "      <td>...</td>\n",
       "      <td>...</td>\n",
       "      <td>...</td>\n",
       "      <td>...</td>\n",
       "      <td>...</td>\n",
       "      <td>...</td>\n",
       "      <td>...</td>\n",
       "      <td>...</td>\n",
       "      <td>...</td>\n",
       "      <td>...</td>\n",
       "      <td>...</td>\n",
       "      <td>...</td>\n",
       "      <td>...</td>\n",
       "      <td>...</td>\n",
       "    </tr>\n",
       "    <tr>\n",
       "      <th>262822</th>\n",
       "      <td>внедорожник</td>\n",
       "      <td>VOLVO</td>\n",
       "      <td>синий</td>\n",
       "      <td>2.0</td>\n",
       "      <td>320.0</td>\n",
       "      <td>бензин</td>\n",
       "      <td>NaN</td>\n",
       "      <td>2019.0</td>\n",
       "      <td>NaN</td>\n",
       "      <td>Volvo XC90 II Рестайлинг</td>\n",
       "      <td>5.0</td>\n",
       "      <td>2021.0</td>\n",
       "      <td>0</td>\n",
       "      <td>{'sale-data-attributes': {'asciiCat': 'cars', ...</td>\n",
       "      <td>ALLROAD_5_DOORS AUTOMATIC 2.0</td>\n",
       "      <td>automatic</td>\n",
       "      <td>EUROPEAN</td>\n",
       "      <td>nan</td>\n",
       "      <td>NaN</td>\n",
       "      <td>NaN</td>\n",
       "      <td>NaN</td>\n",
       "      <td>NaN</td>\n",
       "      <td>NaN</td>\n",
       "      <td>NaN</td>\n",
       "      <td>1</td>\n",
       "      <td>1</td>\n",
       "      <td>7080000.0</td>\n",
       "      <td>NaN</td>\n",
       "      <td>15.772784</td>\n",
       "      <td>[multi-wheel, heated-wash-system, airbag-passe...</td>\n",
       "      <td>1.634245e+09</td>\n",
       "    </tr>\n",
       "    <tr>\n",
       "      <th>262827</th>\n",
       "      <td>внедорожник</td>\n",
       "      <td>VOLVO</td>\n",
       "      <td>белый</td>\n",
       "      <td>2.0</td>\n",
       "      <td>249.0</td>\n",
       "      <td>бензин</td>\n",
       "      <td>NaN</td>\n",
       "      <td>2019.0</td>\n",
       "      <td>NaN</td>\n",
       "      <td>Volvo XC90 II Рестайлинг</td>\n",
       "      <td>5.0</td>\n",
       "      <td>2021.0</td>\n",
       "      <td>0</td>\n",
       "      <td>{'sale-data-attributes': {'asciiCat': 'cars', ...</td>\n",
       "      <td>ALLROAD_5_DOORS AUTOMATIC 2.0</td>\n",
       "      <td>automatic</td>\n",
       "      <td>EUROPEAN</td>\n",
       "      <td>nan</td>\n",
       "      <td>NaN</td>\n",
       "      <td>NaN</td>\n",
       "      <td>NaN</td>\n",
       "      <td>NaN</td>\n",
       "      <td>NaN</td>\n",
       "      <td>NaN</td>\n",
       "      <td>1</td>\n",
       "      <td>1</td>\n",
       "      <td>5968000.0</td>\n",
       "      <td>NaN</td>\n",
       "      <td>15.601922</td>\n",
       "      <td>[aux, light-sensor, easy-trunk-opening, electr...</td>\n",
       "      <td>1.634245e+09</td>\n",
       "    </tr>\n",
       "    <tr>\n",
       "      <th>262833</th>\n",
       "      <td>внедорожник</td>\n",
       "      <td>VOLVO</td>\n",
       "      <td>серый</td>\n",
       "      <td>2.0</td>\n",
       "      <td>320.0</td>\n",
       "      <td>бензин</td>\n",
       "      <td>NaN</td>\n",
       "      <td>2019.0</td>\n",
       "      <td>NaN</td>\n",
       "      <td>Volvo XC90 II Рестайлинг</td>\n",
       "      <td>5.0</td>\n",
       "      <td>2021.0</td>\n",
       "      <td>0</td>\n",
       "      <td>{'sale-data-attributes': {'asciiCat': 'cars', ...</td>\n",
       "      <td>ALLROAD_5_DOORS AUTOMATIC 2.0</td>\n",
       "      <td>automatic</td>\n",
       "      <td>EUROPEAN</td>\n",
       "      <td>nan</td>\n",
       "      <td>NaN</td>\n",
       "      <td>NaN</td>\n",
       "      <td>NaN</td>\n",
       "      <td>NaN</td>\n",
       "      <td>NaN</td>\n",
       "      <td>NaN</td>\n",
       "      <td>1</td>\n",
       "      <td>1</td>\n",
       "      <td>5832000.0</td>\n",
       "      <td>NaN</td>\n",
       "      <td>15.578871</td>\n",
       "      <td>[multi-wheel, heated-wash-system, airbag-passe...</td>\n",
       "      <td>1.634245e+09</td>\n",
       "    </tr>\n",
       "    <tr>\n",
       "      <th>262835</th>\n",
       "      <td>внедорожник</td>\n",
       "      <td>VOLVO</td>\n",
       "      <td>синий</td>\n",
       "      <td>2.0</td>\n",
       "      <td>320.0</td>\n",
       "      <td>гибрид</td>\n",
       "      <td>NaN</td>\n",
       "      <td>2019.0</td>\n",
       "      <td>NaN</td>\n",
       "      <td>Volvo XC90 II Рестайлинг</td>\n",
       "      <td>5.0</td>\n",
       "      <td>2021.0</td>\n",
       "      <td>0</td>\n",
       "      <td>{'sale-data-attributes': {'asciiCat': 'cars', ...</td>\n",
       "      <td>ALLROAD_5_DOORS AUTOMATIC 2.0</td>\n",
       "      <td>automatic</td>\n",
       "      <td>EUROPEAN</td>\n",
       "      <td>nan</td>\n",
       "      <td>NaN</td>\n",
       "      <td>NaN</td>\n",
       "      <td>NaN</td>\n",
       "      <td>NaN</td>\n",
       "      <td>NaN</td>\n",
       "      <td>NaN</td>\n",
       "      <td>1</td>\n",
       "      <td>1</td>\n",
       "      <td>5728000.0</td>\n",
       "      <td>NaN</td>\n",
       "      <td>15.560877</td>\n",
       "      <td>[multi-wheel, heated-wash-system, airbag-passe...</td>\n",
       "      <td>1.634245e+09</td>\n",
       "    </tr>\n",
       "    <tr>\n",
       "      <th>262838</th>\n",
       "      <td>внедорожник</td>\n",
       "      <td>VOLVO</td>\n",
       "      <td>синий</td>\n",
       "      <td>2.0</td>\n",
       "      <td>235.0</td>\n",
       "      <td>дизель</td>\n",
       "      <td>NaN</td>\n",
       "      <td>2019.0</td>\n",
       "      <td>NaN</td>\n",
       "      <td>Volvo XC90 II Рестайлинг</td>\n",
       "      <td>5.0</td>\n",
       "      <td>2021.0</td>\n",
       "      <td>0</td>\n",
       "      <td>{'sale-data-attributes': {'asciiCat': 'cars', ...</td>\n",
       "      <td>ALLROAD_5_DOORS AUTOMATIC 2.0</td>\n",
       "      <td>automatic</td>\n",
       "      <td>EUROPEAN</td>\n",
       "      <td>nan</td>\n",
       "      <td>NaN</td>\n",
       "      <td>NaN</td>\n",
       "      <td>NaN</td>\n",
       "      <td>NaN</td>\n",
       "      <td>NaN</td>\n",
       "      <td>NaN</td>\n",
       "      <td>1</td>\n",
       "      <td>1</td>\n",
       "      <td>7664000.0</td>\n",
       "      <td>NaN</td>\n",
       "      <td>15.852045</td>\n",
       "      <td>[multi-wheel, heated-wash-system, airbag-passe...</td>\n",
       "      <td>1.634245e+09</td>\n",
       "    </tr>\n",
       "  </tbody>\n",
       "</table>\n",
       "<p>30128 rows × 31 columns</p>\n",
       "</div>"
      ],
      "text/plain": [
       "           bodyType  brand        color  engineDisplacement  enginePower  \\\n",
       "124068      лифтбек  SKODA        белый                 1.6        110.0   \n",
       "124074      лифтбек  SKODA        серый                 1.6        110.0   \n",
       "124079      лифтбек  SKODA       чёрный                 1.4        125.0   \n",
       "124080      лифтбек  SKODA        серый                 1.4        125.0   \n",
       "124084      лифтбек  SKODA  серебристый                 1.4        125.0   \n",
       "...             ...    ...          ...                 ...          ...   \n",
       "262822  внедорожник  VOLVO        синий                 2.0        320.0   \n",
       "262827  внедорожник  VOLVO        белый                 2.0        249.0   \n",
       "262833  внедорожник  VOLVO        серый                 2.0        320.0   \n",
       "262835  внедорожник  VOLVO        синий                 2.0        320.0   \n",
       "262838  внедорожник  VOLVO        синий                 2.0        235.0   \n",
       "\n",
       "       fuelType  mileage  modelDate model_name                      name  \\\n",
       "124068   бензин      NaN     2020.0        NaN            Skoda Rapid II   \n",
       "124074   бензин      NaN     2020.0        NaN            Skoda Rapid II   \n",
       "124079   бензин      NaN     2020.0        NaN            Skoda Rapid II   \n",
       "124080   бензин      NaN     2020.0        NaN            Skoda Rapid II   \n",
       "124084   бензин      NaN     2020.0        NaN            Skoda Rapid II   \n",
       "...         ...      ...        ...        ...                       ...   \n",
       "262822   бензин      NaN     2019.0        NaN  Volvo XC90 II Рестайлинг   \n",
       "262827   бензин      NaN     2019.0        NaN  Volvo XC90 II Рестайлинг   \n",
       "262833   бензин      NaN     2019.0        NaN  Volvo XC90 II Рестайлинг   \n",
       "262835   гибрид      NaN     2019.0        NaN  Volvo XC90 II Рестайлинг   \n",
       "262838   дизель      NaN     2019.0        NaN  Volvo XC90 II Рестайлинг   \n",
       "\n",
       "        numberOfDoors  productionDate  sell_id  \\\n",
       "124068            5.0          2021.0        0   \n",
       "124074            5.0          2021.0        0   \n",
       "124079            5.0          2021.0        0   \n",
       "124080            5.0          2021.0        0   \n",
       "124084            5.0          2021.0        0   \n",
       "...               ...             ...      ...   \n",
       "262822            5.0          2021.0        0   \n",
       "262827            5.0          2021.0        0   \n",
       "262833            5.0          2021.0        0   \n",
       "262835            5.0          2021.0        0   \n",
       "262838            5.0          2021.0        0   \n",
       "\n",
       "                                                super_gen  \\\n",
       "124068  {'sale-data-attributes': {'asciiCat': 'cars', ...   \n",
       "124074  {'sale-data-attributes': {'asciiCat': 'cars', ...   \n",
       "124079  {'sale-data-attributes': {'asciiCat': 'cars', ...   \n",
       "124080  {'sale-data-attributes': {'asciiCat': 'cars', ...   \n",
       "124084  {'sale-data-attributes': {'asciiCat': 'cars', ...   \n",
       "...                                                   ...   \n",
       "262822  {'sale-data-attributes': {'asciiCat': 'cars', ...   \n",
       "262827  {'sale-data-attributes': {'asciiCat': 'cars', ...   \n",
       "262833  {'sale-data-attributes': {'asciiCat': 'cars', ...   \n",
       "262835  {'sale-data-attributes': {'asciiCat': 'cars', ...   \n",
       "262838  {'sale-data-attributes': {'asciiCat': 'cars', ...   \n",
       "\n",
       "                 vehicleConfiguration vehicleTransmission    vendor owners  \\\n",
       "124068         LIFTBACK AUTOMATIC 1.6           automatic  EUROPEAN    nan   \n",
       "124074         LIFTBACK AUTOMATIC 1.6           automatic  EUROPEAN    nan   \n",
       "124079             LIFTBACK ROBOT 1.4               robot  EUROPEAN    nan   \n",
       "124080             LIFTBACK ROBOT 1.4               robot  EUROPEAN    nan   \n",
       "124084             LIFTBACK ROBOT 1.4               robot  EUROPEAN    nan   \n",
       "...                               ...                 ...       ...    ...   \n",
       "262822  ALLROAD_5_DOORS AUTOMATIC 2.0           automatic  EUROPEAN    nan   \n",
       "262827  ALLROAD_5_DOORS AUTOMATIC 2.0           automatic  EUROPEAN    nan   \n",
       "262833  ALLROAD_5_DOORS AUTOMATIC 2.0           automatic  EUROPEAN    nan   \n",
       "262835  ALLROAD_5_DOORS AUTOMATIC 2.0           automatic  EUROPEAN    nan   \n",
       "262838  ALLROAD_5_DOORS AUTOMATIC 2.0           automatic  EUROPEAN    nan   \n",
       "\n",
       "       ownership vehicle_licence driving_gear steering_wheel condition  \\\n",
       "124068       NaN             NaN          NaN            NaN       NaN   \n",
       "124074       NaN             NaN          NaN            NaN       NaN   \n",
       "124079       NaN             NaN          NaN            NaN       NaN   \n",
       "124080       NaN             NaN          NaN            NaN       NaN   \n",
       "124084       NaN             NaN          NaN            NaN       NaN   \n",
       "...          ...             ...          ...            ...       ...   \n",
       "262822       NaN             NaN          NaN            NaN       NaN   \n",
       "262827       NaN             NaN          NaN            NaN       NaN   \n",
       "262833       NaN             NaN          NaN            NaN       NaN   \n",
       "262835       NaN             NaN          NaN            NaN       NaN   \n",
       "262838       NaN             NaN          NaN            NaN       NaN   \n",
       "\n",
       "       customs  train  new_data      price date_added  price_log  \\\n",
       "124068     NaN      1         1  1224000.0        NaN  14.017635   \n",
       "124074     NaN      1         1  1184000.0        NaN  13.984409   \n",
       "124079     NaN      1         1  1256000.0        NaN  14.043443   \n",
       "124080     NaN      1         1  1256000.0        NaN  14.043443   \n",
       "124084     NaN      1         1  1208000.0        NaN  14.004477   \n",
       "...        ...    ...       ...        ...        ...        ...   \n",
       "262822     NaN      1         1  7080000.0        NaN  15.772784   \n",
       "262827     NaN      1         1  5968000.0        NaN  15.601922   \n",
       "262833     NaN      1         1  5832000.0        NaN  15.578871   \n",
       "262835     NaN      1         1  5728000.0        NaN  15.560877   \n",
       "262838     NaN      1         1  7664000.0        NaN  15.852045   \n",
       "\n",
       "                                              equip_compl  parsing_unixtime  \n",
       "124068  [cruise-control, asr, tinted-glass, esp, usb, ...      1.634159e+09  \n",
       "124074  [usb, tyre-pressure, dark-interior, front-seat...      1.634159e+09  \n",
       "124079  [cruise-control, glonass, asr, esp, airbag-dri...      1.634159e+09  \n",
       "124080  [cruise-control, asr, glonass, esp, airbag-dri...      1.634159e+09  \n",
       "124084  [cruise-control, asr, tinted-glass, esp, usb, ...      1.634159e+09  \n",
       "...                                                   ...               ...  \n",
       "262822  [multi-wheel, heated-wash-system, airbag-passe...      1.634245e+09  \n",
       "262827  [aux, light-sensor, easy-trunk-opening, electr...      1.634245e+09  \n",
       "262833  [multi-wheel, heated-wash-system, airbag-passe...      1.634245e+09  \n",
       "262835  [multi-wheel, heated-wash-system, airbag-passe...      1.634245e+09  \n",
       "262838  [multi-wheel, heated-wash-system, airbag-passe...      1.634245e+09  \n",
       "\n",
       "[30128 rows x 31 columns]"
      ]
     },
     "execution_count": 928,
     "metadata": {},
     "output_type": "execute_result"
    }
   ],
   "source": [
    "bined_df[bined_df.mileage.isna()]"
   ]
  },
  {
   "cell_type": "code",
   "execution_count": 929,
   "id": "0958c047",
   "metadata": {},
   "outputs": [],
   "source": [
    "# Let's fill missing mileage with an average value by productionDate\n",
    "bined_df.loc[bined_df.mileage.isna(), 'mileage'] = bined_df.groupby('productionDate').mileage.transform('mean')"
   ]
  },
  {
   "cell_type": "code",
   "execution_count": 930,
   "id": "1d572952",
   "metadata": {},
   "outputs": [
    {
     "data": {
      "text/plain": [
       "0"
      ]
     },
     "execution_count": 930,
     "metadata": {},
     "output_type": "execute_result"
    }
   ],
   "source": [
    "bined_df.mileage.isna().sum()"
   ]
  },
  {
   "cell_type": "code",
   "execution_count": 931,
   "id": "94f31b68",
   "metadata": {},
   "outputs": [
    {
     "data": {
      "text/plain": [
       "<AxesSubplot:>"
      ]
     },
     "execution_count": 931,
     "metadata": {},
     "output_type": "execute_result"
    },
    {
     "data": {
      "image/png": "[encoded data removed]",
      "text/plain": [
       "<Figure size 432x288 with 1 Axes>"
      ]
     },
     "metadata": {
      "needs_background": "light"
     },
     "output_type": "display_data"
    }
   ],
   "source": [
    "bined_df.mileage.hist()"
   ]
  },
  {
   "cell_type": "code",
   "execution_count": 932,
   "id": "15d997ff",
   "metadata": {},
   "outputs": [
    {
     "data": {
      "text/plain": [
       "<AxesSubplot:xlabel='mileage', ylabel='price'>"
      ]
     },
     "execution_count": 932,
     "metadata": {},
     "output_type": "execute_result"
    },
    {
     "data": {
      "image/png": "[encoded data removed]",
      "text/plain": [
       "<Figure size 1080x432 with 1 Axes>"
      ]
     },
     "metadata": {
      "needs_background": "light"
     },
     "output_type": "display_data"
    }
   ],
   "source": [
    "plt.figure(figsize = (15, 6))\n",
    "sns.scatterplot(data = bined_df[bined_df['train'] == 1], x = 'mileage', y = 'price')"
   ]
  },
  {
   "cell_type": "code",
   "execution_count": 936,
   "id": "1515530c",
   "metadata": {},
   "outputs": [
    {
     "data": {
      "text/plain": [
       "(-1150.001, 230000.0]    182097\n",
       "(230000.0, 460000.0]      33045\n",
       "(460000.0, 690000.0]       1166\n",
       "(690000.0, 920000.0]        235\n",
       "(920000.0, 1150000.0]        56\n",
       "Name: mileage, dtype: int64"
      ]
     },
     "execution_count": 936,
     "metadata": {},
     "output_type": "execute_result"
    }
   ],
   "source": [
    "bined_df.mileage.value_counts(bins = 5)"
   ]
  },
  {
   "cell_type": "code",
   "execution_count": 933,
   "id": "8bb565dc",
   "metadata": {},
   "outputs": [
    {
     "data": {
      "text/html": [
       "<div>\n",
       "<style scoped>\n",
       "    .dataframe tbody tr th:only-of-type {\n",
       "        vertical-align: middle;\n",
       "    }\n",
       "\n",
       "    .dataframe tbody tr th {\n",
       "        vertical-align: top;\n",
       "    }\n",
       "\n",
       "    .dataframe thead th {\n",
       "        text-align: right;\n",
       "    }\n",
       "</style>\n",
       "<table border=\"1\" class=\"dataframe\">\n",
       "  <thead>\n",
       "    <tr style=\"text-align: right;\">\n",
       "      <th></th>\n",
       "      <th>bodyType</th>\n",
       "      <th>brand</th>\n",
       "      <th>color</th>\n",
       "      <th>engineDisplacement</th>\n",
       "      <th>enginePower</th>\n",
       "      <th>fuelType</th>\n",
       "      <th>mileage</th>\n",
       "      <th>modelDate</th>\n",
       "      <th>model_name</th>\n",
       "      <th>name</th>\n",
       "      <th>numberOfDoors</th>\n",
       "      <th>productionDate</th>\n",
       "      <th>sell_id</th>\n",
       "      <th>super_gen</th>\n",
       "      <th>vehicleConfiguration</th>\n",
       "      <th>vehicleTransmission</th>\n",
       "      <th>vendor</th>\n",
       "      <th>owners</th>\n",
       "      <th>ownership</th>\n",
       "      <th>vehicle_licence</th>\n",
       "      <th>driving_gear</th>\n",
       "      <th>steering_wheel</th>\n",
       "      <th>condition</th>\n",
       "      <th>customs</th>\n",
       "      <th>train</th>\n",
       "      <th>new_data</th>\n",
       "      <th>price</th>\n",
       "      <th>date_added</th>\n",
       "      <th>price_log</th>\n",
       "      <th>equip_compl</th>\n",
       "      <th>parsing_unixtime</th>\n",
       "    </tr>\n",
       "  </thead>\n",
       "  <tbody>\n",
       "    <tr>\n",
       "      <th>655</th>\n",
       "      <td>универсал</td>\n",
       "      <td>SKODA</td>\n",
       "      <td>белый</td>\n",
       "      <td>1.2</td>\n",
       "      <td>105.0</td>\n",
       "      <td>бензин</td>\n",
       "      <td>550000.0</td>\n",
       "      <td>2013.0</td>\n",
       "      <td>OCTAVIA</td>\n",
       "      <td>1.2 MT (105 л.с.)</td>\n",
       "      <td>5.0</td>\n",
       "      <td>2013.0</td>\n",
       "      <td>1101147381</td>\n",
       "      <td>{\"id\":\"10373632\",\"displacement\":1197,\"engine_t...</td>\n",
       "      <td>WAGON_5_DOORS MECHANICAL 1.2</td>\n",
       "      <td>mechanical</td>\n",
       "      <td>EUROPEAN</td>\n",
       "      <td>3</td>\n",
       "      <td>NaN</td>\n",
       "      <td>Оригинал</td>\n",
       "      <td>передний</td>\n",
       "      <td>Левый</td>\n",
       "      <td>Не требует ремонта</td>\n",
       "      <td>Растаможен</td>\n",
       "      <td>0</td>\n",
       "      <td>0</td>\n",
       "      <td>NaN</td>\n",
       "      <td>NaN</td>\n",
       "      <td>NaN</td>\n",
       "      <td>[asr, esp, airbag-driver, aux, isofix, usb, ai...</td>\n",
       "      <td>1.603228e+09</td>\n",
       "    </tr>\n",
       "    <tr>\n",
       "      <th>1912</th>\n",
       "      <td>универсал</td>\n",
       "      <td>SKODA</td>\n",
       "      <td>серебристый</td>\n",
       "      <td>1.9</td>\n",
       "      <td>110.0</td>\n",
       "      <td>дизель</td>\n",
       "      <td>657000.0</td>\n",
       "      <td>2000.0</td>\n",
       "      <td>OCTAVIA</td>\n",
       "      <td>1.9d MT (110 л.с.)</td>\n",
       "      <td>5.0</td>\n",
       "      <td>2001.0</td>\n",
       "      <td>1080909484</td>\n",
       "      <td>{\"id\":\"4760662\",\"displacement\":1896,\"engine_ty...</td>\n",
       "      <td>WAGON_5_DOORS MECHANICAL 1.9</td>\n",
       "      <td>mechanical</td>\n",
       "      <td>EUROPEAN</td>\n",
       "      <td>3</td>\n",
       "      <td>NaN</td>\n",
       "      <td>Дубликат</td>\n",
       "      <td>передний</td>\n",
       "      <td>Левый</td>\n",
       "      <td>Не требует ремонта</td>\n",
       "      <td>Растаможен</td>\n",
       "      <td>0</td>\n",
       "      <td>0</td>\n",
       "      <td>NaN</td>\n",
       "      <td>NaN</td>\n",
       "      <td>NaN</td>\n",
       "      <td>[cruise-control, engine-proof, asr, tinted-gla...</td>\n",
       "      <td>1.603228e+09</td>\n",
       "    </tr>\n",
       "    <tr>\n",
       "      <th>2643</th>\n",
       "      <td>внедорожник</td>\n",
       "      <td>AUDI</td>\n",
       "      <td>серый</td>\n",
       "      <td>4.2</td>\n",
       "      <td>350.0</td>\n",
       "      <td>бензин</td>\n",
       "      <td>528123.0</td>\n",
       "      <td>2005.0</td>\n",
       "      <td>Q7</td>\n",
       "      <td>4.2 AT (350 л.с.) 4WD</td>\n",
       "      <td>5.0</td>\n",
       "      <td>2008.0</td>\n",
       "      <td>1101123342</td>\n",
       "      <td>{\"id\":\"2305498\",\"displacement\":4163,\"engine_ty...</td>\n",
       "      <td>ALLROAD_5_DOORS AUTOMATIC 4.2</td>\n",
       "      <td>automatic</td>\n",
       "      <td>EUROPEAN</td>\n",
       "      <td>1</td>\n",
       "      <td>NaN</td>\n",
       "      <td>Оригинал</td>\n",
       "      <td>полный</td>\n",
       "      <td>Левый</td>\n",
       "      <td>Не требует ремонта</td>\n",
       "      <td>Растаможен</td>\n",
       "      <td>0</td>\n",
       "      <td>0</td>\n",
       "      <td>NaN</td>\n",
       "      <td>NaN</td>\n",
       "      <td>NaN</td>\n",
       "      <td>[cruise-control, asr, tinted-glass, esp, airba...</td>\n",
       "      <td>1.603055e+09</td>\n",
       "    </tr>\n",
       "    <tr>\n",
       "      <th>2768</th>\n",
       "      <td>седан</td>\n",
       "      <td>AUDI</td>\n",
       "      <td>чёрный</td>\n",
       "      <td>2.2</td>\n",
       "      <td>230.0</td>\n",
       "      <td>бензин</td>\n",
       "      <td>629000.0</td>\n",
       "      <td>1994.0</td>\n",
       "      <td>S6</td>\n",
       "      <td>2.2 MT (230 л.с.) 4WD</td>\n",
       "      <td>4.0</td>\n",
       "      <td>1996.0</td>\n",
       "      <td>1101215439</td>\n",
       "      <td>{\"id\":\"6297117\",\"displacement\":2226,\"engine_ty...</td>\n",
       "      <td>SEDAN MECHANICAL 2.2</td>\n",
       "      <td>mechanical</td>\n",
       "      <td>EUROPEAN</td>\n",
       "      <td>3</td>\n",
       "      <td>NaN</td>\n",
       "      <td>Оригинал</td>\n",
       "      <td>полный</td>\n",
       "      <td>Левый</td>\n",
       "      <td>Не требует ремонта</td>\n",
       "      <td>Растаможен</td>\n",
       "      <td>0</td>\n",
       "      <td>0</td>\n",
       "      <td>NaN</td>\n",
       "      <td>NaN</td>\n",
       "      <td>NaN</td>\n",
       "      <td>NaN</td>\n",
       "      <td>1.603055e+09</td>\n",
       "    </tr>\n",
       "    <tr>\n",
       "      <th>3139</th>\n",
       "      <td>седан</td>\n",
       "      <td>AUDI</td>\n",
       "      <td>чёрный</td>\n",
       "      <td>2.3</td>\n",
       "      <td>133.0</td>\n",
       "      <td>бензин</td>\n",
       "      <td>600000.0</td>\n",
       "      <td>1991.0</td>\n",
       "      <td>80</td>\n",
       "      <td>2.3 MT (133 л.с.)</td>\n",
       "      <td>4.0</td>\n",
       "      <td>1991.0</td>\n",
       "      <td>1091799378</td>\n",
       "      <td>{\"id\":\"7879207\",\"displacement\":2309,\"engine_ty...</td>\n",
       "      <td>SEDAN MECHANICAL 2.3</td>\n",
       "      <td>mechanical</td>\n",
       "      <td>EUROPEAN</td>\n",
       "      <td>3</td>\n",
       "      <td>NaN</td>\n",
       "      <td>Оригинал</td>\n",
       "      <td>передний</td>\n",
       "      <td>Левый</td>\n",
       "      <td>Не требует ремонта</td>\n",
       "      <td>Растаможен</td>\n",
       "      <td>0</td>\n",
       "      <td>0</td>\n",
       "      <td>NaN</td>\n",
       "      <td>NaN</td>\n",
       "      <td>NaN</td>\n",
       "      <td>NaN</td>\n",
       "      <td>1.603055e+09</td>\n",
       "    </tr>\n",
       "    <tr>\n",
       "      <th>...</th>\n",
       "      <td>...</td>\n",
       "      <td>...</td>\n",
       "      <td>...</td>\n",
       "      <td>...</td>\n",
       "      <td>...</td>\n",
       "      <td>...</td>\n",
       "      <td>...</td>\n",
       "      <td>...</td>\n",
       "      <td>...</td>\n",
       "      <td>...</td>\n",
       "      <td>...</td>\n",
       "      <td>...</td>\n",
       "      <td>...</td>\n",
       "      <td>...</td>\n",
       "      <td>...</td>\n",
       "      <td>...</td>\n",
       "      <td>...</td>\n",
       "      <td>...</td>\n",
       "      <td>...</td>\n",
       "      <td>...</td>\n",
       "      <td>...</td>\n",
       "      <td>...</td>\n",
       "      <td>...</td>\n",
       "      <td>...</td>\n",
       "      <td>...</td>\n",
       "      <td>...</td>\n",
       "      <td>...</td>\n",
       "      <td>...</td>\n",
       "      <td>...</td>\n",
       "      <td>...</td>\n",
       "      <td>...</td>\n",
       "    </tr>\n",
       "    <tr>\n",
       "      <th>262071</th>\n",
       "      <td>универсал</td>\n",
       "      <td>VOLVO</td>\n",
       "      <td>зелёный</td>\n",
       "      <td>2.0</td>\n",
       "      <td>111.0</td>\n",
       "      <td>бензин</td>\n",
       "      <td>519000.0</td>\n",
       "      <td>1988.0</td>\n",
       "      <td>940</td>\n",
       "      <td>Volvo 940</td>\n",
       "      <td>5.0</td>\n",
       "      <td>1992.0</td>\n",
       "      <td>0</td>\n",
       "      <td>{'sale-data-attributes': {'asciiCat': 'cars', ...</td>\n",
       "      <td>WAGON_5_DOORS MECHANICAL 2.0</td>\n",
       "      <td>mechanical</td>\n",
       "      <td>EUROPEAN</td>\n",
       "      <td>3</td>\n",
       "      <td>NaN</td>\n",
       "      <td>Дубликат</td>\n",
       "      <td>задний</td>\n",
       "      <td>Левый</td>\n",
       "      <td>Не требует ремонта</td>\n",
       "      <td>Растаможен</td>\n",
       "      <td>1</td>\n",
       "      <td>1</td>\n",
       "      <td>184000.0</td>\n",
       "      <td>11 октября</td>\n",
       "      <td>12.122691</td>\n",
       "      <td>[front-centre-armrest, alloy-wheel-disks, ptf,...</td>\n",
       "      <td>1.634245e+09</td>\n",
       "    </tr>\n",
       "    <tr>\n",
       "      <th>262367</th>\n",
       "      <td>седан</td>\n",
       "      <td>VOLVO</td>\n",
       "      <td>синий</td>\n",
       "      <td>2.4</td>\n",
       "      <td>131.0</td>\n",
       "      <td>дизель</td>\n",
       "      <td>1017000.0</td>\n",
       "      <td>2000.0</td>\n",
       "      <td>S60</td>\n",
       "      <td>Volvo S60 I</td>\n",
       "      <td>4.0</td>\n",
       "      <td>2002.0</td>\n",
       "      <td>0</td>\n",
       "      <td>{'sale-data-attributes': {'asciiCat': 'cars', ...</td>\n",
       "      <td>SEDAN AUTOMATIC 2.4</td>\n",
       "      <td>automatic</td>\n",
       "      <td>EUROPEAN</td>\n",
       "      <td>3</td>\n",
       "      <td>1 год и 5 месяцев</td>\n",
       "      <td>Дубликат</td>\n",
       "      <td>передний</td>\n",
       "      <td>Левый</td>\n",
       "      <td>Не требует ремонта</td>\n",
       "      <td>Растаможен</td>\n",
       "      <td>1</td>\n",
       "      <td>1</td>\n",
       "      <td>280000.0</td>\n",
       "      <td>4 октября</td>\n",
       "      <td>12.542545</td>\n",
       "      <td>[cruise-control, tinted-glass, esp, electro-wi...</td>\n",
       "      <td>1.634245e+09</td>\n",
       "    </tr>\n",
       "    <tr>\n",
       "      <th>262460</th>\n",
       "      <td>внедорожник</td>\n",
       "      <td>VOLVO</td>\n",
       "      <td>серый</td>\n",
       "      <td>4.4</td>\n",
       "      <td>315.0</td>\n",
       "      <td>бензин</td>\n",
       "      <td>548000.0</td>\n",
       "      <td>2006.0</td>\n",
       "      <td>XC90</td>\n",
       "      <td>Volvo XC90 I Рестайлинг</td>\n",
       "      <td>5.0</td>\n",
       "      <td>2007.0</td>\n",
       "      <td>0</td>\n",
       "      <td>{'sale-data-attributes': {'asciiCat': 'cars', ...</td>\n",
       "      <td>ALLROAD_5_DOORS AUTOMATIC 4.4</td>\n",
       "      <td>automatic</td>\n",
       "      <td>EUROPEAN</td>\n",
       "      <td>3</td>\n",
       "      <td>NaN</td>\n",
       "      <td>Оригинал</td>\n",
       "      <td>полный</td>\n",
       "      <td>Левый</td>\n",
       "      <td>Не требует ремонта</td>\n",
       "      <td>Растаможен</td>\n",
       "      <td>1</td>\n",
       "      <td>1</td>\n",
       "      <td>600000.0</td>\n",
       "      <td>7 марта</td>\n",
       "      <td>13.304685</td>\n",
       "      <td>[]</td>\n",
       "      <td>1.634245e+09</td>\n",
       "    </tr>\n",
       "    <tr>\n",
       "      <th>262547</th>\n",
       "      <td>универсал</td>\n",
       "      <td>VOLVO</td>\n",
       "      <td>серебристый</td>\n",
       "      <td>2.4</td>\n",
       "      <td>140.0</td>\n",
       "      <td>бензин</td>\n",
       "      <td>536000.0</td>\n",
       "      <td>1991.0</td>\n",
       "      <td>850</td>\n",
       "      <td>Volvo 850</td>\n",
       "      <td>5.0</td>\n",
       "      <td>1996.0</td>\n",
       "      <td>0</td>\n",
       "      <td>{'sale-data-attributes': {'asciiCat': 'cars', ...</td>\n",
       "      <td>WAGON_5_DOORS MECHANICAL 2.4</td>\n",
       "      <td>mechanical</td>\n",
       "      <td>EUROPEAN</td>\n",
       "      <td>3</td>\n",
       "      <td>NaN</td>\n",
       "      <td>Дубликат</td>\n",
       "      <td>передний</td>\n",
       "      <td>Левый</td>\n",
       "      <td>Не требует ремонта</td>\n",
       "      <td>Растаможен</td>\n",
       "      <td>1</td>\n",
       "      <td>1</td>\n",
       "      <td>136000.0</td>\n",
       "      <td>12 сентября</td>\n",
       "      <td>11.820410</td>\n",
       "      <td>[climate-control-1]</td>\n",
       "      <td>1.634245e+09</td>\n",
       "    </tr>\n",
       "    <tr>\n",
       "      <th>262593</th>\n",
       "      <td>седан</td>\n",
       "      <td>VOLVO</td>\n",
       "      <td>голубой</td>\n",
       "      <td>2.4</td>\n",
       "      <td>165.0</td>\n",
       "      <td>дизель</td>\n",
       "      <td>630000.0</td>\n",
       "      <td>1988.0</td>\n",
       "      <td>940</td>\n",
       "      <td>Volvo 940</td>\n",
       "      <td>4.0</td>\n",
       "      <td>1994.0</td>\n",
       "      <td>0</td>\n",
       "      <td>{'sale-data-attributes': {'asciiCat': 'cars', ...</td>\n",
       "      <td>SEDAN AUTOMATIC 2.4</td>\n",
       "      <td>automatic</td>\n",
       "      <td>EUROPEAN</td>\n",
       "      <td>3</td>\n",
       "      <td>NaN</td>\n",
       "      <td>Оригинал</td>\n",
       "      <td>задний</td>\n",
       "      <td>Левый</td>\n",
       "      <td>Не требует ремонта</td>\n",
       "      <td>Растаможен</td>\n",
       "      <td>1</td>\n",
       "      <td>1</td>\n",
       "      <td>176000.0</td>\n",
       "      <td>13 сентября</td>\n",
       "      <td>12.078239</td>\n",
       "      <td>[electro-window-back, tinted-glass, front-seat...</td>\n",
       "      <td>1.634245e+09</td>\n",
       "    </tr>\n",
       "  </tbody>\n",
       "</table>\n",
       "<p>949 rows × 31 columns</p>\n",
       "</div>"
      ],
      "text/plain": [
       "           bodyType  brand        color  engineDisplacement  enginePower  \\\n",
       "655       универсал  SKODA        белый                 1.2        105.0   \n",
       "1912      универсал  SKODA  серебристый                 1.9        110.0   \n",
       "2643    внедорожник   AUDI        серый                 4.2        350.0   \n",
       "2768          седан   AUDI       чёрный                 2.2        230.0   \n",
       "3139          седан   AUDI       чёрный                 2.3        133.0   \n",
       "...             ...    ...          ...                 ...          ...   \n",
       "262071    универсал  VOLVO      зелёный                 2.0        111.0   \n",
       "262367        седан  VOLVO        синий                 2.4        131.0   \n",
       "262460  внедорожник  VOLVO        серый                 4.4        315.0   \n",
       "262547    универсал  VOLVO  серебристый                 2.4        140.0   \n",
       "262593        седан  VOLVO      голубой                 2.4        165.0   \n",
       "\n",
       "       fuelType    mileage  modelDate model_name                     name  \\\n",
       "655      бензин   550000.0     2013.0    OCTAVIA        1.2 MT (105 л.с.)   \n",
       "1912     дизель   657000.0     2000.0    OCTAVIA       1.9d MT (110 л.с.)   \n",
       "2643     бензин   528123.0     2005.0         Q7    4.2 AT (350 л.с.) 4WD   \n",
       "2768     бензин   629000.0     1994.0         S6    2.2 MT (230 л.с.) 4WD   \n",
       "3139     бензин   600000.0     1991.0         80        2.3 MT (133 л.с.)   \n",
       "...         ...        ...        ...        ...                      ...   \n",
       "262071   бензин   519000.0     1988.0        940                Volvo 940   \n",
       "262367   дизель  1017000.0     2000.0        S60              Volvo S60 I   \n",
       "262460   бензин   548000.0     2006.0       XC90  Volvo XC90 I Рестайлинг   \n",
       "262547   бензин   536000.0     1991.0        850                Volvo 850   \n",
       "262593   дизель   630000.0     1988.0        940                Volvo 940   \n",
       "\n",
       "        numberOfDoors  productionDate     sell_id  \\\n",
       "655               5.0          2013.0  1101147381   \n",
       "1912              5.0          2001.0  1080909484   \n",
       "2643              5.0          2008.0  1101123342   \n",
       "2768              4.0          1996.0  1101215439   \n",
       "3139              4.0          1991.0  1091799378   \n",
       "...               ...             ...         ...   \n",
       "262071            5.0          1992.0           0   \n",
       "262367            4.0          2002.0           0   \n",
       "262460            5.0          2007.0           0   \n",
       "262547            5.0          1996.0           0   \n",
       "262593            4.0          1994.0           0   \n",
       "\n",
       "                                                super_gen  \\\n",
       "655     {\"id\":\"10373632\",\"displacement\":1197,\"engine_t...   \n",
       "1912    {\"id\":\"4760662\",\"displacement\":1896,\"engine_ty...   \n",
       "2643    {\"id\":\"2305498\",\"displacement\":4163,\"engine_ty...   \n",
       "2768    {\"id\":\"6297117\",\"displacement\":2226,\"engine_ty...   \n",
       "3139    {\"id\":\"7879207\",\"displacement\":2309,\"engine_ty...   \n",
       "...                                                   ...   \n",
       "262071  {'sale-data-attributes': {'asciiCat': 'cars', ...   \n",
       "262367  {'sale-data-attributes': {'asciiCat': 'cars', ...   \n",
       "262460  {'sale-data-attributes': {'asciiCat': 'cars', ...   \n",
       "262547  {'sale-data-attributes': {'asciiCat': 'cars', ...   \n",
       "262593  {'sale-data-attributes': {'asciiCat': 'cars', ...   \n",
       "\n",
       "                 vehicleConfiguration vehicleTransmission    vendor owners  \\\n",
       "655      WAGON_5_DOORS MECHANICAL 1.2          mechanical  EUROPEAN      3   \n",
       "1912     WAGON_5_DOORS MECHANICAL 1.9          mechanical  EUROPEAN      3   \n",
       "2643    ALLROAD_5_DOORS AUTOMATIC 4.2           automatic  EUROPEAN      1   \n",
       "2768             SEDAN MECHANICAL 2.2          mechanical  EUROPEAN      3   \n",
       "3139             SEDAN MECHANICAL 2.3          mechanical  EUROPEAN      3   \n",
       "...                               ...                 ...       ...    ...   \n",
       "262071   WAGON_5_DOORS MECHANICAL 2.0          mechanical  EUROPEAN      3   \n",
       "262367            SEDAN AUTOMATIC 2.4           automatic  EUROPEAN      3   \n",
       "262460  ALLROAD_5_DOORS AUTOMATIC 4.4           automatic  EUROPEAN      3   \n",
       "262547   WAGON_5_DOORS MECHANICAL 2.4          mechanical  EUROPEAN      3   \n",
       "262593            SEDAN AUTOMATIC 2.4           automatic  EUROPEAN      3   \n",
       "\n",
       "                ownership vehicle_licence driving_gear steering_wheel  \\\n",
       "655                   NaN        Оригинал     передний          Левый   \n",
       "1912                  NaN        Дубликат     передний          Левый   \n",
       "2643                  NaN        Оригинал       полный          Левый   \n",
       "2768                  NaN        Оригинал       полный          Левый   \n",
       "3139                  NaN        Оригинал     передний          Левый   \n",
       "...                   ...             ...          ...            ...   \n",
       "262071                NaN        Дубликат       задний          Левый   \n",
       "262367  1 год и 5 месяцев        Дубликат     передний          Левый   \n",
       "262460                NaN        Оригинал       полный          Левый   \n",
       "262547                NaN        Дубликат     передний          Левый   \n",
       "262593                NaN        Оригинал       задний          Левый   \n",
       "\n",
       "                 condition     customs  train  new_data     price  \\\n",
       "655     Не требует ремонта  Растаможен      0         0       NaN   \n",
       "1912    Не требует ремонта  Растаможен      0         0       NaN   \n",
       "2643    Не требует ремонта  Растаможен      0         0       NaN   \n",
       "2768    Не требует ремонта  Растаможен      0         0       NaN   \n",
       "3139    Не требует ремонта  Растаможен      0         0       NaN   \n",
       "...                    ...         ...    ...       ...       ...   \n",
       "262071  Не требует ремонта  Растаможен      1         1  184000.0   \n",
       "262367  Не требует ремонта  Растаможен      1         1  280000.0   \n",
       "262460  Не требует ремонта  Растаможен      1         1  600000.0   \n",
       "262547  Не требует ремонта  Растаможен      1         1  136000.0   \n",
       "262593  Не требует ремонта  Растаможен      1         1  176000.0   \n",
       "\n",
       "         date_added  price_log  \\\n",
       "655             NaN        NaN   \n",
       "1912            NaN        NaN   \n",
       "2643            NaN        NaN   \n",
       "2768            NaN        NaN   \n",
       "3139            NaN        NaN   \n",
       "...             ...        ...   \n",
       "262071   11 октября  12.122691   \n",
       "262367    4 октября  12.542545   \n",
       "262460      7 марта  13.304685   \n",
       "262547  12 сентября  11.820410   \n",
       "262593  13 сентября  12.078239   \n",
       "\n",
       "                                              equip_compl  parsing_unixtime  \n",
       "655     [asr, esp, airbag-driver, aux, isofix, usb, ai...      1.603228e+09  \n",
       "1912    [cruise-control, engine-proof, asr, tinted-gla...      1.603228e+09  \n",
       "2643    [cruise-control, asr, tinted-glass, esp, airba...      1.603055e+09  \n",
       "2768                                                  NaN      1.603055e+09  \n",
       "3139                                                  NaN      1.603055e+09  \n",
       "...                                                   ...               ...  \n",
       "262071  [front-centre-armrest, alloy-wheel-disks, ptf,...      1.634245e+09  \n",
       "262367  [cruise-control, tinted-glass, esp, electro-wi...      1.634245e+09  \n",
       "262460                                                 []      1.634245e+09  \n",
       "262547                                [climate-control-1]      1.634245e+09  \n",
       "262593  [electro-window-back, tinted-glass, front-seat...      1.634245e+09  \n",
       "\n",
       "[949 rows x 31 columns]"
      ]
     },
     "execution_count": 933,
     "metadata": {},
     "output_type": "execute_result"
    }
   ],
   "source": [
    "bined_df[bined_df.mileage > 500000]"
   ]
  },
  {
   "cell_type": "code",
   "execution_count": 822,
   "id": "26f43377",
   "metadata": {},
   "outputs": [
    {
     "data": {
      "text/html": [
       "<div>\n",
       "<style scoped>\n",
       "    .dataframe tbody tr th:only-of-type {\n",
       "        vertical-align: middle;\n",
       "    }\n",
       "\n",
       "    .dataframe tbody tr th {\n",
       "        vertical-align: top;\n",
       "    }\n",
       "\n",
       "    .dataframe thead th {\n",
       "        text-align: right;\n",
       "    }\n",
       "</style>\n",
       "<table border=\"1\" class=\"dataframe\">\n",
       "  <thead>\n",
       "    <tr style=\"text-align: right;\">\n",
       "      <th></th>\n",
       "      <th>bodyType</th>\n",
       "      <th>brand</th>\n",
       "      <th>color</th>\n",
       "      <th>engineDisplacement</th>\n",
       "      <th>enginePower</th>\n",
       "      <th>fuelType</th>\n",
       "      <th>mileage</th>\n",
       "      <th>modelDate</th>\n",
       "      <th>model_name</th>\n",
       "      <th>name</th>\n",
       "      <th>numberOfDoors</th>\n",
       "      <th>parsing_unixtime</th>\n",
       "      <th>priceCurrency</th>\n",
       "      <th>productionDate</th>\n",
       "      <th>sell_id</th>\n",
       "      <th>super_gen</th>\n",
       "      <th>vehicleConfiguration</th>\n",
       "      <th>vehicleTransmission</th>\n",
       "      <th>vendor</th>\n",
       "      <th>owners</th>\n",
       "      <th>ownership</th>\n",
       "      <th>vehicle_licence</th>\n",
       "      <th>driving_gear</th>\n",
       "      <th>steering_wheel</th>\n",
       "      <th>condition</th>\n",
       "      <th>customs</th>\n",
       "      <th>train</th>\n",
       "      <th>new_data</th>\n",
       "      <th>price</th>\n",
       "      <th>date_added</th>\n",
       "      <th>price_log</th>\n",
       "      <th>equip_compl</th>\n",
       "    </tr>\n",
       "  </thead>\n",
       "  <tbody>\n",
       "    <tr>\n",
       "      <th>655</th>\n",
       "      <td>универсал</td>\n",
       "      <td>SKODA</td>\n",
       "      <td>белый</td>\n",
       "      <td>1.2</td>\n",
       "      <td>105.0</td>\n",
       "      <td>бензин</td>\n",
       "      <td>550000.0</td>\n",
       "      <td>2013.0</td>\n",
       "      <td>OCTAVIA</td>\n",
       "      <td>1.2 MT (105 л.с.)</td>\n",
       "      <td>5.0</td>\n",
       "      <td>1.603229e+09</td>\n",
       "      <td>RUB</td>\n",
       "      <td>2013.0</td>\n",
       "      <td>1101147381</td>\n",
       "      <td>{\"id\":\"10373632\",\"displacement\":1197,\"engine_t...</td>\n",
       "      <td>WAGON_5_DOORS MECHANICAL 1.2</td>\n",
       "      <td>механическая</td>\n",
       "      <td>EUROPEAN</td>\n",
       "      <td>3 или более</td>\n",
       "      <td>NaN</td>\n",
       "      <td>Оригинал</td>\n",
       "      <td>передний</td>\n",
       "      <td>Левый</td>\n",
       "      <td>Не требует ремонта</td>\n",
       "      <td>Растаможен</td>\n",
       "      <td>0</td>\n",
       "      <td>0</td>\n",
       "      <td>NaN</td>\n",
       "      <td>NaN</td>\n",
       "      <td>NaN</td>\n",
       "      <td>[asr, esp, airbag-driver, aux, isofix, usb, ai...</td>\n",
       "    </tr>\n",
       "    <tr>\n",
       "      <th>1912</th>\n",
       "      <td>универсал</td>\n",
       "      <td>SKODA</td>\n",
       "      <td>серебристый</td>\n",
       "      <td>1.9</td>\n",
       "      <td>110.0</td>\n",
       "      <td>дизель</td>\n",
       "      <td>657000.0</td>\n",
       "      <td>2000.0</td>\n",
       "      <td>OCTAVIA</td>\n",
       "      <td>1.9d MT (110 л.с.)</td>\n",
       "      <td>5.0</td>\n",
       "      <td>1.603233e+09</td>\n",
       "      <td>RUB</td>\n",
       "      <td>2001.0</td>\n",
       "      <td>1080909484</td>\n",
       "      <td>{\"id\":\"4760662\",\"displacement\":1896,\"engine_ty...</td>\n",
       "      <td>WAGON_5_DOORS MECHANICAL 1.9</td>\n",
       "      <td>механическая</td>\n",
       "      <td>EUROPEAN</td>\n",
       "      <td>3 или более</td>\n",
       "      <td>NaN</td>\n",
       "      <td>Дубликат</td>\n",
       "      <td>передний</td>\n",
       "      <td>Левый</td>\n",
       "      <td>Не требует ремонта</td>\n",
       "      <td>Растаможен</td>\n",
       "      <td>0</td>\n",
       "      <td>0</td>\n",
       "      <td>NaN</td>\n",
       "      <td>NaN</td>\n",
       "      <td>NaN</td>\n",
       "      <td>[cruise-control, engine-proof, asr, tinted-gla...</td>\n",
       "    </tr>\n",
       "    <tr>\n",
       "      <th>2643</th>\n",
       "      <td>внедорожник</td>\n",
       "      <td>AUDI</td>\n",
       "      <td>серый</td>\n",
       "      <td>4.2</td>\n",
       "      <td>350.0</td>\n",
       "      <td>бензин</td>\n",
       "      <td>528123.0</td>\n",
       "      <td>2005.0</td>\n",
       "      <td>Q7</td>\n",
       "      <td>4.2 AT (350 л.с.) 4WD</td>\n",
       "      <td>5.0</td>\n",
       "      <td>1.603123e+09</td>\n",
       "      <td>RUB</td>\n",
       "      <td>2008.0</td>\n",
       "      <td>1101123342</td>\n",
       "      <td>{\"id\":\"2305498\",\"displacement\":4163,\"engine_ty...</td>\n",
       "      <td>ALLROAD_5_DOORS AUTOMATIC 4.2</td>\n",
       "      <td>автоматическая</td>\n",
       "      <td>EUROPEAN</td>\n",
       "      <td>1 владелец</td>\n",
       "      <td>NaN</td>\n",
       "      <td>Оригинал</td>\n",
       "      <td>полный</td>\n",
       "      <td>Левый</td>\n",
       "      <td>Не требует ремонта</td>\n",
       "      <td>Растаможен</td>\n",
       "      <td>0</td>\n",
       "      <td>0</td>\n",
       "      <td>NaN</td>\n",
       "      <td>NaN</td>\n",
       "      <td>NaN</td>\n",
       "      <td>[cruise-control, asr, tinted-glass, esp, airba...</td>\n",
       "    </tr>\n",
       "    <tr>\n",
       "      <th>2768</th>\n",
       "      <td>седан</td>\n",
       "      <td>AUDI</td>\n",
       "      <td>чёрный</td>\n",
       "      <td>2.2</td>\n",
       "      <td>230.0</td>\n",
       "      <td>бензин</td>\n",
       "      <td>629000.0</td>\n",
       "      <td>1994.0</td>\n",
       "      <td>S6</td>\n",
       "      <td>2.2 MT (230 л.с.) 4WD</td>\n",
       "      <td>4.0</td>\n",
       "      <td>1.603123e+09</td>\n",
       "      <td>RUB</td>\n",
       "      <td>1996.0</td>\n",
       "      <td>1101215439</td>\n",
       "      <td>{\"id\":\"6297117\",\"displacement\":2226,\"engine_ty...</td>\n",
       "      <td>SEDAN MECHANICAL 2.2</td>\n",
       "      <td>механическая</td>\n",
       "      <td>EUROPEAN</td>\n",
       "      <td>3 или более</td>\n",
       "      <td>NaN</td>\n",
       "      <td>Оригинал</td>\n",
       "      <td>полный</td>\n",
       "      <td>Левый</td>\n",
       "      <td>Не требует ремонта</td>\n",
       "      <td>Растаможен</td>\n",
       "      <td>0</td>\n",
       "      <td>0</td>\n",
       "      <td>NaN</td>\n",
       "      <td>NaN</td>\n",
       "      <td>NaN</td>\n",
       "      <td>NaN</td>\n",
       "    </tr>\n",
       "    <tr>\n",
       "      <th>3139</th>\n",
       "      <td>седан</td>\n",
       "      <td>AUDI</td>\n",
       "      <td>чёрный</td>\n",
       "      <td>2.3</td>\n",
       "      <td>133.0</td>\n",
       "      <td>бензин</td>\n",
       "      <td>600000.0</td>\n",
       "      <td>1991.0</td>\n",
       "      <td>80</td>\n",
       "      <td>2.3 MT (133 л.с.)</td>\n",
       "      <td>4.0</td>\n",
       "      <td>1.603125e+09</td>\n",
       "      <td>RUB</td>\n",
       "      <td>1991.0</td>\n",
       "      <td>1091799378</td>\n",
       "      <td>{\"id\":\"7879207\",\"displacement\":2309,\"engine_ty...</td>\n",
       "      <td>SEDAN MECHANICAL 2.3</td>\n",
       "      <td>механическая</td>\n",
       "      <td>EUROPEAN</td>\n",
       "      <td>3 или более</td>\n",
       "      <td>NaN</td>\n",
       "      <td>Оригинал</td>\n",
       "      <td>передний</td>\n",
       "      <td>Левый</td>\n",
       "      <td>Не требует ремонта</td>\n",
       "      <td>Растаможен</td>\n",
       "      <td>0</td>\n",
       "      <td>0</td>\n",
       "      <td>NaN</td>\n",
       "      <td>NaN</td>\n",
       "      <td>NaN</td>\n",
       "      <td>NaN</td>\n",
       "    </tr>\n",
       "    <tr>\n",
       "      <th>...</th>\n",
       "      <td>...</td>\n",
       "      <td>...</td>\n",
       "      <td>...</td>\n",
       "      <td>...</td>\n",
       "      <td>...</td>\n",
       "      <td>...</td>\n",
       "      <td>...</td>\n",
       "      <td>...</td>\n",
       "      <td>...</td>\n",
       "      <td>...</td>\n",
       "      <td>...</td>\n",
       "      <td>...</td>\n",
       "      <td>...</td>\n",
       "      <td>...</td>\n",
       "      <td>...</td>\n",
       "      <td>...</td>\n",
       "      <td>...</td>\n",
       "      <td>...</td>\n",
       "      <td>...</td>\n",
       "      <td>...</td>\n",
       "      <td>...</td>\n",
       "      <td>...</td>\n",
       "      <td>...</td>\n",
       "      <td>...</td>\n",
       "      <td>...</td>\n",
       "      <td>...</td>\n",
       "      <td>...</td>\n",
       "      <td>...</td>\n",
       "      <td>...</td>\n",
       "      <td>...</td>\n",
       "      <td>...</td>\n",
       "      <td>...</td>\n",
       "    </tr>\n",
       "    <tr>\n",
       "      <th>33916</th>\n",
       "      <td>универсал</td>\n",
       "      <td>VOLKSWAGEN</td>\n",
       "      <td>серебристый</td>\n",
       "      <td>1.9</td>\n",
       "      <td>90.0</td>\n",
       "      <td>дизель</td>\n",
       "      <td>500400.0</td>\n",
       "      <td>1997.0</td>\n",
       "      <td>GOLF</td>\n",
       "      <td>1.9d MT (90 л.с.)</td>\n",
       "      <td>5.0</td>\n",
       "      <td>1.603656e+09</td>\n",
       "      <td>RUB</td>\n",
       "      <td>1999.0</td>\n",
       "      <td>1101369035</td>\n",
       "      <td>{\"id\":\"20399410\",\"displacement\":1896,\"engine_t...</td>\n",
       "      <td>WAGON_5_DOORS MECHANICAL 1.9</td>\n",
       "      <td>механическая</td>\n",
       "      <td>EUROPEAN</td>\n",
       "      <td>3 или более</td>\n",
       "      <td>NaN</td>\n",
       "      <td>Оригинал</td>\n",
       "      <td>передний</td>\n",
       "      <td>Левый</td>\n",
       "      <td>Не требует ремонта</td>\n",
       "      <td>Растаможен</td>\n",
       "      <td>0</td>\n",
       "      <td>0</td>\n",
       "      <td>NaN</td>\n",
       "      <td>NaN</td>\n",
       "      <td>NaN</td>\n",
       "      <td>NaN</td>\n",
       "    </tr>\n",
       "    <tr>\n",
       "      <th>33995</th>\n",
       "      <td>седан</td>\n",
       "      <td>VOLKSWAGEN</td>\n",
       "      <td>синий</td>\n",
       "      <td>1.8</td>\n",
       "      <td>90.0</td>\n",
       "      <td>бензин</td>\n",
       "      <td>539000.0</td>\n",
       "      <td>1988.0</td>\n",
       "      <td>PASSAT</td>\n",
       "      <td>1.8 MT (90 л.с.)</td>\n",
       "      <td>4.0</td>\n",
       "      <td>1.603661e+09</td>\n",
       "      <td>RUB</td>\n",
       "      <td>1989.0</td>\n",
       "      <td>1101368206</td>\n",
       "      <td>{\"id\":\"21279300\",\"displacement\":1781,\"engine_t...</td>\n",
       "      <td>SEDAN MECHANICAL 1.8</td>\n",
       "      <td>механическая</td>\n",
       "      <td>EUROPEAN</td>\n",
       "      <td>3 или более</td>\n",
       "      <td>5 лет и 1 месяц</td>\n",
       "      <td>Оригинал</td>\n",
       "      <td>передний</td>\n",
       "      <td>Левый</td>\n",
       "      <td>Не требует ремонта</td>\n",
       "      <td>Растаможен</td>\n",
       "      <td>0</td>\n",
       "      <td>0</td>\n",
       "      <td>NaN</td>\n",
       "      <td>NaN</td>\n",
       "      <td>NaN</td>\n",
       "      <td>[audiosystem-cd]</td>\n",
       "    </tr>\n",
       "    <tr>\n",
       "      <th>34017</th>\n",
       "      <td>универсал</td>\n",
       "      <td>VOLKSWAGEN</td>\n",
       "      <td>чёрный</td>\n",
       "      <td>1.6</td>\n",
       "      <td>72.0</td>\n",
       "      <td>бензин</td>\n",
       "      <td>800000.0</td>\n",
       "      <td>1988.0</td>\n",
       "      <td>PASSAT</td>\n",
       "      <td>1.6 MT (72 л.с.)</td>\n",
       "      <td>5.0</td>\n",
       "      <td>1.603662e+09</td>\n",
       "      <td>RUB</td>\n",
       "      <td>1989.0</td>\n",
       "      <td>1101220107</td>\n",
       "      <td>{\"id\":\"6391682\",\"displacement\":1595,\"engine_ty...</td>\n",
       "      <td>WAGON_5_DOORS MECHANICAL 1.6</td>\n",
       "      <td>механическая</td>\n",
       "      <td>EUROPEAN</td>\n",
       "      <td>3 или более</td>\n",
       "      <td>NaN</td>\n",
       "      <td>Дубликат</td>\n",
       "      <td>передний</td>\n",
       "      <td>Левый</td>\n",
       "      <td>Не требует ремонта</td>\n",
       "      <td>Растаможен</td>\n",
       "      <td>0</td>\n",
       "      <td>0</td>\n",
       "      <td>NaN</td>\n",
       "      <td>NaN</td>\n",
       "      <td>NaN</td>\n",
       "      <td>NaN</td>\n",
       "    </tr>\n",
       "    <tr>\n",
       "      <th>34267</th>\n",
       "      <td>купе</td>\n",
       "      <td>HONDA</td>\n",
       "      <td>серебристый</td>\n",
       "      <td>1.6</td>\n",
       "      <td>105.0</td>\n",
       "      <td>бензин</td>\n",
       "      <td>999999.0</td>\n",
       "      <td>1995.0</td>\n",
       "      <td>CIVIC</td>\n",
       "      <td>1.6 MT (105 л.с.)</td>\n",
       "      <td>2.0</td>\n",
       "      <td>1.603675e+09</td>\n",
       "      <td>RUB</td>\n",
       "      <td>1997.0</td>\n",
       "      <td>1091449512</td>\n",
       "      <td>{\"id\":\"5110069\",\"displacement\":1590,\"engine_ty...</td>\n",
       "      <td>COUPE MECHANICAL 1.6</td>\n",
       "      <td>механическая</td>\n",
       "      <td>JAPANESE</td>\n",
       "      <td>3 или более</td>\n",
       "      <td>NaN</td>\n",
       "      <td>Дубликат</td>\n",
       "      <td>передний</td>\n",
       "      <td>Левый</td>\n",
       "      <td>Не требует ремонта</td>\n",
       "      <td>Растаможен</td>\n",
       "      <td>0</td>\n",
       "      <td>0</td>\n",
       "      <td>NaN</td>\n",
       "      <td>NaN</td>\n",
       "      <td>NaN</td>\n",
       "      <td>NaN</td>\n",
       "    </tr>\n",
       "    <tr>\n",
       "      <th>34618</th>\n",
       "      <td>универсал</td>\n",
       "      <td>TOYOTA</td>\n",
       "      <td>жёлтый</td>\n",
       "      <td>1.6</td>\n",
       "      <td>110.0</td>\n",
       "      <td>бензин</td>\n",
       "      <td>547865.0</td>\n",
       "      <td>1995.0</td>\n",
       "      <td>COROLLA</td>\n",
       "      <td>1.6 MT (110 л.с.)</td>\n",
       "      <td>5.0</td>\n",
       "      <td>1.603695e+09</td>\n",
       "      <td>RUB</td>\n",
       "      <td>1997.0</td>\n",
       "      <td>1101363984</td>\n",
       "      <td>{\"id\":\"5110596\",\"displacement\":1597,\"engine_ty...</td>\n",
       "      <td>WAGON_5_DOORS MECHANICAL 1.6</td>\n",
       "      <td>механическая</td>\n",
       "      <td>JAPANESE</td>\n",
       "      <td>3 или более</td>\n",
       "      <td>NaN</td>\n",
       "      <td>Оригинал</td>\n",
       "      <td>передний</td>\n",
       "      <td>Левый</td>\n",
       "      <td>Не требует ремонта</td>\n",
       "      <td>Растаможен</td>\n",
       "      <td>0</td>\n",
       "      <td>0</td>\n",
       "      <td>NaN</td>\n",
       "      <td>NaN</td>\n",
       "      <td>NaN</td>\n",
       "      <td>[alloy-wheel-disks, tinted-glass, airbag-drive...</td>\n",
       "    </tr>\n",
       "  </tbody>\n",
       "</table>\n",
       "<p>159 rows × 32 columns</p>\n",
       "</div>"
      ],
      "text/plain": [
       "          bodyType       brand        color  engineDisplacement  enginePower  \\\n",
       "655      универсал       SKODA        белый                 1.2        105.0   \n",
       "1912     универсал       SKODA  серебристый                 1.9        110.0   \n",
       "2643   внедорожник        AUDI        серый                 4.2        350.0   \n",
       "2768         седан        AUDI       чёрный                 2.2        230.0   \n",
       "3139         седан        AUDI       чёрный                 2.3        133.0   \n",
       "...            ...         ...          ...                 ...          ...   \n",
       "33916    универсал  VOLKSWAGEN  серебристый                 1.9         90.0   \n",
       "33995        седан  VOLKSWAGEN        синий                 1.8         90.0   \n",
       "34017    универсал  VOLKSWAGEN       чёрный                 1.6         72.0   \n",
       "34267         купе       HONDA  серебристый                 1.6        105.0   \n",
       "34618    универсал      TOYOTA       жёлтый                 1.6        110.0   \n",
       "\n",
       "      fuelType   mileage  modelDate model_name                   name  \\\n",
       "655     бензин  550000.0     2013.0    OCTAVIA      1.2 MT (105 л.с.)   \n",
       "1912    дизель  657000.0     2000.0    OCTAVIA     1.9d MT (110 л.с.)   \n",
       "2643    бензин  528123.0     2005.0         Q7  4.2 AT (350 л.с.) 4WD   \n",
       "2768    бензин  629000.0     1994.0         S6  2.2 MT (230 л.с.) 4WD   \n",
       "3139    бензин  600000.0     1991.0         80      2.3 MT (133 л.с.)   \n",
       "...        ...       ...        ...        ...                    ...   \n",
       "33916   дизель  500400.0     1997.0       GOLF      1.9d MT (90 л.с.)   \n",
       "33995   бензин  539000.0     1988.0     PASSAT       1.8 MT (90 л.с.)   \n",
       "34017   бензин  800000.0     1988.0     PASSAT       1.6 MT (72 л.с.)   \n",
       "34267   бензин  999999.0     1995.0      CIVIC      1.6 MT (105 л.с.)   \n",
       "34618   бензин  547865.0     1995.0    COROLLA      1.6 MT (110 л.с.)   \n",
       "\n",
       "       numberOfDoors  parsing_unixtime priceCurrency  productionDate  \\\n",
       "655              5.0      1.603229e+09           RUB          2013.0   \n",
       "1912             5.0      1.603233e+09           RUB          2001.0   \n",
       "2643             5.0      1.603123e+09           RUB          2008.0   \n",
       "2768             4.0      1.603123e+09           RUB          1996.0   \n",
       "3139             4.0      1.603125e+09           RUB          1991.0   \n",
       "...              ...               ...           ...             ...   \n",
       "33916            5.0      1.603656e+09           RUB          1999.0   \n",
       "33995            4.0      1.603661e+09           RUB          1989.0   \n",
       "34017            5.0      1.603662e+09           RUB          1989.0   \n",
       "34267            2.0      1.603675e+09           RUB          1997.0   \n",
       "34618            5.0      1.603695e+09           RUB          1997.0   \n",
       "\n",
       "          sell_id                                          super_gen  \\\n",
       "655    1101147381  {\"id\":\"10373632\",\"displacement\":1197,\"engine_t...   \n",
       "1912   1080909484  {\"id\":\"4760662\",\"displacement\":1896,\"engine_ty...   \n",
       "2643   1101123342  {\"id\":\"2305498\",\"displacement\":4163,\"engine_ty...   \n",
       "2768   1101215439  {\"id\":\"6297117\",\"displacement\":2226,\"engine_ty...   \n",
       "3139   1091799378  {\"id\":\"7879207\",\"displacement\":2309,\"engine_ty...   \n",
       "...           ...                                                ...   \n",
       "33916  1101369035  {\"id\":\"20399410\",\"displacement\":1896,\"engine_t...   \n",
       "33995  1101368206  {\"id\":\"21279300\",\"displacement\":1781,\"engine_t...   \n",
       "34017  1101220107  {\"id\":\"6391682\",\"displacement\":1595,\"engine_ty...   \n",
       "34267  1091449512  {\"id\":\"5110069\",\"displacement\":1590,\"engine_ty...   \n",
       "34618  1101363984  {\"id\":\"5110596\",\"displacement\":1597,\"engine_ty...   \n",
       "\n",
       "                vehicleConfiguration vehicleTransmission    vendor  \\\n",
       "655     WAGON_5_DOORS MECHANICAL 1.2        механическая  EUROPEAN   \n",
       "1912    WAGON_5_DOORS MECHANICAL 1.9        механическая  EUROPEAN   \n",
       "2643   ALLROAD_5_DOORS AUTOMATIC 4.2      автоматическая  EUROPEAN   \n",
       "2768            SEDAN MECHANICAL 2.2        механическая  EUROPEAN   \n",
       "3139            SEDAN MECHANICAL 2.3        механическая  EUROPEAN   \n",
       "...                              ...                 ...       ...   \n",
       "33916   WAGON_5_DOORS MECHANICAL 1.9        механическая  EUROPEAN   \n",
       "33995           SEDAN MECHANICAL 1.8        механическая  EUROPEAN   \n",
       "34017   WAGON_5_DOORS MECHANICAL 1.6        механическая  EUROPEAN   \n",
       "34267           COUPE MECHANICAL 1.6        механическая  JAPANESE   \n",
       "34618   WAGON_5_DOORS MECHANICAL 1.6        механическая  JAPANESE   \n",
       "\n",
       "            owners        ownership vehicle_licence driving_gear  \\\n",
       "655    3 или более              NaN        Оригинал     передний   \n",
       "1912   3 или более              NaN        Дубликат     передний   \n",
       "2643    1 владелец              NaN        Оригинал       полный   \n",
       "2768   3 или более              NaN        Оригинал       полный   \n",
       "3139   3 или более              NaN        Оригинал     передний   \n",
       "...            ...              ...             ...          ...   \n",
       "33916  3 или более              NaN        Оригинал     передний   \n",
       "33995  3 или более  5 лет и 1 месяц        Оригинал     передний   \n",
       "34017  3 или более              NaN        Дубликат     передний   \n",
       "34267  3 или более              NaN        Дубликат     передний   \n",
       "34618  3 или более              NaN        Оригинал     передний   \n",
       "\n",
       "      steering_wheel           condition     customs  train  new_data  price  \\\n",
       "655            Левый  Не требует ремонта  Растаможен      0         0    NaN   \n",
       "1912           Левый  Не требует ремонта  Растаможен      0         0    NaN   \n",
       "2643           Левый  Не требует ремонта  Растаможен      0         0    NaN   \n",
       "2768           Левый  Не требует ремонта  Растаможен      0         0    NaN   \n",
       "3139           Левый  Не требует ремонта  Растаможен      0         0    NaN   \n",
       "...              ...                 ...         ...    ...       ...    ...   \n",
       "33916          Левый  Не требует ремонта  Растаможен      0         0    NaN   \n",
       "33995          Левый  Не требует ремонта  Растаможен      0         0    NaN   \n",
       "34017          Левый  Не требует ремонта  Растаможен      0         0    NaN   \n",
       "34267          Левый  Не требует ремонта  Растаможен      0         0    NaN   \n",
       "34618          Левый  Не требует ремонта  Растаможен      0         0    NaN   \n",
       "\n",
       "      date_added  price_log                                        equip_compl  \n",
       "655          NaN        NaN  [asr, esp, airbag-driver, aux, isofix, usb, ai...  \n",
       "1912         NaN        NaN  [cruise-control, engine-proof, asr, tinted-gla...  \n",
       "2643         NaN        NaN  [cruise-control, asr, tinted-glass, esp, airba...  \n",
       "2768         NaN        NaN                                                NaN  \n",
       "3139         NaN        NaN                                                NaN  \n",
       "...          ...        ...                                                ...  \n",
       "33916        NaN        NaN                                                NaN  \n",
       "33995        NaN        NaN                                   [audiosystem-cd]  \n",
       "34017        NaN        NaN                                                NaN  \n",
       "34267        NaN        NaN                                                NaN  \n",
       "34618        NaN        NaN  [alloy-wheel-disks, tinted-glass, airbag-drive...  \n",
       "\n",
       "[159 rows x 32 columns]"
      ]
     },
     "execution_count": 822,
     "metadata": {},
     "output_type": "execute_result"
    }
   ],
   "source": [
    "bined_df[(bined_df.mileage > 500000)&(bined_df.train == 0)]"
   ]
  },
  {
   "cell_type": "code",
   "execution_count": 934,
   "id": "a0233404",
   "metadata": {},
   "outputs": [
    {
     "data": {
      "text/html": [
       "<div>\n",
       "<style scoped>\n",
       "    .dataframe tbody tr th:only-of-type {\n",
       "        vertical-align: middle;\n",
       "    }\n",
       "\n",
       "    .dataframe tbody tr th {\n",
       "        vertical-align: top;\n",
       "    }\n",
       "\n",
       "    .dataframe thead th {\n",
       "        text-align: right;\n",
       "    }\n",
       "</style>\n",
       "<table border=\"1\" class=\"dataframe\">\n",
       "  <thead>\n",
       "    <tr style=\"text-align: right;\">\n",
       "      <th></th>\n",
       "      <th>bodyType</th>\n",
       "      <th>brand</th>\n",
       "      <th>color</th>\n",
       "      <th>engineDisplacement</th>\n",
       "      <th>enginePower</th>\n",
       "      <th>fuelType</th>\n",
       "      <th>mileage</th>\n",
       "      <th>modelDate</th>\n",
       "      <th>model_name</th>\n",
       "      <th>name</th>\n",
       "      <th>numberOfDoors</th>\n",
       "      <th>productionDate</th>\n",
       "      <th>sell_id</th>\n",
       "      <th>super_gen</th>\n",
       "      <th>vehicleConfiguration</th>\n",
       "      <th>vehicleTransmission</th>\n",
       "      <th>vendor</th>\n",
       "      <th>owners</th>\n",
       "      <th>ownership</th>\n",
       "      <th>vehicle_licence</th>\n",
       "      <th>driving_gear</th>\n",
       "      <th>steering_wheel</th>\n",
       "      <th>condition</th>\n",
       "      <th>customs</th>\n",
       "      <th>train</th>\n",
       "      <th>new_data</th>\n",
       "      <th>price</th>\n",
       "      <th>date_added</th>\n",
       "      <th>price_log</th>\n",
       "      <th>equip_compl</th>\n",
       "      <th>parsing_unixtime</th>\n",
       "    </tr>\n",
       "  </thead>\n",
       "  <tbody>\n",
       "    <tr>\n",
       "      <th>159765</th>\n",
       "      <td>хэтчбек</td>\n",
       "      <td>HONDA</td>\n",
       "      <td>белый</td>\n",
       "      <td>1.3</td>\n",
       "      <td>91.0</td>\n",
       "      <td>бензин</td>\n",
       "      <td>1150000.0</td>\n",
       "      <td>1996.0</td>\n",
       "      <td>Logo</td>\n",
       "      <td>Honda Logo</td>\n",
       "      <td>5.0</td>\n",
       "      <td>2001.0</td>\n",
       "      <td>0</td>\n",
       "      <td>{'sale-data-attributes': {'asciiCat': 'cars', ...</td>\n",
       "      <td>HATCHBACK_5_DOORS MECHANICAL 1.3</td>\n",
       "      <td>mechanical</td>\n",
       "      <td>JAPANESE</td>\n",
       "      <td>3</td>\n",
       "      <td>NaN</td>\n",
       "      <td>Оригинал</td>\n",
       "      <td>передний</td>\n",
       "      <td>Правый</td>\n",
       "      <td>Не требует ремонта</td>\n",
       "      <td>Растаможен</td>\n",
       "      <td>1</td>\n",
       "      <td>1</td>\n",
       "      <td>152000.0</td>\n",
       "      <td>25 марта 2020</td>\n",
       "      <td>11.931636</td>\n",
       "      <td>[]</td>\n",
       "      <td>1.634245e+09</td>\n",
       "    </tr>\n",
       "  </tbody>\n",
       "</table>\n",
       "</div>"
      ],
      "text/plain": [
       "       bodyType  brand  color  engineDisplacement  enginePower fuelType  \\\n",
       "159765  хэтчбек  HONDA  белый                 1.3         91.0   бензин   \n",
       "\n",
       "          mileage  modelDate model_name        name  numberOfDoors  \\\n",
       "159765  1150000.0     1996.0       Logo  Honda Logo            5.0   \n",
       "\n",
       "        productionDate  sell_id  \\\n",
       "159765          2001.0        0   \n",
       "\n",
       "                                                super_gen  \\\n",
       "159765  {'sale-data-attributes': {'asciiCat': 'cars', ...   \n",
       "\n",
       "                    vehicleConfiguration vehicleTransmission    vendor owners  \\\n",
       "159765  HATCHBACK_5_DOORS MECHANICAL 1.3          mechanical  JAPANESE      3   \n",
       "\n",
       "       ownership vehicle_licence driving_gear steering_wheel  \\\n",
       "159765       NaN        Оригинал     передний         Правый   \n",
       "\n",
       "                 condition     customs  train  new_data     price  \\\n",
       "159765  Не требует ремонта  Растаможен      1         1  152000.0   \n",
       "\n",
       "           date_added  price_log equip_compl  parsing_unixtime  \n",
       "159765  25 марта 2020  11.931636          []      1.634245e+09  "
      ]
     },
     "execution_count": 934,
     "metadata": {},
     "output_type": "execute_result"
    }
   ],
   "source": [
    "bined_df.loc[bined_df.mileage == bined_df.mileage.max()]"
   ]
  },
  {
   "cell_type": "code",
   "execution_count": 935,
   "id": "79018a87",
   "metadata": {},
   "outputs": [
    {
     "name": "stdout",
     "output_type": "stream",
     "text": [
      "For mileage IQR: 163000.0, \n",
      " Outliers boundaries: [-214500.0, 437500.0].\n",
      "Total 2202 outliers\n",
      " 0 left outliers \n",
      " 2202 right outliers \n",
      "\n"
     ]
    }
   ],
   "source": [
    "outliers(bined_df, 'mileage')"
   ]
  },
  {
   "cell_type": "markdown",
   "id": "d462c095",
   "metadata": {},
   "source": [
    "We can see here that the mean value of mileage is 150000 and the biggest percent of cars has not more than 230000 km mileage. Also, the less the mileage, the higher the price."
   ]
  },
  {
   "cell_type": "markdown",
   "id": "cf09ff25",
   "metadata": {
    "papermill": {
     "duration": null,
     "end_time": null,
     "exception": null,
     "start_time": null,
     "status": "pending"
    },
    "tags": []
   },
   "source": [
    "#### modelDate"
   ]
  },
  {
   "cell_type": "code",
   "execution_count": 825,
   "id": "9e7393a2",
   "metadata": {},
   "outputs": [
    {
     "data": {
      "text/plain": [
       "array([2013., 2017., 2008., 2009., 2016., 2012., 2015., 2010., 2006.,\n",
       "       2000., 2007., 1994., 2004., 1999., 2005., 1976., 2001., 1969.,\n",
       "       1996., 1998., 1989., 1934., 2014., 2011., 2018., 1986., 1997.,\n",
       "       1990., 2019., 2002., 1991., 1987., 1980., 1982., 1938., 1988.,\n",
       "       2003., 1983., 1978., 1979., 1984., 1992., 1995., 1993., 1985.,\n",
       "       1974., 1966., 1977., 1981., 1972., 1968., 1975., 1949., 1937.,\n",
       "       1936., 1973., 1959., 1958., 2020., 1965., 1971., 1904., 1963.,\n",
       "       1955., 1951., 1960., 1950., 1961., 1957., 2021.])"
      ]
     },
     "execution_count": 825,
     "metadata": {},
     "output_type": "execute_result"
    }
   ],
   "source": [
    "# Check the unique values for modelDate\n",
    "bined_df.modelDate.unique()"
   ]
  },
  {
   "cell_type": "code",
   "execution_count": 826,
   "id": "dede7c55",
   "metadata": {},
   "outputs": [
    {
     "data": {
      "text/plain": [
       "count    216599.000000\n",
       "mean       2010.046441\n",
       "std           7.567827\n",
       "min        1904.000000\n",
       "25%        2006.000000\n",
       "50%        2011.000000\n",
       "75%        2016.000000\n",
       "max        2021.000000\n",
       "Name: modelDate, dtype: float64"
      ]
     },
     "execution_count": 826,
     "metadata": {},
     "output_type": "execute_result"
    }
   ],
   "source": [
    "bined_df.modelDate.describe()"
   ]
  },
  {
   "cell_type": "code",
   "execution_count": 827,
   "id": "be275ec1",
   "metadata": {},
   "outputs": [
    {
     "data": {
      "text/plain": [
       "<AxesSubplot:>"
      ]
     },
     "execution_count": 827,
     "metadata": {},
     "output_type": "execute_result"
    },
    {
     "data": {
      "image/png": "[encoded data removed]",
      "text/plain": [
       "<Figure size 432x288 with 1 Axes>"
      ]
     },
     "metadata": {
      "needs_background": "light"
     },
     "output_type": "display_data"
    }
   ],
   "source": [
    "bined_df.modelDate.hist()"
   ]
  },
  {
   "cell_type": "code",
   "execution_count": 828,
   "id": "cab92a9a",
   "metadata": {},
   "outputs": [
    {
     "data": {
      "text/plain": [
       "<AxesSubplot:xlabel='modelDate', ylabel='price'>"
      ]
     },
     "execution_count": 828,
     "metadata": {},
     "output_type": "execute_result"
    },
    {
     "data": {
      "image/png": "[encoded data removed]",
      "text/plain": [
       "<Figure size 1080x432 with 1 Axes>"
      ]
     },
     "metadata": {
      "needs_background": "light"
     },
     "output_type": "display_data"
    }
   ],
   "source": [
    "plt.figure(figsize = (15, 6))\n",
    "sns.scatterplot(data = bined_df[bined_df['train'] == 1], x = 'modelDate', y = 'price')"
   ]
  },
  {
   "cell_type": "code",
   "execution_count": 829,
   "id": "f9816a3a",
   "metadata": {},
   "outputs": [
    {
     "name": "stdout",
     "output_type": "stream",
     "text": [
      "For modelDate IQR: 10.0, \n",
      " Outliers boundaries: [1991.0, 2031.0].\n",
      "Total 4016 outliers\n",
      " 4016 left outliers \n",
      " 0 right outliers \n",
      "\n"
     ]
    }
   ],
   "source": [
    "outliers(bined_df, 'modelDate')"
   ]
  },
  {
   "cell_type": "markdown",
   "id": "020521a4",
   "metadata": {},
   "source": [
    "#### model_name"
   ]
  },
  {
   "cell_type": "code",
   "execution_count": 830,
   "id": "e2b6b634",
   "metadata": {},
   "outputs": [
    {
     "data": {
      "text/plain": [
       "array(['OCTAVIA', 'SUPERB', 'OCTAVIA_RS', 'YETI', 'KODIAQ', 'RAPID',\n",
       "       'FABIA', 'ROOMSTER', 'FELICIA', 'KAROQ', 'FABIA_RS', '120',\n",
       "       '100_SERIES', 'FAVORIT', 'POPULAR', 'Q5', 'R8', 'Q7', 'Q3', 'A4',\n",
       "       'A3', 'A5', 'A6', 'RS7', 'S6', 'RS6', 'ALLROAD', 'TT', 'S5', 'S8',\n",
       "       'A1', 'A8', '80', 'A7', 'RSQ3', 'RS3', 'A4_ALLROAD', 'Q8', '100',\n",
       "       'SQ5', 'S4', 'TT_RS', 'RS4', 'S7', 'RS5', '90', 'COUPE', 'A2',\n",
       "       'TTS', '920', 'S3', '200', 'V8', 'E_TRON', 'CR_V', 'ACCORD',\n",
       "       'PILOT', 'CIVIC', 'ODYSSEY', 'STREAM', 'CROSSTOUR', 'ELYSION',\n",
       "       'ELEMENT', 'RIDGELINE', 'FIT', 'HR_V', 'SHUTTLE', 'FREED',\n",
       "       'ODYSSEY_NA', 'JAZZ', 'Z', 'CIVIC_FERIO', 'S2000', 'CR_Z',\n",
       "       'LEGEND', 'STEPWAGON', 'CIVIC_TYPE_R', 'FR_V', 'CR_X', 'PRELUDE',\n",
       "       'MOBILIO_SPIKE', 'N_BOX', 'ZEST', 'INTEGRA', 'INSPIRE', 'VEZEL',\n",
       "       'N_WGN', 'ASCOT', 'LOGO', 'ACTY', 'CONCERTO', 'AVANCIER', 'SABER',\n",
       "       'MOBILIO', 'CROSSROAD', 'INSIGHT', 'TORNEO', 'AIRWAVE', 'DOMANI',\n",
       "       'RAFAGA', 'CITY', 'VIGOR', 'ORTHIA', 'PARTNER',\n",
       "       'V60_CROSS_COUNTRY', 'XC40', 'XC60', 'C30', 'V50', 'XC90',\n",
       "       'V90_CROSS_COUNTRY', 'S60', 'XC70', 'V40_CC', 'S40', 'S90', 'V40',\n",
       "       '240_SERIES', 'S80', 'V70', 'S60_CROSS_COUNTRY', '940', '740',\n",
       "       '850', 'V60', 'S70', 'C70', '760', '960', '460', '440', '140',\n",
       "       'X5', 'X6', 'X7', 'X3', '5ER', 'X2', 'Z4', 'X1', '6ER', '7ER',\n",
       "       'X5_M', 'M5', '1ER', '3ER', 'X6_M', '4', 'X4', 'M2', 'M6', 'X4_M',\n",
       "       '8ER', 'I8', 'I3', '2ER', 'M3', 'M1', 'M4', 'X3_M', '2GRANDTOURER',\n",
       "       'Z1', '2ACTIVETOURER', '02', 'Z3', 'E3', '340', '321', 'Z3M',\n",
       "       '326', 'PATROL', 'TEANA', 'QASHQAI', 'AVENIR', 'X_TRAIL', 'MURANO',\n",
       "       'MAXIMA', 'NAVARA', 'PATHFINDER', 'NOTE', 'TIIDA', 'JUKE',\n",
       "       'TERRANO', 'ALMERA_CLASSIC', 'PRIMERA', 'SKYLINE', 'ALMERA',\n",
       "       'QASHQAI_PLUS_2', 'SERENA', 'AD', 'MICRA', 'LEAF', 'GT_R', 'MARCH',\n",
       "       'SENTRA', 'BLUEBIRD_SYLPHY', 'PRESAGE', 'ALTIMA', 'NP300',\n",
       "       'CLIPPER', 'PRAIRIE', 'ALMERA_TINO', 'DAYZ', 'FAIRLADY_Z', 'QUEST',\n",
       "       'SILVIA', 'ARMADA', '350Z', 'NV200', 'JUKE_NISMO', 'STAGEA',\n",
       "       '280ZX', 'ELGRAND', '300ZX', 'CEFIRO', 'PRESIDENT', 'CUBE',\n",
       "       'PULSAR', 'BLUEBIRD', 'FUGA', 'LAUREL', 'WINGROAD',\n",
       "       'CARAVAN_COACH', 'DATSUN', 'GLORIA', 'EXPERT', '100NX', 'SAFARI',\n",
       "       'LIBERTY', 'CEDRIC', 'VANETTE', 'SUNNY', 'OTTI', 'DAYZ_ROOX',\n",
       "       'PRESEA', 'BASSARA', 'TERRANO_REGULUS', 'RNESSA', 'TINO', '200SX',\n",
       "       'LAFESTA', 'KIX', 'LARGO', 'URVAN', 'JX', 'FX', 'G35', 'Q50',\n",
       "       'QX56', 'QX50', 'QX80', 'EX', 'Q70', 'QX70', 'QX60', 'M', 'QX4',\n",
       "       'Q30', 'QX30', 'Q60', 'Q', 'I', 'V_KLASSE', 'C_KLASSE',\n",
       "       'GLE_KLASSE', 'E_KLASSE', 'S_KLASSE', 'GLA_CLASS', 'SLK_KLASSE',\n",
       "       'SLS_AMG', 'G_KLASSE_AMG', 'GLE_KLASSE_COUPE', 'M_KLASSE_AMG',\n",
       "       'E_KLASSE_AMG', 'GLC_KLASSE', 'CLA_KLASSE', 'GL_KLASSE',\n",
       "       'B_KLASSE', 'A_KLASSE', 'GLS_KLASSE', 'GLK_KLASSE', 'M_KLASSE',\n",
       "       'W124', 'VIANO', 'VITO', 'G_KLASSE', 'S_CLASS_MAYBACH',\n",
       "       'C_KLASSE_AMG', 'CLC_KLASSE', 'CLK_KLASSE', 'GL_KLASSE_AMG',\n",
       "       'GLC_COUPE', 'CLS_KLASSE', 'S_KLASSE_AMG', 'GLE_KLASSE_COUPE_AMG',\n",
       "       'AMG_GT', 'W201', 'CLA_KLASSE_AMG', 'SL_KLASSE', 'GLS_KLASSE_AMG',\n",
       "       'CL_KLASSE', 'R_KLASSE', 'GLE_KLASSE_AMG', 'CLS_KLASSE_AMG',\n",
       "       'SL_KLASSE_AMG', 'A_KLASSE_AMG', 'W111', 'W128', 'GLC_KLASSE_AMG',\n",
       "       'SLC_KLASSE', 'GLB_KLASSE', 'GLA_CLASS_AMG', 'AMG_GLC_COUPE',\n",
       "       'X_KLASSE', 'CL_KLASSE_AMG', 'MAYBACH_GLS', 'SLR_KLASSE', 'VANEO',\n",
       "       'W123', 'CITAN', 'W136', 'SIMPLEX', 'W114', '190_SL', 'W186',\n",
       "       'W188', 'CAMRY', 'RAV_4', 'AVENSIS', 'GT86', 'LAND_CRUISER',\n",
       "       'COROLLA', 'LAND_CRUISER_PRADO', 'MATRIX', '4RUNNER', 'SEQUOIA',\n",
       "       'HIGHLANDER', 'CROWN', 'HILUX', 'HILUX_SURF', 'ISIS', 'AURIS',\n",
       "       'VITZ', 'PRIUS', 'YARIS', 'CARINA', 'CHASER', 'ESTIMA', 'ESQUIRE',\n",
       "       'VERSO', 'ECHO', 'TOWN_ACE', 'FJ_CRUISER', 'VENZA', 'TUNDRA',\n",
       "       'SIENNA', 'BB', 'AQUA', 'IQ', 'CALDINA', 'FORTUNER', 'ALPHARD',\n",
       "       'SUPRA', 'C_HR', 'MARK_II', 'CELICA', 'SOARER', 'SERA', 'MARK_X',\n",
       "       'SPRINTER_TRUENO', 'CAMRY_SOLARA', 'VOXY', 'CROWN_MAJESTA',\n",
       "       'ALTEZZA', 'MR2', 'AVENSIS_VERSO', 'ARISTO', 'HARRIER', 'HIACE',\n",
       "       'VERSO_S', 'VELLFIRE', 'COROLLA_VERSO', 'REGIUS', 'IPSUM',\n",
       "       'CRESTA', 'MR_S', 'YARIS_VERSO', 'NOAH', 'LITE_ACE', 'BLADE',\n",
       "       'PICNIC', 'COROLLA_SPACIO', 'CARINA_ED', 'COROLLA_LEVIN',\n",
       "       'COROLLA_RUMION', 'GRAND_HIACE', 'CARINA_E', 'ORIGIN', 'AYGO',\n",
       "       'STARLET', 'VANGUARD', 'WISH', 'PROBOX', 'CURREN', 'VEROSSA',\n",
       "       'SIENTA', 'SCEPTER_SEDAN', 'FUNCARGO', 'PROGRES', 'PASSO', 'OPA',\n",
       "       'SPARKY', 'SUCCEED', 'PREMIO', 'PREVIA', 'WINDOM', 'ALLEX',\n",
       "       'CORONA', 'SPRINTER_CARIB', 'SPADE', 'AVALON', 'TERCEL', 'CYNOS',\n",
       "       'PRIUS_ALPHA', 'SPRINTER', 'MASTER_ACE_SURF', 'SPRINTER_MARINO',\n",
       "       'CAMI', 'COROLLA_II', 'CORSA', 'RAUM', 'VISTA', 'CORONA_EXIV',\n",
       "       'MEGA_CRUISER', 'MARK_X_ZIO', 'PRIUSPLUS', 'IST', 'GRANVIA',\n",
       "       'GAIA', 'CAVALIER', 'DUET', 'RACTIS', 'NADIA', 'PORTE', 'LS', 'GS',\n",
       "       'ES', 'IS', 'LX', 'RX', 'NX', 'GX', 'UX', 'CT', 'LM', 'RC', 'HS',\n",
       "       'SC', 'TOUAREG', 'TIGUAN', 'PASSAT', 'AMAROK', 'POLO', 'CADDY',\n",
       "       'PASSAT_CC', 'JETTA', 'TRANSPORTER', 'SCIROCCO', 'GOLF', 'TOURAN',\n",
       "       'CARAVELLE', 'MULTIVAN', 'SHARAN', 'GOLF_PLUS', 'TERAMONT',\n",
       "       'VENTO', 'ARTEON', 'PHAETON', 'GOLF_GTI', 'BEETLE', 'EUROVAN',\n",
       "       'CALIFORNIA', 'GOLF_R', 'CORRADO', 'GOLF_R32', 'EOS', 'BORA',\n",
       "       'POLO_GTI', 'LUPO', 'TYPE_1', 'POINTER', 'FOX', 'TARO',\n",
       "       'PAJERO_SPORT', 'OUTLANDER', 'L200', 'MONTERO', 'LANCER', 'PAJERO',\n",
       "       'MONTERO_SPORT', 'GALANT', 'PAJERO_MINI', 'PAJERO_IO', 'ASX',\n",
       "       'COLT', 'CARISMA', 'SPACE_STAR', 'PAJERO_PININ', 'FTO',\n",
       "       'LANCER_EVOLUTION', 'GRANDIS', 'ECLIPSE_CROSS', 'ECLIPSE',\n",
       "       'MINICAB', 'DELICA_D_5', 'ENDEAVOR', 'DELICA', 'I_MIEV',\n",
       "       'SPACE_WAGON', 'LANCER_RALLIART', 'LEGNUM', 'AIRTREK',\n",
       "       'SPACE_GEAR', 'DELICA_D2', 'L300', 'SIGMA', 'DIAMANTE', 'L400',\n",
       "       'MIRAGE', 'DINGO', 'SPACE_RUNNER', 'CHARIOT', 'EK_WAGON', 'RVR',\n",
       "       'LIBERO', 'DION', 'EMERAUDE', 'ASPIRE', 'MINICA', 'ATLAS',\n",
       "       'WILL_CYPHA', 'PASEO', 'WILL', 'PLATZ', 'Q3_SPORTBACK', 'M8',\n",
       "       'EDIX', 'LIFE', 'N_ONE', 'PASSPORT', 'S_MX', 'RC_F',\n",
       "       'LANCER_CARGO', '180SX', 'CLIPPER_RIO', 'MISTRAL', 'MOCO', 'PAO',\n",
       "       'PRIMASTAR', 'TITAN', 'BREVIS', 'CELSIOR', 'KLUGER', 'REGIUSACE',\n",
       "       'ROOMY', 'TACOMA', 'TYPE_2', 'TYPE_3', 'EQC', 'SLC_KLASSE_AMG',\n",
       "       'SLK_KLASSE_AMG', 'W110', 'W189', 'Rapid', 'Octavia', nan,\n",
       "       'Felicia', 'Fabia', 'Superb', 'Yeti', 'Karoq', 'Kodiaq',\n",
       "       'Octavia RS', 'Roomster', 'Forman', 'Fabia RS', 'SQ8',\n",
       "       'A6 allroad', 'RS 6', 'SQ7', 'TT RS', 'RS Q3', 'RS 7', 'RS 3',\n",
       "       'RS 5', 'RS 4', 'RS Q8', 'Q3 Sportback', 'e-tron Sportback',\n",
       "       'A4 allroad', 'RS e-tron GT', 'e-tron', 'Q5 Sportback', 'Coupe',\n",
       "       '7 серии', '3 серии', 'i3', '5 серии', 'X6 M', '2 серии',\n",
       "       '6 серии', '1 серии', '4 серии', 'X5 M', '8 серии',\n",
       "       '2 серии Active Tourer', '2 серии Gran Tourer', 'X4 M', 'CR-V',\n",
       "       'Accord', 'Crosstour', 'Fit', 'Rafaga', 'Integra', 'Prelude',\n",
       "       'Freed', 'Stepwgn', 'Pilot', 'Jazz', 'Torneo', 'Civic', 'Capa',\n",
       "       'Logo', 'Airwave', 'Odyssey', 'Shuttle', 'HR-V', 'Civic Ferio',\n",
       "       'FR-V', 'Odyssey (North America)', 'Avancier', 'Domani',\n",
       "       'Civic Type R', 'Vezel', 'Grace', 'Orthia', 'Stream', 'Fit Aria',\n",
       "       'Insight', 'Fit Shuttle', 'Zest', 'Crossroad', 'N-BOX', 'N-WGN',\n",
       "       'Inspire', 'Element', 'Ascot', 'CR-Z', 'Integra SJ',\n",
       "       'Mobilio Spike', 'N-BOX Slash', 'Acty', 'Concerto', 'City', 'S-MX',\n",
       "       'Clarity', 'Jade', 'Life', 'Partner', 'Edix', 'Mobilio', 'Vamos',\n",
       "       'Elysion', 'Saber', 'Passport', 'S660', 'Ridgeline', 'N-One',\n",
       "       'MDX', 'Ascot Innova', 'Legend', 'CR-X', 'Vigor', 'Beat', 'G',\n",
       "       'IS F', 'GS F', 'RC F', 'E-Класс', 'S-Класс', 'G-Класс', 'Vito',\n",
       "       'Maybach S-Класс', 'GLS', 'GLE', 'GL-Класс', 'GLC', 'V-Класс',\n",
       "       'GLK-Класс', 'GLB', 'GLE Coupe', 'C-Класс AMG', 'M-Класс',\n",
       "       'GLE AMG', 'C-Класс', 'A-Класс', 'G-Класс AMG', 'B-Класс',\n",
       "       'GLC Coupe', 'SLK-Класс', 'CLA', 'CLS', 'CL-Класс',\n",
       "       'GLE Coupe AMG', 'AMG GT', 'GLC AMG', 'CLC-Класс', 'CLA AMG',\n",
       "       'GLA', 'M-Класс AMG', 'A-Класс AMG', 'Viano', 'GL-Класс AMG',\n",
       "       'S-Класс AMG', 'GLS AMG', 'SL-Класс', '190 (W201)', 'E-Класс AMG',\n",
       "       'SL-Класс AMG', 'X-Класс', 'CLK-Класс', 'GLC Coupe AMG', 'GLA AMG',\n",
       "       'Maybach GLS', 'EQV', 'CL-Класс AMG', 'Vaneo', 'W142',\n",
       "       'SLK-Класс AMG', 'CLS AMG', 'SLC', 'R-Класс', 'Pajero Sport',\n",
       "       'Outlander', 'Pajero', 'Lancer', 'Galant', 'Colt', 'Carisma',\n",
       "       'Eclipse Cross', 'Montero', 'Pajero Pinin', 'Space Star', 'Minica',\n",
       "       'Chariot', 'Eclipse', 'Grandis', 'Montero Sport', 'Mirage', 'Dion',\n",
       "       'Pajero iO', 'Pajero Mini', 'Airtrek', 'Delica', 'Delica D:5',\n",
       "       'Minicab', 'eK Wagon', 'Diamante', 'Lancer Evolution', 'eK Custom',\n",
       "       'Space Wagon', 'Dingo', 'Libero', 'Legnum', 'Delica D:2',\n",
       "       'Town Box', 'Eterna', 'Lancer Ralliart', 'Challenger',\n",
       "       'Galant Fortis', 'i-MiEV', 'X-Trail', 'Pathfinder', 'Teana',\n",
       "       'Almera', 'Qashqai+2', 'Qashqai', 'Sentra', 'Terrano',\n",
       "       'Almera Classic', 'Murano', 'Note', 'Leaf', 'Micra', 'Serena',\n",
       "       'Tiida', 'Juke', 'Patrol', 'Primera', 'Elgrand', 'Sunny', 'Expert',\n",
       "       'Liberty', 'Maxima', 'Largo', 'Bluebird Sylphy', 'Bluebird',\n",
       "       'Cefiro', 'Cube', 'Navara (Frontier)', 'GT-R', 'March', 'Avenir',\n",
       "       'Rasheen', 'Skyline', 'Dayz', 'Presage', 'Fuga', 'Laurel',\n",
       "       'Wingroad', 'Tino', 'Dayz Roox', 'Juke Nismo', 'Almera Tino',\n",
       "       'Moco', \"R'nessa\", 'Urvan', 'Titan', 'Lucino', 'Cedric', 'Gloria',\n",
       "       'Armada', 'Prairie', 'NV100 Clipper', 'Rogue', 'NV350 Caravan',\n",
       "       'Vitz', 'Land Cruiser', 'Venza', 'Carina', 'Camry',\n",
       "       'Land Cruiser Prado', 'Vista', 'RAV4', 'Yaris', 'Platz', 'Mark II',\n",
       "       'Avensis', '4Runner', 'Windom', 'Corolla', 'Sprinter Marino',\n",
       "       'Hilux', 'Auris', 'Corona', 'Sienna', 'Highlander', 'HiAce',\n",
       "       'Fortuner', 'Tundra', 'Alphard', 'Chaser', 'C-HR', 'Crown',\n",
       "       'Passo', 'Corolla Spacio', 'Estima', 'Town Ace', 'Noah', 'Allion',\n",
       "       'bB', 'FunCargo', 'Prius', 'Cressida', 'Verso', 'iQ', 'Wish',\n",
       "       'Ractis', 'Echo', 'Succeed', 'Sienta', 'Premio', 'Aqua', 'Rush',\n",
       "       'Carina E', 'Hilux Surf', 'Prius Alpha', 'Sequoia', 'Carina ED',\n",
       "       'Aygo', 'Probox', 'Camry Solara', 'Allex', 'Harrier', 'Sprinter',\n",
       "       'Ist', 'Cresta', 'Matrix', 'Vellfire', 'Corona EXiV',\n",
       "       'Sprinter Carib', 'Verossa', 'Corolla II', 'Ipsum', 'Mark X',\n",
       "       'Celica', 'Starlet', 'ISis', 'Porte', 'Lite Ace', 'Esquire',\n",
       "       'Avalon', 'FJ Cruiser', 'Duet', 'Previa', 'Voxy', 'Roomy',\n",
       "       'Kluger', 'Regius', 'Corsa', 'Tank', 'Corolla Rumion', 'Gaia',\n",
       "       'Cami', 'Yaris Verso', 'Caldina', 'Crown Majesta', 'Soarer',\n",
       "       'Corolla Verso', 'Altezza', 'Nadia', 'Opa', 'Celsior', 'Picnic',\n",
       "       'WiLL', 'Golf GTI', 'Multivan', 'Tiguan', 'Polo', 'Golf', 'Jetta',\n",
       "       'Touareg', 'Amarok', 'Passat', 'Sharan', 'Touran', 'Teramont',\n",
       "       'Caravelle', 'Arteon', 'Golf Plus', 'Transporter', 'Caddy', 'Eos',\n",
       "       'Scirocco', 'Phaeton', 'Passat CC', 'Golf R', 'Vento', 'Beetle',\n",
       "       'Taos', 'California', 'Bora', 'Fox', 'Lupo', 'Pointer', 'T-Roc',\n",
       "       'V60 Cross Country', 'V40 Cross Country', 'V90 Cross Country',\n",
       "       '240 Series', 'S60 Cross Country', 'V90', '300 Series',\n",
       "       'Laplander'], dtype=object)"
      ]
     },
     "execution_count": 830,
     "metadata": {},
     "output_type": "execute_result"
    }
   ],
   "source": [
    "# Check unique values\n",
    "bined_df.model_name.unique()"
   ]
  },
  {
   "cell_type": "code",
   "execution_count": 831,
   "id": "57e5bfe0",
   "metadata": {},
   "outputs": [
    {
     "data": {
      "text/plain": [
       "974"
      ]
     },
     "execution_count": 831,
     "metadata": {},
     "output_type": "execute_result"
    }
   ],
   "source": [
    "len(bined_df.model_name.unique())"
   ]
  },
  {
   "cell_type": "markdown",
   "id": "fe1e6b9b",
   "metadata": {
    "papermill": {
     "duration": null,
     "end_time": null,
     "exception": null,
     "start_time": null,
     "status": "pending"
    },
    "tags": []
   },
   "source": [
    "#### name"
   ]
  },
  {
   "cell_type": "code",
   "execution_count": 832,
   "id": "5d06b599",
   "metadata": {},
   "outputs": [
    {
     "data": {
      "text/plain": [
       "array(['1.2 AMT (105 л.с.)', '1.6 MT (110 л.с.)',\n",
       "       'DSG 1.8 AMT (152 л.с.)', ..., 'Volvo 850 R', 'Volvo S60 R I',\n",
       "       'Volvo Laplander TGB 1314'], dtype=object)"
      ]
     },
     "execution_count": 832,
     "metadata": {},
     "output_type": "execute_result"
    }
   ],
   "source": [
    "# Check unique values\n",
    "bined_df.name.unique()"
   ]
  },
  {
   "cell_type": "code",
   "execution_count": 833,
   "id": "6bd879dc",
   "metadata": {},
   "outputs": [
    {
     "data": {
      "text/plain": [
       "5464"
      ]
     },
     "execution_count": 833,
     "metadata": {},
     "output_type": "execute_result"
    }
   ],
   "source": [
    "len(bined_df.name.unique())"
   ]
  },
  {
   "cell_type": "markdown",
   "id": "d28c43af",
   "metadata": {
    "papermill": {
     "duration": null,
     "end_time": null,
     "exception": null,
     "start_time": null,
     "status": "pending"
    },
    "tags": []
   },
   "source": [
    "#### numberOfDoors"
   ]
  },
  {
   "cell_type": "code",
   "execution_count": 834,
   "id": "62933e69",
   "metadata": {},
   "outputs": [
    {
     "data": {
      "text/plain": [
       "array([5., 4., 2., 3., 0.])"
      ]
     },
     "execution_count": 834,
     "metadata": {},
     "output_type": "execute_result"
    }
   ],
   "source": [
    "# Check the unique values\n",
    "bined_df.numberOfDoors.unique()"
   ]
  },
  {
   "cell_type": "code",
   "execution_count": 835,
   "id": "4e75c879",
   "metadata": {},
   "outputs": [
    {
     "data": {
      "text/html": [
       "<div>\n",
       "<style scoped>\n",
       "    .dataframe tbody tr th:only-of-type {\n",
       "        vertical-align: middle;\n",
       "    }\n",
       "\n",
       "    .dataframe tbody tr th {\n",
       "        vertical-align: top;\n",
       "    }\n",
       "\n",
       "    .dataframe thead th {\n",
       "        text-align: right;\n",
       "    }\n",
       "</style>\n",
       "<table border=\"1\" class=\"dataframe\">\n",
       "  <thead>\n",
       "    <tr style=\"text-align: right;\">\n",
       "      <th></th>\n",
       "      <th>bodyType</th>\n",
       "      <th>brand</th>\n",
       "      <th>color</th>\n",
       "      <th>engineDisplacement</th>\n",
       "      <th>enginePower</th>\n",
       "      <th>fuelType</th>\n",
       "      <th>mileage</th>\n",
       "      <th>modelDate</th>\n",
       "      <th>model_name</th>\n",
       "      <th>name</th>\n",
       "      <th>numberOfDoors</th>\n",
       "      <th>parsing_unixtime</th>\n",
       "      <th>priceCurrency</th>\n",
       "      <th>productionDate</th>\n",
       "      <th>sell_id</th>\n",
       "      <th>super_gen</th>\n",
       "      <th>vehicleConfiguration</th>\n",
       "      <th>vehicleTransmission</th>\n",
       "      <th>vendor</th>\n",
       "      <th>owners</th>\n",
       "      <th>ownership</th>\n",
       "      <th>vehicle_licence</th>\n",
       "      <th>driving_gear</th>\n",
       "      <th>steering_wheel</th>\n",
       "      <th>condition</th>\n",
       "      <th>customs</th>\n",
       "      <th>train</th>\n",
       "      <th>new_data</th>\n",
       "      <th>price</th>\n",
       "      <th>date_added</th>\n",
       "      <th>price_log</th>\n",
       "      <th>equip_compl</th>\n",
       "    </tr>\n",
       "  </thead>\n",
       "  <tbody>\n",
       "    <tr>\n",
       "      <th>16944</th>\n",
       "      <td>кабриолет</td>\n",
       "      <td>MERCEDES</td>\n",
       "      <td>белый</td>\n",
       "      <td>5.3</td>\n",
       "      <td>32.0</td>\n",
       "      <td>бензин</td>\n",
       "      <td>48000.0</td>\n",
       "      <td>1904.0</td>\n",
       "      <td>SIMPLEX</td>\n",
       "      <td>5.3 MT (32 л.с.)</td>\n",
       "      <td>0.0</td>\n",
       "      <td>1.603246e+09</td>\n",
       "      <td>RUB</td>\n",
       "      <td>1904.0</td>\n",
       "      <td>1093802104</td>\n",
       "      <td>{\"id\":\"21743990\",\"displacement\":5322,\"engine_t...</td>\n",
       "      <td>CABRIO MECHANICAL 5.3</td>\n",
       "      <td>механическая</td>\n",
       "      <td>EUROPEAN</td>\n",
       "      <td>1 владелец</td>\n",
       "      <td>6 лет и 8 месяцев</td>\n",
       "      <td>Оригинал</td>\n",
       "      <td>задний</td>\n",
       "      <td>Правый</td>\n",
       "      <td>Не требует ремонта</td>\n",
       "      <td>Растаможен</td>\n",
       "      <td>0</td>\n",
       "      <td>0</td>\n",
       "      <td>NaN</td>\n",
       "      <td>NaN</td>\n",
       "      <td>NaN</td>\n",
       "      <td>NaN</td>\n",
       "    </tr>\n",
       "    <tr>\n",
       "      <th>122751</th>\n",
       "      <td>кабриолет</td>\n",
       "      <td>MERCEDES</td>\n",
       "      <td>белый</td>\n",
       "      <td>5.3</td>\n",
       "      <td>32.0</td>\n",
       "      <td>бензин</td>\n",
       "      <td>48000.0</td>\n",
       "      <td>1904.0</td>\n",
       "      <td>SIMPLEX</td>\n",
       "      <td>5.3 MT (32 л.с.)</td>\n",
       "      <td>0.0</td>\n",
       "      <td>1.599599e+09</td>\n",
       "      <td>NaN</td>\n",
       "      <td>1904.0</td>\n",
       "      <td>0</td>\n",
       "      <td>NaN</td>\n",
       "      <td>CABRIO MECHANICAL 5.3</td>\n",
       "      <td>MECHANICAL</td>\n",
       "      <td>EUROPEAN</td>\n",
       "      <td>1.0</td>\n",
       "      <td>{'year': 2014, 'month': 2}</td>\n",
       "      <td>ORIGINAL</td>\n",
       "      <td>задний</td>\n",
       "      <td>RIGHT</td>\n",
       "      <td>NaN</td>\n",
       "      <td>True</td>\n",
       "      <td>1</td>\n",
       "      <td>0</td>\n",
       "      <td>12000000.0</td>\n",
       "      <td>2019-11-20T14:14:11Z</td>\n",
       "      <td>16.300417</td>\n",
       "      <td>NaN</td>\n",
       "    </tr>\n",
       "  </tbody>\n",
       "</table>\n",
       "</div>"
      ],
      "text/plain": [
       "         bodyType     brand  color  engineDisplacement  enginePower fuelType  \\\n",
       "16944   кабриолет  MERCEDES  белый                 5.3         32.0   бензин   \n",
       "122751  кабриолет  MERCEDES  белый                 5.3         32.0   бензин   \n",
       "\n",
       "        mileage  modelDate model_name              name  numberOfDoors  \\\n",
       "16944   48000.0     1904.0    SIMPLEX  5.3 MT (32 л.с.)            0.0   \n",
       "122751  48000.0     1904.0    SIMPLEX  5.3 MT (32 л.с.)            0.0   \n",
       "\n",
       "        parsing_unixtime priceCurrency  productionDate     sell_id  \\\n",
       "16944       1.603246e+09           RUB          1904.0  1093802104   \n",
       "122751      1.599599e+09           NaN          1904.0           0   \n",
       "\n",
       "                                                super_gen  \\\n",
       "16944   {\"id\":\"21743990\",\"displacement\":5322,\"engine_t...   \n",
       "122751                                                NaN   \n",
       "\n",
       "         vehicleConfiguration vehicleTransmission    vendor      owners  \\\n",
       "16944   CABRIO MECHANICAL 5.3        механическая  EUROPEAN  1 владелец   \n",
       "122751  CABRIO MECHANICAL 5.3          MECHANICAL  EUROPEAN         1.0   \n",
       "\n",
       "                         ownership vehicle_licence driving_gear  \\\n",
       "16944            6 лет и 8 месяцев        Оригинал       задний   \n",
       "122751  {'year': 2014, 'month': 2}        ORIGINAL       задний   \n",
       "\n",
       "       steering_wheel           condition     customs  train  new_data  \\\n",
       "16944          Правый  Не требует ремонта  Растаможен      0         0   \n",
       "122751          RIGHT                 NaN        True      1         0   \n",
       "\n",
       "             price            date_added  price_log equip_compl  \n",
       "16944          NaN                   NaN        NaN         NaN  \n",
       "122751  12000000.0  2019-11-20T14:14:11Z  16.300417         NaN  "
      ]
     },
     "execution_count": 835,
     "metadata": {},
     "output_type": "execute_result"
    }
   ],
   "source": [
    "bined_df[bined_df.numberOfDoors == 0]"
   ]
  },
  {
   "cell_type": "markdown",
   "id": "c7814c62",
   "metadata": {},
   "source": [
    "This model literally has no doors."
   ]
  },
  {
   "cell_type": "code",
   "execution_count": 836,
   "id": "77c162fd",
   "metadata": {},
   "outputs": [
    {
     "data": {
      "image/png": "[encoded data removed]",
      "text/plain": [
       "<Figure size 432x288 with 1 Axes>"
      ]
     },
     "metadata": {
      "needs_background": "light"
     },
     "output_type": "display_data"
    },
    {
     "data": {
      "image/png": "[encoded data removed]",
      "text/plain": [
       "<Figure size 1080x720 with 1 Axes>"
      ]
     },
     "metadata": {
      "needs_background": "light"
     },
     "output_type": "display_data"
    }
   ],
   "source": [
    "get_hist_box(bined_df, 'numberOfDoors')"
   ]
  },
  {
   "cell_type": "markdown",
   "id": "17829db3",
   "metadata": {},
   "source": [
    "Cars with 5 and 4 doors are the most popular with almost equal average price. Cars with 3 doors are the cheapest."
   ]
  },
  {
   "cell_type": "code",
   "execution_count": 837,
   "id": "968bbf29",
   "metadata": {},
   "outputs": [],
   "source": [
    "cat_cols.append('numberOfDoors')"
   ]
  },
  {
   "cell_type": "markdown",
   "id": "08b79817",
   "metadata": {
    "papermill": {
     "duration": null,
     "end_time": null,
     "exception": null,
     "start_time": null,
     "status": "pending"
    },
    "tags": []
   },
   "source": [
    "#### parsing_unixtime"
   ]
  },
  {
   "cell_type": "code",
   "execution_count": 838,
   "id": "634703d6",
   "metadata": {},
   "outputs": [],
   "source": [
    "# get only year, month, day from the parsing_unixtime column as we have only them for train_ready df\n",
    "bined_df['parsing_unixtime_1'] = bined_df.parsing_unixtime.apply(lambda x: \\\n",
    "                                 datetime.timestamp(datetime.strptime(datetime.fromtimestamp(x).\\\n",
    "                                                                      strftime('%Y-%m-%d'), '%Y-%m-%d')))\n",
    "bined_df.drop('parsing_unixtime', inplace = True, axis=1)\n",
    "bined_df.rename(columns= {'parsing_unixtime_1':'parsing_unixtime'}, inplace=True)"
   ]
  },
  {
   "cell_type": "markdown",
   "id": "c8b547f2",
   "metadata": {},
   "source": [
    "#### priceCurrency"
   ]
  },
  {
   "cell_type": "code",
   "execution_count": 839,
   "id": "1bee3374",
   "metadata": {},
   "outputs": [
    {
     "data": {
      "text/plain": [
       "array(['RUB', nan], dtype=object)"
      ]
     },
     "execution_count": 839,
     "metadata": {},
     "output_type": "execute_result"
    }
   ],
   "source": [
    "# Check the unique values\n",
    "bined_df.priceCurrency.unique()"
   ]
  },
  {
   "cell_type": "code",
   "execution_count": 840,
   "id": "606a5a92",
   "metadata": {},
   "outputs": [
    {
     "data": {
      "text/plain": [
       "RUB    169165\n",
       "Name: priceCurrency, dtype: int64"
      ]
     },
     "execution_count": 840,
     "metadata": {},
     "output_type": "execute_result"
    }
   ],
   "source": [
    "bined_df.priceCurrency.value_counts()"
   ]
  },
  {
   "cell_type": "code",
   "execution_count": 841,
   "id": "f59d1abc",
   "metadata": {},
   "outputs": [
    {
     "data": {
      "text/plain": [
       "47434"
      ]
     },
     "execution_count": 841,
     "metadata": {},
     "output_type": "execute_result"
    }
   ],
   "source": [
    "bined_df.priceCurrency.isna().sum()"
   ]
  },
  {
   "cell_type": "markdown",
   "id": "17fde913",
   "metadata": {},
   "source": [
    "In this column we can see that currency is either RUB, or nan. As it's Russuan car market let's suggest that all prices are in Russian roubles and drop this column."
   ]
  },
  {
   "cell_type": "code",
   "execution_count": 842,
   "id": "1ddf7806",
   "metadata": {},
   "outputs": [],
   "source": [
    "bined_df.drop(['priceCurrency'], axis = 1, inplace = True)"
   ]
  },
  {
   "cell_type": "markdown",
   "id": "d3ac5d9b",
   "metadata": {
    "papermill": {
     "duration": null,
     "end_time": null,
     "exception": null,
     "start_time": null,
     "status": "pending"
    },
    "tags": []
   },
   "source": [
    "#### productionDate"
   ]
  },
  {
   "cell_type": "code",
   "execution_count": 843,
   "id": "97544c1e",
   "metadata": {},
   "outputs": [
    {
     "data": {
      "text/plain": [
       "array([2014., 2017., 2012., 2011., 2019., 2018., 2010., 2020., 2016.,\n",
       "       2013., 2006., 2007., 2015., 2005., 2008., 2009., 1997., 2004.,\n",
       "       2002., 1987., 2003., 2001., 1976., 2000., 1998., 1995., 1999.,\n",
       "       1993., 1939., 1996., 1984., 1990., 1991., 1992., 1989., 1982.,\n",
       "       1985., 1994., 1938., 1981., 1988., 1983., 1980., 1986., 1978.,\n",
       "       1970., 1979., 1977., 1972., 1975., 1969., 1950., 1953., 1949.,\n",
       "       1937., 1959., 1968., 1936., 1904., 1974., 1967., 1961., 1960.,\n",
       "       1965., 1963., 1957., 1952., 1973., 1948., 1954., 1964., 1966.,\n",
       "       2021.])"
      ]
     },
     "execution_count": 843,
     "metadata": {},
     "output_type": "execute_result"
    }
   ],
   "source": [
    "# Check unique values\n",
    "bined_df.productionDate.unique()"
   ]
  },
  {
   "cell_type": "code",
   "execution_count": 844,
   "id": "9de9c134",
   "metadata": {},
   "outputs": [
    {
     "data": {
      "text/plain": [
       "count    216599.000000\n",
       "mean       2012.178057\n",
       "std           7.326995\n",
       "min        1904.000000\n",
       "25%        2008.000000\n",
       "50%        2013.000000\n",
       "75%        2018.000000\n",
       "max        2021.000000\n",
       "Name: productionDate, dtype: float64"
      ]
     },
     "execution_count": 844,
     "metadata": {},
     "output_type": "execute_result"
    }
   ],
   "source": [
    "bined_df.productionDate.describe()"
   ]
  },
  {
   "cell_type": "code",
   "execution_count": 845,
   "id": "8b364f13",
   "metadata": {},
   "outputs": [
    {
     "data": {
      "text/plain": [
       "<AxesSubplot:>"
      ]
     },
     "execution_count": 845,
     "metadata": {},
     "output_type": "execute_result"
    },
    {
     "data": {
      "image/png": "[encoded data removed]",
      "text/plain": [
       "<Figure size 432x288 with 1 Axes>"
      ]
     },
     "metadata": {
      "needs_background": "light"
     },
     "output_type": "display_data"
    }
   ],
   "source": [
    "bined_df.productionDate.hist()"
   ]
  },
  {
   "cell_type": "code",
   "execution_count": 846,
   "id": "ac88d7d3",
   "metadata": {},
   "outputs": [
    {
     "data": {
      "text/plain": [
       "<AxesSubplot:xlabel='productionDate', ylabel='price'>"
      ]
     },
     "execution_count": 846,
     "metadata": {},
     "output_type": "execute_result"
    },
    {
     "data": {
      "image/png": "[encoded data removed]",
      "text/plain": [
       "<Figure size 1080x432 with 1 Axes>"
      ]
     },
     "metadata": {
      "needs_background": "light"
     },
     "output_type": "display_data"
    }
   ],
   "source": [
    "plt.figure(figsize = (15, 6))\n",
    "sns.scatterplot(data = bined_df[bined_df['train'] == 1], x = 'productionDate', y = 'price')"
   ]
  },
  {
   "cell_type": "code",
   "execution_count": 847,
   "id": "96227ad1",
   "metadata": {},
   "outputs": [
    {
     "name": "stdout",
     "output_type": "stream",
     "text": [
      "For modelDate IQR: 10.0, \n",
      " Outliers boundaries: [1991.0, 2031.0].\n",
      "Total 4016 outliers\n",
      " 4016 left outliers \n",
      " 0 right outliers \n",
      "\n"
     ]
    }
   ],
   "source": [
    "outliers(bined_df, 'modelDate')"
   ]
  },
  {
   "cell_type": "markdown",
   "id": "1df7bf8e",
   "metadata": {},
   "source": [
    "We don't have any cared produced later than 2021. The picture resembles modelDate a lot. Probably there's strong correlation, we'll check it later."
   ]
  },
  {
   "cell_type": "markdown",
   "id": "4095c715",
   "metadata": {},
   "source": [
    "#### super_gen"
   ]
  },
  {
   "cell_type": "code",
   "execution_count": 848,
   "id": "178751cf",
   "metadata": {},
   "outputs": [
    {
     "data": {
      "text/plain": [
       "'{\"id\":\"10373605\",\"displacement\":1197,\"engine_type\":\"GASOLINE\",\"gear_type\":\"FORWARD_CONTROL\",\"transmission\":\"ROBOT\",\"power\":105,\"power_kvt\":77,\"human_name\":\"1.2 AMT (105 л.с.)\",\"acceleration\":10.5,\"clearance_min\":155,\"fuel_rate\":5}'"
      ]
     },
     "execution_count": 848,
     "metadata": {},
     "output_type": "execute_result"
    }
   ],
   "source": [
    "bined_df.super_gen[0]"
   ]
  },
  {
   "cell_type": "code",
   "execution_count": 849,
   "id": "1e4eb21c",
   "metadata": {},
   "outputs": [
    {
     "data": {
      "text/plain": [
       "47434"
      ]
     },
     "execution_count": 849,
     "metadata": {},
     "output_type": "execute_result"
    }
   ],
   "source": [
    "bined_df.super_gen.isna().sum()"
   ]
  },
  {
   "cell_type": "markdown",
   "id": "413f45b6",
   "metadata": {},
   "source": [
    "***!!! Need to decide what to do with this column***"
   ]
  },
  {
   "cell_type": "markdown",
   "id": "619c0f75",
   "metadata": {
    "papermill": {
     "duration": null,
     "end_time": null,
     "exception": null,
     "start_time": null,
     "status": "pending"
    },
    "tags": []
   },
   "source": [
    "#### vehicleConfiguration"
   ]
  },
  {
   "cell_type": "code",
   "execution_count": 850,
   "id": "80525374",
   "metadata": {},
   "outputs": [
    {
     "data": {
      "text/plain": [
       "0                     LIFTBACK ROBOT 1.2\n",
       "1                LIFTBACK MECHANICAL 1.6\n",
       "2                     LIFTBACK ROBOT 1.8\n",
       "3                 LIFTBACK AUTOMATIC 1.6\n",
       "4                 LIFTBACK AUTOMATIC 1.8\n",
       "                       ...              \n",
       "262834               SEDAN AUTOMATIC 2.3\n",
       "262835     ALLROAD_5_DOORS AUTOMATIC 2.0\n",
       "262836    ALLROAD_5_DOORS MECHANICAL 2.5\n",
       "262837       WAGON_5_DOORS AUTOMATIC 3.2\n",
       "262838     ALLROAD_5_DOORS AUTOMATIC 2.0\n",
       "Name: vehicleConfiguration, Length: 216599, dtype: object"
      ]
     },
     "execution_count": 850,
     "metadata": {},
     "output_type": "execute_result"
    }
   ],
   "source": [
    "bined_df.vehicleConfiguration"
   ]
  },
  {
   "cell_type": "code",
   "execution_count": 851,
   "id": "aeef1aa8",
   "metadata": {},
   "outputs": [
    {
     "data": {
      "text/plain": [
       "0"
      ]
     },
     "execution_count": 851,
     "metadata": {},
     "output_type": "execute_result"
    }
   ],
   "source": [
    "bined_df.vehicleConfiguration.isna().sum()"
   ]
  },
  {
   "cell_type": "markdown",
   "id": "ea6cd371",
   "metadata": {
    "papermill": {
     "duration": null,
     "end_time": null,
     "exception": null,
     "start_time": null,
     "status": "pending"
    },
    "tags": []
   },
   "source": [
    "#### vehicleTransmission"
   ]
  },
  {
   "cell_type": "code",
   "execution_count": 852,
   "id": "d078f5b6",
   "metadata": {},
   "outputs": [
    {
     "data": {
      "text/plain": [
       "array(['роботизированная', 'механическая', 'автоматическая', 'вариатор',\n",
       "       'MECHANICAL', 'AUTOMATIC', 'ROBOT', 'VARIATOR'], dtype=object)"
      ]
     },
     "execution_count": 852,
     "metadata": {},
     "output_type": "execute_result"
    }
   ],
   "source": [
    "# Check the unique values\n",
    "bined_df.vehicleTransmission.unique()"
   ]
  },
  {
   "cell_type": "code",
   "execution_count": 853,
   "id": "726f5049",
   "metadata": {},
   "outputs": [
    {
     "data": {
      "text/plain": [
       "0"
      ]
     },
     "execution_count": 853,
     "metadata": {},
     "output_type": "execute_result"
    }
   ],
   "source": [
    "bined_df.vehicleTransmission.isna().sum()"
   ]
  },
  {
   "cell_type": "code",
   "execution_count": 854,
   "id": "ad639800",
   "metadata": {},
   "outputs": [],
   "source": [
    "bined_df.vehicleTransmission = bined_df.vehicleTransmission.apply(\n",
    "    lambda x: str(x).lower() if x else 0)"
   ]
  },
  {
   "cell_type": "code",
   "execution_count": 855,
   "id": "703e1a34",
   "metadata": {},
   "outputs": [
    {
     "data": {
      "text/plain": [
       "array(['роботизированная', 'механическая', 'автоматическая', 'вариатор',\n",
       "       'mechanical', 'automatic', 'robot', 'variator'], dtype=object)"
      ]
     },
     "execution_count": 855,
     "metadata": {},
     "output_type": "execute_result"
    }
   ],
   "source": [
    "bined_df.vehicleTransmission.unique()"
   ]
  },
  {
   "cell_type": "code",
   "execution_count": 856,
   "id": "d4d735f0",
   "metadata": {},
   "outputs": [],
   "source": [
    "bined_df.vehicleTransmission = bined_df.vehicleTransmission.apply(\n",
    "    lambda x: 'mechanical' if x == 'механическая' else 'automatic' if x == 'автоматическая' \n",
    "    else 'robot' if x == 'роботизированная' else 'variator' if x == 'вариатор' else x)"
   ]
  },
  {
   "cell_type": "code",
   "execution_count": 857,
   "id": "be237040",
   "metadata": {},
   "outputs": [
    {
     "data": {
      "text/plain": [
       "array(['robot', 'mechanical', 'automatic', 'variator'], dtype=object)"
      ]
     },
     "execution_count": 857,
     "metadata": {},
     "output_type": "execute_result"
    }
   ],
   "source": [
    "bined_df.vehicleTransmission.unique()"
   ]
  },
  {
   "cell_type": "code",
   "execution_count": 858,
   "id": "f620c024",
   "metadata": {},
   "outputs": [
    {
     "data": {
      "image/png": "[encoded data removed]",
      "text/plain": [
       "<Figure size 432x288 with 1 Axes>"
      ]
     },
     "metadata": {
      "needs_background": "light"
     },
     "output_type": "display_data"
    },
    {
     "data": {
      "image/png": "[encoded data removed]",
      "text/plain": [
       "<Figure size 1080x720 with 1 Axes>"
      ]
     },
     "metadata": {
      "needs_background": "light"
     },
     "output_type": "display_data"
    }
   ],
   "source": [
    "get_hist_box(bined_df, 'vehicleTransmission')"
   ]
  },
  {
   "cell_type": "code",
   "execution_count": 859,
   "id": "02d32f92",
   "metadata": {},
   "outputs": [
    {
     "data": {
      "text/plain": [
       "automatic     119763\n",
       "mechanical     44422\n",
       "variator       27745\n",
       "robot          24669\n",
       "Name: vehicleTransmission, dtype: int64"
      ]
     },
     "execution_count": 859,
     "metadata": {},
     "output_type": "execute_result"
    }
   ],
   "source": [
    "bined_df.vehicleTransmission.value_counts()"
   ]
  },
  {
   "cell_type": "markdown",
   "id": "9d489f61",
   "metadata": {},
   "source": [
    "Automatic transmission is the most popular but robot has the highest price."
   ]
  },
  {
   "cell_type": "code",
   "execution_count": 860,
   "id": "1d989e7d",
   "metadata": {},
   "outputs": [],
   "source": [
    "cat_cols.append('vehicleTransmission')"
   ]
  },
  {
   "cell_type": "code",
   "execution_count": 861,
   "id": "821e3117",
   "metadata": {},
   "outputs": [
    {
     "data": {
      "text/plain": [
       "['bodyType',\n",
       " 'brand',\n",
       " 'color',\n",
       " 'fuelType',\n",
       " 'numberOfDoors',\n",
       " 'vehicleTransmission']"
      ]
     },
     "execution_count": 861,
     "metadata": {},
     "output_type": "execute_result"
    }
   ],
   "source": [
    "cat_cols"
   ]
  },
  {
   "cell_type": "markdown",
   "id": "6a2f76bc",
   "metadata": {
    "papermill": {
     "duration": null,
     "end_time": null,
     "exception": null,
     "start_time": null,
     "status": "pending"
    },
    "tags": []
   },
   "source": [
    "#### vendor"
   ]
  },
  {
   "cell_type": "code",
   "execution_count": 862,
   "id": "fe52e875",
   "metadata": {},
   "outputs": [
    {
     "data": {
      "text/plain": [
       "array(['EUROPEAN', 'JAPANESE', nan], dtype=object)"
      ]
     },
     "execution_count": 862,
     "metadata": {},
     "output_type": "execute_result"
    }
   ],
   "source": [
    "# Check the unique values \n",
    "bined_df.vendor.unique()"
   ]
  },
  {
   "cell_type": "code",
   "execution_count": 863,
   "id": "6c91a001",
   "metadata": {},
   "outputs": [
    {
     "data": {
      "text/plain": [
       "2182"
      ]
     },
     "execution_count": 863,
     "metadata": {},
     "output_type": "execute_result"
    }
   ],
   "source": [
    "bined_df.vendor.isna().sum()"
   ]
  },
  {
   "cell_type": "code",
   "execution_count": 864,
   "id": "70b40372",
   "metadata": {},
   "outputs": [
    {
     "data": {
      "text/plain": [
       "array(['EUROPEAN', 'JAPANESE'], dtype=object)"
      ]
     },
     "execution_count": 864,
     "metadata": {},
     "output_type": "execute_result"
    }
   ],
   "source": [
    "bined_df['vendor'] = bined_df.brand.map(ven_dict)\n",
    "bined_df.vendor.unique()"
   ]
  },
  {
   "cell_type": "code",
   "execution_count": 865,
   "id": "c0b4a180",
   "metadata": {},
   "outputs": [
    {
     "data": {
      "image/png": "[encoded data removed]",
      "text/plain": [
       "<Figure size 432x288 with 1 Axes>"
      ]
     },
     "metadata": {
      "needs_background": "light"
     },
     "output_type": "display_data"
    },
    {
     "data": {
      "image/png": "[encoded data removed]",
      "text/plain": [
       "<Figure size 1080x720 with 1 Axes>"
      ]
     },
     "metadata": {
      "needs_background": "light"
     },
     "output_type": "display_data"
    }
   ],
   "source": [
    "get_hist_box(bined_df, 'vendor')"
   ]
  },
  {
   "cell_type": "code",
   "execution_count": 866,
   "id": "b468e5cf",
   "metadata": {},
   "outputs": [
    {
     "data": {
      "text/plain": [
       "EUROPEAN    0.596249\n",
       "JAPANESE    0.403751\n",
       "Name: vendor, dtype: float64"
      ]
     },
     "execution_count": 866,
     "metadata": {},
     "output_type": "execute_result"
    }
   ],
   "source": [
    "bined_df.vendor.value_counts(normalize = True)"
   ]
  },
  {
   "cell_type": "code",
   "execution_count": 867,
   "id": "0bc86f76",
   "metadata": {},
   "outputs": [],
   "source": [
    "bin_cols.append('vendor')"
   ]
  },
  {
   "cell_type": "markdown",
   "id": "8cb399eb",
   "metadata": {
    "papermill": {
     "duration": null,
     "end_time": null,
     "exception": null,
     "start_time": null,
     "status": "pending"
    },
    "tags": []
   },
   "source": [
    "#### owners"
   ]
  },
  {
   "cell_type": "code",
   "execution_count": 868,
   "id": "1fb4aaa9",
   "metadata": {},
   "outputs": [
    {
     "data": {
      "text/plain": [
       "array(['3 или более', '1\\xa0владелец', '2\\xa0владельца', 3.0, 1.0, 2.0,\n",
       "       nan, '1 владелец', '2 владельца'], dtype=object)"
      ]
     },
     "execution_count": 868,
     "metadata": {},
     "output_type": "execute_result"
    }
   ],
   "source": [
    "# Check the unique values \n",
    "bined_df.owners.unique()"
   ]
  },
  {
   "cell_type": "code",
   "execution_count": 869,
   "id": "0941973e",
   "metadata": {},
   "outputs": [
    {
     "data": {
      "text/plain": [
       "39721"
      ]
     },
     "execution_count": 869,
     "metadata": {},
     "output_type": "execute_result"
    }
   ],
   "source": [
    "bined_df.owners.isna().sum()"
   ]
  },
  {
   "cell_type": "code",
   "execution_count": 870,
   "id": "26b68f7d",
   "metadata": {},
   "outputs": [],
   "source": [
    "bined_df['owners'] = bined_df['owners'].astype(str)\n",
    "bined_df['owners'] = bined_df.owners.apply(lambda x: x if x == 'nan' else x[0])"
   ]
  },
  {
   "cell_type": "code",
   "execution_count": 876,
   "id": "2e9bf046",
   "metadata": {},
   "outputs": [
    {
     "data": {
      "text/plain": [
       "array(['3', '1', '2', 'nan'], dtype=object)"
      ]
     },
     "execution_count": 876,
     "metadata": {},
     "output_type": "execute_result"
    }
   ],
   "source": [
    "bined_df.owners.unique()"
   ]
  },
  {
   "cell_type": "code",
   "execution_count": 875,
   "id": "3414e068",
   "metadata": {},
   "outputs": [
    {
     "data": {
      "text/plain": [
       "array([ 0., nan])"
      ]
     },
     "execution_count": 875,
     "metadata": {},
     "output_type": "execute_result"
    }
   ],
   "source": [
    "bined_df[bined_df.owners == 'nan'].mileage.unique()"
   ]
  },
  {
   "cell_type": "code",
   "execution_count": 895,
   "id": "986aa99a",
   "metadata": {},
   "outputs": [
    {
     "data": {
      "text/plain": [
       "0.0    9593\n",
       "Name: mileage, dtype: int64"
      ]
     },
     "execution_count": 895,
     "metadata": {},
     "output_type": "execute_result"
    }
   ],
   "source": [
    "bined_df[bined_df.owners == 'nan'].mileage.value_counts()"
   ]
  },
  {
   "cell_type": "code",
   "execution_count": 910,
   "id": "e5cd4970",
   "metadata": {},
   "outputs": [],
   "source": [
    "# Let's suggest that these are brand new cars so we'll set owners value to 0\n",
    "bined_df.loc[(bined_df.owners == 'nan') & (bined_df.mileage == 0.0), 'owners'] = 0"
   ]
  },
  {
   "cell_type": "code",
   "execution_count": 958,
   "id": "1f58f295",
   "metadata": {},
   "outputs": [
    {
     "data": {
      "text/plain": [
       "array([ 3.,  1.,  2.,  0., nan])"
      ]
     },
     "execution_count": 958,
     "metadata": {},
     "output_type": "execute_result"
    }
   ],
   "source": [
    "bined_df.owners.unique()"
   ]
  },
  {
   "cell_type": "code",
   "execution_count": 913,
   "id": "f2cb5e8e",
   "metadata": {},
   "outputs": [
    {
     "data": {
      "text/plain": [
       "0"
      ]
     },
     "execution_count": 913,
     "metadata": {},
     "output_type": "execute_result"
    }
   ],
   "source": [
    "bined_df.owners.isna().sum()"
   ]
  },
  {
   "cell_type": "code",
   "execution_count": 917,
   "id": "36f731fb",
   "metadata": {},
   "outputs": [
    {
     "data": {
      "text/plain": [
       "30128"
      ]
     },
     "execution_count": 917,
     "metadata": {},
     "output_type": "execute_result"
    }
   ],
   "source": [
    "len(bined_df[bined_df.owners == 'nan'])"
   ]
  },
  {
   "cell_type": "code",
   "execution_count": 959,
   "id": "d2310448",
   "metadata": {},
   "outputs": [
    {
     "data": {
      "text/plain": [
       "numpy.float64"
      ]
     },
     "execution_count": 959,
     "metadata": {},
     "output_type": "execute_result"
    }
   ],
   "source": [
    "type(bined_df.owners[0])"
   ]
  },
  {
   "cell_type": "code",
   "execution_count": 957,
   "id": "0e8d9aa0",
   "metadata": {},
   "outputs": [],
   "source": [
    "# Convert to float values\n",
    "bined_df.owners = bined_df.owners.apply(lambda x: float(x) if x else x)"
   ]
  },
  {
   "cell_type": "code",
   "execution_count": 962,
   "id": "1140e2fd",
   "metadata": {},
   "outputs": [
    {
     "data": {
      "text/plain": [
       "productionDate\n",
       "1904.0    1.0\n",
       "1936.0    1.0\n",
       "1937.0    2.0\n",
       "1938.0    2.0\n",
       "1939.0    3.0\n",
       "         ... \n",
       "2017.0    1.0\n",
       "2018.0    1.0\n",
       "2019.0    1.0\n",
       "2020.0    0.0\n",
       "2021.0    1.0\n",
       "Name: owners, Length: 73, dtype: float64"
      ]
     },
     "execution_count": 962,
     "metadata": {},
     "output_type": "execute_result"
    }
   ],
   "source": [
    "bined_df.groupby('productionDate').owners.median()"
   ]
  },
  {
   "cell_type": "code",
   "execution_count": 965,
   "id": "d829f753",
   "metadata": {},
   "outputs": [],
   "source": [
    "# Let's fill missing owners with an average value by productionDate\n",
    "bined_df.loc[bined_df.owners.isna(), 'owners'] = bined_df.groupby('productionDate').owners.transform('median')"
   ]
  },
  {
   "cell_type": "code",
   "execution_count": 966,
   "id": "34eced43",
   "metadata": {},
   "outputs": [
    {
     "data": {
      "text/plain": [
       "0"
      ]
     },
     "execution_count": 966,
     "metadata": {},
     "output_type": "execute_result"
    }
   ],
   "source": [
    "bined_df.owners.isna().sum()"
   ]
  },
  {
   "cell_type": "code",
   "execution_count": 967,
   "id": "5eb357a1",
   "metadata": {},
   "outputs": [
    {
     "data": {
      "image/png": "[encoded data removed]",
      "text/plain": [
       "<Figure size 432x288 with 1 Axes>"
      ]
     },
     "metadata": {
      "needs_background": "light"
     },
     "output_type": "display_data"
    },
    {
     "data": {
      "image/png": "[encoded data removed]",
      "text/plain": [
       "<Figure size 1080x720 with 1 Axes>"
      ]
     },
     "metadata": {
      "needs_background": "light"
     },
     "output_type": "display_data"
    }
   ],
   "source": [
    "get_hist_box(bined_df, 'owners')"
   ]
  },
  {
   "cell_type": "markdown",
   "id": "f647b25c",
   "metadata": {
    "papermill": {
     "duration": null,
     "end_time": null,
     "exception": null,
     "start_time": null,
     "status": "pending"
    },
    "tags": []
   },
   "source": [
    "#### ownership"
   ]
  },
  {
   "cell_type": "markdown",
   "id": "6c053ae3",
   "metadata": {
    "papermill": {
     "duration": null,
     "end_time": null,
     "exception": null,
     "start_time": null,
     "status": "pending"
    },
    "tags": []
   },
   "source": [
    "#### vehicleLicense"
   ]
  },
  {
   "cell_type": "markdown",
   "id": "d6bf6e43",
   "metadata": {
    "papermill": {
     "duration": null,
     "end_time": null,
     "exception": null,
     "start_time": null,
     "status": "pending"
    },
    "tags": []
   },
   "source": [
    "#### driving_gear"
   ]
  },
  {
   "cell_type": "markdown",
   "id": "470b9cc2",
   "metadata": {
    "papermill": {
     "duration": null,
     "end_time": null,
     "exception": null,
     "start_time": null,
     "status": "pending"
    },
    "tags": []
   },
   "source": [
    "#### steering_wheel"
   ]
  },
  {
   "cell_type": "code",
   "execution_count": 456,
   "id": "a4bfd72a",
   "metadata": {},
   "outputs": [
    {
     "data": {
      "text/plain": [
       "array(['Левый', 'Правый', 'LEFT', 'RIGHT', nan], dtype=object)"
      ]
     },
     "execution_count": 456,
     "metadata": {},
     "output_type": "execute_result"
    }
   ],
   "source": [
    "# Check the unique values \n",
    "bined_df.steering_wheel.unique()"
   ]
  },
  {
   "cell_type": "code",
   "execution_count": 459,
   "id": "91e959c0",
   "metadata": {},
   "outputs": [
    {
     "data": {
      "text/plain": [
       "Левый     132676\n",
       "LEFT       45907\n",
       "Правый      6361\n",
       "RIGHT       1527\n",
       "Name: steering_wheel, dtype: int64"
      ]
     },
     "execution_count": 459,
     "metadata": {},
     "output_type": "execute_result"
    }
   ],
   "source": [
    "bined_df.steering_wheel.value_counts()"
   ]
  },
  {
   "cell_type": "code",
   "execution_count": 461,
   "id": "818fc035",
   "metadata": {},
   "outputs": [
    {
     "data": {
      "text/plain": [
       "30128"
      ]
     },
     "execution_count": 461,
     "metadata": {},
     "output_type": "execute_result"
    }
   ],
   "source": [
    "bined_df.steering_wheel.isna().sum()"
   ]
  },
  {
   "cell_type": "code",
   "execution_count": 464,
   "id": "903718b2",
   "metadata": {},
   "outputs": [],
   "source": [
    "bined_df.steering_wheel = bined_df.steering_wheel.apply(\n",
    "    lambda x: str(x).lower() if x else 0)"
   ]
  },
  {
   "cell_type": "code",
   "execution_count": 465,
   "id": "17f9b7e4",
   "metadata": {},
   "outputs": [
    {
     "data": {
      "text/plain": [
       "левый     132676\n",
       "left       45907\n",
       "nan        30128\n",
       "правый      6361\n",
       "right       1527\n",
       "Name: steering_wheel, dtype: int64"
      ]
     },
     "execution_count": 465,
     "metadata": {},
     "output_type": "execute_result"
    }
   ],
   "source": [
    "bined_df.steering_wheel.value_counts()"
   ]
  },
  {
   "cell_type": "code",
   "execution_count": 469,
   "id": "a2ceed9e",
   "metadata": {},
   "outputs": [],
   "source": [
    "bined_df.steering_wheel = bined_df.steering_wheel.apply(\n",
    "    lambda x: 'left' if x == 'левый' else 'right' if x == 'правый' else x)"
   ]
  },
  {
   "cell_type": "code",
   "execution_count": 537,
   "id": "0985c57c",
   "metadata": {},
   "outputs": [
    {
     "data": {
      "text/plain": [
       "left     178583\n",
       "nan       30128\n",
       "right      7888\n",
       "Name: steering_wheel, dtype: int64"
      ]
     },
     "execution_count": 537,
     "metadata": {},
     "output_type": "execute_result"
    }
   ],
   "source": [
    "bined_df.steering_wheel.value_counts()"
   ]
  },
  {
   "cell_type": "code",
   "execution_count": 471,
   "id": "16e70211",
   "metadata": {},
   "outputs": [],
   "source": [
    "right_wheel_models = bined_df[bined_df.steering_wheel == 'right'].groupby(['brand', 'model_name']).bodyType.count() \n",
    "right_wheel_models = right_wheel_models.reset_index().sort_values('bodyType', ascending=False)\n",
    "right_wheel_dict = right_wheel_models[right_wheel_models.bodyType > 1].groupby('brand').agg({'model_name': lambda x: x.tolist()}).to_dict()['model_name']"
   ]
  },
  {
   "cell_type": "code",
   "execution_count": 472,
   "id": "fdf680f9",
   "metadata": {},
   "outputs": [
    {
     "data": {
      "text/plain": [
       "{'BMW': ['2GRANDTOURER'],\n",
       " 'HONDA': ['Freed',\n",
       "  'Fit',\n",
       "  'Stepwgn',\n",
       "  'Odyssey',\n",
       "  'CR-V',\n",
       "  'Accord',\n",
       "  'Civic Ferio',\n",
       "  'Shuttle',\n",
       "  'HR-V',\n",
       "  'Civic',\n",
       "  'Stream',\n",
       "  'Vezel',\n",
       "  'Integra',\n",
       "  'Prelude',\n",
       "  'N-WGN',\n",
       "  'FIT',\n",
       "  'STEPWAGON',\n",
       "  'Fit Shuttle',\n",
       "  'Domani',\n",
       "  'Inspire',\n",
       "  'Capa',\n",
       "  'Rafaga',\n",
       "  'STREAM',\n",
       "  'ACCORD',\n",
       "  'Torneo',\n",
       "  'HR_V',\n",
       "  'Orthia',\n",
       "  'FREED',\n",
       "  'CR_V',\n",
       "  'Airwave',\n",
       "  'Insight',\n",
       "  'Logo',\n",
       "  'N-BOX',\n",
       "  'Avancier',\n",
       "  'N_BOX',\n",
       "  'Jade',\n",
       "  'Mobilio',\n",
       "  'PRELUDE',\n",
       "  'CIVIC_FERIO',\n",
       "  'Crossroad',\n",
       "  'CIVIC',\n",
       "  'Partner',\n",
       "  'N_WGN',\n",
       "  'ODYSSEY',\n",
       "  'INTEGRA',\n",
       "  'Ascot',\n",
       "  'Elysion',\n",
       "  'ORTHIA',\n",
       "  'AVANCIER',\n",
       "  'INSPIRE',\n",
       "  'CR-Z',\n",
       "  'MOBILIO',\n",
       "  'Acty',\n",
       "  'Fit Aria',\n",
       "  'Mobilio Spike',\n",
       "  'Life',\n",
       "  'SHUTTLE',\n",
       "  'Ascot Innova',\n",
       "  'DOMANI',\n",
       "  'Saber',\n",
       "  'Grace',\n",
       "  'S-MX',\n",
       "  'ACTY',\n",
       "  'AIRWAVE',\n",
       "  'SABER',\n",
       "  'Integra SJ',\n",
       "  'LOGO',\n",
       "  'Zest',\n",
       "  'Vamos',\n",
       "  'VEZEL',\n",
       "  'RAFAGA',\n",
       "  'S660',\n",
       "  'Z',\n",
       "  'Element',\n",
       "  'ASCOT',\n",
       "  'Concerto',\n",
       "  'PARTNER',\n",
       "  'CROSSROAD',\n",
       "  'MOBILIO_SPIKE',\n",
       "  'ELYSION',\n",
       "  'Edix',\n",
       "  'Vigor',\n",
       "  'ZEST',\n",
       "  'VIGOR',\n",
       "  'CONCERTO',\n",
       "  'City',\n",
       "  'CR_Z',\n",
       "  'CITY',\n",
       "  'INSIGHT',\n",
       "  'Civic Type R'],\n",
       " 'INFINITI': ['Q'],\n",
       " 'LEXUS': ['CT', 'RX', 'GS', 'IS', 'NX', 'HS', 'RC'],\n",
       " 'MERCEDES': ['SIMPLEX', 'A_KLASSE'],\n",
       " 'MITSUBISHI': ['Mirage',\n",
       "  'LANCER',\n",
       "  'GALANT',\n",
       "  'PAJERO',\n",
       "  'PAJERO_IO',\n",
       "  'DELICA',\n",
       "  'LEGNUM',\n",
       "  'AIRTREK',\n",
       "  'CHARIOT',\n",
       "  'RVR',\n",
       "  'PAJERO_MINI',\n",
       "  'eK Custom',\n",
       "  'Colt',\n",
       "  'DIAMANTE',\n",
       "  'DION',\n",
       "  'Delica',\n",
       "  'Pajero',\n",
       "  'Lancer',\n",
       "  'Galant',\n",
       "  'DINGO',\n",
       "  'Diamante',\n",
       "  'Delica D:5',\n",
       "  'Chariot',\n",
       "  'Libero',\n",
       "  'Pajero Mini',\n",
       "  'Legnum',\n",
       "  'LIBERO',\n",
       "  'Airtrek',\n",
       "  'GRANDIS',\n",
       "  'ASPIRE',\n",
       "  'LANCER_EVOLUTION',\n",
       "  'Dion',\n",
       "  'OUTLANDER',\n",
       "  'Dingo',\n",
       "  'DELICA_D2',\n",
       "  'Minica',\n",
       "  'DELICA_D_5',\n",
       "  'Lancer Evolution',\n",
       "  'Outlander',\n",
       "  'Pajero iO',\n",
       "  'eK Wagon',\n",
       "  'COLT',\n",
       "  'MIRAGE',\n",
       "  'MINICAB',\n",
       "  'FTO',\n",
       "  'EK_WAGON',\n",
       "  'Challenger',\n",
       "  'CARISMA',\n",
       "  'Grandis',\n",
       "  'I_MIEV',\n",
       "  'Delica D:2',\n",
       "  'EMERAUDE',\n",
       "  'MINICA',\n",
       "  'Minicab'],\n",
       " 'NISSAN': ['Wingroad',\n",
       "  'Leaf',\n",
       "  'SERENA',\n",
       "  'Serena',\n",
       "  'SKYLINE',\n",
       "  'LEAF',\n",
       "  'CEFIRO',\n",
       "  'CUBE',\n",
       "  'MARCH',\n",
       "  'AD',\n",
       "  'WINGROAD',\n",
       "  'TEANA',\n",
       "  'SUNNY',\n",
       "  'LAUREL',\n",
       "  'PRESAGE',\n",
       "  'Note',\n",
       "  'X-Trail',\n",
       "  'BLUEBIRD_SYLPHY',\n",
       "  'BLUEBIRD',\n",
       "  'PRIMERA',\n",
       "  'NOTE',\n",
       "  'CEDRIC',\n",
       "  'NV200',\n",
       "  'March',\n",
       "  'Sunny',\n",
       "  'LIBERTY',\n",
       "  'VANETTE',\n",
       "  'DAYZ',\n",
       "  'Avenir',\n",
       "  'Cefiro',\n",
       "  'AVENIR',\n",
       "  'ELGRAND',\n",
       "  'DATSUN',\n",
       "  'X_TRAIL',\n",
       "  'PULSAR',\n",
       "  'LARGO',\n",
       "  'CARAVAN_COACH',\n",
       "  'Bluebird',\n",
       "  'TINO',\n",
       "  'Primera',\n",
       "  'Cube',\n",
       "  'Tiida',\n",
       "  'Liberty',\n",
       "  'Cedric',\n",
       "  'TIIDA',\n",
       "  'TERRANO',\n",
       "  'BASSARA',\n",
       "  'Expert',\n",
       "  'SAFARI',\n",
       "  'EXPERT',\n",
       "  'Dayz',\n",
       "  'PRAIRIE',\n",
       "  'FUGA',\n",
       "  'GLORIA',\n",
       "  'MURANO',\n",
       "  'CLIPPER',\n",
       "  'Bluebird Sylphy',\n",
       "  'JUKE',\n",
       "  'Laurel',\n",
       "  'FAIRLADY_Z',\n",
       "  \"R'nessa\",\n",
       "  'STAGEA',\n",
       "  'QASHQAI',\n",
       "  'RNESSA',\n",
       "  'SILVIA',\n",
       "  'Teana',\n",
       "  'DAYZ_ROOX',\n",
       "  'Largo',\n",
       "  'PATHFINDER',\n",
       "  'Skyline',\n",
       "  'Dayz Roox',\n",
       "  'PRESIDENT',\n",
       "  'Fuga',\n",
       "  'NV100 Clipper',\n",
       "  'Gloria',\n",
       "  'Juke',\n",
       "  'Presage',\n",
       "  'KIX',\n",
       "  'LAFESTA',\n",
       "  'Lucino',\n",
       "  '280ZX',\n",
       "  'Rasheen',\n",
       "  'TERRANO_REGULUS'],\n",
       " 'TOYOTA': ['Mark II',\n",
       "  'Vitz',\n",
       "  'Platz',\n",
       "  'Corolla',\n",
       "  'Carina',\n",
       "  'Corona',\n",
       "  'MARK_II',\n",
       "  'RAV4',\n",
       "  'Picnic',\n",
       "  'Windom',\n",
       "  'COROLLA',\n",
       "  'Prius',\n",
       "  'CHASER',\n",
       "  'CROWN',\n",
       "  'Sprinter Marino',\n",
       "  'CALDINA',\n",
       "  'CRESTA',\n",
       "  'Caldina',\n",
       "  'Corolla Spacio',\n",
       "  'VITZ',\n",
       "  'Vista',\n",
       "  'CAMRY',\n",
       "  'CELICA',\n",
       "  'Chaser',\n",
       "  'ESTIMA',\n",
       "  'CARINA',\n",
       "  'CORONA',\n",
       "  'PRIUS',\n",
       "  'TOWN_ACE',\n",
       "  'LAND_CRUISER_PRADO',\n",
       "  'VISTA',\n",
       "  'HARRIER',\n",
       "  'LITE_ACE',\n",
       "  'ALTEZZA',\n",
       "  'COROLLA_LEVIN',\n",
       "  'SPRINTER',\n",
       "  'LAND_CRUISER',\n",
       "  'BB',\n",
       "  'VOXY',\n",
       "  'HIACE',\n",
       "  'ARISTO',\n",
       "  'PRIUS_ALPHA',\n",
       "  'AQUA',\n",
       "  'RAV_4',\n",
       "  'COROLLA_SPACIO',\n",
       "  'SUPRA',\n",
       "  'MARK_X',\n",
       "  'HILUX_SURF',\n",
       "  'NOAH',\n",
       "  'Wish',\n",
       "  'VEROSSA',\n",
       "  'BLADE',\n",
       "  'WINDOM',\n",
       "  'ALPHARD',\n",
       "  'PASSO',\n",
       "  'SOARER',\n",
       "  'IPSUM',\n",
       "  'CORSA',\n",
       "  'ISIS',\n",
       "  'Camry',\n",
       "  'Land Cruiser Prado',\n",
       "  'Noah',\n",
       "  'Aqua',\n",
       "  'SPRINTER_MARINO',\n",
       "  'COROLLA_RUMION',\n",
       "  'WILL',\n",
       "  'Passo',\n",
       "  'Premio',\n",
       "  'Harrier',\n",
       "  'FUNCARGO',\n",
       "  'Estima',\n",
       "  'PROBOX',\n",
       "  'WISH',\n",
       "  'CORONA_EXIV',\n",
       "  'CAMI',\n",
       "  'STARLET',\n",
       "  'Sienta',\n",
       "  'Succeed',\n",
       "  'RAUM',\n",
       "  'Voxy',\n",
       "  'CROWN_MAJESTA',\n",
       "  'ESQUIRE',\n",
       "  'TERCEL',\n",
       "  'CYNOS',\n",
       "  'SUCCEED',\n",
       "  'VELLFIRE',\n",
       "  'SPRINTER_TRUENO',\n",
       "  'Land Cruiser',\n",
       "  'DUET',\n",
       "  'Crown',\n",
       "  'NADIA',\n",
       "  'GAIA',\n",
       "  'Town Ace',\n",
       "  'FunCargo',\n",
       "  'ALLEX',\n",
       "  'PREMIO',\n",
       "  'SPRINTER_CARIB',\n",
       "  'REGIUS',\n",
       "  'CARINA_ED',\n",
       "  'SERA',\n",
       "  'Prius Alpha',\n",
       "  'Cresta',\n",
       "  'SIENTA',\n",
       "  'Allion',\n",
       "  'Alphard',\n",
       "  'GT86',\n",
       "  'Hilux Surf',\n",
       "  'Ractis',\n",
       "  'VANGUARD',\n",
       "  'Rush',\n",
       "  'AVALON',\n",
       "  'Carina ED',\n",
       "  'SCEPTER_SEDAN',\n",
       "  'Ipsum',\n",
       "  'IQ',\n",
       "  'Vellfire',\n",
       "  'HILUX',\n",
       "  'GRAND_HIACE',\n",
       "  'Sprinter',\n",
       "  'OPA',\n",
       "  'bB',\n",
       "  'RACTIS',\n",
       "  'MR2',\n",
       "  'CURREN',\n",
       "  'Starlet',\n",
       "  'MARK_X_ZIO',\n",
       "  'PROGRES',\n",
       "  'PLATZ',\n",
       "  'Lite Ace',\n",
       "  'Probox',\n",
       "  'ORIGIN',\n",
       "  'HiAce',\n",
       "  'KLUGER',\n",
       "  'Mark X',\n",
       "  'MR_S',\n",
       "  'MASTER_ACE_SURF',\n",
       "  'CAVALIER',\n",
       "  'AVENSIS',\n",
       "  'Altezza',\n",
       "  'SPADE',\n",
       "  'GRANVIA',\n",
       "  'Esquire',\n",
       "  'Allex'],\n",
       " 'VOLVO': ['V40 Cross Country', 'S80']}"
      ]
     },
     "execution_count": 472,
     "metadata": {},
     "output_type": "execute_result"
    }
   ],
   "source": [
    "right_wheel_dict"
   ]
  },
  {
   "cell_type": "code",
   "execution_count": 473,
   "id": "26d95fc9",
   "metadata": {},
   "outputs": [],
   "source": [
    "bined_df.loc[bined_df.steering_wheel.isna(), 'steering_wheel'] = bined_df[bined_df.steering_wheel.isna()].apply(\n",
    "    lambda row: fill_steering_wheel(row.brand, row.model_name, right_wheel_dict), axis=1)"
   ]
  },
  {
   "cell_type": "code",
   "execution_count": 474,
   "id": "d6bebd59",
   "metadata": {},
   "outputs": [
    {
     "data": {
      "text/plain": [
       "left     178583\n",
       "nan       30128\n",
       "right      7888\n",
       "Name: steering_wheel, dtype: int64"
      ]
     },
     "execution_count": 474,
     "metadata": {},
     "output_type": "execute_result"
    }
   ],
   "source": [
    "bined_df.steering_wheel.value_counts()"
   ]
  },
  {
   "cell_type": "code",
   "execution_count": 475,
   "id": "0d88d13b",
   "metadata": {},
   "outputs": [],
   "source": [
    "bin_cols.append('steering_wheel')"
   ]
  },
  {
   "cell_type": "markdown",
   "id": "19cb194b",
   "metadata": {
    "papermill": {
     "duration": null,
     "end_time": null,
     "exception": null,
     "start_time": null,
     "status": "pending"
    },
    "tags": []
   },
   "source": [
    "#### condition"
   ]
  },
  {
   "cell_type": "code",
   "execution_count": 397,
   "id": "643d58e0",
   "metadata": {},
   "outputs": [
    {
     "data": {
      "text/plain": [
       "array(['Не требует ремонта', nan], dtype=object)"
      ]
     },
     "execution_count": 397,
     "metadata": {},
     "output_type": "execute_result"
    }
   ],
   "source": [
    "# Check the unique values\n",
    "bined_df.condition.unique()"
   ]
  },
  {
   "cell_type": "code",
   "execution_count": 398,
   "id": "c26d5125",
   "metadata": {},
   "outputs": [
    {
     "data": {
      "text/plain": [
       "Не требует ремонта    139036\n",
       "Name: condition, dtype: int64"
      ]
     },
     "execution_count": 398,
     "metadata": {},
     "output_type": "execute_result"
    }
   ],
   "source": [
    "bined_df.condition.value_counts()"
   ]
  },
  {
   "cell_type": "markdown",
   "id": "c4157a42",
   "metadata": {},
   "source": [
    "Obviously we can't fill in missing values here, so this column will be dropped."
   ]
  },
  {
   "cell_type": "code",
   "execution_count": 399,
   "id": "401b140d",
   "metadata": {},
   "outputs": [],
   "source": [
    "bined_df.drop(['condition'], axis = 1, inplace = True)"
   ]
  },
  {
   "cell_type": "markdown",
   "id": "2c2c3fc1",
   "metadata": {
    "papermill": {
     "duration": null,
     "end_time": null,
     "exception": null,
     "start_time": null,
     "status": "pending"
    },
    "tags": []
   },
   "source": [
    "#### customs"
   ]
  },
  {
   "cell_type": "code",
   "execution_count": 401,
   "id": "966be268",
   "metadata": {},
   "outputs": [
    {
     "data": {
      "text/plain": [
       "array(['Растаможен', True, nan], dtype=object)"
      ]
     },
     "execution_count": 401,
     "metadata": {},
     "output_type": "execute_result"
    }
   ],
   "source": [
    "# Check the unique values\n",
    "bined_df.customs.unique()"
   ]
  },
  {
   "cell_type": "code",
   "execution_count": 403,
   "id": "30fc5e48",
   "metadata": {},
   "outputs": [
    {
     "data": {
      "text/plain": [
       "Растаможен    139035\n",
       "True           47434\n",
       "Name: customs, dtype: int64"
      ]
     },
     "execution_count": 403,
     "metadata": {},
     "output_type": "execute_result"
    }
   ],
   "source": [
    "bined_df.customs.value_counts()"
   ]
  },
  {
   "cell_type": "markdown",
   "id": "ef24e437",
   "metadata": {},
   "source": [
    "Officialy in Russia you can't buy a car without customs declaration, so this column will be dropped."
   ]
  },
  {
   "cell_type": "code",
   "execution_count": 404,
   "id": "eb80c2a2",
   "metadata": {},
   "outputs": [],
   "source": [
    "bined_df.drop(['customs'], axis = 1, inplace = True)"
   ]
  },
  {
   "cell_type": "markdown",
   "id": "3769d402",
   "metadata": {},
   "source": [
    "#### date_added"
   ]
  },
  {
   "cell_type": "code",
   "execution_count": 544,
   "id": "0b6effba",
   "metadata": {},
   "outputs": [
    {
     "data": {
      "text/plain": [
       "0                 NaN\n",
       "1                 NaN\n",
       "2                 NaN\n",
       "3                 NaN\n",
       "4                 NaN\n",
       "             ...     \n",
       "262834    29 сентября\n",
       "262835            NaN\n",
       "262836     18 августа\n",
       "262837        19 июля\n",
       "262838            NaN\n",
       "Name: date_added, Length: 216599, dtype: object"
      ]
     },
     "execution_count": 544,
     "metadata": {},
     "output_type": "execute_result"
    }
   ],
   "source": [
    "bined_df.date_added"
   ]
  },
  {
   "cell_type": "code",
   "execution_count": 545,
   "id": "a354fa3b",
   "metadata": {},
   "outputs": [
    {
     "data": {
      "text/plain": [
       "64814"
      ]
     },
     "execution_count": 545,
     "metadata": {},
     "output_type": "execute_result"
    }
   ],
   "source": [
    "bined_df.date_added.isna().sum()"
   ]
  },
  {
   "cell_type": "markdown",
   "id": "e1cb4718",
   "metadata": {},
   "source": [
    "Seems that we can't extract anything useful here, so just drop it."
   ]
  },
  {
   "cell_type": "code",
   "execution_count": null,
   "id": "18a6db31",
   "metadata": {},
   "outputs": [],
   "source": [
    "bined_df.drop(['date_added'], axis = 1, inplace = True)"
   ]
  },
  {
   "cell_type": "code",
   "execution_count": null,
   "id": "fff94a92",
   "metadata": {},
   "outputs": [],
   "source": []
  },
  {
   "cell_type": "code",
   "execution_count": null,
   "id": "e1b30036",
   "metadata": {},
   "outputs": [],
   "source": [
    "num_cols = [x for x in bined_df.select_dtypes(include=np.number).columns.tolist() \\\n",
    "            if x not in ['sell_id', 'train','new_data']]"
   ]
  },
  {
   "cell_type": "code",
   "execution_count": 405,
   "id": "5a1b91c4",
   "metadata": {},
   "outputs": [
    {
     "name": "stdout",
     "output_type": "stream",
     "text": [
      "<class 'pandas.core.frame.DataFrame'>\n",
      "Int64Index: 216599 entries, 0 to 262838\n",
      "Data columns (total 29 columns):\n",
      " #   Column                Non-Null Count   Dtype  \n",
      "---  ------                --------------   -----  \n",
      " 0   bodyType              216599 non-null  object \n",
      " 1   brand                 216599 non-null  object \n",
      " 2   color                 216586 non-null  object \n",
      " 3   engineDisplacement    216599 non-null  float64\n",
      " 4   enginePower           216599 non-null  object \n",
      " 5   fuelType              216599 non-null  object \n",
      " 6   mileage               186471 non-null  float64\n",
      " 7   modelDate             216599 non-null  float64\n",
      " 8   model_name            186471 non-null  object \n",
      " 9   name                  216599 non-null  object \n",
      " 10  numberOfDoors         216599 non-null  float64\n",
      " 11  productionDate        216599 non-null  float64\n",
      " 12  sell_id               216599 non-null  int64  \n",
      " 13  super_gen             169165 non-null  object \n",
      " 14  vehicleConfiguration  216599 non-null  object \n",
      " 15  vehicleTransmission   216599 non-null  object \n",
      " 16  vendor                214417 non-null  object \n",
      " 17  owners                176878 non-null  object \n",
      " 18  ownership             44205 non-null   object \n",
      " 19  vehicle_licence       186211 non-null  object \n",
      " 20  driving_gear          186471 non-null  object \n",
      " 21  steering_wheel        186471 non-null  object \n",
      " 22  train                 216599 non-null  int64  \n",
      " 23  new_data              216599 non-null  int64  \n",
      " 24  price                 181913 non-null  float64\n",
      " 25  date_added            151785 non-null  object \n",
      " 26  price_log             181913 non-null  float64\n",
      " 27  equip_compl           176613 non-null  object \n",
      " 28  parsing_unixtime      216599 non-null  float64\n",
      "dtypes: float64(8), int64(3), object(18)\n",
      "memory usage: 57.6+ MB\n"
     ]
    }
   ],
   "source": [
    "bined_df.info()"
   ]
  },
  {
   "cell_type": "markdown",
   "id": "578de844",
   "metadata": {
    "papermill": {
     "duration": null,
     "end_time": null,
     "exception": null,
     "start_time": null,
     "status": "pending"
    },
    "tags": []
   },
   "source": [
    "### Feature importance and correlation"
   ]
  },
  {
   "cell_type": "code",
   "execution_count": null,
   "id": "17659287",
   "metadata": {
    "execution": {
     "iopub.status.busy": "2021-10-16T20:27:20.899933Z",
     "iopub.status.idle": "2021-10-16T20:27:20.900385Z",
     "shell.execute_reply": "2021-10-16T20:27:20.900156Z",
     "shell.execute_reply.started": "2021-10-16T20:27:20.900138Z"
    },
    "papermill": {
     "duration": null,
     "end_time": null,
     "exception": null,
     "start_time": null,
     "status": "pending"
    },
    "tags": []
   },
   "outputs": [],
   "source": [
    "# Numeric features importance\n",
    "imp_num = Series(f_classif(bined_df[num_cols], bined_df['price'])[\n",
    "                 0], index=num_cols)\n",
    "imp_num.sort_values(inplace=True)\n",
    "imp_num.plot(kind='barh', title='Numeric features importance')"
   ]
  },
  {
   "cell_type": "code",
   "execution_count": null,
   "id": "b0df73ad",
   "metadata": {
    "execution": {
     "iopub.status.busy": "2021-10-16T20:27:20.907521Z",
     "iopub.status.idle": "2021-10-16T20:27:20.908138Z",
     "shell.execute_reply": "2021-10-16T20:27:20.907957Z",
     "shell.execute_reply.started": "2021-10-16T20:27:20.907933Z"
    },
    "papermill": {
     "duration": null,
     "end_time": null,
     "exception": null,
     "start_time": null,
     "status": "pending"
    },
    "tags": []
   },
   "outputs": [],
   "source": [
    "# Numeric features correlation\n",
    "fig, ax = plt.subplots(1, 1, figsize=(10, 5))\n",
    "sns.heatmap(bined_df[num_cols + ['price']].corr(), annot=True,\n",
    "            fmt='.1g', vmin=-1, vmax=1, center=0, cmap='RdBu')"
   ]
  },
  {
   "cell_type": "code",
   "execution_count": null,
   "id": "350fb945",
   "metadata": {
    "execution": {
     "iopub.status.busy": "2021-10-16T20:27:20.925910Z",
     "iopub.status.idle": "2021-10-16T20:27:20.926357Z",
     "shell.execute_reply": "2021-10-16T20:27:20.926146Z",
     "shell.execute_reply.started": "2021-10-16T20:27:20.926124Z"
    },
    "papermill": {
     "duration": null,
     "end_time": null,
     "exception": null,
     "start_time": null,
     "status": "pending"
    },
    "tags": []
   },
   "outputs": [],
   "source": [
    "# Categoriсal and binary features importance\n",
    "imp_cat = Series(mutual_info_classif(bined_df[bin_cols + cat_cols], bined_df['price'],\n",
    "                                     discrete_features=True), index=bin_cols + cat_cols)\n",
    "imp_cat.sort_values(inplace=True)\n",
    "imp_cat.plot(kind='barh')"
   ]
  },
  {
   "cell_type": "code",
   "execution_count": null,
   "id": "a0a2bdea",
   "metadata": {
    "execution": {
     "iopub.status.busy": "2021-10-16T20:27:20.928371Z",
     "iopub.status.idle": "2021-10-16T20:27:20.928859Z",
     "shell.execute_reply": "2021-10-16T20:27:20.928624Z",
     "shell.execute_reply.started": "2021-10-16T20:27:20.928600Z"
    },
    "papermill": {
     "duration": null,
     "end_time": null,
     "exception": null,
     "start_time": null,
     "status": "pending"
    },
    "tags": []
   },
   "outputs": [],
   "source": [
    "# Categoriсal and binary features correlation\n",
    "fig, ax = plt.subplots(1, 1, figsize=(12, 10))\n",
    "sns.heatmap(bined_df[cat_cols + bin_cols].corr(), annot=True,\n",
    "            fmt='.1g', vmin=-1, vmax=1, center=0, cmap='RdBu')"
   ]
  },
  {
   "cell_type": "code",
   "execution_count": null,
   "id": "c47086c9",
   "metadata": {
    "papermill": {
     "duration": null,
     "end_time": null,
     "exception": null,
     "start_time": null,
     "status": "pending"
    },
    "tags": []
   },
   "outputs": [],
   "source": []
  }
 ],
 "metadata": {
  "kernelspec": {
   "display_name": "Python 3",
   "language": "python",
   "name": "python3"
  },
  "language_info": {
   "codemirror_mode": {
    "name": "ipython",
    "version": 3
   },
   "file_extension": ".py",
   "mimetype": "text/x-python",
   "name": "python",
   "nbconvert_exporter": "python",
   "pygments_lexer": "ipython3",
   "version": "3.8.8"
  },
  "papermill": {
   "default_parameters": {},
   "duration": 58.882263,
   "end_time": "2021-10-18T11:50:43.536166",
   "environment_variables": {},
   "exception": true,
   "input_path": "__notebook__.ipynb",
   "output_path": "__notebook__.ipynb",
   "parameters": {},
   "start_time": "2021-10-18T11:49:44.653903",
   "version": "2.3.3"
  }
 },
 "nbformat": 4,
 "nbformat_minor": 5
}
