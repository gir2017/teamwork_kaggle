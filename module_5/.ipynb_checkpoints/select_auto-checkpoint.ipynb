{
 "cells": [
  {
   "cell_type": "markdown",
   "id": "bdc727c3",
   "metadata": {
    "papermill": {
     "duration": 0.049831,
     "end_time": "2021-10-18T11:49:52.243642",
     "exception": false,
     "start_time": "2021-10-18T11:49:52.193811",
     "status": "completed"
    },
    "tags": []
   },
   "source": [
    "<img src=\"https://whatcar.vn/media/2018/09/car-lot-940x470.jpg\"/>\n",
    "\n",
    "# Car price prediction"
   ]
  },
  {
   "cell_type": "code",
   "execution_count": 2,
   "id": "40984705",
   "metadata": {
    "execution": {
     "iopub.execute_input": "2021-10-18T11:49:52.345248Z",
     "iopub.status.busy": "2021-10-18T11:49:52.344171Z",
     "iopub.status.idle": "2021-10-18T11:49:55.076481Z",
     "shell.execute_reply": "2021-10-18T11:49:55.075839Z",
     "shell.execute_reply.started": "2021-10-18T11:11:27.380574Z"
    },
    "papermill": {
     "duration": 2.783128,
     "end_time": "2021-10-18T11:49:55.076657",
     "exception": false,
     "start_time": "2021-10-18T11:49:52.293529",
     "status": "completed"
    },
    "scrolled": true,
    "tags": []
   },
   "outputs": [],
   "source": [
    "# Import all necessary libraries\n",
    "import numpy as np # linear algebra\n",
    "import pandas as pd # data processing, CSV file I/O (e.g. pd.read_csv)\n",
    "import pandas_profiling as pp\n",
    "from pandas_profiling import ProfileReport\n",
    "import re\n",
    "import os\n",
    "\n",
    "import datetime\n",
    "from datetime import datetime\n",
    "\n",
    "import seaborn as sns\n",
    "import matplotlib.pyplot as plt\n",
    "\n",
    "import sys\n",
    "import pdb\n",
    "import ast, json\n",
    "\n",
    "\n",
    "from sklearn.model_selection import train_test_split, KFold\n",
    "from tqdm.notebook import tqdm\n",
    "from catboost import CatBoostRegressor\n",
    "from sklearn.preprocessing import LabelEncoder, OneHotEncoder, StandardScaler, PolynomialFeatures\n",
    "from sklearn.ensemble import RandomForestRegressor, BaggingRegressor, ExtraTreesRegressor, AdaBoostRegressor, GradientBoostingRegressor, StackingRegressor\n",
    "from sklearn.linear_model import LinearRegression\n",
    "from sklearn.metrics import mean_squared_error\n",
    "\n",
    "import warnings\n",
    "warnings.filterwarnings(\"ignore\")\n",
    "\n",
    "%matplotlib inline"
   ]
  },
  {
   "cell_type": "code",
   "execution_count": 3,
   "id": "aeebc0df",
   "metadata": {
    "execution": {
     "iopub.execute_input": "2021-10-18T11:49:55.176935Z",
     "iopub.status.busy": "2021-10-18T11:49:55.176279Z",
     "iopub.status.idle": "2021-10-18T11:49:55.179190Z",
     "shell.execute_reply": "2021-10-18T11:49:55.178759Z",
     "shell.execute_reply.started": "2021-10-18T09:04:18.484215Z"
    },
    "papermill": {
     "duration": 0.054562,
     "end_time": "2021-10-18T11:49:55.179318",
     "exception": false,
     "start_time": "2021-10-18T11:49:55.124756",
     "status": "completed"
    },
    "tags": []
   },
   "outputs": [],
   "source": [
    "# print all columns in row\n",
    "pd.set_option(\"display.max_columns\", None)"
   ]
  },
  {
   "cell_type": "code",
   "execution_count": 4,
   "id": "f4e55c90",
   "metadata": {
    "execution": {
     "iopub.execute_input": "2021-10-18T11:49:55.278721Z",
     "iopub.status.busy": "2021-10-18T11:49:55.278099Z",
     "iopub.status.idle": "2021-10-18T11:49:59.239133Z",
     "shell.execute_reply": "2021-10-18T11:49:59.238510Z",
     "shell.execute_reply.started": "2021-10-18T09:04:19.318294Z"
    },
    "papermill": {
     "duration": 4.012483,
     "end_time": "2021-10-18T11:49:59.239267",
     "exception": false,
     "start_time": "2021-10-18T11:49:55.226784",
     "status": "completed"
    },
    "tags": []
   },
   "outputs": [],
   "source": [
    "!pip freeze > requirements.txt\n",
    "RANDOM_SEED = 42"
   ]
  },
  {
   "cell_type": "markdown",
   "id": "ac506639",
   "metadata": {},
   "source": [
    "### Kaggle"
   ]
  },
  {
   "cell_type": "code",
   "execution_count": 8,
   "id": "7caba59e",
   "metadata": {
    "execution": {
     "iopub.execute_input": "2021-10-18T11:49:59.341348Z",
     "iopub.status.busy": "2021-10-18T11:49:59.340678Z",
     "iopub.status.idle": "2021-10-18T11:49:59.368657Z",
     "shell.execute_reply": "2021-10-18T11:49:59.368021Z",
     "shell.execute_reply.started": "2021-10-18T09:04:24.445831Z"
    },
    "papermill": {
     "duration": 0.081553,
     "end_time": "2021-10-18T11:49:59.368816",
     "exception": false,
     "start_time": "2021-10-18T11:49:59.287263",
     "status": "completed"
    },
    "tags": []
   },
   "outputs": [],
   "source": [
    "# we will look at both parsed data: manually prepared and ready parsed on 09.09.2020\n",
    "DIR_TRAIN_ready  = '../input/ready-all-auto-ru-09-09-2020/'\n",
    "DIR_TRAIN = '../input/parsed-data/'\n",
    "DIR_TEST   = '../input/sf-dst-car-price-prediction/'\n",
    "files = !ls '../input/parsed-data/'"
   ]
  },
  {
   "cell_type": "markdown",
   "id": "56110bf5",
   "metadata": {},
   "source": [
    "### Locally"
   ]
  },
  {
   "cell_type": "code",
   "execution_count": 5,
   "id": "00aeb871",
   "metadata": {},
   "outputs": [
    {
     "name": "stdout",
     "output_type": "stream",
     "text": [
      "['df_parsed_audi.csv', 'df_parsed_bmw.csv', 'df_parsed_honda.csv', 'df_parsed_infiniti.csv', 'df_parsed_lexus.csv', 'df_parsed_mercedes_mercedes.csv', 'df_parsed_mitsubishi.csv', 'df_parsed_nissan.csv', 'df_parsed_skoda.csv', 'df_parsed_toyota.csv', 'df_parsed_volkswagen.csv', 'df_parsed_volvo.csv']\n"
     ]
    }
   ],
   "source": [
    "DIR_TRAIN_ready  = './input/'\n",
    "DIR_TRAIN = './input/'\n",
    "DIR_TEST   = './input/'\n",
    "files = [x for x in os.listdir('./input/') if x.startswith('df')]\n",
    "print(files)"
   ]
  },
  {
   "cell_type": "markdown",
   "id": "3f05e0de",
   "metadata": {
    "papermill": {
     "duration": 0.048545,
     "end_time": "2021-10-18T11:49:59.465559",
     "exception": false,
     "start_time": "2021-10-18T11:49:59.417014",
     "status": "completed"
    },
    "tags": []
   },
   "source": [
    "## Functions"
   ]
  },
  {
   "cell_type": "code",
   "execution_count": 7,
   "id": "cff63fdd",
   "metadata": {
    "execution": {
     "iopub.execute_input": "2021-10-18T11:49:59.573613Z",
     "iopub.status.busy": "2021-10-18T11:49:59.572526Z",
     "iopub.status.idle": "2021-10-18T11:49:59.574845Z",
     "shell.execute_reply": "2021-10-18T11:49:59.575258Z",
     "shell.execute_reply.started": "2021-10-18T11:27:03.466941Z"
    },
    "papermill": {
     "duration": 0.061131,
     "end_time": "2021-10-18T11:49:59.575451",
     "exception": false,
     "start_time": "2021-10-18T11:49:59.514320",
     "status": "completed"
    },
    "tags": []
   },
   "outputs": [],
   "source": [
    "# MAPE metric\n",
    "def mape(y_true, y_pred):\n",
    "    return np.mean(np.abs((y_pred-y_true)/y_true))\n",
    "\n",
    "# Calculating outliers\n",
    "def outliers(data, col):\n",
    "    IQR = data[col].quantile(0.75) - data[col].quantile(0.25)\n",
    "    perc25 = data[col].quantile(0.25)\n",
    "    perc75 = data[col].quantile(0.75)\n",
    "    l = perc25 - 1.5*IQR\n",
    "    r = perc75 + 1.5*IQR\n",
    "    print(\"For {0} IQR: {1}, \\n\".format(col, IQR),\n",
    "          \"Outliers boundaries: [{0}, {1}].\".format(l, r))\n",
    "    print('Total {} outliers\\n'.format(\n",
    "        data[data[col] > r][col].count() + data[data[col] < l][col].count()),\n",
    "         '{} left outliers \\n'.format(data[data[col] < l][col].count()),\n",
    "         '{} right outliers \\n'.format(data[data[col] > r][col].count())\n",
    "         )\n",
    "\n",
    "# Building a boxplot and  histogram for column\n",
    "def get_hist_box(df, col):\n",
    "    # build a histogram\n",
    "    df[col].value_counts(ascending=True).plot.barh()\n",
    "    \n",
    "    # build a boxplot\n",
    "    fig, ax = plt.subplots(figsize = (15, 10))\n",
    "    sns.boxplot(x = col, y = 'price_log',data=df)\n",
    "    plt.xticks(rotation=45)\n",
    "    ax.set_title('Boxplot for {}'.format(col))\n",
    "    plt.show()\n",
    "    \n",
    "# get color names in ready df\n",
    "def color(row):\n",
    "    #pdb.set_trace()  \n",
    "    if row['Комплектация'] != \"{'id': '0'}\":\n",
    "        try:\n",
    "            val = ast.literal_eval(row['Комплектация'])['vendor_colors'][0]['stock_color']['name_ru']\n",
    "            #val_1 = ast.literal_eval(row['Комплектация'])['vendor_colors'][0]['stock_color']['hex_code']\n",
    "        except KeyError:\n",
    "            val = 'None'\n",
    "    else: \n",
    "        val = 'None'\n",
    "    return val\n",
    "\n",
    "# get complectation_dict for train_ready data\n",
    "def compl(row,col):\n",
    "    #pdb.set_trace()  \n",
    "    # for one row testing\n",
    "    #if ((row[col] != \"{'id': '0'}\") & pd.notnull(row[col])).all():\n",
    "    if ((row[col] != \"{'id': '0'}\") & pd.notnull(row[col])):\n",
    "    #if pd.notnull(row[col]):\n",
    "        try:\n",
    "            val = ast.literal_eval(row[col])['available_options']\n",
    "            \n",
    "        except ValueError:\n",
    "            val = json.loads(row[col])['available_options']\n",
    "        except KeyError:\n",
    "            val = np.nan\n",
    "    else: \n",
    "        val = np.nan\n",
    "    return val\n",
    "\n",
    "# format equipment_dict\n",
    "def equip(row):\n",
    "    #pdb.set_trace()  \n",
    "    if pd.notnull(row['equipment_dict']):\n",
    "        try:\n",
    "            d = json.loads(row['equipment_dict'])\n",
    "        except :\n",
    "            d = ast.literal_eval(row['equipment_dict'])\n",
    "        val = [k for k, v in d.items() if v==True]\n",
    "    else: \n",
    "        val = np.nan\n",
    "    \n",
    "    return val\n",
    "\n",
    "# bind complectation & equipment dict together in one list\n",
    "def equip_compl(row):\n",
    "    #pdb.set_trace()  \n",
    "    if isinstance(row['equipment'], float):\n",
    "        if isinstance(row['complectation_dict'], float):\n",
    "            val = np.nan\n",
    "            \n",
    "        else:\n",
    "            val = row['complectation_dict']\n",
    "    elif isinstance(row['complectation_dict'], float): \n",
    "        val = row['equipment']\n",
    "    else:\n",
    "        try:\n",
    "            val = list(set(row['equipment']+ row['complectation_dict']))\n",
    "        except:\n",
    "            val = list(set(row['equipment']+ ast.literal_eval(row['complectation_dict'])))\n",
    "    return val"
   ]
  },
  {
   "cell_type": "code",
   "execution_count": 8,
   "id": "7b8620b2",
   "metadata": {
    "execution": {
     "iopub.execute_input": "2021-10-18T11:49:59.789613Z",
     "iopub.status.busy": "2021-10-18T11:49:59.788877Z",
     "iopub.status.idle": "2021-10-18T11:50:28.417629Z",
     "shell.execute_reply": "2021-10-18T11:50:28.417033Z",
     "shell.execute_reply.started": "2021-10-18T11:00:50.351241Z"
    },
    "papermill": {
     "duration": 28.684956,
     "end_time": "2021-10-18T11:50:28.417773",
     "exception": false,
     "start_time": "2021-10-18T11:49:59.732817",
     "status": "completed"
    },
    "tags": []
   },
   "outputs": [],
   "source": [
    "# read all df\n",
    "# we used ready df from 2020 +\n",
    "# our parsed data from 2021\n",
    "train_r = pd.read_csv(DIR_TRAIN_ready+'all_auto_ru_09_09_2020.csv') \n",
    "\n",
    "train_parsed = pd.DataFrame(columns = ['bodyType', 'brand', 'car_url', 'color', 'complectation_dict',\n",
    "       'description', 'engineDisplacement', 'enginePower', 'equipment_dict',\n",
    "       'fuelType', 'image', 'mileage', 'modelDate', 'model_info', 'model_name',\n",
    "       'name', 'numberOfDoors', 'parsing_unixtime', 'priceCurrency',\n",
    "       'productionDate', 'sell_id', 'super_gen', 'vehicleConfiguration',\n",
    "       'vehicleTransmission', 'vendor', 'Владельцы', 'Владение', 'ПТС',\n",
    "       'Привод', 'Руль', 'Состояние', 'Таможня', 'views', 'date_added',\n",
    "       'region', 'price'])  \n",
    "for file in files:\n",
    "    model = pd.read_csv(DIR_TRAIN+file)\n",
    "    #pdb.set_trace()  \n",
    "    train_parsed = pd.concat([train_parsed,model], ignore_index=True)\n",
    "    \n",
    "test = pd.read_csv(DIR_TEST+'test.csv')\n",
    "sample_submission = pd.read_csv(DIR_TEST+'sample_submission.csv')"
   ]
  },
  {
   "cell_type": "code",
   "execution_count": 9,
   "id": "8bd87778",
   "metadata": {
    "execution": {
     "iopub.execute_input": "2021-10-18T11:50:28.524204Z",
     "iopub.status.busy": "2021-10-18T11:50:28.523465Z",
     "iopub.status.idle": "2021-10-18T11:50:28.561167Z",
     "shell.execute_reply": "2021-10-18T11:50:28.561607Z",
     "shell.execute_reply.started": "2021-10-18T09:42:09.053859Z"
    },
    "papermill": {
     "duration": 0.095591,
     "end_time": "2021-10-18T11:50:28.561778",
     "exception": false,
     "start_time": "2021-10-18T11:50:28.466187",
     "status": "completed"
    },
    "tags": []
   },
   "outputs": [
    {
     "data": {
      "text/html": [
       "<div>\n",
       "<style scoped>\n",
       "    .dataframe tbody tr th:only-of-type {\n",
       "        vertical-align: middle;\n",
       "    }\n",
       "\n",
       "    .dataframe tbody tr th {\n",
       "        vertical-align: top;\n",
       "    }\n",
       "\n",
       "    .dataframe thead th {\n",
       "        text-align: right;\n",
       "    }\n",
       "</style>\n",
       "<table border=\"1\" class=\"dataframe\">\n",
       "  <thead>\n",
       "    <tr style=\"text-align: right;\">\n",
       "      <th></th>\n",
       "      <th>bodyType</th>\n",
       "      <th>brand</th>\n",
       "      <th>car_url</th>\n",
       "      <th>color</th>\n",
       "      <th>complectation_dict</th>\n",
       "      <th>description</th>\n",
       "      <th>engineDisplacement</th>\n",
       "      <th>enginePower</th>\n",
       "      <th>equipment_dict</th>\n",
       "      <th>fuelType</th>\n",
       "      <th>image</th>\n",
       "      <th>mileage</th>\n",
       "      <th>modelDate</th>\n",
       "      <th>model_info</th>\n",
       "      <th>model_name</th>\n",
       "      <th>name</th>\n",
       "      <th>numberOfDoors</th>\n",
       "      <th>parsing_unixtime</th>\n",
       "      <th>priceCurrency</th>\n",
       "      <th>productionDate</th>\n",
       "      <th>sell_id</th>\n",
       "      <th>super_gen</th>\n",
       "      <th>vehicleConfiguration</th>\n",
       "      <th>vehicleTransmission</th>\n",
       "      <th>vendor</th>\n",
       "      <th>Владельцы</th>\n",
       "      <th>Владение</th>\n",
       "      <th>ПТС</th>\n",
       "      <th>Привод</th>\n",
       "      <th>Руль</th>\n",
       "      <th>Состояние</th>\n",
       "      <th>Таможня</th>\n",
       "      <th>views</th>\n",
       "      <th>date_added</th>\n",
       "      <th>region</th>\n",
       "      <th>price</th>\n",
       "    </tr>\n",
       "  </thead>\n",
       "  <tbody>\n",
       "    <tr>\n",
       "      <th>0</th>\n",
       "      <td>лифтбек</td>\n",
       "      <td>SKODA</td>\n",
       "      <td>https://auto.ru/cars/used/sale/skoda/rapid/110...</td>\n",
       "      <td>белый</td>\n",
       "      <td>NaN</td>\n",
       "      <td>Автомобиль в отличном состоянии На фото именно...</td>\n",
       "      <td>1.0 LTR</td>\n",
       "      <td>110 N12</td>\n",
       "      <td>{'cruise-control': True, 'asr': True, 'tinted-...</td>\n",
       "      <td>бензин</td>\n",
       "      <td>https://avatars.mds.yandex.net/get-autoru-vos/...</td>\n",
       "      <td>98000.0</td>\n",
       "      <td>2017.0</td>\n",
       "      <td>NaN</td>\n",
       "      <td>Rapid</td>\n",
       "      <td>Skoda Rapid I Рестайлинг</td>\n",
       "      <td>5.0</td>\n",
       "      <td>1.634236e+09</td>\n",
       "      <td>RUB</td>\n",
       "      <td>2018.0</td>\n",
       "      <td>1.105436e+09</td>\n",
       "      <td>{'sale-data-attributes': {'asciiCat': 'cars', ...</td>\n",
       "      <td>LIFTBACK MECHANICAL 1.0</td>\n",
       "      <td>механическая</td>\n",
       "      <td>EUROPEAN</td>\n",
       "      <td>1 владелец</td>\n",
       "      <td>3 года и 2 месяца</td>\n",
       "      <td>Оригинал</td>\n",
       "      <td>передний</td>\n",
       "      <td>Левый</td>\n",
       "      <td>Не требует ремонта</td>\n",
       "      <td>Растаможен</td>\n",
       "      <td>1069.0</td>\n",
       "      <td>7 октября</td>\n",
       "      <td>в Москве</td>\n",
       "      <td>1030000.0</td>\n",
       "    </tr>\n",
       "    <tr>\n",
       "      <th>1</th>\n",
       "      <td>лифтбек</td>\n",
       "      <td>SKODA</td>\n",
       "      <td>https://auto.ru/cars/used/sale/skoda/octavia/1...</td>\n",
       "      <td>серебристый</td>\n",
       "      <td>NaN</td>\n",
       "      <td>2 собственника по ПТС эксплуатировался одним ч...</td>\n",
       "      <td>1.4 LTR</td>\n",
       "      <td>140 N12</td>\n",
       "      <td>{}</td>\n",
       "      <td>бензин</td>\n",
       "      <td>https://avatars.mds.yandex.net/get-autoru-vos/...</td>\n",
       "      <td>86000.0</td>\n",
       "      <td>2013.0</td>\n",
       "      <td>NaN</td>\n",
       "      <td>Octavia</td>\n",
       "      <td>Skoda Octavia III (A7)</td>\n",
       "      <td>5.0</td>\n",
       "      <td>1.634236e+09</td>\n",
       "      <td>RUB</td>\n",
       "      <td>2015.0</td>\n",
       "      <td>1.105548e+09</td>\n",
       "      <td>{'sale-data-attributes': {'asciiCat': 'cars', ...</td>\n",
       "      <td>LIFTBACK ROBOT 1.4</td>\n",
       "      <td>роботизированная</td>\n",
       "      <td>EUROPEAN</td>\n",
       "      <td>2 владельца</td>\n",
       "      <td>NaN</td>\n",
       "      <td>Оригинал</td>\n",
       "      <td>передний</td>\n",
       "      <td>Левый</td>\n",
       "      <td>Не требует ремонта</td>\n",
       "      <td>Растаможен</td>\n",
       "      <td>464.0</td>\n",
       "      <td>8 октября</td>\n",
       "      <td>в Екатеринбурге</td>\n",
       "      <td>1130000.0</td>\n",
       "    </tr>\n",
       "    <tr>\n",
       "      <th>2</th>\n",
       "      <td>лифтбек</td>\n",
       "      <td>SKODA</td>\n",
       "      <td>https://auto.ru/cars/used/sale/skoda/octavia/1...</td>\n",
       "      <td>синий</td>\n",
       "      <td>NaN</td>\n",
       "      <td>Я второй собственник вписан в ПТС с августа 20...</td>\n",
       "      <td>1.2 LTR</td>\n",
       "      <td>105 N12</td>\n",
       "      <td>{'cruise-control': True, 'engine-proof': True,...</td>\n",
       "      <td>бензин</td>\n",
       "      <td>https://avatars.mds.yandex.net/get-autoru-vos/...</td>\n",
       "      <td>179000.0</td>\n",
       "      <td>2008.0</td>\n",
       "      <td>NaN</td>\n",
       "      <td>Octavia</td>\n",
       "      <td>Skoda Octavia II (A5) Рестайлинг</td>\n",
       "      <td>5.0</td>\n",
       "      <td>1.634236e+09</td>\n",
       "      <td>RUB</td>\n",
       "      <td>2011.0</td>\n",
       "      <td>1.105604e+09</td>\n",
       "      <td>{'sale-data-attributes': {'asciiCat': 'cars', ...</td>\n",
       "      <td>LIFTBACK ROBOT 1.2</td>\n",
       "      <td>роботизированная</td>\n",
       "      <td>EUROPEAN</td>\n",
       "      <td>2 владельца</td>\n",
       "      <td>2 года и 2 месяца</td>\n",
       "      <td>Оригинал</td>\n",
       "      <td>передний</td>\n",
       "      <td>Левый</td>\n",
       "      <td>Не требует ремонта</td>\n",
       "      <td>Растаможен</td>\n",
       "      <td>163.0</td>\n",
       "      <td>13 октября</td>\n",
       "      <td>в Москве</td>\n",
       "      <td>800000.0</td>\n",
       "    </tr>\n",
       "    <tr>\n",
       "      <th>3</th>\n",
       "      <td>лифтбек</td>\n",
       "      <td>SKODA</td>\n",
       "      <td>https://auto.ru/cars/used/sale/skoda/octavia/1...</td>\n",
       "      <td>белый</td>\n",
       "      <td>NaN</td>\n",
       "      <td>Авто в отлично состайни из минусов надо делать...</td>\n",
       "      <td>2.0 LTR</td>\n",
       "      <td>115 N12</td>\n",
       "      <td>{}</td>\n",
       "      <td>бензин</td>\n",
       "      <td>https://avatars.mds.yandex.net/get-autoru-vos/...</td>\n",
       "      <td>514000.0</td>\n",
       "      <td>1996.0</td>\n",
       "      <td>NaN</td>\n",
       "      <td>Octavia</td>\n",
       "      <td>Skoda Octavia I (A4)</td>\n",
       "      <td>5.0</td>\n",
       "      <td>1.634236e+09</td>\n",
       "      <td>RUB</td>\n",
       "      <td>1999.0</td>\n",
       "      <td>1.105094e+09</td>\n",
       "      <td>{'sale-data-attributes': {'asciiCat': 'cars', ...</td>\n",
       "      <td>LIFTBACK MECHANICAL 2.0</td>\n",
       "      <td>механическая</td>\n",
       "      <td>EUROPEAN</td>\n",
       "      <td>3 или более</td>\n",
       "      <td>NaN</td>\n",
       "      <td>Дубликат</td>\n",
       "      <td>передний</td>\n",
       "      <td>Левый</td>\n",
       "      <td>Не требует ремонта</td>\n",
       "      <td>Растаможен</td>\n",
       "      <td>918.0</td>\n",
       "      <td>11 октября</td>\n",
       "      <td>в Москве</td>\n",
       "      <td>150000.0</td>\n",
       "    </tr>\n",
       "    <tr>\n",
       "      <th>4</th>\n",
       "      <td>лифтбек</td>\n",
       "      <td>SKODA</td>\n",
       "      <td>https://auto.ru/cars/new/group/skoda/rapid/217...</td>\n",
       "      <td>белый</td>\n",
       "      <td>NaN</td>\n",
       "      <td>Автомир Богемия Дмитровка Официальный дилер S...</td>\n",
       "      <td>1.6 LTR</td>\n",
       "      <td>110 N12</td>\n",
       "      <td>{'cruise-control': True, 'asr': True, 'tinted-...</td>\n",
       "      <td>бензин</td>\n",
       "      <td>https://avatars.mds.yandex.net/get-autoru-vos/...</td>\n",
       "      <td>NaN</td>\n",
       "      <td>2020.0</td>\n",
       "      <td>NaN</td>\n",
       "      <td>NaN</td>\n",
       "      <td>Skoda Rapid II</td>\n",
       "      <td>5.0</td>\n",
       "      <td>1.634236e+09</td>\n",
       "      <td>RUB</td>\n",
       "      <td>2021.0</td>\n",
       "      <td>1.105618e+09</td>\n",
       "      <td>{'sale-data-attributes': {'asciiCat': 'cars', ...</td>\n",
       "      <td>LIFTBACK AUTOMATIC 1.6</td>\n",
       "      <td>автоматическая</td>\n",
       "      <td>EUROPEAN</td>\n",
       "      <td>NaN</td>\n",
       "      <td>NaN</td>\n",
       "      <td>NaN</td>\n",
       "      <td>NaN</td>\n",
       "      <td>NaN</td>\n",
       "      <td>NaN</td>\n",
       "      <td>NaN</td>\n",
       "      <td>NaN</td>\n",
       "      <td>NaN</td>\n",
       "      <td>NaN</td>\n",
       "      <td>1530000.0</td>\n",
       "    </tr>\n",
       "  </tbody>\n",
       "</table>\n",
       "</div>"
      ],
      "text/plain": [
       "  bodyType  brand                                            car_url  \\\n",
       "0  лифтбек  SKODA  https://auto.ru/cars/used/sale/skoda/rapid/110...   \n",
       "1  лифтбек  SKODA  https://auto.ru/cars/used/sale/skoda/octavia/1...   \n",
       "2  лифтбек  SKODA  https://auto.ru/cars/used/sale/skoda/octavia/1...   \n",
       "3  лифтбек  SKODA  https://auto.ru/cars/used/sale/skoda/octavia/1...   \n",
       "4  лифтбек  SKODA  https://auto.ru/cars/new/group/skoda/rapid/217...   \n",
       "\n",
       "         color complectation_dict  \\\n",
       "0        белый                NaN   \n",
       "1  серебристый                NaN   \n",
       "2        синий                NaN   \n",
       "3        белый                NaN   \n",
       "4        белый                NaN   \n",
       "\n",
       "                                         description engineDisplacement  \\\n",
       "0  Автомобиль в отличном состоянии На фото именно...            1.0 LTR   \n",
       "1  2 собственника по ПТС эксплуатировался одним ч...            1.4 LTR   \n",
       "2  Я второй собственник вписан в ПТС с августа 20...            1.2 LTR   \n",
       "3  Авто в отлично состайни из минусов надо делать...            2.0 LTR   \n",
       "4   Автомир Богемия Дмитровка Официальный дилер S...            1.6 LTR   \n",
       "\n",
       "  enginePower                                     equipment_dict fuelType  \\\n",
       "0     110 N12  {'cruise-control': True, 'asr': True, 'tinted-...   бензин   \n",
       "1     140 N12                                                 {}   бензин   \n",
       "2     105 N12  {'cruise-control': True, 'engine-proof': True,...   бензин   \n",
       "3     115 N12                                                 {}   бензин   \n",
       "4     110 N12  {'cruise-control': True, 'asr': True, 'tinted-...   бензин   \n",
       "\n",
       "                                               image   mileage  modelDate  \\\n",
       "0  https://avatars.mds.yandex.net/get-autoru-vos/...   98000.0     2017.0   \n",
       "1  https://avatars.mds.yandex.net/get-autoru-vos/...   86000.0     2013.0   \n",
       "2  https://avatars.mds.yandex.net/get-autoru-vos/...  179000.0     2008.0   \n",
       "3  https://avatars.mds.yandex.net/get-autoru-vos/...  514000.0     1996.0   \n",
       "4  https://avatars.mds.yandex.net/get-autoru-vos/...       NaN     2020.0   \n",
       "\n",
       "   model_info model_name                              name  numberOfDoors  \\\n",
       "0         NaN      Rapid          Skoda Rapid I Рестайлинг            5.0   \n",
       "1         NaN    Octavia            Skoda Octavia III (A7)            5.0   \n",
       "2         NaN    Octavia  Skoda Octavia II (A5) Рестайлинг            5.0   \n",
       "3         NaN    Octavia              Skoda Octavia I (A4)            5.0   \n",
       "4         NaN        NaN                    Skoda Rapid II            5.0   \n",
       "\n",
       "   parsing_unixtime priceCurrency  productionDate       sell_id  \\\n",
       "0      1.634236e+09           RUB          2018.0  1.105436e+09   \n",
       "1      1.634236e+09           RUB          2015.0  1.105548e+09   \n",
       "2      1.634236e+09           RUB          2011.0  1.105604e+09   \n",
       "3      1.634236e+09           RUB          1999.0  1.105094e+09   \n",
       "4      1.634236e+09           RUB          2021.0  1.105618e+09   \n",
       "\n",
       "                                           super_gen     vehicleConfiguration  \\\n",
       "0  {'sale-data-attributes': {'asciiCat': 'cars', ...  LIFTBACK MECHANICAL 1.0   \n",
       "1  {'sale-data-attributes': {'asciiCat': 'cars', ...       LIFTBACK ROBOT 1.4   \n",
       "2  {'sale-data-attributes': {'asciiCat': 'cars', ...       LIFTBACK ROBOT 1.2   \n",
       "3  {'sale-data-attributes': {'asciiCat': 'cars', ...  LIFTBACK MECHANICAL 2.0   \n",
       "4  {'sale-data-attributes': {'asciiCat': 'cars', ...   LIFTBACK AUTOMATIC 1.6   \n",
       "\n",
       "  vehicleTransmission    vendor    Владельцы           Владение       ПТС  \\\n",
       "0        механическая  EUROPEAN   1 владелец  3 года и 2 месяца  Оригинал   \n",
       "1    роботизированная  EUROPEAN  2 владельца                NaN  Оригинал   \n",
       "2    роботизированная  EUROPEAN  2 владельца  2 года и 2 месяца  Оригинал   \n",
       "3        механическая  EUROPEAN  3 или более                NaN  Дубликат   \n",
       "4      автоматическая  EUROPEAN          NaN                NaN       NaN   \n",
       "\n",
       "     Привод   Руль           Состояние     Таможня   views  date_added  \\\n",
       "0  передний  Левый  Не требует ремонта  Растаможен  1069.0   7 октября   \n",
       "1  передний  Левый  Не требует ремонта  Растаможен   464.0   8 октября   \n",
       "2  передний  Левый  Не требует ремонта  Растаможен   163.0  13 октября   \n",
       "3  передний  Левый  Не требует ремонта  Растаможен   918.0  11 октября   \n",
       "4       NaN    NaN                 NaN         NaN     NaN         NaN   \n",
       "\n",
       "             region      price  \n",
       "0          в Москве  1030000.0  \n",
       "1   в Екатеринбурге  1130000.0  \n",
       "2          в Москве   800000.0  \n",
       "3          в Москве   150000.0  \n",
       "4               NaN  1530000.0  "
      ]
     },
     "execution_count": 9,
     "metadata": {},
     "output_type": "execute_result"
    }
   ],
   "source": [
    "train_parsed.head()"
   ]
  },
  {
   "cell_type": "code",
   "execution_count": 10,
   "id": "deb47bf5",
   "metadata": {
    "execution": {
     "iopub.execute_input": "2021-10-18T11:50:28.666195Z",
     "iopub.status.busy": "2021-10-18T11:50:28.665265Z",
     "iopub.status.idle": "2021-10-18T11:50:28.689639Z",
     "shell.execute_reply": "2021-10-18T11:50:28.690114Z",
     "shell.execute_reply.started": "2021-10-18T09:42:12.757995Z"
    },
    "papermill": {
     "duration": 0.078105,
     "end_time": "2021-10-18T11:50:28.690279",
     "exception": false,
     "start_time": "2021-10-18T11:50:28.612174",
     "status": "completed"
    },
    "tags": []
   },
   "outputs": [
    {
     "data": {
      "text/html": [
       "<div>\n",
       "<style scoped>\n",
       "    .dataframe tbody tr th:only-of-type {\n",
       "        vertical-align: middle;\n",
       "    }\n",
       "\n",
       "    .dataframe tbody tr th {\n",
       "        vertical-align: top;\n",
       "    }\n",
       "\n",
       "    .dataframe thead th {\n",
       "        text-align: right;\n",
       "    }\n",
       "</style>\n",
       "<table border=\"1\" class=\"dataframe\">\n",
       "  <thead>\n",
       "    <tr style=\"text-align: right;\">\n",
       "      <th></th>\n",
       "      <th>bodyType</th>\n",
       "      <th>brand</th>\n",
       "      <th>color</th>\n",
       "      <th>fuelType</th>\n",
       "      <th>modelDate</th>\n",
       "      <th>name</th>\n",
       "      <th>numberOfDoors</th>\n",
       "      <th>productionDate</th>\n",
       "      <th>vehicleConfiguration</th>\n",
       "      <th>vehicleTransmission</th>\n",
       "      <th>engineDisplacement</th>\n",
       "      <th>enginePower</th>\n",
       "      <th>description</th>\n",
       "      <th>mileage</th>\n",
       "      <th>Комплектация</th>\n",
       "      <th>Привод</th>\n",
       "      <th>Руль</th>\n",
       "      <th>Состояние</th>\n",
       "      <th>Владельцы</th>\n",
       "      <th>ПТС</th>\n",
       "      <th>Таможня</th>\n",
       "      <th>Владение</th>\n",
       "      <th>price</th>\n",
       "      <th>start_date</th>\n",
       "      <th>hidden</th>\n",
       "      <th>model</th>\n",
       "    </tr>\n",
       "  </thead>\n",
       "  <tbody>\n",
       "    <tr>\n",
       "      <th>0</th>\n",
       "      <td>Седан</td>\n",
       "      <td>AUDI</td>\n",
       "      <td>040001</td>\n",
       "      <td>бензин</td>\n",
       "      <td>1990.0</td>\n",
       "      <td>2.8 MT (174 л.с.) 4WD</td>\n",
       "      <td>4.0</td>\n",
       "      <td>1991</td>\n",
       "      <td>SEDAN MECHANICAL 2.8</td>\n",
       "      <td>MECHANICAL</td>\n",
       "      <td>2.8</td>\n",
       "      <td>174.0</td>\n",
       "      <td>Машина  в приличном состоянии ,не гнилая не р...</td>\n",
       "      <td>350000</td>\n",
       "      <td>{'id': '0'}</td>\n",
       "      <td>полный</td>\n",
       "      <td>LEFT</td>\n",
       "      <td>NaN</td>\n",
       "      <td>3.0</td>\n",
       "      <td>ORIGINAL</td>\n",
       "      <td>True</td>\n",
       "      <td>NaN</td>\n",
       "      <td>200000.0</td>\n",
       "      <td>2019-10-03T08:09:11Z</td>\n",
       "      <td>NaN</td>\n",
       "      <td>100</td>\n",
       "    </tr>\n",
       "    <tr>\n",
       "      <th>1</th>\n",
       "      <td>Седан</td>\n",
       "      <td>AUDI</td>\n",
       "      <td>EE1D19</td>\n",
       "      <td>бензин</td>\n",
       "      <td>1982.0</td>\n",
       "      <td>1.8 MT (90 л.с.)</td>\n",
       "      <td>4.0</td>\n",
       "      <td>1986</td>\n",
       "      <td>SEDAN MECHANICAL 1.8</td>\n",
       "      <td>MECHANICAL</td>\n",
       "      <td>1.8</td>\n",
       "      <td>90.0</td>\n",
       "      <td>Машина в оригинале не гнилая все вопросы по те...</td>\n",
       "      <td>173424</td>\n",
       "      <td>{'id': '0'}</td>\n",
       "      <td>передний</td>\n",
       "      <td>LEFT</td>\n",
       "      <td>NaN</td>\n",
       "      <td>3.0</td>\n",
       "      <td>ORIGINAL</td>\n",
       "      <td>True</td>\n",
       "      <td>NaN</td>\n",
       "      <td>60000.0</td>\n",
       "      <td>2020-09-06T06:49:40Z</td>\n",
       "      <td>NaN</td>\n",
       "      <td>100</td>\n",
       "    </tr>\n",
       "    <tr>\n",
       "      <th>2</th>\n",
       "      <td>Универсал 5 дв.</td>\n",
       "      <td>AUDI</td>\n",
       "      <td>0000CC</td>\n",
       "      <td>бензин</td>\n",
       "      <td>1988.0</td>\n",
       "      <td>2.3 MT (136 л.с.) 4WD</td>\n",
       "      <td>5.0</td>\n",
       "      <td>1989</td>\n",
       "      <td>WAGON_5_DOORS MECHANICAL 2.3</td>\n",
       "      <td>MECHANICAL</td>\n",
       "      <td>2.3</td>\n",
       "      <td>136.0</td>\n",
       "      <td>ПТС Оригинал!\\nПолный комплект ключей!\\nПо рез...</td>\n",
       "      <td>230000</td>\n",
       "      <td>{'id': '0'}</td>\n",
       "      <td>полный</td>\n",
       "      <td>LEFT</td>\n",
       "      <td>NaN</td>\n",
       "      <td>3.0</td>\n",
       "      <td>ORIGINAL</td>\n",
       "      <td>True</td>\n",
       "      <td>NaN</td>\n",
       "      <td>99000.0</td>\n",
       "      <td>2020-09-02T14:04:21Z</td>\n",
       "      <td>NaN</td>\n",
       "      <td>100</td>\n",
       "    </tr>\n",
       "    <tr>\n",
       "      <th>3</th>\n",
       "      <td>Седан</td>\n",
       "      <td>AUDI</td>\n",
       "      <td>CACECB</td>\n",
       "      <td>бензин</td>\n",
       "      <td>1988.0</td>\n",
       "      <td>1.8 MT (90 л.с.)</td>\n",
       "      <td>4.0</td>\n",
       "      <td>1989</td>\n",
       "      <td>SEDAN MECHANICAL 1.8</td>\n",
       "      <td>MECHANICAL</td>\n",
       "      <td>1.8</td>\n",
       "      <td>90.0</td>\n",
       "      <td>NaN</td>\n",
       "      <td>240000</td>\n",
       "      <td>{'id': '0'}</td>\n",
       "      <td>передний</td>\n",
       "      <td>LEFT</td>\n",
       "      <td>NaN</td>\n",
       "      <td>3.0</td>\n",
       "      <td>ORIGINAL</td>\n",
       "      <td>True</td>\n",
       "      <td>NaN</td>\n",
       "      <td>65000.0</td>\n",
       "      <td>2020-08-23T17:40:09Z</td>\n",
       "      <td>NaN</td>\n",
       "      <td>100</td>\n",
       "    </tr>\n",
       "    <tr>\n",
       "      <th>4</th>\n",
       "      <td>Седан</td>\n",
       "      <td>AUDI</td>\n",
       "      <td>040001</td>\n",
       "      <td>бензин</td>\n",
       "      <td>1990.0</td>\n",
       "      <td>2.0 MT (101 л.с.)</td>\n",
       "      <td>4.0</td>\n",
       "      <td>1991</td>\n",
       "      <td>SEDAN MECHANICAL 2.0</td>\n",
       "      <td>MECHANICAL</td>\n",
       "      <td>2.0</td>\n",
       "      <td>101.0</td>\n",
       "      <td>Машина не гнилая, дыр нет, днище целое, даже в...</td>\n",
       "      <td>300000</td>\n",
       "      <td>{'id': '0'}</td>\n",
       "      <td>передний</td>\n",
       "      <td>LEFT</td>\n",
       "      <td>NaN</td>\n",
       "      <td>3.0</td>\n",
       "      <td>DUPLICATE</td>\n",
       "      <td>True</td>\n",
       "      <td>NaN</td>\n",
       "      <td>100000.0</td>\n",
       "      <td>2020-09-08T09:22:07Z</td>\n",
       "      <td>NaN</td>\n",
       "      <td>100</td>\n",
       "    </tr>\n",
       "  </tbody>\n",
       "</table>\n",
       "</div>"
      ],
      "text/plain": [
       "          bodyType brand   color fuelType  modelDate                   name  \\\n",
       "0            Седан  AUDI  040001   бензин     1990.0  2.8 MT (174 л.с.) 4WD   \n",
       "1            Седан  AUDI  EE1D19   бензин     1982.0       1.8 MT (90 л.с.)   \n",
       "2  Универсал 5 дв.  AUDI  0000CC   бензин     1988.0  2.3 MT (136 л.с.) 4WD   \n",
       "3            Седан  AUDI  CACECB   бензин     1988.0       1.8 MT (90 л.с.)   \n",
       "4            Седан  AUDI  040001   бензин     1990.0      2.0 MT (101 л.с.)   \n",
       "\n",
       "   numberOfDoors  productionDate          vehicleConfiguration  \\\n",
       "0            4.0            1991          SEDAN MECHANICAL 2.8   \n",
       "1            4.0            1986          SEDAN MECHANICAL 1.8   \n",
       "2            5.0            1989  WAGON_5_DOORS MECHANICAL 2.3   \n",
       "3            4.0            1989          SEDAN MECHANICAL 1.8   \n",
       "4            4.0            1991          SEDAN MECHANICAL 2.0   \n",
       "\n",
       "  vehicleTransmission engineDisplacement  enginePower  \\\n",
       "0          MECHANICAL                2.8        174.0   \n",
       "1          MECHANICAL                1.8         90.0   \n",
       "2          MECHANICAL                2.3        136.0   \n",
       "3          MECHANICAL                1.8         90.0   \n",
       "4          MECHANICAL                2.0        101.0   \n",
       "\n",
       "                                         description  mileage Комплектация  \\\n",
       "0   Машина  в приличном состоянии ,не гнилая не р...   350000  {'id': '0'}   \n",
       "1  Машина в оригинале не гнилая все вопросы по те...   173424  {'id': '0'}   \n",
       "2  ПТС Оригинал!\\nПолный комплект ключей!\\nПо рез...   230000  {'id': '0'}   \n",
       "3                                                NaN   240000  {'id': '0'}   \n",
       "4  Машина не гнилая, дыр нет, днище целое, даже в...   300000  {'id': '0'}   \n",
       "\n",
       "     Привод  Руль  Состояние  Владельцы        ПТС  Таможня Владение  \\\n",
       "0    полный  LEFT        NaN        3.0   ORIGINAL     True      NaN   \n",
       "1  передний  LEFT        NaN        3.0   ORIGINAL     True      NaN   \n",
       "2    полный  LEFT        NaN        3.0   ORIGINAL     True      NaN   \n",
       "3  передний  LEFT        NaN        3.0   ORIGINAL     True      NaN   \n",
       "4  передний  LEFT        NaN        3.0  DUPLICATE     True      NaN   \n",
       "\n",
       "      price            start_date  hidden model  \n",
       "0  200000.0  2019-10-03T08:09:11Z     NaN   100  \n",
       "1   60000.0  2020-09-06T06:49:40Z     NaN   100  \n",
       "2   99000.0  2020-09-02T14:04:21Z     NaN   100  \n",
       "3   65000.0  2020-08-23T17:40:09Z     NaN   100  \n",
       "4  100000.0  2020-09-08T09:22:07Z     NaN   100  "
      ]
     },
     "execution_count": 10,
     "metadata": {},
     "output_type": "execute_result"
    }
   ],
   "source": [
    "train_r.head()"
   ]
  },
  {
   "cell_type": "code",
   "execution_count": 11,
   "id": "1ddf14cc",
   "metadata": {
    "execution": {
     "iopub.execute_input": "2021-10-18T11:50:28.808329Z",
     "iopub.status.busy": "2021-10-18T11:50:28.796177Z",
     "iopub.status.idle": "2021-10-18T11:50:28.824844Z",
     "shell.execute_reply": "2021-10-18T11:50:28.824247Z",
     "shell.execute_reply.started": "2021-10-18T09:42:15.254525Z"
    },
    "papermill": {
     "duration": 0.08451,
     "end_time": "2021-10-18T11:50:28.824985",
     "exception": false,
     "start_time": "2021-10-18T11:50:28.740475",
     "status": "completed"
    },
    "scrolled": true,
    "tags": []
   },
   "outputs": [
    {
     "data": {
      "text/html": [
       "<div>\n",
       "<style scoped>\n",
       "    .dataframe tbody tr th:only-of-type {\n",
       "        vertical-align: middle;\n",
       "    }\n",
       "\n",
       "    .dataframe tbody tr th {\n",
       "        vertical-align: top;\n",
       "    }\n",
       "\n",
       "    .dataframe thead th {\n",
       "        text-align: right;\n",
       "    }\n",
       "</style>\n",
       "<table border=\"1\" class=\"dataframe\">\n",
       "  <thead>\n",
       "    <tr style=\"text-align: right;\">\n",
       "      <th></th>\n",
       "      <th>bodyType</th>\n",
       "      <th>brand</th>\n",
       "      <th>car_url</th>\n",
       "      <th>color</th>\n",
       "      <th>complectation_dict</th>\n",
       "      <th>description</th>\n",
       "      <th>engineDisplacement</th>\n",
       "      <th>enginePower</th>\n",
       "      <th>equipment_dict</th>\n",
       "      <th>fuelType</th>\n",
       "      <th>image</th>\n",
       "      <th>mileage</th>\n",
       "      <th>modelDate</th>\n",
       "      <th>model_info</th>\n",
       "      <th>model_name</th>\n",
       "      <th>name</th>\n",
       "      <th>numberOfDoors</th>\n",
       "      <th>parsing_unixtime</th>\n",
       "      <th>priceCurrency</th>\n",
       "      <th>productionDate</th>\n",
       "      <th>sell_id</th>\n",
       "      <th>super_gen</th>\n",
       "      <th>vehicleConfiguration</th>\n",
       "      <th>vehicleTransmission</th>\n",
       "      <th>vendor</th>\n",
       "      <th>Владельцы</th>\n",
       "      <th>Владение</th>\n",
       "      <th>ПТС</th>\n",
       "      <th>Привод</th>\n",
       "      <th>Руль</th>\n",
       "      <th>Состояние</th>\n",
       "      <th>Таможня</th>\n",
       "    </tr>\n",
       "  </thead>\n",
       "  <tbody>\n",
       "    <tr>\n",
       "      <th>0</th>\n",
       "      <td>лифтбек</td>\n",
       "      <td>SKODA</td>\n",
       "      <td>https://auto.ru/cars/used/sale/skoda/octavia/1...</td>\n",
       "      <td>синий</td>\n",
       "      <td>NaN</td>\n",
       "      <td>Все автомобили, представленные в продаже, прох...</td>\n",
       "      <td>1.2 LTR</td>\n",
       "      <td>105 N12</td>\n",
       "      <td>{\"engine-proof\":true,\"tinted-glass\":true,\"airb...</td>\n",
       "      <td>бензин</td>\n",
       "      <td>https://autoru.naydex.net/o9DBXQ270/5ac010hAY0...</td>\n",
       "      <td>74000</td>\n",
       "      <td>2013</td>\n",
       "      <td>{\"code\":\"OCTAVIA\",\"name\":\"Octavia\",\"ru_name\":\"...</td>\n",
       "      <td>OCTAVIA</td>\n",
       "      <td>1.2 AMT (105 л.с.)</td>\n",
       "      <td>5</td>\n",
       "      <td>1603226273</td>\n",
       "      <td>RUB</td>\n",
       "      <td>2014</td>\n",
       "      <td>1100575026</td>\n",
       "      <td>{\"id\":\"10373605\",\"displacement\":1197,\"engine_t...</td>\n",
       "      <td>LIFTBACK ROBOT 1.2</td>\n",
       "      <td>роботизированная</td>\n",
       "      <td>EUROPEAN</td>\n",
       "      <td>3 или более</td>\n",
       "      <td>NaN</td>\n",
       "      <td>Оригинал</td>\n",
       "      <td>передний</td>\n",
       "      <td>Левый</td>\n",
       "      <td>Не требует ремонта</td>\n",
       "      <td>Растаможен</td>\n",
       "    </tr>\n",
       "    <tr>\n",
       "      <th>1</th>\n",
       "      <td>лифтбек</td>\n",
       "      <td>SKODA</td>\n",
       "      <td>https://auto.ru/cars/used/sale/skoda/octavia/1...</td>\n",
       "      <td>чёрный</td>\n",
       "      <td>NaN</td>\n",
       "      <td>ЛОТ: 01217195\\nАвтопрага Север\\nДанный автомоб...</td>\n",
       "      <td>1.6 LTR</td>\n",
       "      <td>110 N12</td>\n",
       "      <td>{\"cruise-control\":true,\"asr\":true,\"esp\":true,\"...</td>\n",
       "      <td>бензин</td>\n",
       "      <td>https://autoru.naydex.net/o9DBXQ270/5ac010hAY0...</td>\n",
       "      <td>60563</td>\n",
       "      <td>2017</td>\n",
       "      <td>{\"code\":\"OCTAVIA\",\"name\":\"Octavia\",\"ru_name\":\"...</td>\n",
       "      <td>OCTAVIA</td>\n",
       "      <td>1.6 MT (110 л.с.)</td>\n",
       "      <td>5</td>\n",
       "      <td>1603226277</td>\n",
       "      <td>RUB</td>\n",
       "      <td>2017</td>\n",
       "      <td>1100549428</td>\n",
       "      <td>{\"id\":\"20913311\",\"displacement\":1598,\"engine_t...</td>\n",
       "      <td>LIFTBACK MECHANICAL 1.6</td>\n",
       "      <td>механическая</td>\n",
       "      <td>EUROPEAN</td>\n",
       "      <td>1 владелец</td>\n",
       "      <td>NaN</td>\n",
       "      <td>Оригинал</td>\n",
       "      <td>передний</td>\n",
       "      <td>Левый</td>\n",
       "      <td>Не требует ремонта</td>\n",
       "      <td>Растаможен</td>\n",
       "    </tr>\n",
       "    <tr>\n",
       "      <th>2</th>\n",
       "      <td>лифтбек</td>\n",
       "      <td>SKODA</td>\n",
       "      <td>https://auto.ru/cars/used/sale/skoda/superb/11...</td>\n",
       "      <td>серый</td>\n",
       "      <td>{\"id\":\"20026336\",\"name\":\"Ambition\",\"available_...</td>\n",
       "      <td>Все автомобили, представленные в продаже, прох...</td>\n",
       "      <td>1.8 LTR</td>\n",
       "      <td>152 N12</td>\n",
       "      <td>{\"cruise-control\":true,\"tinted-glass\":true,\"es...</td>\n",
       "      <td>бензин</td>\n",
       "      <td>https://avatars.mds.yandex.net/get-autoru-vos/...</td>\n",
       "      <td>88000</td>\n",
       "      <td>2013</td>\n",
       "      <td>{\"code\":\"SUPERB\",\"name\":\"Superb\",\"ru_name\":\"Су...</td>\n",
       "      <td>SUPERB</td>\n",
       "      <td>DSG 1.8 AMT (152 л.с.)</td>\n",
       "      <td>5</td>\n",
       "      <td>1603226280</td>\n",
       "      <td>RUB</td>\n",
       "      <td>2014</td>\n",
       "      <td>1100658222</td>\n",
       "      <td>{\"id\":\"20026323\",\"nameplate\":\"DSG\",\"displaceme...</td>\n",
       "      <td>LIFTBACK ROBOT 1.8</td>\n",
       "      <td>роботизированная</td>\n",
       "      <td>EUROPEAN</td>\n",
       "      <td>1 владелец</td>\n",
       "      <td>NaN</td>\n",
       "      <td>Оригинал</td>\n",
       "      <td>передний</td>\n",
       "      <td>Левый</td>\n",
       "      <td>Не требует ремонта</td>\n",
       "      <td>Растаможен</td>\n",
       "    </tr>\n",
       "    <tr>\n",
       "      <th>3</th>\n",
       "      <td>лифтбек</td>\n",
       "      <td>SKODA</td>\n",
       "      <td>https://auto.ru/cars/used/sale/skoda/octavia/1...</td>\n",
       "      <td>коричневый</td>\n",
       "      <td>{\"id\":\"20803582\",\"name\":\"Ambition\",\"available_...</td>\n",
       "      <td>КОМПЛЕКТ ЗИМНЕЙ (ЛЕТНЕЙ) РЕЗИНЫ ПО СЕЗОНУ В ПО...</td>\n",
       "      <td>1.6 LTR</td>\n",
       "      <td>110 N12</td>\n",
       "      <td>{\"cruise-control\":true,\"roller-blind-for-rear-...</td>\n",
       "      <td>бензин</td>\n",
       "      <td>https://autoru.naydex.net/o9DBXQ270/5ac010hAY0...</td>\n",
       "      <td>95000</td>\n",
       "      <td>2013</td>\n",
       "      <td>{\"code\":\"OCTAVIA\",\"name\":\"Octavia\",\"ru_name\":\"...</td>\n",
       "      <td>OCTAVIA</td>\n",
       "      <td>1.6 AT (110 л.с.)</td>\n",
       "      <td>5</td>\n",
       "      <td>1603226284</td>\n",
       "      <td>RUB</td>\n",
       "      <td>2014</td>\n",
       "      <td>1100937408</td>\n",
       "      <td>{\"id\":\"20105521\",\"displacement\":1598,\"engine_t...</td>\n",
       "      <td>LIFTBACK AUTOMATIC 1.6</td>\n",
       "      <td>автоматическая</td>\n",
       "      <td>EUROPEAN</td>\n",
       "      <td>1 владелец</td>\n",
       "      <td>NaN</td>\n",
       "      <td>Оригинал</td>\n",
       "      <td>передний</td>\n",
       "      <td>Левый</td>\n",
       "      <td>Не требует ремонта</td>\n",
       "      <td>Растаможен</td>\n",
       "    </tr>\n",
       "    <tr>\n",
       "      <th>4</th>\n",
       "      <td>лифтбек</td>\n",
       "      <td>SKODA</td>\n",
       "      <td>https://auto.ru/cars/used/sale/skoda/octavia/1...</td>\n",
       "      <td>белый</td>\n",
       "      <td>NaN</td>\n",
       "      <td>ЛОТ: 01220889\\nАвтопрага Север\\n\\nВы можете по...</td>\n",
       "      <td>1.8 LTR</td>\n",
       "      <td>152 N12</td>\n",
       "      <td>{\"cruise-control\":true,\"asr\":true,\"esp\":true,\"...</td>\n",
       "      <td>бензин</td>\n",
       "      <td>https://autoru.naydex.net/o9DBXQ270/5ac010hAY0...</td>\n",
       "      <td>58536</td>\n",
       "      <td>2008</td>\n",
       "      <td>{\"code\":\"OCTAVIA\",\"name\":\"Octavia\",\"ru_name\":\"...</td>\n",
       "      <td>OCTAVIA</td>\n",
       "      <td>1.8 AT (152 л.с.)</td>\n",
       "      <td>5</td>\n",
       "      <td>1603226288</td>\n",
       "      <td>RUB</td>\n",
       "      <td>2012</td>\n",
       "      <td>1101037972</td>\n",
       "      <td>{\"id\":\"4561004\",\"displacement\":1798,\"engine_ty...</td>\n",
       "      <td>LIFTBACK AUTOMATIC 1.8</td>\n",
       "      <td>автоматическая</td>\n",
       "      <td>EUROPEAN</td>\n",
       "      <td>1 владелец</td>\n",
       "      <td>NaN</td>\n",
       "      <td>Оригинал</td>\n",
       "      <td>передний</td>\n",
       "      <td>Левый</td>\n",
       "      <td>Не требует ремонта</td>\n",
       "      <td>Растаможен</td>\n",
       "    </tr>\n",
       "  </tbody>\n",
       "</table>\n",
       "</div>"
      ],
      "text/plain": [
       "  bodyType  brand                                            car_url  \\\n",
       "0  лифтбек  SKODA  https://auto.ru/cars/used/sale/skoda/octavia/1...   \n",
       "1  лифтбек  SKODA  https://auto.ru/cars/used/sale/skoda/octavia/1...   \n",
       "2  лифтбек  SKODA  https://auto.ru/cars/used/sale/skoda/superb/11...   \n",
       "3  лифтбек  SKODA  https://auto.ru/cars/used/sale/skoda/octavia/1...   \n",
       "4  лифтбек  SKODA  https://auto.ru/cars/used/sale/skoda/octavia/1...   \n",
       "\n",
       "        color                                 complectation_dict  \\\n",
       "0       синий                                                NaN   \n",
       "1      чёрный                                                NaN   \n",
       "2       серый  {\"id\":\"20026336\",\"name\":\"Ambition\",\"available_...   \n",
       "3  коричневый  {\"id\":\"20803582\",\"name\":\"Ambition\",\"available_...   \n",
       "4       белый                                                NaN   \n",
       "\n",
       "                                         description engineDisplacement  \\\n",
       "0  Все автомобили, представленные в продаже, прох...            1.2 LTR   \n",
       "1  ЛОТ: 01217195\\nАвтопрага Север\\nДанный автомоб...            1.6 LTR   \n",
       "2  Все автомобили, представленные в продаже, прох...            1.8 LTR   \n",
       "3  КОМПЛЕКТ ЗИМНЕЙ (ЛЕТНЕЙ) РЕЗИНЫ ПО СЕЗОНУ В ПО...            1.6 LTR   \n",
       "4  ЛОТ: 01220889\\nАвтопрага Север\\n\\nВы можете по...            1.8 LTR   \n",
       "\n",
       "  enginePower                                     equipment_dict fuelType  \\\n",
       "0     105 N12  {\"engine-proof\":true,\"tinted-glass\":true,\"airb...   бензин   \n",
       "1     110 N12  {\"cruise-control\":true,\"asr\":true,\"esp\":true,\"...   бензин   \n",
       "2     152 N12  {\"cruise-control\":true,\"tinted-glass\":true,\"es...   бензин   \n",
       "3     110 N12  {\"cruise-control\":true,\"roller-blind-for-rear-...   бензин   \n",
       "4     152 N12  {\"cruise-control\":true,\"asr\":true,\"esp\":true,\"...   бензин   \n",
       "\n",
       "                                               image  mileage  modelDate  \\\n",
       "0  https://autoru.naydex.net/o9DBXQ270/5ac010hAY0...    74000       2013   \n",
       "1  https://autoru.naydex.net/o9DBXQ270/5ac010hAY0...    60563       2017   \n",
       "2  https://avatars.mds.yandex.net/get-autoru-vos/...    88000       2013   \n",
       "3  https://autoru.naydex.net/o9DBXQ270/5ac010hAY0...    95000       2013   \n",
       "4  https://autoru.naydex.net/o9DBXQ270/5ac010hAY0...    58536       2008   \n",
       "\n",
       "                                          model_info model_name  \\\n",
       "0  {\"code\":\"OCTAVIA\",\"name\":\"Octavia\",\"ru_name\":\"...    OCTAVIA   \n",
       "1  {\"code\":\"OCTAVIA\",\"name\":\"Octavia\",\"ru_name\":\"...    OCTAVIA   \n",
       "2  {\"code\":\"SUPERB\",\"name\":\"Superb\",\"ru_name\":\"Су...     SUPERB   \n",
       "3  {\"code\":\"OCTAVIA\",\"name\":\"Octavia\",\"ru_name\":\"...    OCTAVIA   \n",
       "4  {\"code\":\"OCTAVIA\",\"name\":\"Octavia\",\"ru_name\":\"...    OCTAVIA   \n",
       "\n",
       "                     name  numberOfDoors  parsing_unixtime priceCurrency  \\\n",
       "0      1.2 AMT (105 л.с.)              5        1603226273           RUB   \n",
       "1       1.6 MT (110 л.с.)              5        1603226277           RUB   \n",
       "2  DSG 1.8 AMT (152 л.с.)              5        1603226280           RUB   \n",
       "3       1.6 AT (110 л.с.)              5        1603226284           RUB   \n",
       "4       1.8 AT (152 л.с.)              5        1603226288           RUB   \n",
       "\n",
       "   productionDate     sell_id  \\\n",
       "0            2014  1100575026   \n",
       "1            2017  1100549428   \n",
       "2            2014  1100658222   \n",
       "3            2014  1100937408   \n",
       "4            2012  1101037972   \n",
       "\n",
       "                                           super_gen     vehicleConfiguration  \\\n",
       "0  {\"id\":\"10373605\",\"displacement\":1197,\"engine_t...       LIFTBACK ROBOT 1.2   \n",
       "1  {\"id\":\"20913311\",\"displacement\":1598,\"engine_t...  LIFTBACK MECHANICAL 1.6   \n",
       "2  {\"id\":\"20026323\",\"nameplate\":\"DSG\",\"displaceme...       LIFTBACK ROBOT 1.8   \n",
       "3  {\"id\":\"20105521\",\"displacement\":1598,\"engine_t...   LIFTBACK AUTOMATIC 1.6   \n",
       "4  {\"id\":\"4561004\",\"displacement\":1798,\"engine_ty...   LIFTBACK AUTOMATIC 1.8   \n",
       "\n",
       "  vehicleTransmission    vendor    Владельцы Владение       ПТС    Привод  \\\n",
       "0    роботизированная  EUROPEAN  3 или более      NaN  Оригинал  передний   \n",
       "1        механическая  EUROPEAN   1 владелец      NaN  Оригинал  передний   \n",
       "2    роботизированная  EUROPEAN   1 владелец      NaN  Оригинал  передний   \n",
       "3      автоматическая  EUROPEAN   1 владелец      NaN  Оригинал  передний   \n",
       "4      автоматическая  EUROPEAN   1 владелец      NaN  Оригинал  передний   \n",
       "\n",
       "    Руль           Состояние     Таможня  \n",
       "0  Левый  Не требует ремонта  Растаможен  \n",
       "1  Левый  Не требует ремонта  Растаможен  \n",
       "2  Левый  Не требует ремонта  Растаможен  \n",
       "3  Левый  Не требует ремонта  Растаможен  \n",
       "4  Левый  Не требует ремонта  Растаможен  "
      ]
     },
     "execution_count": 11,
     "metadata": {},
     "output_type": "execute_result"
    }
   ],
   "source": [
    "test.head()"
   ]
  },
  {
   "cell_type": "code",
   "execution_count": 12,
   "id": "89de53f6",
   "metadata": {
    "execution": {
     "iopub.execute_input": "2021-10-18T11:50:29.588744Z",
     "iopub.status.busy": "2021-10-18T11:50:29.587330Z",
     "iopub.status.idle": "2021-10-18T11:50:29.974542Z",
     "shell.execute_reply": "2021-10-18T11:50:29.974031Z",
     "shell.execute_reply.started": "2021-10-18T11:01:10.103371Z"
    },
    "papermill": {
     "duration": 0.445308,
     "end_time": "2021-10-18T11:50:29.974718",
     "exception": false,
     "start_time": "2021-10-18T11:50:29.529410",
     "status": "completed"
    },
    "tags": []
   },
   "outputs": [
    {
     "name": "stdout",
     "output_type": "stream",
     "text": [
      "<class 'pandas.core.frame.DataFrame'>\n",
      "RangeIndex: 138775 entries, 0 to 138774\n",
      "Data columns (total 36 columns):\n",
      " #   Column                Non-Null Count   Dtype  \n",
      "---  ------                --------------   -----  \n",
      " 0   bodyType              138708 non-null  object \n",
      " 1   brand                 138710 non-null  object \n",
      " 2   car_url               138748 non-null  object \n",
      " 3   color                 138710 non-null  object \n",
      " 4   complectation_dict    88310 non-null   object \n",
      " 5   description           138710 non-null  object \n",
      " 6   engineDisplacement    138710 non-null  object \n",
      " 7   enginePower           138710 non-null  object \n",
      " 8   equipment_dict        138710 non-null  object \n",
      " 9   fuelType              138708 non-null  object \n",
      " 10  image                 138722 non-null  object \n",
      " 11  mileage               108354 non-null  float64\n",
      " 12  modelDate             138708 non-null  float64\n",
      " 13  model_info            0 non-null       float64\n",
      " 14  model_name            108354 non-null  object \n",
      " 15  name                  138748 non-null  object \n",
      " 16  numberOfDoors         138708 non-null  float64\n",
      " 17  parsing_unixtime      138748 non-null  float64\n",
      " 18  priceCurrency         138748 non-null  object \n",
      " 19  productionDate        138710 non-null  float64\n",
      " 20  sell_id               138710 non-null  float64\n",
      " 21  super_gen             138748 non-null  object \n",
      " 22  vehicleConfiguration  138708 non-null  object \n",
      " 23  vehicleTransmission   138708 non-null  object \n",
      " 24  vendor                135059 non-null  object \n",
      " 25  Владельцы             108354 non-null  object \n",
      " 26  Владение              19141 non-null   object \n",
      " 27  ПТС                   108354 non-null  object \n",
      " 28  Привод                108352 non-null  object \n",
      " 29  Руль                  108354 non-null  object \n",
      " 30  Состояние             108353 non-null  object \n",
      " 31  Таможня               108352 non-null  object \n",
      " 32  views                 107515 non-null  float64\n",
      " 33  date_added            108354 non-null  object \n",
      " 34  region                108354 non-null  object \n",
      " 35  price                 134481 non-null  float64\n",
      "dtypes: float64(9), object(27)\n",
      "memory usage: 38.1+ MB\n"
     ]
    }
   ],
   "source": [
    "train_parsed.info()"
   ]
  },
  {
   "cell_type": "code",
   "execution_count": 13,
   "id": "8c6c60af",
   "metadata": {
    "execution": {
     "iopub.execute_input": "2021-10-18T11:50:30.084587Z",
     "iopub.status.busy": "2021-10-18T11:50:30.083723Z",
     "iopub.status.idle": "2021-10-18T11:50:30.173221Z",
     "shell.execute_reply": "2021-10-18T11:50:30.173657Z",
     "shell.execute_reply.started": "2021-10-18T09:42:28.487425Z"
    },
    "papermill": {
     "duration": 0.145704,
     "end_time": "2021-10-18T11:50:30.173834",
     "exception": false,
     "start_time": "2021-10-18T11:50:30.028130",
     "status": "completed"
    },
    "tags": []
   },
   "outputs": [
    {
     "name": "stdout",
     "output_type": "stream",
     "text": [
      "<class 'pandas.core.frame.DataFrame'>\n",
      "RangeIndex: 89378 entries, 0 to 89377\n",
      "Data columns (total 26 columns):\n",
      " #   Column                Non-Null Count  Dtype  \n",
      "---  ------                --------------  -----  \n",
      " 0   bodyType              89377 non-null  object \n",
      " 1   brand                 89378 non-null  object \n",
      " 2   color                 89378 non-null  object \n",
      " 3   fuelType              89378 non-null  object \n",
      " 4   modelDate             89377 non-null  float64\n",
      " 5   name                  89377 non-null  object \n",
      " 6   numberOfDoors         89377 non-null  float64\n",
      " 7   productionDate        89378 non-null  int64  \n",
      " 8   vehicleConfiguration  89377 non-null  object \n",
      " 9   vehicleTransmission   89377 non-null  object \n",
      " 10  engineDisplacement    89377 non-null  object \n",
      " 11  enginePower           89377 non-null  float64\n",
      " 12  description           86124 non-null  object \n",
      " 13  mileage               89378 non-null  int64  \n",
      " 14  Комплектация          89378 non-null  object \n",
      " 15  Привод                89377 non-null  object \n",
      " 16  Руль                  89378 non-null  object \n",
      " 17  Состояние             0 non-null      float64\n",
      " 18  Владельцы             75790 non-null  float64\n",
      " 19  ПТС                   89017 non-null  object \n",
      " 20  Таможня               89378 non-null  bool   \n",
      " 21  Владение              29201 non-null  object \n",
      " 22  price                 88968 non-null  float64\n",
      " 23  start_date            89378 non-null  object \n",
      " 24  hidden                0 non-null      float64\n",
      " 25  model                 89378 non-null  object \n",
      "dtypes: bool(1), float64(7), int64(2), object(16)\n",
      "memory usage: 17.1+ MB\n"
     ]
    }
   ],
   "source": [
    "train_r.info()"
   ]
  },
  {
   "cell_type": "markdown",
   "id": "badd8beb",
   "metadata": {
    "papermill": {
     "duration": 0.050563,
     "end_time": "2021-10-18T11:50:30.275022",
     "exception": false,
     "start_time": "2021-10-18T11:50:30.224459",
     "status": "completed"
    },
    "tags": []
   },
   "source": [
    "We can remove 'hidden' , 'Состояние' columns as trey are empty, it seems that start date is the same as date_added"
   ]
  },
  {
   "cell_type": "code",
   "execution_count": 14,
   "id": "d6b64a83",
   "metadata": {
    "execution": {
     "iopub.execute_input": "2021-10-18T11:50:30.429730Z",
     "iopub.status.busy": "2021-10-18T11:50:30.428773Z",
     "iopub.status.idle": "2021-10-18T11:50:30.442710Z",
     "shell.execute_reply": "2021-10-18T11:50:30.442103Z",
     "shell.execute_reply.started": "2021-10-18T09:42:32.836558Z"
    },
    "papermill": {
     "duration": 0.116916,
     "end_time": "2021-10-18T11:50:30.442843",
     "exception": false,
     "start_time": "2021-10-18T11:50:30.325927",
     "status": "completed"
    },
    "tags": []
   },
   "outputs": [
    {
     "name": "stdout",
     "output_type": "stream",
     "text": [
      "<class 'pandas.core.frame.DataFrame'>\n",
      "RangeIndex: 34686 entries, 0 to 34685\n",
      "Data columns (total 32 columns):\n",
      " #   Column                Non-Null Count  Dtype \n",
      "---  ------                --------------  ----- \n",
      " 0   bodyType              34686 non-null  object\n",
      " 1   brand                 34686 non-null  object\n",
      " 2   car_url               34686 non-null  object\n",
      " 3   color                 34686 non-null  object\n",
      " 4   complectation_dict    6418 non-null   object\n",
      " 5   description           34686 non-null  object\n",
      " 6   engineDisplacement    34686 non-null  object\n",
      " 7   enginePower           34686 non-null  object\n",
      " 8   equipment_dict        24690 non-null  object\n",
      " 9   fuelType              34686 non-null  object\n",
      " 10  image                 34686 non-null  object\n",
      " 11  mileage               34686 non-null  int64 \n",
      " 12  modelDate             34686 non-null  int64 \n",
      " 13  model_info            34686 non-null  object\n",
      " 14  model_name            34686 non-null  object\n",
      " 15  name                  34686 non-null  object\n",
      " 16  numberOfDoors         34686 non-null  int64 \n",
      " 17  parsing_unixtime      34686 non-null  int64 \n",
      " 18  priceCurrency         34686 non-null  object\n",
      " 19  productionDate        34686 non-null  int64 \n",
      " 20  sell_id               34686 non-null  int64 \n",
      " 21  super_gen             34686 non-null  object\n",
      " 22  vehicleConfiguration  34686 non-null  object\n",
      " 23  vehicleTransmission   34686 non-null  object\n",
      " 24  vendor                34686 non-null  object\n",
      " 25  Владельцы             34686 non-null  object\n",
      " 26  Владение              11995 non-null  object\n",
      " 27  ПТС                   34685 non-null  object\n",
      " 28  Привод                34686 non-null  object\n",
      " 29  Руль                  34686 non-null  object\n",
      " 30  Состояние             34686 non-null  object\n",
      " 31  Таможня               34686 non-null  object\n",
      "dtypes: int64(6), object(26)\n",
      "memory usage: 8.5+ MB\n"
     ]
    }
   ],
   "source": [
    "test.info()"
   ]
  },
  {
   "cell_type": "markdown",
   "id": "f7e58920",
   "metadata": {
    "papermill": {
     "duration": 0.053938,
     "end_time": "2021-10-18T11:50:29.476197",
     "exception": false,
     "start_time": "2021-10-18T11:50:29.422259",
     "status": "completed"
    },
    "tags": []
   },
   "source": [
    "So we have empty train_parsed[\"model_info\"] column, and according to the test['model_info']  it contains the information which is presented in other columns. \n",
    "We will remove it"
   ]
  },
  {
   "cell_type": "code",
   "execution_count": 15,
   "id": "bc8f4309",
   "metadata": {},
   "outputs": [],
   "source": [
    "train_parsed.drop(['model_info'], axis = 1, inplace=True)\n",
    "test.drop(['model_info'], axis = 1, inplace=True)"
   ]
  },
  {
   "cell_type": "code",
   "execution_count": 16,
   "id": "a30c3cc2",
   "metadata": {
    "execution": {
     "iopub.execute_input": "2021-10-18T11:50:30.551765Z",
     "iopub.status.busy": "2021-10-18T11:50:30.549588Z",
     "iopub.status.idle": "2021-10-18T11:50:30.554537Z",
     "shell.execute_reply": "2021-10-18T11:50:30.555516Z",
     "shell.execute_reply.started": "2021-10-18T09:42:36.676611Z"
    },
    "papermill": {
     "duration": 0.060296,
     "end_time": "2021-10-18T11:50:30.555699",
     "exception": false,
     "start_time": "2021-10-18T11:50:30.495403",
     "status": "completed"
    },
    "tags": []
   },
   "outputs": [
    {
     "data": {
      "text/plain": [
       "['date_added', 'region', 'price', 'views']"
      ]
     },
     "execution_count": 16,
     "metadata": {},
     "output_type": "execute_result"
    }
   ],
   "source": [
    "# check what columns are in train_parsed and not presented in test\n",
    "  \n",
    "list(set(train_parsed.columns) - set(test.columns))        "
   ]
  },
  {
   "cell_type": "code",
   "execution_count": 17,
   "id": "db14ca5a",
   "metadata": {},
   "outputs": [
    {
     "data": {
      "text/plain": [
       "['model', 'Комплектация', 'start_date', 'hidden']"
      ]
     },
     "execution_count": 17,
     "metadata": {},
     "output_type": "execute_result"
    }
   ],
   "source": [
    "# check what columns are in train_ready and not in train_parsed\n",
    "list(set(train_r.columns) - set(train_parsed.columns))        "
   ]
  },
  {
   "cell_type": "code",
   "execution_count": 18,
   "id": "cdb5f4de",
   "metadata": {
    "execution": {
     "iopub.execute_input": "2021-10-18T11:50:30.665429Z",
     "iopub.status.busy": "2021-10-18T11:50:30.664480Z",
     "iopub.status.idle": "2021-10-18T11:50:30.668254Z",
     "shell.execute_reply": "2021-10-18T11:50:30.667694Z",
     "shell.execute_reply.started": "2021-10-18T09:42:39.299504Z"
    },
    "papermill": {
     "duration": 0.061237,
     "end_time": "2021-10-18T11:50:30.668407",
     "exception": false,
     "start_time": "2021-10-18T11:50:30.607170",
     "status": "completed"
    },
    "tags": []
   },
   "outputs": [
    {
     "data": {
      "text/plain": [
       "['equipment_dict',\n",
       " 'model_name',\n",
       " 'region',\n",
       " 'complectation_dict',\n",
       " 'date_added',\n",
       " 'image',\n",
       " 'priceCurrency',\n",
       " 'vendor',\n",
       " 'sell_id',\n",
       " 'car_url',\n",
       " 'super_gen',\n",
       " 'parsing_unixtime',\n",
       " 'views']"
      ]
     },
     "execution_count": 18,
     "metadata": {},
     "output_type": "execute_result"
    }
   ],
   "source": [
    "# check what columns are in train_parsed and not presented in train_ready\n",
    "list(set(train_parsed.columns) - set(train_r.columns))        "
   ]
  },
  {
   "cell_type": "code",
   "execution_count": 19,
   "id": "f35d2fe6",
   "metadata": {
    "execution": {
     "iopub.execute_input": "2021-10-18T11:50:30.778550Z",
     "iopub.status.busy": "2021-10-18T11:50:30.777952Z",
     "iopub.status.idle": "2021-10-18T11:50:30.781558Z",
     "shell.execute_reply": "2021-10-18T11:50:30.781034Z",
     "shell.execute_reply.started": "2021-10-18T09:42:58.110716Z"
    },
    "papermill": {
     "duration": 0.060716,
     "end_time": "2021-10-18T11:50:30.781688",
     "exception": false,
     "start_time": "2021-10-18T11:50:30.720972",
     "status": "completed"
    },
    "scrolled": true,
    "tags": []
   },
   "outputs": [
    {
     "data": {
      "text/plain": [
       "['equipment_dict',\n",
       " 'model_name',\n",
       " 'complectation_dict',\n",
       " 'image',\n",
       " 'priceCurrency',\n",
       " 'vendor',\n",
       " 'sell_id',\n",
       " 'car_url',\n",
       " 'super_gen',\n",
       " 'parsing_unixtime']"
      ]
     },
     "execution_count": 19,
     "metadata": {},
     "output_type": "execute_result"
    }
   ],
   "source": [
    "# check what columns are in test and not presented in train_ready\n",
    "list(set(test.columns) - set(train_r.columns))        "
   ]
  },
  {
   "cell_type": "code",
   "execution_count": 20,
   "id": "17646b98",
   "metadata": {
    "scrolled": true
   },
   "outputs": [
    {
     "name": "stdout",
     "output_type": "stream",
     "text": [
      "['RUB']\n",
      "['RUB' 'RUR' nan]\n"
     ]
    }
   ],
   "source": [
    "print(test.priceCurrency.unique())\n",
    "print(train_parsed.priceCurrency.unique())"
   ]
  },
  {
   "cell_type": "markdown",
   "id": "4444b34e",
   "metadata": {},
   "source": [
    "According to this https://fingeniy.com/810-i-643-rur-i-rub-kakoj-kod-valyuty-rublya/ 'RUB' & 'RUR' is the same so we have only one currency in price and could remove this column, but will leave it in order to look at it with price column!!!!!!!!!!!!!!!!!!!!!!!!!!!!!!!!!!!!!!!11"
   ]
  },
  {
   "cell_type": "markdown",
   "id": "497762cd",
   "metadata": {
    "papermill": {
     "duration": 0.051422,
     "end_time": "2021-10-18T11:50:30.885193",
     "exception": false,
     "start_time": "2021-10-18T11:50:30.833771",
     "status": "completed"
    },
    "tags": []
   },
   "source": [
    "According to the datasets, we could remove car_url, image columns. We can also add 'vendor column to the parsed data"
   ]
  },
  {
   "cell_type": "code",
   "execution_count": 22,
   "id": "d38ca785",
   "metadata": {},
   "outputs": [
    {
     "data": {
      "text/plain": [
       "['02',\n",
       " '100',\n",
       " '1007',\n",
       " '100NX',\n",
       " '100_SERIES',\n",
       " '106',\n",
       " '107',\n",
       " '120',\n",
       " '121',\n",
       " '140',\n",
       " '180SX',\n",
       " '19',\n",
       " '190_SL',\n",
       " '1ER',\n",
       " '2',\n",
       " '20',\n",
       " '200',\n",
       " '2008',\n",
       " '200SX',\n",
       " '203',\n",
       " '205',\n",
       " '206',\n",
       " '207',\n",
       " '208',\n",
       " '240_SERIES',\n",
       " '280ZX',\n",
       " '2ACTIVETOURER',\n",
       " '2ER',\n",
       " '2GRANDTOURER',\n",
       " '3',\n",
       " '3008',\n",
       " '300C',\n",
       " '300M',\n",
       " '300_LETTER_SERIES',\n",
       " '301',\n",
       " '306',\n",
       " '307',\n",
       " '308',\n",
       " '321',\n",
       " '323',\n",
       " '326',\n",
       " '340',\n",
       " '350Z',\n",
       " '356',\n",
       " '3ER',\n",
       " '3MPS',\n",
       " '4',\n",
       " '4007',\n",
       " '4008',\n",
       " '405',\n",
       " '406',\n",
       " '407',\n",
       " '408',\n",
       " '440',\n",
       " '460',\n",
       " '4RUNNER',\n",
       " '5',\n",
       " '5008',\n",
       " '508',\n",
       " '5ER',\n",
       " '6',\n",
       " '605',\n",
       " '607',\n",
       " '626',\n",
       " '6ER',\n",
       " '6_MPS',\n",
       " '740',\n",
       " '760',\n",
       " '7ER',\n",
       " '80',\n",
       " '806',\n",
       " '850',\n",
       " '8ER',\n",
       " '90',\n",
       " '911',\n",
       " '911_GT3',\n",
       " '918_SPYDER',\n",
       " '920',\n",
       " '924',\n",
       " '928',\n",
       " '940',\n",
       " '944',\n",
       " '960',\n",
       " '968',\n",
       " 'A1',\n",
       " 'A2',\n",
       " 'A3',\n",
       " 'A4',\n",
       " 'A4_ALLROAD',\n",
       " 'A5',\n",
       " 'A6',\n",
       " 'A7',\n",
       " 'A8',\n",
       " 'ACCENT',\n",
       " 'ACCORD',\n",
       " 'ACTY',\n",
       " 'ACTYON',\n",
       " 'ACTYON_SPORT',\n",
       " 'AD',\n",
       " 'ADMIRAL',\n",
       " 'AERIO',\n",
       " 'AEROSTAR',\n",
       " 'AGILA',\n",
       " 'AIRTREK',\n",
       " 'AIRWAVE',\n",
       " 'ALERO',\n",
       " 'ALLEX',\n",
       " 'ALLROAD',\n",
       " 'ALMERA',\n",
       " 'ALMERA_CLASSIC',\n",
       " 'ALMERA_TINO',\n",
       " 'ALPHARD',\n",
       " 'ALTEZZA',\n",
       " 'ALTIMA',\n",
       " 'ALTO',\n",
       " 'AMAROK',\n",
       " 'AMG_GLC_COUPE',\n",
       " 'AMG_GT',\n",
       " 'AMULET',\n",
       " 'ANTARA',\n",
       " 'AQUA',\n",
       " 'ARISTO',\n",
       " 'ARKANA',\n",
       " 'ARMADA',\n",
       " 'ARRIZO7',\n",
       " 'ASCOT',\n",
       " 'ASPIRE',\n",
       " 'ASTRA',\n",
       " 'ASTRA_OPC',\n",
       " 'ASTRO',\n",
       " 'ASX',\n",
       " 'ATLAS',\n",
       " 'ATOS',\n",
       " 'ATS',\n",
       " 'AURIS',\n",
       " 'AUTOZAM_AZ3',\n",
       " 'AVALANCHE',\n",
       " 'AVALON',\n",
       " 'AVANCIER',\n",
       " 'AVANTE',\n",
       " 'AVANTIME',\n",
       " 'AVELLA',\n",
       " 'AVENGER',\n",
       " 'AVENIR',\n",
       " 'AVENSIS',\n",
       " 'AVENSIS_VERSO',\n",
       " 'AVEO',\n",
       " 'AXELA',\n",
       " 'AYGO',\n",
       " 'A_KLASSE',\n",
       " 'A_KLASSE_AMG',\n",
       " 'B9_TRIBECA',\n",
       " 'BALENO',\n",
       " 'BASSARA',\n",
       " 'BB',\n",
       " 'BEETLE',\n",
       " 'BEL_AIR',\n",
       " 'BERLINGO',\n",
       " 'BIANTE',\n",
       " 'BLADE',\n",
       " 'BLAZER',\n",
       " 'BLS',\n",
       " 'BLUEBIRD',\n",
       " 'BLUEBIRD_SYLPHY',\n",
       " 'BONGO',\n",
       " 'BONGO_FRIENDEE',\n",
       " 'BONUS',\n",
       " 'BONUS_3',\n",
       " 'BORA',\n",
       " 'BOXSTER',\n",
       " 'BREVIS',\n",
       " 'BRONCO',\n",
       " 'BRZ',\n",
       " 'BT_50',\n",
       " 'BX',\n",
       " 'B_KLASSE',\n",
       " 'B_SERIES',\n",
       " 'C1',\n",
       " 'C2',\n",
       " 'C3',\n",
       " 'C30',\n",
       " 'C3_AIRCROSS',\n",
       " 'C3_PICASSO',\n",
       " 'C4',\n",
       " 'C4_AIRCROSS',\n",
       " 'C4_PICASSO',\n",
       " 'C5',\n",
       " 'C5_AIRCROSS',\n",
       " 'C6',\n",
       " 'C70',\n",
       " 'C8',\n",
       " 'CABRIO',\n",
       " 'CADDY',\n",
       " 'CALDINA',\n",
       " 'CALIBER',\n",
       " 'CALIBRA',\n",
       " 'CALIFORNIA',\n",
       " 'CAMARO',\n",
       " 'CAMI',\n",
       " 'CAMRY',\n",
       " 'CAMRY_SOLARA',\n",
       " 'CAPELLA',\n",
       " 'CAPRICE',\n",
       " 'CAPTIVA',\n",
       " 'CARAVAN',\n",
       " 'CARAVAN_COACH',\n",
       " 'CARAVELLE',\n",
       " 'CARENS',\n",
       " 'CARINA',\n",
       " 'CARINA_E',\n",
       " 'CARINA_ED',\n",
       " 'CARISMA',\n",
       " 'CARNIVAL',\n",
       " 'CAROL',\n",
       " 'CATERA',\n",
       " 'CAVALIER',\n",
       " 'CAYENNE',\n",
       " 'CAYMAN',\n",
       " 'CAYMAN_GT4',\n",
       " 'CEDRIC',\n",
       " 'CEED',\n",
       " 'CEED_GT',\n",
       " 'CEFIRO',\n",
       " 'CELICA',\n",
       " 'CELSIOR',\n",
       " 'CERATO',\n",
       " 'CHAIRMAN',\n",
       " 'CHALLENGER',\n",
       " 'CHARGER',\n",
       " 'CHARIOT',\n",
       " 'CHASER',\n",
       " 'CHEROKEE',\n",
       " 'CIRRUS',\n",
       " 'CITAN',\n",
       " 'CITY',\n",
       " 'CIVIC',\n",
       " 'CIVIC_FERIO',\n",
       " 'CIVIC_TYPE_R',\n",
       " 'CK',\n",
       " 'CLARUS',\n",
       " 'CLA_KLASSE',\n",
       " 'CLA_KLASSE_AMG',\n",
       " 'CLC_KLASSE',\n",
       " 'CLIO',\n",
       " 'CLIO_RS',\n",
       " 'CLIO_SYMBOL',\n",
       " 'CLIPPER',\n",
       " 'CLIPPER_RIO',\n",
       " 'CLK_KLASSE',\n",
       " 'CLS_KLASSE',\n",
       " 'CLS_KLASSE_AMG',\n",
       " 'CLUBMAN',\n",
       " 'CL_KLASSE',\n",
       " 'CL_KLASSE_AMG',\n",
       " 'CMATIZ',\n",
       " 'COBALT',\n",
       " 'COLT',\n",
       " 'COMBO',\n",
       " 'COMMANDER',\n",
       " 'COMPASS',\n",
       " 'CONCERTO',\n",
       " 'CONCORDE',\n",
       " 'CONTOUR',\n",
       " 'COOLBEAR',\n",
       " 'COROLLA',\n",
       " 'COROLLA_LEVIN',\n",
       " 'COROLLA_RUMION',\n",
       " 'COROLLA_SPACIO',\n",
       " 'COROLLA_VERSO',\n",
       " 'CORONA',\n",
       " 'CORONA_EXIV',\n",
       " 'CORRADO',\n",
       " 'CORSA',\n",
       " 'CORSA_OPC',\n",
       " 'CORSICA',\n",
       " 'CORTINA',\n",
       " 'CORVETTE',\n",
       " 'COUGAR',\n",
       " 'COUNTRYMAN',\n",
       " 'COUPE',\n",
       " 'COWRY',\n",
       " 'CRESTA',\n",
       " 'CRETA',\n",
       " 'CROSSFIRE',\n",
       " 'CROSSROAD',\n",
       " 'CROSSTOUR',\n",
       " 'CROSS_EASTAR',\n",
       " 'CROWN',\n",
       " 'CROWN_MAJESTA',\n",
       " 'CROWN_VICTORIA',\n",
       " 'CRUZE',\n",
       " 'CRUZE_HR',\n",
       " 'CR_V',\n",
       " 'CR_X',\n",
       " 'CR_Z',\n",
       " 'CT',\n",
       " 'CT6',\n",
       " 'CTS',\n",
       " 'CTS_V',\n",
       " 'CUBE',\n",
       " 'CULTUS',\n",
       " 'CURREN',\n",
       " 'CX_3',\n",
       " 'CX_5',\n",
       " 'CX_7',\n",
       " 'CX_9',\n",
       " 'CYNOS',\n",
       " 'C_CROSSER',\n",
       " 'C_ELYSEE',\n",
       " 'C_HR',\n",
       " 'C_KLASSE',\n",
       " 'C_KLASSE_AMG',\n",
       " 'C_MAX',\n",
       " 'DAKOTA',\n",
       " 'DAMAS',\n",
       " 'DART',\n",
       " 'DATSUN',\n",
       " 'DAYZ',\n",
       " 'DAYZ_ROOX',\n",
       " 'DEER',\n",
       " 'DEFENDER',\n",
       " 'DELICA',\n",
       " 'DELICA_D2',\n",
       " 'DELICA_D_5',\n",
       " 'DEMIO',\n",
       " 'DE_VILLE',\n",
       " 'DIAMANTE',\n",
       " 'DINGO',\n",
       " 'DION',\n",
       " 'DISCOVERY',\n",
       " 'DISCOVERY_SPORT',\n",
       " 'DOKKER',\n",
       " 'DOMANI',\n",
       " 'DOMINGO',\n",
       " 'DS',\n",
       " 'DS3',\n",
       " 'DS4',\n",
       " 'DS5',\n",
       " 'DUET',\n",
       " 'DURANGO',\n",
       " 'DUSTER',\n",
       " 'E3',\n",
       " 'ECHO',\n",
       " 'ECLIPSE',\n",
       " 'ECLIPSE_CROSS',\n",
       " 'ECONOLINE',\n",
       " 'ECOSPORT',\n",
       " 'EDGE',\n",
       " 'EDIX',\n",
       " 'EFINI_MS_8',\n",
       " 'EK_WAGON',\n",
       " 'ELANTRA',\n",
       " 'ELDORADO',\n",
       " 'ELEMENT',\n",
       " 'ELGRAND',\n",
       " 'ELYSION',\n",
       " 'EL_CAMINO',\n",
       " 'EMERAUDE',\n",
       " 'EMGRAND',\n",
       " 'EMGRAND_7',\n",
       " 'EMGRAND_GT',\n",
       " 'EMGRAND_X7',\n",
       " 'ENDEAVOR',\n",
       " 'EOS',\n",
       " 'EPICA',\n",
       " 'EQC',\n",
       " 'EQUINOX',\n",
       " 'EQUUS',\n",
       " 'ES',\n",
       " 'ESCALADE',\n",
       " 'ESCAPE',\n",
       " 'ESCORT',\n",
       " 'ESCUDO',\n",
       " 'ESPACE',\n",
       " 'ESPERO',\n",
       " 'ESQUIRE',\n",
       " 'ESTEEM',\n",
       " 'ESTIMA',\n",
       " 'EUNOS_100',\n",
       " 'EUROVAN',\n",
       " 'EVANDA',\n",
       " 'EVERY',\n",
       " 'EVOQUE',\n",
       " 'EX',\n",
       " 'EXCURSION',\n",
       " 'EXPEDITION',\n",
       " 'EXPERT',\n",
       " 'EXPLORER',\n",
       " 'EXPLORER_SPORT_TRAC',\n",
       " 'EXPRESS',\n",
       " 'E_KLASSE',\n",
       " 'E_KLASSE_AMG',\n",
       " 'E_PACE',\n",
       " 'E_TRON',\n",
       " 'FABIA',\n",
       " 'FABIA_RS',\n",
       " 'FAIRLADY_Z',\n",
       " 'FAMILIA',\n",
       " 'FAVORIT',\n",
       " 'FELICIA',\n",
       " 'FESTIVA',\n",
       " 'FIESTA',\n",
       " 'FIESTA_ST',\n",
       " 'FIT',\n",
       " 'FJ_CRUISER',\n",
       " 'FLEETWOOD',\n",
       " 'FLORID',\n",
       " 'FLUENCE',\n",
       " 'FOCUS',\n",
       " 'FOCUS_NA',\n",
       " 'FOCUS_RS',\n",
       " 'FOCUS_ST',\n",
       " 'FORA',\n",
       " 'FORENZA',\n",
       " 'FORESTER',\n",
       " 'FORTUNER',\n",
       " 'FOX',\n",
       " 'FREDA',\n",
       " 'FREED',\n",
       " 'FREELANDER',\n",
       " 'FREESTYLE',\n",
       " 'FRONTERA',\n",
       " 'FR_V',\n",
       " 'FTO',\n",
       " 'FUGA',\n",
       " 'FUNCARGO',\n",
       " 'FUSION',\n",
       " 'FUSION_NA',\n",
       " 'FX',\n",
       " 'F_150',\n",
       " 'F_PACE',\n",
       " 'F_TYPE',\n",
       " 'G35',\n",
       " 'GAIA',\n",
       " 'GALANT',\n",
       " 'GALAXY',\n",
       " 'GALLOPER',\n",
       " 'GC6',\n",
       " 'GENESIS',\n",
       " 'GENESIS_COUPE',\n",
       " 'GENTRA',\n",
       " 'GETZ',\n",
       " 'GLA_CLASS',\n",
       " 'GLA_CLASS_AMG',\n",
       " 'GLB_KLASSE',\n",
       " 'GLC_COUPE',\n",
       " 'GLC_KLASSE',\n",
       " 'GLC_KLASSE_AMG',\n",
       " 'GLE_KLASSE',\n",
       " 'GLE_KLASSE_AMG',\n",
       " 'GLE_KLASSE_COUPE',\n",
       " 'GLE_KLASSE_COUPE_AMG',\n",
       " 'GLK_KLASSE',\n",
       " 'GLORIA',\n",
       " 'GLS_KLASSE',\n",
       " 'GLS_KLASSE_AMG',\n",
       " 'GL_KLASSE',\n",
       " 'GL_KLASSE_AMG',\n",
       " 'GOLF',\n",
       " 'GOLF_GTI',\n",
       " 'GOLF_PLUS',\n",
       " 'GOLF_R',\n",
       " 'GRACE',\n",
       " 'GRANADA',\n",
       " 'GRANDEUR',\n",
       " 'GRANDIS',\n",
       " 'GRANDLAND_X',\n",
       " 'GRAND_CHEROKEE',\n",
       " 'GRAND_HIACE',\n",
       " 'GRAND_STAREX',\n",
       " 'GRAND_VITARA',\n",
       " 'GRANVIA',\n",
       " 'GS',\n",
       " 'GT',\n",
       " 'GT86',\n",
       " 'GT_R',\n",
       " 'GX',\n",
       " 'G_KLASSE',\n",
       " 'G_KLASSE_AMG',\n",
       " 'H200',\n",
       " 'HARRIER',\n",
       " 'HATCH',\n",
       " 'HHR',\n",
       " 'HIACE',\n",
       " 'HIGHLANDER',\n",
       " 'HILUX',\n",
       " 'HILUX_SURF',\n",
       " 'HOVERH3',\n",
       " 'HOVERH5',\n",
       " 'HOVERH6',\n",
       " 'HOVER_2005',\n",
       " 'HOVER_M2',\n",
       " 'HOVER_M4',\n",
       " 'HR_V',\n",
       " 'HS',\n",
       " 'HUSTLER',\n",
       " 'H_1_STAREX',\n",
       " 'I',\n",
       " 'I10',\n",
       " 'I20',\n",
       " 'I3',\n",
       " 'I30',\n",
       " 'I30_N',\n",
       " 'I40',\n",
       " 'I8',\n",
       " 'IGNIS',\n",
       " 'IMPALA',\n",
       " 'IMPREZA',\n",
       " 'IMPREZA_WRX',\n",
       " 'IMPREZA_WRX_STI',\n",
       " 'INDIS',\n",
       " 'INSIGHT',\n",
       " 'INSIGNIA',\n",
       " 'INSIGNIA_OPC',\n",
       " 'INSPIRE',\n",
       " 'INTEGRA',\n",
       " 'INTREPID',\n",
       " 'IPSUM',\n",
       " 'IQ',\n",
       " 'IS',\n",
       " 'ISIS',\n",
       " 'ISTANA',\n",
       " 'IX35',\n",
       " 'IX55',\n",
       " 'I_MIEV',\n",
       " 'I_PACE',\n",
       " 'JAZZ',\n",
       " 'JETTA',\n",
       " 'JIMNY',\n",
       " 'JOICE',\n",
       " 'JOURNEY',\n",
       " 'JUKE',\n",
       " 'JUKE_NISMO',\n",
       " 'JUMPY',\n",
       " 'JUSTY',\n",
       " 'JX',\n",
       " 'K3',\n",
       " 'K5',\n",
       " 'K5_BLAZER',\n",
       " 'K900',\n",
       " 'KA',\n",
       " 'KADETT',\n",
       " 'KALOS',\n",
       " 'KANGOO',\n",
       " 'KAPTUR',\n",
       " 'KAROQ',\n",
       " 'KEI',\n",
       " 'KIMO',\n",
       " 'KIX',\n",
       " 'KIZASHI',\n",
       " 'KLUGER',\n",
       " 'KODIAQ',\n",
       " 'KOLEOS',\n",
       " 'KORANDO',\n",
       " 'KORANDO_SPORTS',\n",
       " 'KUGA',\n",
       " 'KYRON',\n",
       " 'L200',\n",
       " 'L300',\n",
       " 'L400',\n",
       " 'LACETTI',\n",
       " 'LAFESTA',\n",
       " 'LAGUNA',\n",
       " 'LANCER',\n",
       " 'LANCER_CARGO',\n",
       " 'LANCER_EVOLUTION',\n",
       " 'LAND_CRUISER',\n",
       " 'LAND_CRUISER_PRADO',\n",
       " 'LANOS',\n",
       " 'LANTIS',\n",
       " 'LANTRA',\n",
       " 'LARGO',\n",
       " 'LASER',\n",
       " 'LATITUDE',\n",
       " 'LAUREL',\n",
       " 'LAVITA',\n",
       " 'LEAF',\n",
       " 'LEGACY',\n",
       " 'LEGACY_LANCASTER',\n",
       " 'LEGANZA',\n",
       " 'LEGEND',\n",
       " 'LEGNUM',\n",
       " 'LE_BARON',\n",
       " 'LHS',\n",
       " 'LIANA',\n",
       " 'LIBERO',\n",
       " 'LIBERTY',\n",
       " 'LIBETY_NA',\n",
       " 'LIFE',\n",
       " 'LITE_ACE',\n",
       " 'LOGAN',\n",
       " 'LOGO',\n",
       " 'LS',\n",
       " 'LTD_CROWN_VICTORIA',\n",
       " 'LUMINA',\n",
       " 'LUMINA_APV',\n",
       " 'LUPO',\n",
       " 'LX',\n",
       " 'M',\n",
       " 'M1',\n",
       " 'M11',\n",
       " 'M2',\n",
       " 'M3',\n",
       " 'M4',\n",
       " 'M5',\n",
       " 'M6',\n",
       " 'M8',\n",
       " 'MACAN',\n",
       " 'MAGENTIS',\n",
       " 'MAGNUM',\n",
       " 'MAGNUS',\n",
       " 'MALIBU',\n",
       " 'MARCH',\n",
       " 'MARK_II',\n",
       " 'MARK_X',\n",
       " 'MARK_X_ZIO',\n",
       " 'MASTER_ACE_SURF',\n",
       " 'MATIZ',\n",
       " 'MATRIX',\n",
       " 'MAVERICK',\n",
       " 'MAXIMA',\n",
       " 'MAYBACH_GLS',\n",
       " 'MEGANE',\n",
       " 'MEGANE_RS',\n",
       " 'MEGA_CRUISER',\n",
       " 'MERIVA',\n",
       " 'MICRA',\n",
       " 'MILLENIA',\n",
       " 'MINICA',\n",
       " 'MINICAB',\n",
       " 'MIRAGE',\n",
       " 'MISTRAL',\n",
       " 'MK',\n",
       " 'MK_CROSS',\n",
       " 'MOBILIO',\n",
       " 'MOBILIO_SPIKE',\n",
       " 'MOCO',\n",
       " 'MODEL_A',\n",
       " 'MODEL_T',\n",
       " 'MODUS',\n",
       " 'MOHAVES',\n",
       " 'MOKKA',\n",
       " 'MONDEO',\n",
       " 'MONDEO_ST',\n",
       " 'MONTEREY',\n",
       " 'MONTERO',\n",
       " 'MONTERO_SPORT',\n",
       " 'MONTE_CARLO',\n",
       " 'MONZA',\n",
       " 'MPV',\n",
       " 'MR2',\n",
       " 'MR_S',\n",
       " 'MULTIVAN',\n",
       " 'MURANO',\n",
       " 'MUSSO',\n",
       " 'MUSTANG',\n",
       " 'MX_5',\n",
       " 'MX_6',\n",
       " 'M_KLASSE',\n",
       " 'M_KLASSE_AMG',\n",
       " 'NADIA',\n",
       " 'NAVARA',\n",
       " 'NEMO',\n",
       " 'NEON',\n",
       " 'NEW_YORKER',\n",
       " 'NEXIA',\n",
       " 'NITRO',\n",
       " 'NIVA',\n",
       " 'NOAH',\n",
       " 'NOTE',\n",
       " 'NP300',\n",
       " 'NUBIRA',\n",
       " 'NV200',\n",
       " 'NX',\n",
       " 'N_BOX',\n",
       " 'N_ONE',\n",
       " 'N_WGN',\n",
       " 'OCTAVIA',\n",
       " 'OCTAVIA_RS',\n",
       " 'ODYSSEY',\n",
       " 'ODYSSEY_NA',\n",
       " 'OLYMPIA',\n",
       " 'OMEGA',\n",
       " 'OPA',\n",
       " 'OPIRUS',\n",
       " 'OPTIMA',\n",
       " 'ORIENTAL_SON',\n",
       " 'ORIGIN',\n",
       " 'ORION',\n",
       " 'ORLANDO',\n",
       " 'ORTHIA',\n",
       " 'OUTBACK',\n",
       " 'OUTLANDER',\n",
       " 'PACEMAN',\n",
       " 'PACIFICA',\n",
       " 'PAJERO',\n",
       " 'PAJERO_IO',\n",
       " 'PAJERO_MINI',\n",
       " 'PAJERO_PININ',\n",
       " 'PAJERO_SPORT',\n",
       " 'PANAMERA',\n",
       " 'PAO',\n",
       " 'PARTNER',\n",
       " 'PASEO',\n",
       " 'PASSAT',\n",
       " 'PASSAT_CC',\n",
       " 'PASSO',\n",
       " 'PASSPORT',\n",
       " 'PATHFINDER',\n",
       " 'PATRIOT',\n",
       " 'PATROL',\n",
       " 'PEGASUS',\n",
       " 'PERI',\n",
       " 'PHAETON',\n",
       " 'PICANTO',\n",
       " 'PICNIC',\n",
       " 'PILOT',\n",
       " 'PLATZ',\n",
       " 'POINTER',\n",
       " 'POLO',\n",
       " 'POPULAR',\n",
       " 'PRAIRIE',\n",
       " 'PREGIO',\n",
       " 'PRELUDE',\n",
       " 'PREMACY',\n",
       " 'PREMIO',\n",
       " 'PRESAGE',\n",
       " 'PRESIDENT',\n",
       " 'PREVIA',\n",
       " 'PRIDE',\n",
       " 'PRIMASTAR',\n",
       " 'PRIMERA',\n",
       " 'PRIUS',\n",
       " 'PRIUSPLUS',\n",
       " 'PRIUS_ALPHA',\n",
       " 'PROBE',\n",
       " 'PROBOX',\n",
       " 'PROCEED',\n",
       " 'PROCEED_MARVIE',\n",
       " 'PROGRES',\n",
       " 'PROTEGE',\n",
       " 'PT_CRUISER',\n",
       " 'PULSAR',\n",
       " 'Q',\n",
       " 'Q3',\n",
       " 'Q30',\n",
       " 'Q3_SPORTBACK',\n",
       " 'Q5',\n",
       " 'Q50',\n",
       " 'Q60',\n",
       " 'Q7',\n",
       " 'Q70',\n",
       " 'Q8',\n",
       " 'QASHQAI',\n",
       " 'QASHQAI_PLUS_2',\n",
       " 'QQ',\n",
       " 'QQ6',\n",
       " 'QUEST',\n",
       " 'QUORIS',\n",
       " 'QX30',\n",
       " 'QX4',\n",
       " 'QX50',\n",
       " 'QX56',\n",
       " 'QX60',\n",
       " 'QX70',\n",
       " 'QX80',\n",
       " 'R1',\n",
       " 'R2',\n",
       " 'R8',\n",
       " 'RACTIS',\n",
       " 'RAFAGA',\n",
       " 'RAIDER',\n",
       " 'RAM',\n",
       " 'RANGER',\n",
       " 'RANGE_ROVER',\n",
       " 'RANGE_ROVER_SPORT',\n",
       " 'RANGE_ROVER_VELAR',\n",
       " 'RAPID',\n",
       " 'RAUM',\n",
       " 'RAV_4',\n",
       " 'RAY',\n",
       " 'RC',\n",
       " 'RCZ',\n",
       " 'RC_F',\n",
       " 'REGIUS',\n",
       " 'REGIUSACE',\n",
       " 'REKORD',\n",
       " 'RENEGADE',\n",
       " 'RENO',\n",
       " 'RETONA',\n",
       " 'REXTON',\n",
       " 'REZZO',\n",
       " 'RIDGELINE',\n",
       " 'RIO',\n",
       " 'RNESSA',\n",
       " 'RODIUS',\n",
       " 'ROOMSTER',\n",
       " 'ROOMY',\n",
       " 'RS3',\n",
       " 'RS4',\n",
       " 'RS5',\n",
       " 'RS6',\n",
       " 'RS7',\n",
       " 'RVR',\n",
       " 'RX',\n",
       " 'RX_7',\n",
       " 'RX_8',\n",
       " 'R_KLASSE',\n",
       " 'S2000',\n",
       " 'S3',\n",
       " 'S4',\n",
       " 'S40',\n",
       " 'S5',\n",
       " 'S6',\n",
       " 'S60',\n",
       " 'S60_CROSS_COUNTRY',\n",
       " 'S7',\n",
       " 'S70',\n",
       " 'S8',\n",
       " 'S80',\n",
       " 'S90',\n",
       " 'SABER',\n",
       " 'SAFARI',\n",
       " 'SAFE',\n",
       " 'SAFRANE',\n",
       " 'SAILOR',\n",
       " 'SAMBAR',\n",
       " 'SAMURAI',\n",
       " 'SANDERO',\n",
       " 'SANTAMO',\n",
       " 'SANTA_FE',\n",
       " 'SARATOGA',\n",
       " 'SC',\n",
       " 'SC7',\n",
       " 'SCENIC',\n",
       " 'SCEPTER_SEDAN',\n",
       " 'SCIROCCO',\n",
       " 'SCORPIO',\n",
       " 'SEBRING',\n",
       " 'SEDONA',\n",
       " 'SELTOS',\n",
       " 'SENTRA',\n",
       " 'SEPHIA',\n",
       " 'SEQUOIA',\n",
       " 'SERA',\n",
       " 'SERENA',\n",
       " 'SERIES_III',\n",
       " 'SEVILLE',\n",
       " 'SHARAN',\n",
       " 'SHUMA',\n",
       " 'SHUTTLE',\n",
       " 'SIDEKICK',\n",
       " 'SIENNA',\n",
       " 'SIENTA',\n",
       " 'SIERRA',\n",
       " 'SIGMA',\n",
       " 'SIGNUM',\n",
       " 'SILVERADO',\n",
       " 'SILVIA',\n",
       " 'SIMPLEX',\n",
       " 'SINTRA',\n",
       " 'SKYLINE',\n",
       " 'SLC_KLASSE',\n",
       " 'SLC_KLASSE_AMG',\n",
       " 'SLK_KLASSE',\n",
       " 'SLK_KLASSE_AMG',\n",
       " 'SLR_KLASSE',\n",
       " 'SLS_AMG',\n",
       " 'SL_KLASSE',\n",
       " 'SL_KLASSE_AMG',\n",
       " 'SOARER',\n",
       " 'SOLARIS',\n",
       " 'SOLIO',\n",
       " 'SONATA',\n",
       " 'SORENTO',\n",
       " 'SOUL',\n",
       " 'SPACETOURER',\n",
       " 'SPACE_GEAR',\n",
       " 'SPACE_RUNNER',\n",
       " 'SPACE_STAR',\n",
       " 'SPACE_WAGON',\n",
       " 'SPADE',\n",
       " 'SPARK',\n",
       " 'SPECTRA',\n",
       " 'SPLASH',\n",
       " 'SPORTAGE',\n",
       " 'SPRINTER',\n",
       " 'SPRINTER_CARIB',\n",
       " 'SPRINTER_MARINO',\n",
       " 'SPRINTER_TRUENO',\n",
       " 'SQ5',\n",
       " 'SRX',\n",
       " 'SSR',\n",
       " 'STAGEA',\n",
       " 'STAREX',\n",
       " 'STARLET',\n",
       " 'STAVIC',\n",
       " 'STELLA',\n",
       " 'STEPWAGON',\n",
       " 'STINGER',\n",
       " 'STRATUS',\n",
       " 'STREAM',\n",
       " 'STS',\n",
       " 'SUBURBAN',\n",
       " 'SUCCEED',\n",
       " 'SUNNY',\n",
       " 'SUPERB',\n",
       " 'SUPER_SIX',\n",
       " 'SUPRA',\n",
       " 'SVX',\n",
       " 'SWIFT',\n",
       " 'SX4',\n",
       " 'S_CLASS_MAYBACH',\n",
       " 'S_KLASSE',\n",
       " 'S_KLASSE_AMG',\n",
       " 'S_MAX',\n",
       " 'S_MX',\n",
       " 'S_TYPE',\n",
       " 'TACOMA',\n",
       " 'TAHOE',\n",
       " 'TARO',\n",
       " 'TAUNUS',\n",
       " 'TAURUS',\n",
       " 'TAYCAN',\n",
       " 'TEANA',\n",
       " 'TERAMONT',\n",
       " 'TERCEL',\n",
       " 'TERRACAN',\n",
       " 'TERRANO',\n",
       " 'TERRANO_REGULUS',\n",
       " 'THUNDERBIRD',\n",
       " 'TIBURON',\n",
       " 'TICO',\n",
       " 'TIGGO',\n",
       " 'TIGGO_2',\n",
       " 'TIGGO_3',\n",
       " 'TIGGO_4',\n",
       " 'TIGGO_5',\n",
       " 'TIGGO_7',\n",
       " 'TIGRA',\n",
       " 'TIGUAN',\n",
       " 'TIIDA',\n",
       " 'TINO',\n",
       " 'TITAN',\n",
       " 'TOUAREG',\n",
       " 'TOURAN',\n",
       " 'TOURNEO_CONNECT',\n",
       " 'TOURNEO_CUSTOM',\n",
       " 'TOWN_ACE',\n",
       " 'TOWN_AND_COUNTRY',\n",
       " 'TRACKER',\n",
       " 'TRAFIC',\n",
       " 'TRAILBLAZER',\n",
       " 'TRAJET',\n",
       " 'TRANSPORTER',\n",
       " 'TRAVELLER',\n",
       " 'TRAVERSE',\n",
       " 'TRAVIQ',\n",
       " 'TRIBUTE',\n",
       " 'TT',\n",
       " 'TTS',\n",
       " 'TT_RS',\n",
       " 'TUCSON',\n",
       " 'TUNDRA',\n",
       " 'TUSCANI',\n",
       " 'TWINGO',\n",
       " 'TWIZY',\n",
       " 'TYPE_1',\n",
       " 'TYPE_2',\n",
       " 'TYPE_3',\n",
       " 'URVAN',\n",
       " 'UX',\n",
       " 'V40',\n",
       " 'V40_CC',\n",
       " 'V50',\n",
       " 'V60',\n",
       " 'V60_CROSS_COUNTRY',\n",
       " 'V70',\n",
       " 'V8',\n",
       " 'V90_CROSS_COUNTRY',\n",
       " 'VAN',\n",
       " 'VANEO',\n",
       " 'VANETTE',\n",
       " 'VANGUARD',\n",
       " 'VECTRA',\n",
       " 'VECTRA_OPC',\n",
       " 'VELLFIRE',\n",
       " 'VELOSTER',\n",
       " 'VEL_SATIS',\n",
       " 'VENGA',\n",
       " 'VENTO',\n",
       " 'VENTURE',\n",
       " 'VENZA',\n",
       " 'VERISA',\n",
       " 'VERNA',\n",
       " 'VEROSSA',\n",
       " 'VERSO',\n",
       " 'VERSO_S',\n",
       " 'VERY',\n",
       " 'VEZEL',\n",
       " ...]"
      ]
     },
     "execution_count": 22,
     "metadata": {},
     "output_type": "execute_result"
    }
   ],
   "source": [
    "model = sorted(train_r.model.unique())\n",
    "model"
   ]
  },
  {
   "cell_type": "markdown",
   "id": "eb79022e",
   "metadata": {},
   "source": [
    "it seems that model is the same as model_name"
   ]
  },
  {
   "cell_type": "code",
   "execution_count": 23,
   "id": "8984b930",
   "metadata": {
    "execution": {
     "iopub.execute_input": "2021-10-18T11:50:31.002533Z",
     "iopub.status.busy": "2021-10-18T11:50:31.001839Z",
     "iopub.status.idle": "2021-10-18T11:50:31.094529Z",
     "shell.execute_reply": "2021-10-18T11:50:31.094958Z",
     "shell.execute_reply.started": "2021-10-18T11:01:18.678271Z"
    },
    "papermill": {
     "duration": 0.156902,
     "end_time": "2021-10-18T11:50:31.095135",
     "exception": false,
     "start_time": "2021-10-18T11:50:30.938233",
     "status": "completed"
    },
    "tags": []
   },
   "outputs": [],
   "source": [
    "# add vendor column to the ready parsed data\n",
    "ven_dict = pd.Series(test.vendor.values,index=test.brand).to_dict()\n",
    "train_r['vendor'] = train_r.brand.map(ven_dict)\n",
    "\n",
    "train_r.rename(columns= {'start_date':'date_added', 'model':'model_name'}, inplace=True)"
   ]
  },
  {
   "cell_type": "code",
   "execution_count": 24,
   "id": "6a3a9fae",
   "metadata": {
    "execution": {
     "iopub.execute_input": "2021-10-18T11:50:31.205495Z",
     "iopub.status.busy": "2021-10-18T11:50:31.204523Z",
     "iopub.status.idle": "2021-10-18T11:50:31.210190Z",
     "shell.execute_reply": "2021-10-18T11:50:31.210642Z",
     "shell.execute_reply.started": "2021-10-18T11:01:20.008033Z"
    },
    "papermill": {
     "duration": 0.061586,
     "end_time": "2021-10-18T11:50:31.210818",
     "exception": false,
     "start_time": "2021-10-18T11:50:31.149232",
     "status": "completed"
    },
    "tags": []
   },
   "outputs": [],
   "source": [
    "# add date of parsing for ready data\n",
    "s = '09/09/2020'\n",
    "train_r['parsing_unixtime'] = int(datetime.strptime(s, \"%d/%m/%Y\").timestamp())"
   ]
  },
  {
   "cell_type": "code",
   "execution_count": 25,
   "id": "488286dd",
   "metadata": {},
   "outputs": [],
   "source": [
    "# add column with real color names\n",
    "train_r['color_new'] = train_r.apply(color, axis=1)\n",
    "col_dict = pd.Series(train_r[train_r.color_new!= 'None'].\\\n",
    "                     color_new.values,index=train_r[train_r.color_new!= 'None'].color).to_dict()\n",
    "train_r['color_new'] = train_r['color'].map(col_dict)\n",
    "\n",
    "# rename column with real color names \n",
    "train_r.drop('color', axis=1, inplace=True)\n",
    "train_r.rename(columns= {'color_new':'color'}, inplace=True)"
   ]
  },
  {
   "cell_type": "code",
   "execution_count": 26,
   "id": "7fafe29d",
   "metadata": {},
   "outputs": [],
   "source": [
    "# format complectation column before binding\n",
    "train_r['complectation_dict'] = train_r.apply(lambda x: compl(x,'Комплектация'), axis=1)\n",
    "train_r.drop(['hidden', 'Комплектация'], axis = 1, inplace =True)\n"
   ]
  },
  {
   "cell_type": "code",
   "execution_count": 27,
   "id": "6920bd39",
   "metadata": {
    "scrolled": true
   },
   "outputs": [
    {
     "data": {
      "text/html": [
       "<div>\n",
       "<style scoped>\n",
       "    .dataframe tbody tr th:only-of-type {\n",
       "        vertical-align: middle;\n",
       "    }\n",
       "\n",
       "    .dataframe tbody tr th {\n",
       "        vertical-align: top;\n",
       "    }\n",
       "\n",
       "    .dataframe thead th {\n",
       "        text-align: right;\n",
       "    }\n",
       "</style>\n",
       "<table border=\"1\" class=\"dataframe\">\n",
       "  <thead>\n",
       "    <tr style=\"text-align: right;\">\n",
       "      <th></th>\n",
       "      <th>bodyType</th>\n",
       "      <th>brand</th>\n",
       "      <th>fuelType</th>\n",
       "      <th>modelDate</th>\n",
       "      <th>name</th>\n",
       "      <th>numberOfDoors</th>\n",
       "      <th>productionDate</th>\n",
       "      <th>vehicleConfiguration</th>\n",
       "      <th>vehicleTransmission</th>\n",
       "      <th>engineDisplacement</th>\n",
       "      <th>enginePower</th>\n",
       "      <th>description</th>\n",
       "      <th>mileage</th>\n",
       "      <th>Привод</th>\n",
       "      <th>Руль</th>\n",
       "      <th>Состояние</th>\n",
       "      <th>Владельцы</th>\n",
       "      <th>ПТС</th>\n",
       "      <th>Таможня</th>\n",
       "      <th>Владение</th>\n",
       "      <th>price</th>\n",
       "      <th>date_added</th>\n",
       "      <th>model_name</th>\n",
       "      <th>vendor</th>\n",
       "      <th>parsing_unixtime</th>\n",
       "      <th>color</th>\n",
       "      <th>complectation_dict</th>\n",
       "    </tr>\n",
       "  </thead>\n",
       "  <tbody>\n",
       "    <tr>\n",
       "      <th>0</th>\n",
       "      <td>Седан</td>\n",
       "      <td>AUDI</td>\n",
       "      <td>бензин</td>\n",
       "      <td>1990.0</td>\n",
       "      <td>2.8 MT (174 л.с.) 4WD</td>\n",
       "      <td>4.0</td>\n",
       "      <td>1991</td>\n",
       "      <td>SEDAN MECHANICAL 2.8</td>\n",
       "      <td>MECHANICAL</td>\n",
       "      <td>2.8</td>\n",
       "      <td>174.0</td>\n",
       "      <td>Машина  в приличном состоянии ,не гнилая не р...</td>\n",
       "      <td>350000</td>\n",
       "      <td>полный</td>\n",
       "      <td>LEFT</td>\n",
       "      <td>NaN</td>\n",
       "      <td>3.0</td>\n",
       "      <td>ORIGINAL</td>\n",
       "      <td>True</td>\n",
       "      <td>NaN</td>\n",
       "      <td>200000.0</td>\n",
       "      <td>2019-10-03T08:09:11Z</td>\n",
       "      <td>100</td>\n",
       "      <td>EUROPEAN</td>\n",
       "      <td>1599598800</td>\n",
       "      <td>черный</td>\n",
       "      <td>NaN</td>\n",
       "    </tr>\n",
       "    <tr>\n",
       "      <th>1</th>\n",
       "      <td>Седан</td>\n",
       "      <td>AUDI</td>\n",
       "      <td>бензин</td>\n",
       "      <td>1982.0</td>\n",
       "      <td>1.8 MT (90 л.с.)</td>\n",
       "      <td>4.0</td>\n",
       "      <td>1986</td>\n",
       "      <td>SEDAN MECHANICAL 1.8</td>\n",
       "      <td>MECHANICAL</td>\n",
       "      <td>1.8</td>\n",
       "      <td>90.0</td>\n",
       "      <td>Машина в оригинале не гнилая все вопросы по те...</td>\n",
       "      <td>173424</td>\n",
       "      <td>передний</td>\n",
       "      <td>LEFT</td>\n",
       "      <td>NaN</td>\n",
       "      <td>3.0</td>\n",
       "      <td>ORIGINAL</td>\n",
       "      <td>True</td>\n",
       "      <td>NaN</td>\n",
       "      <td>60000.0</td>\n",
       "      <td>2020-09-06T06:49:40Z</td>\n",
       "      <td>100</td>\n",
       "      <td>EUROPEAN</td>\n",
       "      <td>1599598800</td>\n",
       "      <td>красный</td>\n",
       "      <td>NaN</td>\n",
       "    </tr>\n",
       "    <tr>\n",
       "      <th>2</th>\n",
       "      <td>Универсал 5 дв.</td>\n",
       "      <td>AUDI</td>\n",
       "      <td>бензин</td>\n",
       "      <td>1988.0</td>\n",
       "      <td>2.3 MT (136 л.с.) 4WD</td>\n",
       "      <td>5.0</td>\n",
       "      <td>1989</td>\n",
       "      <td>WAGON_5_DOORS MECHANICAL 2.3</td>\n",
       "      <td>MECHANICAL</td>\n",
       "      <td>2.3</td>\n",
       "      <td>136.0</td>\n",
       "      <td>ПТС Оригинал!\\nПолный комплект ключей!\\nПо рез...</td>\n",
       "      <td>230000</td>\n",
       "      <td>полный</td>\n",
       "      <td>LEFT</td>\n",
       "      <td>NaN</td>\n",
       "      <td>3.0</td>\n",
       "      <td>ORIGINAL</td>\n",
       "      <td>True</td>\n",
       "      <td>NaN</td>\n",
       "      <td>99000.0</td>\n",
       "      <td>2020-09-02T14:04:21Z</td>\n",
       "      <td>100</td>\n",
       "      <td>EUROPEAN</td>\n",
       "      <td>1599598800</td>\n",
       "      <td>синий</td>\n",
       "      <td>NaN</td>\n",
       "    </tr>\n",
       "    <tr>\n",
       "      <th>3</th>\n",
       "      <td>Седан</td>\n",
       "      <td>AUDI</td>\n",
       "      <td>бензин</td>\n",
       "      <td>1988.0</td>\n",
       "      <td>1.8 MT (90 л.с.)</td>\n",
       "      <td>4.0</td>\n",
       "      <td>1989</td>\n",
       "      <td>SEDAN MECHANICAL 1.8</td>\n",
       "      <td>MECHANICAL</td>\n",
       "      <td>1.8</td>\n",
       "      <td>90.0</td>\n",
       "      <td>NaN</td>\n",
       "      <td>240000</td>\n",
       "      <td>передний</td>\n",
       "      <td>LEFT</td>\n",
       "      <td>NaN</td>\n",
       "      <td>3.0</td>\n",
       "      <td>ORIGINAL</td>\n",
       "      <td>True</td>\n",
       "      <td>NaN</td>\n",
       "      <td>65000.0</td>\n",
       "      <td>2020-08-23T17:40:09Z</td>\n",
       "      <td>100</td>\n",
       "      <td>EUROPEAN</td>\n",
       "      <td>1599598800</td>\n",
       "      <td>серебряный</td>\n",
       "      <td>NaN</td>\n",
       "    </tr>\n",
       "    <tr>\n",
       "      <th>4</th>\n",
       "      <td>Седан</td>\n",
       "      <td>AUDI</td>\n",
       "      <td>бензин</td>\n",
       "      <td>1990.0</td>\n",
       "      <td>2.0 MT (101 л.с.)</td>\n",
       "      <td>4.0</td>\n",
       "      <td>1991</td>\n",
       "      <td>SEDAN MECHANICAL 2.0</td>\n",
       "      <td>MECHANICAL</td>\n",
       "      <td>2.0</td>\n",
       "      <td>101.0</td>\n",
       "      <td>Машина не гнилая, дыр нет, днище целое, даже в...</td>\n",
       "      <td>300000</td>\n",
       "      <td>передний</td>\n",
       "      <td>LEFT</td>\n",
       "      <td>NaN</td>\n",
       "      <td>3.0</td>\n",
       "      <td>DUPLICATE</td>\n",
       "      <td>True</td>\n",
       "      <td>NaN</td>\n",
       "      <td>100000.0</td>\n",
       "      <td>2020-09-08T09:22:07Z</td>\n",
       "      <td>100</td>\n",
       "      <td>EUROPEAN</td>\n",
       "      <td>1599598800</td>\n",
       "      <td>черный</td>\n",
       "      <td>NaN</td>\n",
       "    </tr>\n",
       "  </tbody>\n",
       "</table>\n",
       "</div>"
      ],
      "text/plain": [
       "          bodyType brand fuelType  modelDate                   name  \\\n",
       "0            Седан  AUDI   бензин     1990.0  2.8 MT (174 л.с.) 4WD   \n",
       "1            Седан  AUDI   бензин     1982.0       1.8 MT (90 л.с.)   \n",
       "2  Универсал 5 дв.  AUDI   бензин     1988.0  2.3 MT (136 л.с.) 4WD   \n",
       "3            Седан  AUDI   бензин     1988.0       1.8 MT (90 л.с.)   \n",
       "4            Седан  AUDI   бензин     1990.0      2.0 MT (101 л.с.)   \n",
       "\n",
       "   numberOfDoors  productionDate          vehicleConfiguration  \\\n",
       "0            4.0            1991          SEDAN MECHANICAL 2.8   \n",
       "1            4.0            1986          SEDAN MECHANICAL 1.8   \n",
       "2            5.0            1989  WAGON_5_DOORS MECHANICAL 2.3   \n",
       "3            4.0            1989          SEDAN MECHANICAL 1.8   \n",
       "4            4.0            1991          SEDAN MECHANICAL 2.0   \n",
       "\n",
       "  vehicleTransmission engineDisplacement  enginePower  \\\n",
       "0          MECHANICAL                2.8        174.0   \n",
       "1          MECHANICAL                1.8         90.0   \n",
       "2          MECHANICAL                2.3        136.0   \n",
       "3          MECHANICAL                1.8         90.0   \n",
       "4          MECHANICAL                2.0        101.0   \n",
       "\n",
       "                                         description  mileage    Привод  Руль  \\\n",
       "0   Машина  в приличном состоянии ,не гнилая не р...   350000    полный  LEFT   \n",
       "1  Машина в оригинале не гнилая все вопросы по те...   173424  передний  LEFT   \n",
       "2  ПТС Оригинал!\\nПолный комплект ключей!\\nПо рез...   230000    полный  LEFT   \n",
       "3                                                NaN   240000  передний  LEFT   \n",
       "4  Машина не гнилая, дыр нет, днище целое, даже в...   300000  передний  LEFT   \n",
       "\n",
       "   Состояние  Владельцы        ПТС  Таможня Владение     price  \\\n",
       "0        NaN        3.0   ORIGINAL     True      NaN  200000.0   \n",
       "1        NaN        3.0   ORIGINAL     True      NaN   60000.0   \n",
       "2        NaN        3.0   ORIGINAL     True      NaN   99000.0   \n",
       "3        NaN        3.0   ORIGINAL     True      NaN   65000.0   \n",
       "4        NaN        3.0  DUPLICATE     True      NaN  100000.0   \n",
       "\n",
       "             date_added model_name    vendor  parsing_unixtime       color  \\\n",
       "0  2019-10-03T08:09:11Z        100  EUROPEAN        1599598800      черный   \n",
       "1  2020-09-06T06:49:40Z        100  EUROPEAN        1599598800     красный   \n",
       "2  2020-09-02T14:04:21Z        100  EUROPEAN        1599598800       синий   \n",
       "3  2020-08-23T17:40:09Z        100  EUROPEAN        1599598800  серебряный   \n",
       "4  2020-09-08T09:22:07Z        100  EUROPEAN        1599598800      черный   \n",
       "\n",
       "  complectation_dict  \n",
       "0                NaN  \n",
       "1                NaN  \n",
       "2                NaN  \n",
       "3                NaN  \n",
       "4                NaN  "
      ]
     },
     "execution_count": 27,
     "metadata": {},
     "output_type": "execute_result"
    }
   ],
   "source": [
    "train_r.head()"
   ]
  },
  {
   "cell_type": "code",
   "execution_count": 28,
   "id": "e64bd26d",
   "metadata": {
    "scrolled": true
   },
   "outputs": [],
   "source": [
    "# format complectation column before binding\n",
    "test['complectation_dict_new'] = test.apply(lambda x: compl(x,'complectation_dict'), axis=1)\n",
    "test.drop('complectation_dict', axis = 1, inplace =True)\n",
    "test.rename(columns= {'complectation_dict_new':'complectation_dict'}, inplace=True)"
   ]
  },
  {
   "cell_type": "code",
   "execution_count": 29,
   "id": "553e9c0c",
   "metadata": {
    "scrolled": true
   },
   "outputs": [
    {
     "data": {
      "text/html": [
       "<div>\n",
       "<style scoped>\n",
       "    .dataframe tbody tr th:only-of-type {\n",
       "        vertical-align: middle;\n",
       "    }\n",
       "\n",
       "    .dataframe tbody tr th {\n",
       "        vertical-align: top;\n",
       "    }\n",
       "\n",
       "    .dataframe thead th {\n",
       "        text-align: right;\n",
       "    }\n",
       "</style>\n",
       "<table border=\"1\" class=\"dataframe\">\n",
       "  <thead>\n",
       "    <tr style=\"text-align: right;\">\n",
       "      <th></th>\n",
       "      <th>bodyType</th>\n",
       "      <th>brand</th>\n",
       "      <th>car_url</th>\n",
       "      <th>color</th>\n",
       "      <th>description</th>\n",
       "      <th>engineDisplacement</th>\n",
       "      <th>enginePower</th>\n",
       "      <th>equipment_dict</th>\n",
       "      <th>fuelType</th>\n",
       "      <th>image</th>\n",
       "      <th>mileage</th>\n",
       "      <th>modelDate</th>\n",
       "      <th>model_name</th>\n",
       "      <th>name</th>\n",
       "      <th>numberOfDoors</th>\n",
       "      <th>parsing_unixtime</th>\n",
       "      <th>priceCurrency</th>\n",
       "      <th>productionDate</th>\n",
       "      <th>sell_id</th>\n",
       "      <th>super_gen</th>\n",
       "      <th>vehicleConfiguration</th>\n",
       "      <th>vehicleTransmission</th>\n",
       "      <th>vendor</th>\n",
       "      <th>Владельцы</th>\n",
       "      <th>Владение</th>\n",
       "      <th>ПТС</th>\n",
       "      <th>Привод</th>\n",
       "      <th>Руль</th>\n",
       "      <th>Состояние</th>\n",
       "      <th>Таможня</th>\n",
       "      <th>complectation_dict</th>\n",
       "    </tr>\n",
       "  </thead>\n",
       "  <tbody>\n",
       "    <tr>\n",
       "      <th>0</th>\n",
       "      <td>лифтбек</td>\n",
       "      <td>SKODA</td>\n",
       "      <td>https://auto.ru/cars/used/sale/skoda/octavia/1...</td>\n",
       "      <td>синий</td>\n",
       "      <td>Все автомобили, представленные в продаже, прох...</td>\n",
       "      <td>1.2 LTR</td>\n",
       "      <td>105 N12</td>\n",
       "      <td>{\"engine-proof\":true,\"tinted-glass\":true,\"airb...</td>\n",
       "      <td>бензин</td>\n",
       "      <td>https://autoru.naydex.net/o9DBXQ270/5ac010hAY0...</td>\n",
       "      <td>74000</td>\n",
       "      <td>2013</td>\n",
       "      <td>OCTAVIA</td>\n",
       "      <td>1.2 AMT (105 л.с.)</td>\n",
       "      <td>5</td>\n",
       "      <td>1603226273</td>\n",
       "      <td>RUB</td>\n",
       "      <td>2014</td>\n",
       "      <td>1100575026</td>\n",
       "      <td>{\"id\":\"10373605\",\"displacement\":1197,\"engine_t...</td>\n",
       "      <td>LIFTBACK ROBOT 1.2</td>\n",
       "      <td>роботизированная</td>\n",
       "      <td>EUROPEAN</td>\n",
       "      <td>3 или более</td>\n",
       "      <td>NaN</td>\n",
       "      <td>Оригинал</td>\n",
       "      <td>передний</td>\n",
       "      <td>Левый</td>\n",
       "      <td>Не требует ремонта</td>\n",
       "      <td>Растаможен</td>\n",
       "      <td>NaN</td>\n",
       "    </tr>\n",
       "    <tr>\n",
       "      <th>1</th>\n",
       "      <td>лифтбек</td>\n",
       "      <td>SKODA</td>\n",
       "      <td>https://auto.ru/cars/used/sale/skoda/octavia/1...</td>\n",
       "      <td>чёрный</td>\n",
       "      <td>ЛОТ: 01217195\\nАвтопрага Север\\nДанный автомоб...</td>\n",
       "      <td>1.6 LTR</td>\n",
       "      <td>110 N12</td>\n",
       "      <td>{\"cruise-control\":true,\"asr\":true,\"esp\":true,\"...</td>\n",
       "      <td>бензин</td>\n",
       "      <td>https://autoru.naydex.net/o9DBXQ270/5ac010hAY0...</td>\n",
       "      <td>60563</td>\n",
       "      <td>2017</td>\n",
       "      <td>OCTAVIA</td>\n",
       "      <td>1.6 MT (110 л.с.)</td>\n",
       "      <td>5</td>\n",
       "      <td>1603226277</td>\n",
       "      <td>RUB</td>\n",
       "      <td>2017</td>\n",
       "      <td>1100549428</td>\n",
       "      <td>{\"id\":\"20913311\",\"displacement\":1598,\"engine_t...</td>\n",
       "      <td>LIFTBACK MECHANICAL 1.6</td>\n",
       "      <td>механическая</td>\n",
       "      <td>EUROPEAN</td>\n",
       "      <td>1 владелец</td>\n",
       "      <td>NaN</td>\n",
       "      <td>Оригинал</td>\n",
       "      <td>передний</td>\n",
       "      <td>Левый</td>\n",
       "      <td>Не требует ремонта</td>\n",
       "      <td>Растаможен</td>\n",
       "      <td>NaN</td>\n",
       "    </tr>\n",
       "    <tr>\n",
       "      <th>2</th>\n",
       "      <td>лифтбек</td>\n",
       "      <td>SKODA</td>\n",
       "      <td>https://auto.ru/cars/used/sale/skoda/superb/11...</td>\n",
       "      <td>серый</td>\n",
       "      <td>Все автомобили, представленные в продаже, прох...</td>\n",
       "      <td>1.8 LTR</td>\n",
       "      <td>152 N12</td>\n",
       "      <td>{\"cruise-control\":true,\"tinted-glass\":true,\"es...</td>\n",
       "      <td>бензин</td>\n",
       "      <td>https://avatars.mds.yandex.net/get-autoru-vos/...</td>\n",
       "      <td>88000</td>\n",
       "      <td>2013</td>\n",
       "      <td>SUPERB</td>\n",
       "      <td>DSG 1.8 AMT (152 л.с.)</td>\n",
       "      <td>5</td>\n",
       "      <td>1603226280</td>\n",
       "      <td>RUB</td>\n",
       "      <td>2014</td>\n",
       "      <td>1100658222</td>\n",
       "      <td>{\"id\":\"20026323\",\"nameplate\":\"DSG\",\"displaceme...</td>\n",
       "      <td>LIFTBACK ROBOT 1.8</td>\n",
       "      <td>роботизированная</td>\n",
       "      <td>EUROPEAN</td>\n",
       "      <td>1 владелец</td>\n",
       "      <td>NaN</td>\n",
       "      <td>Оригинал</td>\n",
       "      <td>передний</td>\n",
       "      <td>Левый</td>\n",
       "      <td>Не требует ремонта</td>\n",
       "      <td>Растаможен</td>\n",
       "      <td>[heated-wash-system, airbag-passenger, lock, d...</td>\n",
       "    </tr>\n",
       "    <tr>\n",
       "      <th>3</th>\n",
       "      <td>лифтбек</td>\n",
       "      <td>SKODA</td>\n",
       "      <td>https://auto.ru/cars/used/sale/skoda/octavia/1...</td>\n",
       "      <td>коричневый</td>\n",
       "      <td>КОМПЛЕКТ ЗИМНЕЙ (ЛЕТНЕЙ) РЕЗИНЫ ПО СЕЗОНУ В ПО...</td>\n",
       "      <td>1.6 LTR</td>\n",
       "      <td>110 N12</td>\n",
       "      <td>{\"cruise-control\":true,\"roller-blind-for-rear-...</td>\n",
       "      <td>бензин</td>\n",
       "      <td>https://autoru.naydex.net/o9DBXQ270/5ac010hAY0...</td>\n",
       "      <td>95000</td>\n",
       "      <td>2013</td>\n",
       "      <td>OCTAVIA</td>\n",
       "      <td>1.6 AT (110 л.с.)</td>\n",
       "      <td>5</td>\n",
       "      <td>1603226284</td>\n",
       "      <td>RUB</td>\n",
       "      <td>2014</td>\n",
       "      <td>1100937408</td>\n",
       "      <td>{\"id\":\"20105521\",\"displacement\":1598,\"engine_t...</td>\n",
       "      <td>LIFTBACK AUTOMATIC 1.6</td>\n",
       "      <td>автоматическая</td>\n",
       "      <td>EUROPEAN</td>\n",
       "      <td>1 владелец</td>\n",
       "      <td>NaN</td>\n",
       "      <td>Оригинал</td>\n",
       "      <td>передний</td>\n",
       "      <td>Левый</td>\n",
       "      <td>Не требует ремонта</td>\n",
       "      <td>Растаможен</td>\n",
       "      <td>[heated-wash-system, airbag-passenger, lock, e...</td>\n",
       "    </tr>\n",
       "    <tr>\n",
       "      <th>4</th>\n",
       "      <td>лифтбек</td>\n",
       "      <td>SKODA</td>\n",
       "      <td>https://auto.ru/cars/used/sale/skoda/octavia/1...</td>\n",
       "      <td>белый</td>\n",
       "      <td>ЛОТ: 01220889\\nАвтопрага Север\\n\\nВы можете по...</td>\n",
       "      <td>1.8 LTR</td>\n",
       "      <td>152 N12</td>\n",
       "      <td>{\"cruise-control\":true,\"asr\":true,\"esp\":true,\"...</td>\n",
       "      <td>бензин</td>\n",
       "      <td>https://autoru.naydex.net/o9DBXQ270/5ac010hAY0...</td>\n",
       "      <td>58536</td>\n",
       "      <td>2008</td>\n",
       "      <td>OCTAVIA</td>\n",
       "      <td>1.8 AT (152 л.с.)</td>\n",
       "      <td>5</td>\n",
       "      <td>1603226288</td>\n",
       "      <td>RUB</td>\n",
       "      <td>2012</td>\n",
       "      <td>1101037972</td>\n",
       "      <td>{\"id\":\"4561004\",\"displacement\":1798,\"engine_ty...</td>\n",
       "      <td>LIFTBACK AUTOMATIC 1.8</td>\n",
       "      <td>автоматическая</td>\n",
       "      <td>EUROPEAN</td>\n",
       "      <td>1 владелец</td>\n",
       "      <td>NaN</td>\n",
       "      <td>Оригинал</td>\n",
       "      <td>передний</td>\n",
       "      <td>Левый</td>\n",
       "      <td>Не требует ремонта</td>\n",
       "      <td>Растаможен</td>\n",
       "      <td>NaN</td>\n",
       "    </tr>\n",
       "  </tbody>\n",
       "</table>\n",
       "</div>"
      ],
      "text/plain": [
       "  bodyType  brand                                            car_url  \\\n",
       "0  лифтбек  SKODA  https://auto.ru/cars/used/sale/skoda/octavia/1...   \n",
       "1  лифтбек  SKODA  https://auto.ru/cars/used/sale/skoda/octavia/1...   \n",
       "2  лифтбек  SKODA  https://auto.ru/cars/used/sale/skoda/superb/11...   \n",
       "3  лифтбек  SKODA  https://auto.ru/cars/used/sale/skoda/octavia/1...   \n",
       "4  лифтбек  SKODA  https://auto.ru/cars/used/sale/skoda/octavia/1...   \n",
       "\n",
       "        color                                        description  \\\n",
       "0       синий  Все автомобили, представленные в продаже, прох...   \n",
       "1      чёрный  ЛОТ: 01217195\\nАвтопрага Север\\nДанный автомоб...   \n",
       "2       серый  Все автомобили, представленные в продаже, прох...   \n",
       "3  коричневый  КОМПЛЕКТ ЗИМНЕЙ (ЛЕТНЕЙ) РЕЗИНЫ ПО СЕЗОНУ В ПО...   \n",
       "4       белый  ЛОТ: 01220889\\nАвтопрага Север\\n\\nВы можете по...   \n",
       "\n",
       "  engineDisplacement enginePower  \\\n",
       "0            1.2 LTR     105 N12   \n",
       "1            1.6 LTR     110 N12   \n",
       "2            1.8 LTR     152 N12   \n",
       "3            1.6 LTR     110 N12   \n",
       "4            1.8 LTR     152 N12   \n",
       "\n",
       "                                      equipment_dict fuelType  \\\n",
       "0  {\"engine-proof\":true,\"tinted-glass\":true,\"airb...   бензин   \n",
       "1  {\"cruise-control\":true,\"asr\":true,\"esp\":true,\"...   бензин   \n",
       "2  {\"cruise-control\":true,\"tinted-glass\":true,\"es...   бензин   \n",
       "3  {\"cruise-control\":true,\"roller-blind-for-rear-...   бензин   \n",
       "4  {\"cruise-control\":true,\"asr\":true,\"esp\":true,\"...   бензин   \n",
       "\n",
       "                                               image  mileage  modelDate  \\\n",
       "0  https://autoru.naydex.net/o9DBXQ270/5ac010hAY0...    74000       2013   \n",
       "1  https://autoru.naydex.net/o9DBXQ270/5ac010hAY0...    60563       2017   \n",
       "2  https://avatars.mds.yandex.net/get-autoru-vos/...    88000       2013   \n",
       "3  https://autoru.naydex.net/o9DBXQ270/5ac010hAY0...    95000       2013   \n",
       "4  https://autoru.naydex.net/o9DBXQ270/5ac010hAY0...    58536       2008   \n",
       "\n",
       "  model_name                    name  numberOfDoors  parsing_unixtime  \\\n",
       "0    OCTAVIA      1.2 AMT (105 л.с.)              5        1603226273   \n",
       "1    OCTAVIA       1.6 MT (110 л.с.)              5        1603226277   \n",
       "2     SUPERB  DSG 1.8 AMT (152 л.с.)              5        1603226280   \n",
       "3    OCTAVIA       1.6 AT (110 л.с.)              5        1603226284   \n",
       "4    OCTAVIA       1.8 AT (152 л.с.)              5        1603226288   \n",
       "\n",
       "  priceCurrency  productionDate     sell_id  \\\n",
       "0           RUB            2014  1100575026   \n",
       "1           RUB            2017  1100549428   \n",
       "2           RUB            2014  1100658222   \n",
       "3           RUB            2014  1100937408   \n",
       "4           RUB            2012  1101037972   \n",
       "\n",
       "                                           super_gen     vehicleConfiguration  \\\n",
       "0  {\"id\":\"10373605\",\"displacement\":1197,\"engine_t...       LIFTBACK ROBOT 1.2   \n",
       "1  {\"id\":\"20913311\",\"displacement\":1598,\"engine_t...  LIFTBACK MECHANICAL 1.6   \n",
       "2  {\"id\":\"20026323\",\"nameplate\":\"DSG\",\"displaceme...       LIFTBACK ROBOT 1.8   \n",
       "3  {\"id\":\"20105521\",\"displacement\":1598,\"engine_t...   LIFTBACK AUTOMATIC 1.6   \n",
       "4  {\"id\":\"4561004\",\"displacement\":1798,\"engine_ty...   LIFTBACK AUTOMATIC 1.8   \n",
       "\n",
       "  vehicleTransmission    vendor    Владельцы Владение       ПТС    Привод  \\\n",
       "0    роботизированная  EUROPEAN  3 или более      NaN  Оригинал  передний   \n",
       "1        механическая  EUROPEAN   1 владелец      NaN  Оригинал  передний   \n",
       "2    роботизированная  EUROPEAN   1 владелец      NaN  Оригинал  передний   \n",
       "3      автоматическая  EUROPEAN   1 владелец      NaN  Оригинал  передний   \n",
       "4      автоматическая  EUROPEAN   1 владелец      NaN  Оригинал  передний   \n",
       "\n",
       "    Руль           Состояние     Таможня  \\\n",
       "0  Левый  Не требует ремонта  Растаможен   \n",
       "1  Левый  Не требует ремонта  Растаможен   \n",
       "2  Левый  Не требует ремонта  Растаможен   \n",
       "3  Левый  Не требует ремонта  Растаможен   \n",
       "4  Левый  Не требует ремонта  Растаможен   \n",
       "\n",
       "                                  complectation_dict  \n",
       "0                                                NaN  \n",
       "1                                                NaN  \n",
       "2  [heated-wash-system, airbag-passenger, lock, d...  \n",
       "3  [heated-wash-system, airbag-passenger, lock, e...  \n",
       "4                                                NaN  "
      ]
     },
     "execution_count": 29,
     "metadata": {},
     "output_type": "execute_result"
    }
   ],
   "source": [
    "test.head()"
   ]
  },
  {
   "cell_type": "code",
   "execution_count": 30,
   "id": "577576d1",
   "metadata": {
    "execution": {
     "iopub.execute_input": "2021-10-18T11:50:31.457667Z",
     "iopub.status.busy": "2021-10-18T11:50:31.456695Z",
     "iopub.status.idle": "2021-10-18T11:50:31.467004Z",
     "shell.execute_reply": "2021-10-18T11:50:31.466358Z",
     "shell.execute_reply.started": "2021-10-18T11:01:23.583032Z"
    },
    "papermill": {
     "duration": 0.06962,
     "end_time": "2021-10-18T11:50:31.467138",
     "exception": false,
     "start_time": "2021-10-18T11:50:31.397518",
     "status": "completed"
    },
    "tags": []
   },
   "outputs": [],
   "source": [
    "# let's add the column showing whether we have train or test set to have the opportunity to combine/split them easily\n",
    "train_parsed['train'] = 1\n",
    "train_r['train'] = 1 \n",
    "test['train'] = 0\n",
    "\n",
    "# this column should be added to the the train datasets because it's present in the test one and is used for the submission \n",
    "train_r['sell_id'] = 0  \n",
    "train_parsed['sell_id'] = 0 \n",
    "\n",
    "# create a column showing whether the data is new or old\n",
    "train_r['new_data'] = 0\n",
    "train_parsed['new_data'] = 1 \n",
    "test['new_data'] = 0"
   ]
  },
  {
   "cell_type": "code",
   "execution_count": 31,
   "id": "34c26fb2",
   "metadata": {
    "execution": {
     "iopub.execute_input": "2021-10-18T11:50:31.581645Z",
     "iopub.status.busy": "2021-10-18T11:50:31.580519Z",
     "iopub.status.idle": "2021-10-18T11:50:31.972859Z",
     "shell.execute_reply": "2021-10-18T11:50:31.973312Z",
     "shell.execute_reply.started": "2021-10-18T11:01:26.378173Z"
    },
    "papermill": {
     "duration": 0.452419,
     "end_time": "2021-10-18T11:50:31.973487",
     "exception": false,
     "start_time": "2021-10-18T11:50:31.521068",
     "status": "completed"
    },
    "tags": []
   },
   "outputs": [
    {
     "data": {
      "text/html": [
       "<div>\n",
       "<style scoped>\n",
       "    .dataframe tbody tr th:only-of-type {\n",
       "        vertical-align: middle;\n",
       "    }\n",
       "\n",
       "    .dataframe tbody tr th {\n",
       "        vertical-align: top;\n",
       "    }\n",
       "\n",
       "    .dataframe thead th {\n",
       "        text-align: right;\n",
       "    }\n",
       "</style>\n",
       "<table border=\"1\" class=\"dataframe\">\n",
       "  <thead>\n",
       "    <tr style=\"text-align: right;\">\n",
       "      <th></th>\n",
       "      <th>bodyType</th>\n",
       "      <th>brand</th>\n",
       "      <th>car_url</th>\n",
       "      <th>color</th>\n",
       "      <th>description</th>\n",
       "      <th>engineDisplacement</th>\n",
       "      <th>enginePower</th>\n",
       "      <th>equipment_dict</th>\n",
       "      <th>fuelType</th>\n",
       "      <th>image</th>\n",
       "      <th>mileage</th>\n",
       "      <th>modelDate</th>\n",
       "      <th>model_name</th>\n",
       "      <th>name</th>\n",
       "      <th>numberOfDoors</th>\n",
       "      <th>parsing_unixtime</th>\n",
       "      <th>priceCurrency</th>\n",
       "      <th>productionDate</th>\n",
       "      <th>sell_id</th>\n",
       "      <th>super_gen</th>\n",
       "      <th>vehicleConfiguration</th>\n",
       "      <th>vehicleTransmission</th>\n",
       "      <th>vendor</th>\n",
       "      <th>owners</th>\n",
       "      <th>ownership</th>\n",
       "      <th>vehicle_licence</th>\n",
       "      <th>driving_gear</th>\n",
       "      <th>steering_wheel</th>\n",
       "      <th>condition</th>\n",
       "      <th>customs</th>\n",
       "      <th>complectation_dict</th>\n",
       "      <th>train</th>\n",
       "      <th>new_data</th>\n",
       "      <th>price</th>\n",
       "      <th>date_added</th>\n",
       "    </tr>\n",
       "  </thead>\n",
       "  <tbody>\n",
       "    <tr>\n",
       "      <th>0</th>\n",
       "      <td>лифтбек</td>\n",
       "      <td>SKODA</td>\n",
       "      <td>https://auto.ru/cars/used/sale/skoda/octavia/1...</td>\n",
       "      <td>синий</td>\n",
       "      <td>Все автомобили, представленные в продаже, прох...</td>\n",
       "      <td>1.2 LTR</td>\n",
       "      <td>105 N12</td>\n",
       "      <td>{\"engine-proof\":true,\"tinted-glass\":true,\"airb...</td>\n",
       "      <td>бензин</td>\n",
       "      <td>https://autoru.naydex.net/o9DBXQ270/5ac010hAY0...</td>\n",
       "      <td>74000.0</td>\n",
       "      <td>2013.0</td>\n",
       "      <td>OCTAVIA</td>\n",
       "      <td>1.2 AMT (105 л.с.)</td>\n",
       "      <td>5.0</td>\n",
       "      <td>1.603226e+09</td>\n",
       "      <td>RUB</td>\n",
       "      <td>2014.0</td>\n",
       "      <td>1100575026</td>\n",
       "      <td>{\"id\":\"10373605\",\"displacement\":1197,\"engine_t...</td>\n",
       "      <td>LIFTBACK ROBOT 1.2</td>\n",
       "      <td>роботизированная</td>\n",
       "      <td>EUROPEAN</td>\n",
       "      <td>3 или более</td>\n",
       "      <td>NaN</td>\n",
       "      <td>Оригинал</td>\n",
       "      <td>передний</td>\n",
       "      <td>Левый</td>\n",
       "      <td>Не требует ремонта</td>\n",
       "      <td>Растаможен</td>\n",
       "      <td>NaN</td>\n",
       "      <td>0</td>\n",
       "      <td>0</td>\n",
       "      <td>NaN</td>\n",
       "      <td>NaN</td>\n",
       "    </tr>\n",
       "    <tr>\n",
       "      <th>1</th>\n",
       "      <td>лифтбек</td>\n",
       "      <td>SKODA</td>\n",
       "      <td>https://auto.ru/cars/used/sale/skoda/octavia/1...</td>\n",
       "      <td>чёрный</td>\n",
       "      <td>ЛОТ: 01217195\\nАвтопрага Север\\nДанный автомоб...</td>\n",
       "      <td>1.6 LTR</td>\n",
       "      <td>110 N12</td>\n",
       "      <td>{\"cruise-control\":true,\"asr\":true,\"esp\":true,\"...</td>\n",
       "      <td>бензин</td>\n",
       "      <td>https://autoru.naydex.net/o9DBXQ270/5ac010hAY0...</td>\n",
       "      <td>60563.0</td>\n",
       "      <td>2017.0</td>\n",
       "      <td>OCTAVIA</td>\n",
       "      <td>1.6 MT (110 л.с.)</td>\n",
       "      <td>5.0</td>\n",
       "      <td>1.603226e+09</td>\n",
       "      <td>RUB</td>\n",
       "      <td>2017.0</td>\n",
       "      <td>1100549428</td>\n",
       "      <td>{\"id\":\"20913311\",\"displacement\":1598,\"engine_t...</td>\n",
       "      <td>LIFTBACK MECHANICAL 1.6</td>\n",
       "      <td>механическая</td>\n",
       "      <td>EUROPEAN</td>\n",
       "      <td>1 владелец</td>\n",
       "      <td>NaN</td>\n",
       "      <td>Оригинал</td>\n",
       "      <td>передний</td>\n",
       "      <td>Левый</td>\n",
       "      <td>Не требует ремонта</td>\n",
       "      <td>Растаможен</td>\n",
       "      <td>NaN</td>\n",
       "      <td>0</td>\n",
       "      <td>0</td>\n",
       "      <td>NaN</td>\n",
       "      <td>NaN</td>\n",
       "    </tr>\n",
       "    <tr>\n",
       "      <th>2</th>\n",
       "      <td>лифтбек</td>\n",
       "      <td>SKODA</td>\n",
       "      <td>https://auto.ru/cars/used/sale/skoda/superb/11...</td>\n",
       "      <td>серый</td>\n",
       "      <td>Все автомобили, представленные в продаже, прох...</td>\n",
       "      <td>1.8 LTR</td>\n",
       "      <td>152 N12</td>\n",
       "      <td>{\"cruise-control\":true,\"tinted-glass\":true,\"es...</td>\n",
       "      <td>бензин</td>\n",
       "      <td>https://avatars.mds.yandex.net/get-autoru-vos/...</td>\n",
       "      <td>88000.0</td>\n",
       "      <td>2013.0</td>\n",
       "      <td>SUPERB</td>\n",
       "      <td>DSG 1.8 AMT (152 л.с.)</td>\n",
       "      <td>5.0</td>\n",
       "      <td>1.603226e+09</td>\n",
       "      <td>RUB</td>\n",
       "      <td>2014.0</td>\n",
       "      <td>1100658222</td>\n",
       "      <td>{\"id\":\"20026323\",\"nameplate\":\"DSG\",\"displaceme...</td>\n",
       "      <td>LIFTBACK ROBOT 1.8</td>\n",
       "      <td>роботизированная</td>\n",
       "      <td>EUROPEAN</td>\n",
       "      <td>1 владелец</td>\n",
       "      <td>NaN</td>\n",
       "      <td>Оригинал</td>\n",
       "      <td>передний</td>\n",
       "      <td>Левый</td>\n",
       "      <td>Не требует ремонта</td>\n",
       "      <td>Растаможен</td>\n",
       "      <td>[heated-wash-system, airbag-passenger, lock, d...</td>\n",
       "      <td>0</td>\n",
       "      <td>0</td>\n",
       "      <td>NaN</td>\n",
       "      <td>NaN</td>\n",
       "    </tr>\n",
       "    <tr>\n",
       "      <th>3</th>\n",
       "      <td>лифтбек</td>\n",
       "      <td>SKODA</td>\n",
       "      <td>https://auto.ru/cars/used/sale/skoda/octavia/1...</td>\n",
       "      <td>коричневый</td>\n",
       "      <td>КОМПЛЕКТ ЗИМНЕЙ (ЛЕТНЕЙ) РЕЗИНЫ ПО СЕЗОНУ В ПО...</td>\n",
       "      <td>1.6 LTR</td>\n",
       "      <td>110 N12</td>\n",
       "      <td>{\"cruise-control\":true,\"roller-blind-for-rear-...</td>\n",
       "      <td>бензин</td>\n",
       "      <td>https://autoru.naydex.net/o9DBXQ270/5ac010hAY0...</td>\n",
       "      <td>95000.0</td>\n",
       "      <td>2013.0</td>\n",
       "      <td>OCTAVIA</td>\n",
       "      <td>1.6 AT (110 л.с.)</td>\n",
       "      <td>5.0</td>\n",
       "      <td>1.603226e+09</td>\n",
       "      <td>RUB</td>\n",
       "      <td>2014.0</td>\n",
       "      <td>1100937408</td>\n",
       "      <td>{\"id\":\"20105521\",\"displacement\":1598,\"engine_t...</td>\n",
       "      <td>LIFTBACK AUTOMATIC 1.6</td>\n",
       "      <td>автоматическая</td>\n",
       "      <td>EUROPEAN</td>\n",
       "      <td>1 владелец</td>\n",
       "      <td>NaN</td>\n",
       "      <td>Оригинал</td>\n",
       "      <td>передний</td>\n",
       "      <td>Левый</td>\n",
       "      <td>Не требует ремонта</td>\n",
       "      <td>Растаможен</td>\n",
       "      <td>[heated-wash-system, airbag-passenger, lock, e...</td>\n",
       "      <td>0</td>\n",
       "      <td>0</td>\n",
       "      <td>NaN</td>\n",
       "      <td>NaN</td>\n",
       "    </tr>\n",
       "    <tr>\n",
       "      <th>4</th>\n",
       "      <td>лифтбек</td>\n",
       "      <td>SKODA</td>\n",
       "      <td>https://auto.ru/cars/used/sale/skoda/octavia/1...</td>\n",
       "      <td>белый</td>\n",
       "      <td>ЛОТ: 01220889\\nАвтопрага Север\\n\\nВы можете по...</td>\n",
       "      <td>1.8 LTR</td>\n",
       "      <td>152 N12</td>\n",
       "      <td>{\"cruise-control\":true,\"asr\":true,\"esp\":true,\"...</td>\n",
       "      <td>бензин</td>\n",
       "      <td>https://autoru.naydex.net/o9DBXQ270/5ac010hAY0...</td>\n",
       "      <td>58536.0</td>\n",
       "      <td>2008.0</td>\n",
       "      <td>OCTAVIA</td>\n",
       "      <td>1.8 AT (152 л.с.)</td>\n",
       "      <td>5.0</td>\n",
       "      <td>1.603226e+09</td>\n",
       "      <td>RUB</td>\n",
       "      <td>2012.0</td>\n",
       "      <td>1101037972</td>\n",
       "      <td>{\"id\":\"4561004\",\"displacement\":1798,\"engine_ty...</td>\n",
       "      <td>LIFTBACK AUTOMATIC 1.8</td>\n",
       "      <td>автоматическая</td>\n",
       "      <td>EUROPEAN</td>\n",
       "      <td>1 владелец</td>\n",
       "      <td>NaN</td>\n",
       "      <td>Оригинал</td>\n",
       "      <td>передний</td>\n",
       "      <td>Левый</td>\n",
       "      <td>Не требует ремонта</td>\n",
       "      <td>Растаможен</td>\n",
       "      <td>NaN</td>\n",
       "      <td>0</td>\n",
       "      <td>0</td>\n",
       "      <td>NaN</td>\n",
       "      <td>NaN</td>\n",
       "    </tr>\n",
       "  </tbody>\n",
       "</table>\n",
       "</div>"
      ],
      "text/plain": [
       "  bodyType  brand                                            car_url  \\\n",
       "0  лифтбек  SKODA  https://auto.ru/cars/used/sale/skoda/octavia/1...   \n",
       "1  лифтбек  SKODA  https://auto.ru/cars/used/sale/skoda/octavia/1...   \n",
       "2  лифтбек  SKODA  https://auto.ru/cars/used/sale/skoda/superb/11...   \n",
       "3  лифтбек  SKODA  https://auto.ru/cars/used/sale/skoda/octavia/1...   \n",
       "4  лифтбек  SKODA  https://auto.ru/cars/used/sale/skoda/octavia/1...   \n",
       "\n",
       "        color                                        description  \\\n",
       "0       синий  Все автомобили, представленные в продаже, прох...   \n",
       "1      чёрный  ЛОТ: 01217195\\nАвтопрага Север\\nДанный автомоб...   \n",
       "2       серый  Все автомобили, представленные в продаже, прох...   \n",
       "3  коричневый  КОМПЛЕКТ ЗИМНЕЙ (ЛЕТНЕЙ) РЕЗИНЫ ПО СЕЗОНУ В ПО...   \n",
       "4       белый  ЛОТ: 01220889\\nАвтопрага Север\\n\\nВы можете по...   \n",
       "\n",
       "  engineDisplacement enginePower  \\\n",
       "0            1.2 LTR     105 N12   \n",
       "1            1.6 LTR     110 N12   \n",
       "2            1.8 LTR     152 N12   \n",
       "3            1.6 LTR     110 N12   \n",
       "4            1.8 LTR     152 N12   \n",
       "\n",
       "                                      equipment_dict fuelType  \\\n",
       "0  {\"engine-proof\":true,\"tinted-glass\":true,\"airb...   бензин   \n",
       "1  {\"cruise-control\":true,\"asr\":true,\"esp\":true,\"...   бензин   \n",
       "2  {\"cruise-control\":true,\"tinted-glass\":true,\"es...   бензин   \n",
       "3  {\"cruise-control\":true,\"roller-blind-for-rear-...   бензин   \n",
       "4  {\"cruise-control\":true,\"asr\":true,\"esp\":true,\"...   бензин   \n",
       "\n",
       "                                               image  mileage  modelDate  \\\n",
       "0  https://autoru.naydex.net/o9DBXQ270/5ac010hAY0...  74000.0     2013.0   \n",
       "1  https://autoru.naydex.net/o9DBXQ270/5ac010hAY0...  60563.0     2017.0   \n",
       "2  https://avatars.mds.yandex.net/get-autoru-vos/...  88000.0     2013.0   \n",
       "3  https://autoru.naydex.net/o9DBXQ270/5ac010hAY0...  95000.0     2013.0   \n",
       "4  https://autoru.naydex.net/o9DBXQ270/5ac010hAY0...  58536.0     2008.0   \n",
       "\n",
       "  model_name                    name  numberOfDoors  parsing_unixtime  \\\n",
       "0    OCTAVIA      1.2 AMT (105 л.с.)            5.0      1.603226e+09   \n",
       "1    OCTAVIA       1.6 MT (110 л.с.)            5.0      1.603226e+09   \n",
       "2     SUPERB  DSG 1.8 AMT (152 л.с.)            5.0      1.603226e+09   \n",
       "3    OCTAVIA       1.6 AT (110 л.с.)            5.0      1.603226e+09   \n",
       "4    OCTAVIA       1.8 AT (152 л.с.)            5.0      1.603226e+09   \n",
       "\n",
       "  priceCurrency  productionDate     sell_id  \\\n",
       "0           RUB          2014.0  1100575026   \n",
       "1           RUB          2017.0  1100549428   \n",
       "2           RUB          2014.0  1100658222   \n",
       "3           RUB          2014.0  1100937408   \n",
       "4           RUB          2012.0  1101037972   \n",
       "\n",
       "                                           super_gen     vehicleConfiguration  \\\n",
       "0  {\"id\":\"10373605\",\"displacement\":1197,\"engine_t...       LIFTBACK ROBOT 1.2   \n",
       "1  {\"id\":\"20913311\",\"displacement\":1598,\"engine_t...  LIFTBACK MECHANICAL 1.6   \n",
       "2  {\"id\":\"20026323\",\"nameplate\":\"DSG\",\"displaceme...       LIFTBACK ROBOT 1.8   \n",
       "3  {\"id\":\"20105521\",\"displacement\":1598,\"engine_t...   LIFTBACK AUTOMATIC 1.6   \n",
       "4  {\"id\":\"4561004\",\"displacement\":1798,\"engine_ty...   LIFTBACK AUTOMATIC 1.8   \n",
       "\n",
       "  vehicleTransmission    vendor       owners ownership vehicle_licence  \\\n",
       "0    роботизированная  EUROPEAN  3 или более       NaN        Оригинал   \n",
       "1        механическая  EUROPEAN   1 владелец       NaN        Оригинал   \n",
       "2    роботизированная  EUROPEAN   1 владелец       NaN        Оригинал   \n",
       "3      автоматическая  EUROPEAN   1 владелец       NaN        Оригинал   \n",
       "4      автоматическая  EUROPEAN   1 владелец       NaN        Оригинал   \n",
       "\n",
       "  driving_gear steering_wheel           condition     customs  \\\n",
       "0     передний          Левый  Не требует ремонта  Растаможен   \n",
       "1     передний          Левый  Не требует ремонта  Растаможен   \n",
       "2     передний          Левый  Не требует ремонта  Растаможен   \n",
       "3     передний          Левый  Не требует ремонта  Растаможен   \n",
       "4     передний          Левый  Не требует ремонта  Растаможен   \n",
       "\n",
       "                                  complectation_dict  train  new_data  price  \\\n",
       "0                                                NaN      0         0    NaN   \n",
       "1                                                NaN      0         0    NaN   \n",
       "2  [heated-wash-system, airbag-passenger, lock, d...      0         0    NaN   \n",
       "3  [heated-wash-system, airbag-passenger, lock, e...      0         0    NaN   \n",
       "4                                                NaN      0         0    NaN   \n",
       "\n",
       "  date_added  \n",
       "0        NaN  \n",
       "1        NaN  \n",
       "2        NaN  \n",
       "3        NaN  \n",
       "4        NaN  "
      ]
     },
     "execution_count": 31,
     "metadata": {},
     "output_type": "execute_result"
    }
   ],
   "source": [
    "bined_df = pd.concat([test, train_r, train_parsed.drop(labels=['views', 'region'], axis=1)], ignore_index=True)\n",
    "# rename russian column names\n",
    "bined_df.rename(columns={'Владельцы': 'owners', 'Владение': 'ownership', 'ПТС': 'vehicle_licence',\n",
    "       'Привод': 'driving_gear', 'Руль': 'steering_wheel', 'Состояние': 'condition', 'Таможня': 'customs'}, inplace=True)\n",
    "\n",
    "bined_df.head()"
   ]
  },
  {
   "cell_type": "code",
   "execution_count": 32,
   "id": "ccbd6488",
   "metadata": {
    "execution": {
     "iopub.execute_input": "2021-10-18T11:50:32.099616Z",
     "iopub.status.busy": "2021-10-18T11:50:32.086408Z",
     "iopub.status.idle": "2021-10-18T11:50:32.470719Z",
     "shell.execute_reply": "2021-10-18T11:50:32.470067Z",
     "shell.execute_reply.started": "2021-10-18T11:01:30.301513Z"
    },
    "papermill": {
     "duration": 0.443697,
     "end_time": "2021-10-18T11:50:32.470874",
     "exception": false,
     "start_time": "2021-10-18T11:50:32.027177",
     "status": "completed"
    },
    "tags": []
   },
   "outputs": [],
   "source": [
    "# look at the data with nan in brand\n",
    "bined_df[bined_df.brand.isnull()]\n",
    "\n",
    "# remove it\n",
    "bined_df.dropna(subset = ['brand'], inplace=True)"
   ]
  },
  {
   "cell_type": "code",
   "execution_count": 33,
   "id": "f2d831be",
   "metadata": {
    "execution": {
     "iopub.execute_input": "2021-10-18T11:50:32.587431Z",
     "iopub.status.busy": "2021-10-18T11:50:32.586452Z",
     "iopub.status.idle": "2021-10-18T11:50:32.960937Z",
     "shell.execute_reply": "2021-10-18T11:50:32.960346Z",
     "shell.execute_reply.started": "2021-10-18T09:43:16.611663Z"
    },
    "papermill": {
     "duration": 0.434014,
     "end_time": "2021-10-18T11:50:32.961094",
     "exception": false,
     "start_time": "2021-10-18T11:50:32.527080",
     "status": "completed"
    },
    "tags": []
   },
   "outputs": [
    {
     "name": "stdout",
     "output_type": "stream",
     "text": [
      "<class 'pandas.core.frame.DataFrame'>\n",
      "Int64Index: 262774 entries, 0 to 262838\n",
      "Data columns (total 35 columns):\n",
      " #   Column                Non-Null Count   Dtype  \n",
      "---  ------                --------------   -----  \n",
      " 0   bodyType              262771 non-null  object \n",
      " 1   brand                 262774 non-null  object \n",
      " 2   car_url               173396 non-null  object \n",
      " 3   color                 262749 non-null  object \n",
      " 4   description           259520 non-null  object \n",
      " 5   engineDisplacement    262773 non-null  object \n",
      " 6   enginePower           262773 non-null  object \n",
      " 7   equipment_dict        163400 non-null  object \n",
      " 8   fuelType              262772 non-null  object \n",
      " 9   image                 173370 non-null  object \n",
      " 10  mileage               232418 non-null  float64\n",
      " 11  modelDate             262771 non-null  float64\n",
      " 12  model_name            232418 non-null  object \n",
      " 13  name                  262773 non-null  object \n",
      " 14  numberOfDoors         262771 non-null  float64\n",
      " 15  parsing_unixtime      262774 non-null  float64\n",
      " 16  priceCurrency         173396 non-null  object \n",
      " 17  productionDate        262774 non-null  float64\n",
      " 18  sell_id               262774 non-null  int64  \n",
      " 19  super_gen             173396 non-null  object \n",
      " 20  vehicleConfiguration  262771 non-null  object \n",
      " 21  vehicleTransmission   262771 non-null  object \n",
      " 22  vendor                219054 non-null  object \n",
      " 23  owners                218830 non-null  object \n",
      " 24  ownership             60337 non-null   object \n",
      " 25  vehicle_licence       232056 non-null  object \n",
      " 26  driving_gear          232415 non-null  object \n",
      " 27  steering_wheel        232418 non-null  object \n",
      " 28  condition             143039 non-null  object \n",
      " 29  customs               232416 non-null  object \n",
      " 30  complectation_dict    124944 non-null  object \n",
      " 31  train                 262774 non-null  int64  \n",
      " 32  new_data              262774 non-null  int64  \n",
      " 33  price                 223449 non-null  float64\n",
      " 34  date_added            197732 non-null  object \n",
      "dtypes: float64(6), int64(3), object(26)\n",
      "memory usage: 72.2+ MB\n"
     ]
    }
   ],
   "source": [
    "bined_df.info()"
   ]
  },
  {
   "cell_type": "code",
   "execution_count": 34,
   "id": "9918fbc7",
   "metadata": {
    "execution": {
     "iopub.execute_input": "2021-10-18T11:50:33.109196Z",
     "iopub.status.busy": "2021-10-18T11:50:33.103512Z",
     "iopub.status.idle": "2021-10-18T11:50:34.193314Z",
     "shell.execute_reply": "2021-10-18T11:50:34.192756Z",
     "shell.execute_reply.started": "2021-10-18T11:01:34.551800Z"
    },
    "papermill": {
     "duration": 1.172644,
     "end_time": "2021-10-18T11:50:34.193472",
     "exception": false,
     "start_time": "2021-10-18T11:50:33.020828",
     "status": "completed"
    },
    "tags": []
   },
   "outputs": [
    {
     "name": "stdout",
     "output_type": "stream",
     "text": [
      "False    259064\n",
      "True       3710\n",
      "dtype: int64\n"
     ]
    }
   ],
   "source": [
    "# As we had some issues with parsing\n",
    "# we need to check how many records are duplicated\n",
    "print(bined_df.astype(str).duplicated(keep=False).value_counts())"
   ]
  },
  {
   "cell_type": "code",
   "execution_count": 35,
   "id": "f55a73d5",
   "metadata": {
    "execution": {
     "iopub.execute_input": "2021-10-18T11:50:34.329044Z",
     "iopub.status.busy": "2021-10-18T11:50:34.328389Z",
     "iopub.status.idle": "2021-10-18T11:50:35.308591Z",
     "shell.execute_reply": "2021-10-18T11:50:35.307962Z",
     "shell.execute_reply.started": "2021-10-18T11:01:38.501234Z"
    },
    "papermill": {
     "duration": 1.059173,
     "end_time": "2021-10-18T11:50:35.308727",
     "exception": false,
     "start_time": "2021-10-18T11:50:34.249554",
     "status": "completed"
    },
    "tags": []
   },
   "outputs": [],
   "source": [
    "# Remove duplicates\n",
    "bined_df = bined_df.loc[bined_df.astype(str).drop_duplicates().index]"
   ]
  },
  {
   "cell_type": "code",
   "execution_count": 36,
   "id": "f1943d2e",
   "metadata": {
    "execution": {
     "iopub.execute_input": "2021-10-18T11:50:35.441878Z",
     "iopub.status.busy": "2021-10-18T11:50:35.441229Z",
     "iopub.status.idle": "2021-10-18T11:50:36.328667Z",
     "shell.execute_reply": "2021-10-18T11:50:36.328064Z",
     "shell.execute_reply.started": "2021-10-18T11:01:41.191943Z"
    },
    "papermill": {
     "duration": 0.966156,
     "end_time": "2021-10-18T11:50:36.328818",
     "exception": false,
     "start_time": "2021-10-18T11:50:35.362662",
     "status": "completed"
    },
    "tags": []
   },
   "outputs": [
    {
     "name": "stdout",
     "output_type": "stream",
     "text": [
      "False    260639\n",
      "dtype: int64\n"
     ]
    }
   ],
   "source": [
    "# Check again\n",
    "print(bined_df.astype(str).duplicated(keep=False).value_counts())"
   ]
  },
  {
   "cell_type": "markdown",
   "id": "005f1a0d",
   "metadata": {
    "papermill": {
     "duration": 0.055873,
     "end_time": "2021-10-18T11:50:36.440223",
     "exception": false,
     "start_time": "2021-10-18T11:50:36.384350",
     "status": "completed"
    },
    "tags": []
   },
   "source": [
    "## EDA"
   ]
  },
  {
   "cell_type": "markdown",
   "id": "3d533b79",
   "metadata": {
    "papermill": {
     "duration": 0.054992,
     "end_time": "2021-10-18T11:50:36.553483",
     "exception": false,
     "start_time": "2021-10-18T11:50:36.498491",
     "status": "completed"
    },
    "tags": []
   },
   "source": [
    "TO DO:\n",
    "* check unique values for every column\n",
    "* fill missing values\n",
    "* drop unnecessary columns\n",
    "* build histograms\n",
    "* build boxplots\n",
    "* build correlation plot"
   ]
  },
  {
   "cell_type": "code",
   "execution_count": 37,
   "id": "f231fe67",
   "metadata": {
    "execution": {
     "iopub.execute_input": "2021-10-18T11:50:36.669147Z",
     "iopub.status.busy": "2021-10-18T11:50:36.668088Z",
     "iopub.status.idle": "2021-10-18T11:50:36.672015Z",
     "shell.execute_reply": "2021-10-18T11:50:36.671440Z",
     "shell.execute_reply.started": "2021-10-18T09:16:00.592578Z"
    },
    "papermill": {
     "duration": 0.063047,
     "end_time": "2021-10-18T11:50:36.672154",
     "exception": false,
     "start_time": "2021-10-18T11:50:36.609107",
     "status": "completed"
    },
    "tags": []
   },
   "outputs": [
    {
     "data": {
      "text/plain": [
       "(260639, 35)"
      ]
     },
     "execution_count": 37,
     "metadata": {},
     "output_type": "execute_result"
    }
   ],
   "source": [
    "# Check the dataset shape\n",
    "bined_df.shape"
   ]
  },
  {
   "cell_type": "code",
   "execution_count": 38,
   "id": "8f8cda5c",
   "metadata": {
    "execution": {
     "iopub.execute_input": "2021-10-18T11:50:36.791977Z",
     "iopub.status.busy": "2021-10-18T11:50:36.791222Z",
     "iopub.status.idle": "2021-10-18T11:50:36.891401Z",
     "shell.execute_reply": "2021-10-18T11:50:36.891970Z",
     "shell.execute_reply.started": "2021-10-18T09:16:05.081328Z"
    },
    "papermill": {
     "duration": 0.165226,
     "end_time": "2021-10-18T11:50:36.892139",
     "exception": false,
     "start_time": "2021-10-18T11:50:36.726913",
     "status": "completed"
    },
    "tags": []
   },
   "outputs": [
    {
     "data": {
      "text/html": [
       "<div>\n",
       "<style scoped>\n",
       "    .dataframe tbody tr th:only-of-type {\n",
       "        vertical-align: middle;\n",
       "    }\n",
       "\n",
       "    .dataframe tbody tr th {\n",
       "        vertical-align: top;\n",
       "    }\n",
       "\n",
       "    .dataframe thead th {\n",
       "        text-align: right;\n",
       "    }\n",
       "</style>\n",
       "<table border=\"1\" class=\"dataframe\">\n",
       "  <thead>\n",
       "    <tr style=\"text-align: right;\">\n",
       "      <th></th>\n",
       "      <th>mileage</th>\n",
       "      <th>modelDate</th>\n",
       "      <th>numberOfDoors</th>\n",
       "      <th>parsing_unixtime</th>\n",
       "      <th>productionDate</th>\n",
       "      <th>sell_id</th>\n",
       "      <th>train</th>\n",
       "      <th>new_data</th>\n",
       "      <th>price</th>\n",
       "    </tr>\n",
       "  </thead>\n",
       "  <tbody>\n",
       "    <tr>\n",
       "      <th>count</th>\n",
       "      <td>2.302830e+05</td>\n",
       "      <td>260636.000000</td>\n",
       "      <td>260636.000000</td>\n",
       "      <td>2.606390e+05</td>\n",
       "      <td>260639.000000</td>\n",
       "      <td>2.606390e+05</td>\n",
       "      <td>260639.000000</td>\n",
       "      <td>260639.000000</td>\n",
       "      <td>2.213140e+05</td>\n",
       "    </tr>\n",
       "    <tr>\n",
       "      <th>mean</th>\n",
       "      <td>1.473372e+05</td>\n",
       "      <td>2009.789250</td>\n",
       "      <td>4.533848</td>\n",
       "      <td>1.618544e+09</td>\n",
       "      <td>2011.959477</td>\n",
       "      <td>1.461625e+08</td>\n",
       "      <td>0.866919</td>\n",
       "      <td>0.532192</td>\n",
       "      <td>2.156369e+06</td>\n",
       "    </tr>\n",
       "    <tr>\n",
       "      <th>std</th>\n",
       "      <td>1.003069e+05</td>\n",
       "      <td>7.432079</td>\n",
       "      <td>0.663351</td>\n",
       "      <td>1.681764e+07</td>\n",
       "      <td>7.141304</td>\n",
       "      <td>3.731165e+08</td>\n",
       "      <td>0.339662</td>\n",
       "      <td>0.498964</td>\n",
       "      <td>3.263852e+06</td>\n",
       "    </tr>\n",
       "    <tr>\n",
       "      <th>min</th>\n",
       "      <td>0.000000e+00</td>\n",
       "      <td>1904.000000</td>\n",
       "      <td>0.000000</td>\n",
       "      <td>1.599599e+09</td>\n",
       "      <td>1904.000000</td>\n",
       "      <td>0.000000e+00</td>\n",
       "      <td>0.000000</td>\n",
       "      <td>0.000000</td>\n",
       "      <td>1.600000e+04</td>\n",
       "    </tr>\n",
       "    <tr>\n",
       "      <th>25%</th>\n",
       "      <td>7.600000e+04</td>\n",
       "      <td>2006.000000</td>\n",
       "      <td>4.000000</td>\n",
       "      <td>1.599599e+09</td>\n",
       "      <td>2008.000000</td>\n",
       "      <td>0.000000e+00</td>\n",
       "      <td>1.000000</td>\n",
       "      <td>0.000000</td>\n",
       "      <td>5.000000e+05</td>\n",
       "    </tr>\n",
       "    <tr>\n",
       "      <th>50%</th>\n",
       "      <td>1.416450e+05</td>\n",
       "      <td>2010.000000</td>\n",
       "      <td>5.000000</td>\n",
       "      <td>1.634223e+09</td>\n",
       "      <td>2012.000000</td>\n",
       "      <td>0.000000e+00</td>\n",
       "      <td>1.000000</td>\n",
       "      <td>1.000000</td>\n",
       "      <td>1.000000e+06</td>\n",
       "    </tr>\n",
       "    <tr>\n",
       "      <th>75%</th>\n",
       "      <td>2.000000e+05</td>\n",
       "      <td>2016.000000</td>\n",
       "      <td>5.000000</td>\n",
       "      <td>1.634268e+09</td>\n",
       "      <td>2018.000000</td>\n",
       "      <td>0.000000e+00</td>\n",
       "      <td>1.000000</td>\n",
       "      <td>1.000000</td>\n",
       "      <td>2.320000e+06</td>\n",
       "    </tr>\n",
       "    <tr>\n",
       "      <th>max</th>\n",
       "      <td>1.150000e+06</td>\n",
       "      <td>2021.000000</td>\n",
       "      <td>5.000000</td>\n",
       "      <td>1.634351e+09</td>\n",
       "      <td>2021.000000</td>\n",
       "      <td>1.101375e+09</td>\n",
       "      <td>1.000000</td>\n",
       "      <td>1.000000</td>\n",
       "      <td>9.900000e+07</td>\n",
       "    </tr>\n",
       "  </tbody>\n",
       "</table>\n",
       "</div>"
      ],
      "text/plain": [
       "            mileage      modelDate  numberOfDoors  parsing_unixtime  \\\n",
       "count  2.302830e+05  260636.000000  260636.000000      2.606390e+05   \n",
       "mean   1.473372e+05    2009.789250       4.533848      1.618544e+09   \n",
       "std    1.003069e+05       7.432079       0.663351      1.681764e+07   \n",
       "min    0.000000e+00    1904.000000       0.000000      1.599599e+09   \n",
       "25%    7.600000e+04    2006.000000       4.000000      1.599599e+09   \n",
       "50%    1.416450e+05    2010.000000       5.000000      1.634223e+09   \n",
       "75%    2.000000e+05    2016.000000       5.000000      1.634268e+09   \n",
       "max    1.150000e+06    2021.000000       5.000000      1.634351e+09   \n",
       "\n",
       "       productionDate       sell_id          train       new_data  \\\n",
       "count   260639.000000  2.606390e+05  260639.000000  260639.000000   \n",
       "mean      2011.959477  1.461625e+08       0.866919       0.532192   \n",
       "std          7.141304  3.731165e+08       0.339662       0.498964   \n",
       "min       1904.000000  0.000000e+00       0.000000       0.000000   \n",
       "25%       2008.000000  0.000000e+00       1.000000       0.000000   \n",
       "50%       2012.000000  0.000000e+00       1.000000       1.000000   \n",
       "75%       2018.000000  0.000000e+00       1.000000       1.000000   \n",
       "max       2021.000000  1.101375e+09       1.000000       1.000000   \n",
       "\n",
       "              price  \n",
       "count  2.213140e+05  \n",
       "mean   2.156369e+06  \n",
       "std    3.263852e+06  \n",
       "min    1.600000e+04  \n",
       "25%    5.000000e+05  \n",
       "50%    1.000000e+06  \n",
       "75%    2.320000e+06  \n",
       "max    9.900000e+07  "
      ]
     },
     "execution_count": 38,
     "metadata": {},
     "output_type": "execute_result"
    }
   ],
   "source": [
    "bined_df.describe()"
   ]
  },
  {
   "cell_type": "code",
   "execution_count": 40,
   "id": "cf4baf0c",
   "metadata": {
    "execution": {
     "iopub.execute_input": "2021-10-18T11:50:37.007729Z",
     "iopub.status.busy": "2021-10-18T11:50:37.006750Z",
     "iopub.status.idle": "2021-10-18T11:50:37.012582Z",
     "shell.execute_reply": "2021-10-18T11:50:37.013086Z",
     "shell.execute_reply.started": "2021-10-18T09:16:41.200536Z"
    },
    "papermill": {
     "duration": 0.065725,
     "end_time": "2021-10-18T11:50:37.013250",
     "exception": false,
     "start_time": "2021-10-18T11:50:36.947525",
     "status": "completed"
    },
    "tags": []
   },
   "outputs": [],
   "source": [
    "# bined_df.columns"
   ]
  },
  {
   "cell_type": "code",
   "execution_count": 41,
   "id": "a026e2e3",
   "metadata": {
    "execution": {
     "iopub.execute_input": "2021-10-18T11:50:37.160065Z",
     "iopub.status.busy": "2021-10-18T11:50:37.147078Z",
     "iopub.status.idle": "2021-10-18T11:50:37.786593Z",
     "shell.execute_reply": "2021-10-18T11:50:37.786092Z",
     "shell.execute_reply.started": "2021-10-18T09:16:45.673990Z"
    },
    "papermill": {
     "duration": 0.717256,
     "end_time": "2021-10-18T11:50:37.786734",
     "exception": false,
     "start_time": "2021-10-18T11:50:37.069478",
     "status": "completed"
    },
    "tags": []
   },
   "outputs": [
    {
     "data": {
      "text/plain": [
       "bodyType                     3\n",
       "brand                        0\n",
       "car_url                  87243\n",
       "color                       25\n",
       "description               3233\n",
       "engineDisplacement           1\n",
       "enginePower                  1\n",
       "equipment_dict           97239\n",
       "fuelType                     2\n",
       "image                    87269\n",
       "mileage                  30356\n",
       "modelDate                    3\n",
       "model_name               30356\n",
       "name                         1\n",
       "numberOfDoors                3\n",
       "parsing_unixtime             0\n",
       "priceCurrency            87243\n",
       "productionDate               0\n",
       "sell_id                      0\n",
       "super_gen                87243\n",
       "vehicleConfiguration         3\n",
       "vehicleTransmission          3\n",
       "vendor                   43251\n",
       "owners                   42352\n",
       "ownership               200509\n",
       "vehicle_licence          30714\n",
       "driving_gear             30359\n",
       "steering_wheel           30356\n",
       "condition               117600\n",
       "customs                  30358\n",
       "complectation_dict      137400\n",
       "train                        0\n",
       "new_data                     0\n",
       "price                    39325\n",
       "date_added               65042\n",
       "dtype: int64"
      ]
     },
     "execution_count": 41,
     "metadata": {},
     "output_type": "execute_result"
    }
   ],
   "source": [
    "# Count missing values in every column\n",
    "bined_df.isna().sum()"
   ]
  },
  {
   "cell_type": "markdown",
   "id": "e4054f6b",
   "metadata": {
    "papermill": {
     "duration": 0.057014,
     "end_time": "2021-10-18T11:50:38.616775",
     "exception": false,
     "start_time": "2021-10-18T11:50:38.559761",
     "status": "completed"
    },
    "tags": []
   },
   "source": [
    "### Profile report"
   ]
  },
  {
   "cell_type": "code",
   "execution_count": 34,
   "id": "de33a987",
   "metadata": {
    "execution": {
     "iopub.execute_input": "2021-10-18T11:50:38.736895Z",
     "iopub.status.busy": "2021-10-18T11:50:38.736206Z",
     "iopub.status.idle": "2021-10-18T11:50:38.738148Z",
     "shell.execute_reply": "2021-10-18T11:50:38.738613Z",
     "shell.execute_reply.started": "2021-10-18T09:17:49.708385Z"
    },
    "papermill": {
     "duration": 0.064582,
     "end_time": "2021-10-18T11:50:38.738794",
     "exception": false,
     "start_time": "2021-10-18T11:50:38.674212",
     "status": "completed"
    },
    "tags": []
   },
   "outputs": [],
   "source": [
    "# Perform quick analysis\n",
    "# bined_profile = \n",
    "# pp.ProfileReport(bined_df, correlations={\n",
    "#        \"pearson\": {\"calculate\": True},\n",
    "#        \"spearman\": {\"calculate\": True},\n",
    "#        \"kendall\": {\"calculate\": False},\n",
    "#        \"phi_k\": {\"calculate\": True},\n",
    "#        \"cramers\": {\"calculate\": True},\n",
    "#    })\n",
    "# bined_profile.to_file(\"bined_profile.html\")"
   ]
  },
  {
   "cell_type": "markdown",
   "id": "e0ebb497",
   "metadata": {
    "papermill": {
     "duration": 0.070833,
     "end_time": "2021-10-18T11:50:38.882981",
     "exception": false,
     "start_time": "2021-10-18T11:50:38.812148",
     "status": "completed"
    },
    "tags": []
   },
   "source": [
    "**Summary:**\n",
    "* the dataset consists of 34 variables and 260660 observations\n",
    "* 11.9% values are missing\n",
    "* the data needs cleaning and formatting\n",
    "* the report shows that we have 8 numeric, 23 categorical variables and 3 of an unsupported type (needs investigation)\n",
    "* for the 'bodyType' column we need to convert values to lower register and remove extra information about doors\n",
    "* we have 36 brands in the final dataset so we need to leave only 12\n",
    "* 'complectation_dict' column needs to be checked for any useful data\n",
    "* we can try to extract some new data from the 'description' column then drop it (if we don't have time for it, then we'll just drop it)\n",
    "* 'engineDisplacement' column values need to be converted to numeric (float) values\n",
    "* 'mileage' values need to be explored\n",
    "* for the 'name' column we need to decide what information we can extract\n",
    "* in the 'numberOfDoors' column we need to check records with 0 doors\n",
    "* from the 'parsing_unixtime' column we need to extract some useful data and the drop it\n",
    "* we shouldn't include 'sell_id'column into numerical columns list\n",
    "* 'vehicleConfiguration' column obviously combines information from 'vehicleTransmission', 'engineDisplacement' and 'bodyType' columns\n",
    "* 'vehicle_licence' column needs to be formatted to English lowercase\n",
    "* 76.8% of values in the 'ownership' columns are missing, e.g. we can drop the column\n",
    "* we need to format 'steering_wheel' values to English, lower register\n",
    "* 'condition' column either have \"не требует ремонта\" value or empty, probably we should drop it\n",
    "* 'customs' column probably should be dropped, too\n",
    "* there's expectedly strong correlation between 'mileage', 'modelDate' and 'productionDate' variables\n",
    "* 'vendor' and 'brand' variables are also strongly correlated"
   ]
  },
  {
   "cell_type": "markdown",
   "id": "23b24b6b",
   "metadata": {
    "papermill": {
     "duration": 0.059035,
     "end_time": "2021-10-18T11:50:39.001146",
     "exception": false,
     "start_time": "2021-10-18T11:50:38.942111",
     "status": "completed"
    },
    "tags": []
   },
   "source": [
    "### Detailed feature analysis"
   ]
  },
  {
   "cell_type": "code",
   "execution_count": 42,
   "id": "8deb5380",
   "metadata": {
    "execution": {
     "iopub.execute_input": "2021-10-18T11:50:39.153986Z",
     "iopub.status.busy": "2021-10-18T11:50:39.120859Z",
     "iopub.status.idle": "2021-10-18T11:50:39.214323Z",
     "shell.execute_reply": "2021-10-18T11:50:39.214772Z",
     "shell.execute_reply.started": "2021-10-18T11:01:51.935026Z"
    },
    "papermill": {
     "duration": 0.157513,
     "end_time": "2021-10-18T11:50:39.214950",
     "exception": false,
     "start_time": "2021-10-18T11:50:39.057437",
     "status": "completed"
    },
    "tags": []
   },
   "outputs": [],
   "source": [
    "# Drop unnecessary columns\n",
    "bined_df.drop(['car_url', 'image'], axis = 1, inplace = True) "
   ]
  },
  {
   "cell_type": "code",
   "execution_count": 43,
   "id": "17faeeb4",
   "metadata": {},
   "outputs": [
    {
     "name": "stdout",
     "output_type": "stream",
     "text": [
      "<class 'pandas.core.frame.DataFrame'>\n",
      "Int64Index: 260639 entries, 0 to 262838\n",
      "Data columns (total 33 columns):\n",
      " #   Column                Non-Null Count   Dtype  \n",
      "---  ------                --------------   -----  \n",
      " 0   bodyType              260636 non-null  object \n",
      " 1   brand                 260639 non-null  object \n",
      " 2   color                 260614 non-null  object \n",
      " 3   description           257406 non-null  object \n",
      " 4   engineDisplacement    260638 non-null  object \n",
      " 5   enginePower           260638 non-null  object \n",
      " 6   equipment_dict        163400 non-null  object \n",
      " 7   fuelType              260637 non-null  object \n",
      " 8   mileage               230283 non-null  float64\n",
      " 9   modelDate             260636 non-null  float64\n",
      " 10  model_name            230283 non-null  object \n",
      " 11  name                  260638 non-null  object \n",
      " 12  numberOfDoors         260636 non-null  float64\n",
      " 13  parsing_unixtime      260639 non-null  float64\n",
      " 14  priceCurrency         173396 non-null  object \n",
      " 15  productionDate        260639 non-null  float64\n",
      " 16  sell_id               260639 non-null  int64  \n",
      " 17  super_gen             173396 non-null  object \n",
      " 18  vehicleConfiguration  260636 non-null  object \n",
      " 19  vehicleTransmission   260636 non-null  object \n",
      " 20  vendor                217388 non-null  object \n",
      " 21  owners                218287 non-null  object \n",
      " 22  ownership             60130 non-null   object \n",
      " 23  vehicle_licence       229925 non-null  object \n",
      " 24  driving_gear          230280 non-null  object \n",
      " 25  steering_wheel        230283 non-null  object \n",
      " 26  condition             143039 non-null  object \n",
      " 27  customs               230281 non-null  object \n",
      " 28  complectation_dict    123239 non-null  object \n",
      " 29  train                 260639 non-null  int64  \n",
      " 30  new_data              260639 non-null  int64  \n",
      " 31  price                 221314 non-null  float64\n",
      " 32  date_added            195597 non-null  object \n",
      "dtypes: float64(6), int64(3), object(24)\n",
      "memory usage: 67.6+ MB\n"
     ]
    }
   ],
   "source": [
    "bined_df.info()"
   ]
  },
  {
   "cell_type": "code",
   "execution_count": 44,
   "id": "e0c555f8",
   "metadata": {},
   "outputs": [],
   "source": [
    "# Create feature categories lists\n",
    "\n",
    "# numerical features\n",
    "num_cols = []\n",
    "\n",
    "# binary features\n",
    "bin_cols = []\n",
    "\n",
    "# categorical features\n",
    "cat_cols = []\n",
    "\n",
    "# other features\n",
    "other = []"
   ]
  },
  {
   "cell_type": "markdown",
   "id": "cb401d22",
   "metadata": {},
   "source": [
    "#### price"
   ]
  },
  {
   "cell_type": "code",
   "execution_count": 45,
   "id": "26599c11",
   "metadata": {},
   "outputs": [
    {
     "data": {
      "text/plain": [
       "count    2.213140e+05\n",
       "mean     2.156369e+06\n",
       "std      3.263852e+06\n",
       "min      1.600000e+04\n",
       "25%      5.000000e+05\n",
       "50%      1.000000e+06\n",
       "75%      2.320000e+06\n",
       "max      9.900000e+07\n",
       "Name: price, dtype: float64"
      ]
     },
     "execution_count": 45,
     "metadata": {},
     "output_type": "execute_result"
    }
   ],
   "source": [
    "# Let's start with the target variable\n",
    "bined_df.price.describe()"
   ]
  },
  {
   "cell_type": "code",
   "execution_count": 46,
   "id": "4feb0ba6",
   "metadata": {},
   "outputs": [
    {
     "data": {
      "text/plain": [
       "4639"
      ]
     },
     "execution_count": 46,
     "metadata": {},
     "output_type": "execute_result"
    }
   ],
   "source": [
    "# Check empty price values for records from non test dataset\n",
    "bined_df[bined_df.train == 1].price.isna().sum()"
   ]
  },
  {
   "cell_type": "code",
   "execution_count": 47,
   "id": "ae4a0e12",
   "metadata": {},
   "outputs": [],
   "source": [
    "# Drop these values because we can't teach the model with empty target value\n",
    "bined_df = bined_df.drop(bined_df[(bined_df.train == 1) & (bined_df.price.isna())].index)"
   ]
  },
  {
   "cell_type": "code",
   "execution_count": 48,
   "id": "6617f7e4",
   "metadata": {},
   "outputs": [
    {
     "data": {
      "text/plain": [
       "0"
      ]
     },
     "execution_count": 48,
     "metadata": {},
     "output_type": "execute_result"
    }
   ],
   "source": [
    "# Check the result\n",
    "bined_df[bined_df.train == 1].price.isna().sum()"
   ]
  },
  {
   "cell_type": "code",
   "execution_count": 49,
   "id": "f39cbb15",
   "metadata": {},
   "outputs": [
    {
     "data": {
      "text/plain": [
       "124064    1030000.0\n",
       "124065    1130000.0\n",
       "124066     800000.0\n",
       "124067     150000.0\n",
       "124068    1530000.0\n",
       "            ...    \n",
       "262834     110000.0\n",
       "262835    7160000.0\n",
       "262836    1370000.0\n",
       "262837    1610000.0\n",
       "262838    9580000.0\n",
       "Name: price, Length: 134481, dtype: float64"
      ]
     },
     "execution_count": 49,
     "metadata": {},
     "output_type": "execute_result"
    }
   ],
   "source": [
    "bined_df.loc[bined_df.new_data == 1, 'price']"
   ]
  },
  {
   "cell_type": "code",
   "execution_count": 52,
   "id": "1fd7a544",
   "metadata": {},
   "outputs": [],
   "source": [
    "# According to https://mag.auto.ru/article/risepricescalltouchpres/ the average\n",
    "# price increase is 15% for new cars and 25% for used cars\n",
    "# Let's try the average percent for these two (20 %)\n",
    "bined_df.loc[bined_df.new_data == 1,'price'] = bined_df.loc[bined_df.new_data == 1,'price']*0.8"
   ]
  },
  {
   "cell_type": "code",
   "execution_count": 53,
   "id": "23eade0a",
   "metadata": {},
   "outputs": [
    {
     "data": {
      "text/plain": [
       "124064     824000.0\n",
       "124065     904000.0\n",
       "124066     640000.0\n",
       "124067     120000.0\n",
       "124068    1224000.0\n",
       "            ...    \n",
       "262834      88000.0\n",
       "262835    5728000.0\n",
       "262836    1096000.0\n",
       "262837    1288000.0\n",
       "262838    7664000.0\n",
       "Name: price, Length: 134481, dtype: float64"
      ]
     },
     "execution_count": 53,
     "metadata": {},
     "output_type": "execute_result"
    }
   ],
   "source": [
    "bined_df.loc[bined_df.new_data == 1, 'price']"
   ]
  },
  {
   "cell_type": "code",
   "execution_count": 54,
   "id": "75c5be7d",
   "metadata": {},
   "outputs": [
    {
     "data": {
      "text/plain": [
       "<AxesSubplot:>"
      ]
     },
     "execution_count": 54,
     "metadata": {},
     "output_type": "execute_result"
    },
    {
     "data": {
      "image/png": "[encoded data removed]",
      "text/plain": [
       "<Figure size 432x288 with 1 Axes>"
      ]
     },
     "metadata": {
      "needs_background": "light"
     },
     "output_type": "display_data"
    }
   ],
   "source": [
    "bined_df.price.hist()"
   ]
  },
  {
   "cell_type": "code",
   "execution_count": 55,
   "id": "f4c76537",
   "metadata": {},
   "outputs": [
    {
     "data": {
      "text/plain": [
       "<AxesSubplot:xlabel='price', ylabel='Density'>"
      ]
     },
     "execution_count": 55,
     "metadata": {},
     "output_type": "execute_result"
    },
    {
     "data": {
      "image/png": "[encoded data removed]",
      "text/plain": [
       "<Figure size 576x360 with 1 Axes>"
      ]
     },
     "metadata": {
      "needs_background": "light"
     },
     "output_type": "display_data"
    }
   ],
   "source": [
    "fig, axes = plt.subplots(1, figsize=(8, 5))\n",
    "sns.distplot(bined_df['price'])"
   ]
  },
  {
   "cell_type": "markdown",
   "id": "6ae4db88",
   "metadata": {},
   "source": [
    "We can see that this distribution doesn't look normal. Let's take a look at the logarithm of the price."
   ]
  },
  {
   "cell_type": "code",
   "execution_count": 56,
   "id": "de9991bc",
   "metadata": {},
   "outputs": [],
   "source": [
    "bined_df['price_log'] = np.log(bined_df['price'])"
   ]
  },
  {
   "cell_type": "code",
   "execution_count": 57,
   "id": "65544df1",
   "metadata": {},
   "outputs": [
    {
     "data": {
      "text/plain": [
       "count    221314.000000\n",
       "mean         13.781053\n",
       "std           1.094490\n",
       "min           9.680344\n",
       "25%          13.038982\n",
       "50%          13.687677\n",
       "75%          14.490494\n",
       "max          18.410630\n",
       "Name: price_log, dtype: float64"
      ]
     },
     "execution_count": 57,
     "metadata": {},
     "output_type": "execute_result"
    }
   ],
   "source": [
    "bined_df.price_log.describe()"
   ]
  },
  {
   "cell_type": "code",
   "execution_count": 58,
   "id": "419dad51",
   "metadata": {},
   "outputs": [
    {
     "data": {
      "text/plain": [
       "<AxesSubplot:xlabel='price_log', ylabel='Density'>"
      ]
     },
     "execution_count": 58,
     "metadata": {},
     "output_type": "execute_result"
    },
    {
     "data": {
      "image/png": "[encoded data removed]",
      "text/plain": [
       "<Figure size 432x288 with 1 Axes>"
      ]
     },
     "metadata": {
      "needs_background": "light"
     },
     "output_type": "display_data"
    },
    {
     "data": {
      "image/png": "[encoded data removed]",
      "text/plain": [
       "<Figure size 576x360 with 1 Axes>"
      ]
     },
     "metadata": {
      "needs_background": "light"
     },
     "output_type": "display_data"
    }
   ],
   "source": [
    "bined_df.price_log.hist()\n",
    "fig, axes = plt.subplots(1, figsize=(8, 5))\n",
    "sns.distplot(bined_df['price_log'])"
   ]
  },
  {
   "cell_type": "markdown",
   "id": "8ebd24e2",
   "metadata": {},
   "source": [
    "Now the distribution looks much better so we'll work with 'price_log' column"
   ]
  },
  {
   "cell_type": "code",
   "execution_count": 59,
   "id": "54f37a9f",
   "metadata": {},
   "outputs": [
    {
     "name": "stdout",
     "output_type": "stream",
     "text": [
      "For price_log IQR: 1.451511999431272, \n",
      " Outliers boundaries: [10.861713769318369, 16.66776176704346].\n",
      "Total 893 outliers\n",
      " 444 left outliers \n",
      " 449 right outliers \n",
      "\n"
     ]
    }
   ],
   "source": [
    "outliers(bined_df, 'price_log')"
   ]
  },
  {
   "cell_type": "markdown",
   "id": "212d0f12",
   "metadata": {},
   "source": [
    "According to histograms and outliers calculation there are no abnormal price values"
   ]
  },
  {
   "cell_type": "code",
   "execution_count": 60,
   "id": "c98e1035",
   "metadata": {},
   "outputs": [
    {
     "data": {
      "text/plain": [
       "121580    45000000.0\n",
       "121565    48000000.0\n",
       "123341    52500000.0\n",
       "121571    54057400.0\n",
       "121573    54057400.0\n",
       "121567    54560408.0\n",
       "121589    54560408.0\n",
       "121563    58089720.0\n",
       "121575    58089720.0\n",
       "121564    59087576.0\n",
       "121568    59087576.0\n",
       "121560    65435792.0\n",
       "121899    68500000.0\n",
       "91271     99000000.0\n",
       "Name: price, dtype: float64"
      ]
     },
     "execution_count": 60,
     "metadata": {},
     "output_type": "execute_result"
    }
   ],
   "source": [
    "bined_df[(bined_df.train == 1) & (bined_df.price > 38000000)].price.sort_values()"
   ]
  },
  {
   "cell_type": "markdown",
   "id": "8f4094ad",
   "metadata": {},
   "source": [
    "Current highest price on auto.ru is 37 M RUR. Doesn't look like these values are outliers because we have a combined dataset for 2020-2021, so there could have been such high prices. "
   ]
  },
  {
   "cell_type": "markdown",
   "id": "50bbd48a",
   "metadata": {
    "papermill": {
     "duration": 0.056874,
     "end_time": "2021-10-18T11:50:39.327629",
     "exception": false,
     "start_time": "2021-10-18T11:50:39.270755",
     "status": "completed"
    },
    "tags": []
   },
   "source": [
    "#### bodyType"
   ]
  },
  {
   "cell_type": "code",
   "execution_count": 61,
   "id": "7e286adf",
   "metadata": {
    "execution": {
     "iopub.execute_input": "2021-10-18T11:50:39.443364Z",
     "iopub.status.busy": "2021-10-18T11:50:39.442502Z",
     "iopub.status.idle": "2021-10-18T11:50:39.467155Z",
     "shell.execute_reply": "2021-10-18T11:50:39.466596Z",
     "shell.execute_reply.started": "2021-10-18T11:01:54.785671Z"
    },
    "papermill": {
     "duration": 0.083923,
     "end_time": "2021-10-18T11:50:39.467291",
     "exception": false,
     "start_time": "2021-10-18T11:50:39.383368",
     "status": "completed"
    },
    "tags": []
   },
   "outputs": [
    {
     "data": {
      "text/plain": [
       "array(['лифтбек', 'внедорожник 5 дв.', 'хэтчбек 5 дв.', 'седан',\n",
       "       'компактвэн', 'универсал 5 дв.', 'пикап одинарная кабина',\n",
       "       'хэтчбек 3 дв.', 'купе', 'кабриолет', 'минивэн',\n",
       "       'пикап двойная кабина', 'внедорожник 3 дв.', 'родстер', 'микровэн',\n",
       "       'седан 2 дв.', 'купе-хардтоп', 'фастбек', 'тарга',\n",
       "       'внедорожник открытый', 'лимузин', 'пикап полуторная кабина',\n",
       "       'седан-хардтоп', 'фургон', 'Седан', 'Универсал 5 дв.',\n",
       "       'Хэтчбек 5 дв. Sportback', 'Хэтчбек 3 дв.', 'Хэтчбек 5 дв.',\n",
       "       'Кабриолет', 'Купе', 'Лифтбек Sportback', 'Лифтбек', 'Седан Long',\n",
       "       'Внедорожник 5 дв.', 'Кабриолет Roadster', 'Седан 2 дв.',\n",
       "       'Седан Gran Coupe', 'Компактвэн', 'Компактвэн Gran Tourer',\n",
       "       'Лифтбек Gran Turismo', 'Хэтчбек 3 дв. Compact',\n",
       "       'Лифтбек Gran Coupe', 'Купе-хардтоп', 'Родстер Roadster',\n",
       "       'Родстер', 'Внедорожник 5 дв. ESV', 'Минивэн',\n",
       "       'Пикап Двойная кабина', 'Внедорожник 3 дв.',\n",
       "       'Пикап Одинарная кабина', 'Тарга', 'Пикап Двойная кабина Crew Cab',\n",
       "       'Пикап Двойная кабина Double',\n",
       "       'Пикап Одинарная кабина Regular Cab', 'Внедорожник 5 дв. EXT',\n",
       "       'Седан SRT8', 'Минивэн SWB', 'Минивэн Grand', 'Компактвэн Grand',\n",
       "       'Универсал 5 дв. CrossTourer', 'Минивэн Long', 'Минивэн XL',\n",
       "       'Микровэн Coach', 'Хэтчбек 5 дв. Best', 'Хэтчбек 5 дв. SRT4',\n",
       "       'Купе SRT', 'Седан SRT', 'Пикап Полуторная кабина',\n",
       "       'Пикап Двойная кабина Quad Cab',\n",
       "       'Пикап Полуторная кабина Quad Cab',\n",
       "       'Пикап Двойная кабина Crew Cab TRX',\n",
       "       'Пикап Полуторная кабина Club Cab',\n",
       "       'Пикап Двойная кабина Raptor SuperCrew',\n",
       "       'Пикап Двойная кабина CrewCab',\n",
       "       'Пикап Двойная кабина Raptor CrewCab',\n",
       "       'Пикап Двойная кабина Super Crew',\n",
       "       'Пикап Полуторная кабина Raptor', 'Пикап Двойная кабина SuperCrew',\n",
       "       'Кабриолет StreetKa', 'Пикап Двойная кабина Double Cab',\n",
       "       'Пикап Полуторная кабина Rap Cab', 'Компактвэн LWB',\n",
       "       'Компактвэн SWB', 'Минивэн LWB', 'Фастбек', 'Седан Type-S',\n",
       "       'Микровэн', 'Универсал 5 дв. Shuttle', nan, 'Родстер del Sol',\n",
       "       'Компактвэн Spike', 'Минивэн Spada', 'Седан Limousine',\n",
       "       'Внедорожник 5 дв. Grand', 'Хэтчбек 4 дв.', 'Седан SWB',\n",
       "       'Седан LWB', 'Внедорожник 5 дв. SRT',\n",
       "       'Внедорожник 5 дв. Trackhawk', 'Внедорожник 5 дв. SRT8',\n",
       "       'Внедорожник открытый', 'Хэтчбек 5 дв. GT Line',\n",
       "       'Хэтчбек 5 дв. X-Line', 'Хэтчбек 5 дв. EU',\n",
       "       'Внедорожник 5 дв. Prime', 'Внедорожник 5 дв. L', 'Минивэн Brawny',\n",
       "       'Универсал 5 дв. S-Familia', 'Кабриолет JCW', 'Кабриолет Cooper S',\n",
       "       'Хэтчбек 3 дв. Cooper S', 'Универсал 5 дв. JCW',\n",
       "       'Универсал 5 дв. Cooper S', 'Внедорожник 5 дв. Cooper S',\n",
       "       'Внедорожник 5 дв. JCW', 'Купе Cooper S', 'Хэтчбек 3 дв. JCW',\n",
       "       'Хэтчбек 5 дв. Cooper S', 'Универсал 5 дв. Plus', 'Купе Asti',\n",
       "       'Минивэн Caravan Elgrand', 'Компактвэн Joy',\n",
       "       'Универсал 5 дв. California', 'Седан Latio', 'Хэтчбек 3 дв. GTC',\n",
       "       'Универсал 5 дв. Country Tourer', 'Минивэн L', 'Тарга Targa',\n",
       "       'Купе RS', 'Седан Stepway', 'Хэтчбек 5 дв. Stepway',\n",
       "       'Компактвэн RX4', 'Компактвэн Conquest', 'Седан 120',\n",
       "       'Хэтчбек 5 дв. Scout', 'Универсал 5 дв. Scout',\n",
       "       'Универсал 5 дв. Spaceback', 'Внедорожник 5 дв. tS',\n",
       "       'Хэтчбек 5 дв. XV', 'Внедорожник 5 дв. XL-7',\n",
       "       'Универсал 5 дв. Gita', 'Седан US Market', 'Седан Japan Market',\n",
       "       'Седан Gracia', 'Универсал 5 дв. Gracia', 'Седан-хардтоп',\n",
       "       'Универсал 5 дв. Fielder', 'Седан Axio', 'Седан-хардтоп Ceres',\n",
       "       'Хэтчбек 5 дв. Runx', 'Лифтбек Liftback', 'Седан Premio',\n",
       "       'Седан T140', 'Минивэн Lucida', 'Минивэн Emina', 'Минивэн Regius',\n",
       "       'Пикап Двойная кабина Double cab', 'Внедорожник 3 дв. 78',\n",
       "       'Внедорожник 5 дв. 76', 'Пикап Одинарная кабина 79',\n",
       "       'Внедорожник 5 дв. Arctic Trucks', 'Компактвэн Noah',\n",
       "       'Универсал 5 дв. Blit', 'Универсал 5 дв. Qualis',\n",
       "       'Внедорожник 5 дв. Long', 'Пикап Полуторная кабина Long Bed',\n",
       "       'Пикап Двойная кабина CrewMax', 'Универсал 5 дв. Ardeo',\n",
       "       'Компактвэн Life', 'Компактвэн Maxi', 'Компактвэн Life Maxi',\n",
       "       'Компактвэн Alltrack', 'Универсал 5 дв. Alltrack',\n",
       "       'Хэтчбек 5 дв. Cross', 'Внедорожник 5 дв. Allspace',\n",
       "       'Компактвэн Cross', 'Фургон', 'Фургон Kasten',\n",
       "       'Универсал 5 дв. XC', 'Внедорожник 5 дв. 110',\n",
       "       'Внедорожник 3 дв. 90', 'Хэтчбек 5 дв. Long',\n",
       "       'Универсал 5 дв. All-Terrain', 'Внедорожник 5 дв. 4x4',\n",
       "       'Лимузин Pullman', 'Минивэн Extralong', 'Минивэн Marco Polo',\n",
       "       'Минивэн Extra Long', 'Минивэн L2', 'Минивэн L3', 'Минивэн L1',\n",
       "       'Пикап Двойная кабина Sports'], dtype=object)"
      ]
     },
     "execution_count": 61,
     "metadata": {},
     "output_type": "execute_result"
    }
   ],
   "source": [
    "# Check the unique values for bodyType\n",
    "bined_df.bodyType.unique()"
   ]
  },
  {
   "cell_type": "code",
   "execution_count": 62,
   "id": "993d9b85",
   "metadata": {
    "execution": {
     "iopub.execute_input": "2021-10-18T11:50:39.584653Z",
     "iopub.status.busy": "2021-10-18T11:50:39.584020Z",
     "iopub.status.idle": "2021-10-18T11:50:39.755761Z",
     "shell.execute_reply": "2021-10-18T11:50:39.756269Z",
     "shell.execute_reply.started": "2021-10-18T11:01:58.819905Z"
    },
    "papermill": {
     "duration": 0.232353,
     "end_time": "2021-10-18T11:50:39.756473",
     "exception": false,
     "start_time": "2021-10-18T11:50:39.524120",
     "status": "completed"
    },
    "tags": []
   },
   "outputs": [],
   "source": [
    "# Transform into one word lowercase name\n",
    "bined_df['bodyType'] = bined_df['bodyType'].apply(lambda x: str(x).lower().split()[0])"
   ]
  },
  {
   "cell_type": "code",
   "execution_count": 63,
   "id": "1b1f9316",
   "metadata": {
    "execution": {
     "iopub.execute_input": "2021-10-18T11:50:39.876006Z",
     "iopub.status.busy": "2021-10-18T11:50:39.875439Z",
     "iopub.status.idle": "2021-10-18T11:50:39.907697Z",
     "shell.execute_reply": "2021-10-18T11:50:39.908224Z",
     "shell.execute_reply.started": "2021-10-18T11:05:10.808234Z"
    },
    "papermill": {
     "duration": 0.093489,
     "end_time": "2021-10-18T11:50:39.908413",
     "exception": false,
     "start_time": "2021-10-18T11:50:39.814924",
     "status": "completed"
    },
    "tags": []
   },
   "outputs": [
    {
     "data": {
      "text/plain": [
       "внедорожник      102613\n",
       "седан             87924\n",
       "хэтчбек           20501\n",
       "лифтбек           19153\n",
       "универсал          7957\n",
       "минивэн            5471\n",
       "купе               4720\n",
       "компактвэн         3442\n",
       "пикап              1767\n",
       "купе-хардтоп        783\n",
       "кабриолет           608\n",
       "родстер             481\n",
       "фургон              440\n",
       "микровэн             73\n",
       "седан-хардтоп        36\n",
       "лимузин              13\n",
       "тарга                11\n",
       "фастбек               4\n",
       "nan                   3\n",
       "Name: bodyType, dtype: int64"
      ]
     },
     "execution_count": 63,
     "metadata": {},
     "output_type": "execute_result"
    }
   ],
   "source": [
    "bined_df.bodyType.value_counts()"
   ]
  },
  {
   "cell_type": "code",
   "execution_count": 64,
   "id": "0df518fa",
   "metadata": {
    "execution": {
     "iopub.execute_input": "2021-10-18T11:50:40.046830Z",
     "iopub.status.busy": "2021-10-18T11:50:40.045758Z",
     "iopub.status.idle": "2021-10-18T11:50:40.073726Z",
     "shell.execute_reply": "2021-10-18T11:50:40.074162Z",
     "shell.execute_reply.started": "2021-10-18T11:05:14.357185Z"
    },
    "papermill": {
     "duration": 0.107437,
     "end_time": "2021-10-18T11:50:40.074327",
     "exception": false,
     "start_time": "2021-10-18T11:50:39.966890",
     "status": "completed"
    },
    "tags": []
   },
   "outputs": [
    {
     "data": {
      "text/html": [
       "<div>\n",
       "<style scoped>\n",
       "    .dataframe tbody tr th:only-of-type {\n",
       "        vertical-align: middle;\n",
       "    }\n",
       "\n",
       "    .dataframe tbody tr th {\n",
       "        vertical-align: top;\n",
       "    }\n",
       "\n",
       "    .dataframe thead th {\n",
       "        text-align: right;\n",
       "    }\n",
       "</style>\n",
       "<table border=\"1\" class=\"dataframe\">\n",
       "  <thead>\n",
       "    <tr style=\"text-align: right;\">\n",
       "      <th></th>\n",
       "      <th>bodyType</th>\n",
       "      <th>brand</th>\n",
       "      <th>color</th>\n",
       "      <th>description</th>\n",
       "      <th>engineDisplacement</th>\n",
       "      <th>enginePower</th>\n",
       "      <th>equipment_dict</th>\n",
       "      <th>fuelType</th>\n",
       "      <th>mileage</th>\n",
       "      <th>modelDate</th>\n",
       "      <th>model_name</th>\n",
       "      <th>name</th>\n",
       "      <th>numberOfDoors</th>\n",
       "      <th>parsing_unixtime</th>\n",
       "      <th>priceCurrency</th>\n",
       "      <th>productionDate</th>\n",
       "      <th>sell_id</th>\n",
       "      <th>super_gen</th>\n",
       "      <th>vehicleConfiguration</th>\n",
       "      <th>vehicleTransmission</th>\n",
       "      <th>vendor</th>\n",
       "      <th>owners</th>\n",
       "      <th>ownership</th>\n",
       "      <th>vehicle_licence</th>\n",
       "      <th>driving_gear</th>\n",
       "      <th>steering_wheel</th>\n",
       "      <th>condition</th>\n",
       "      <th>customs</th>\n",
       "      <th>complectation_dict</th>\n",
       "      <th>train</th>\n",
       "      <th>new_data</th>\n",
       "      <th>price</th>\n",
       "      <th>date_added</th>\n",
       "      <th>price_log</th>\n",
       "    </tr>\n",
       "  </thead>\n",
       "  <tbody>\n",
       "    <tr>\n",
       "      <th>59310</th>\n",
       "      <td>nan</td>\n",
       "      <td>HONDA</td>\n",
       "      <td>серебряный</td>\n",
       "      <td>Продаю Honda Civic Suttle 1989 г. выпуска, неу...</td>\n",
       "      <td>NaN</td>\n",
       "      <td>NaN</td>\n",
       "      <td>NaN</td>\n",
       "      <td>универсал</td>\n",
       "      <td>400000.0</td>\n",
       "      <td>NaN</td>\n",
       "      <td>CIVIC</td>\n",
       "      <td>NaN</td>\n",
       "      <td>NaN</td>\n",
       "      <td>1.599599e+09</td>\n",
       "      <td>NaN</td>\n",
       "      <td>1989.0</td>\n",
       "      <td>0</td>\n",
       "      <td>NaN</td>\n",
       "      <td>NaN</td>\n",
       "      <td>NaN</td>\n",
       "      <td>JAPANESE</td>\n",
       "      <td>3.0</td>\n",
       "      <td>NaN</td>\n",
       "      <td>ORIGINAL</td>\n",
       "      <td>NaN</td>\n",
       "      <td>LEFT</td>\n",
       "      <td>NaN</td>\n",
       "      <td>True</td>\n",
       "      <td>NaN</td>\n",
       "      <td>1</td>\n",
       "      <td>0</td>\n",
       "      <td>120000.0</td>\n",
       "      <td>2020-04-10T16:07:57Z</td>\n",
       "      <td>11.695247</td>\n",
       "    </tr>\n",
       "    <tr>\n",
       "      <th>160253</th>\n",
       "      <td>nan</td>\n",
       "      <td>HONDA</td>\n",
       "      <td>пурпурный</td>\n",
       "      <td>В хорошем состоянии на ходу</td>\n",
       "      <td>LTR</td>\n",
       "      <td>undefined N12</td>\n",
       "      <td>{}</td>\n",
       "      <td>NaN</td>\n",
       "      <td>260000.0</td>\n",
       "      <td>NaN</td>\n",
       "      <td>Civic</td>\n",
       "      <td>Honda Civic</td>\n",
       "      <td>NaN</td>\n",
       "      <td>1.634279e+09</td>\n",
       "      <td>RUB</td>\n",
       "      <td>1989.0</td>\n",
       "      <td>0</td>\n",
       "      <td>{'sale-data-attributes': {'asciiCat': 'cars', ...</td>\n",
       "      <td>NaN</td>\n",
       "      <td>NaN</td>\n",
       "      <td>JAPANESE</td>\n",
       "      <td>3 или более</td>\n",
       "      <td>NaN</td>\n",
       "      <td>Оригинал</td>\n",
       "      <td>NaN</td>\n",
       "      <td>Левый</td>\n",
       "      <td>Не требует ремонта</td>\n",
       "      <td>Растаможен</td>\n",
       "      <td>NaN</td>\n",
       "      <td>1</td>\n",
       "      <td>1</td>\n",
       "      <td>104000.0</td>\n",
       "      <td>13 марта 2020</td>\n",
       "      <td>11.552146</td>\n",
       "    </tr>\n",
       "    <tr>\n",
       "      <th>261029</th>\n",
       "      <td>nan</td>\n",
       "      <td>VOLVO</td>\n",
       "      <td>коричневый</td>\n",
       "      <td>Продам VOLVO V70 универсал в отличном состояни...</td>\n",
       "      <td>LTR</td>\n",
       "      <td>undefined N12</td>\n",
       "      <td>{'engine-proof': True, 'cruise-control': True,...</td>\n",
       "      <td>NaN</td>\n",
       "      <td>133000.0</td>\n",
       "      <td>NaN</td>\n",
       "      <td>V70</td>\n",
       "      <td>Volvo V70</td>\n",
       "      <td>NaN</td>\n",
       "      <td>1.634288e+09</td>\n",
       "      <td>RUB</td>\n",
       "      <td>2008.0</td>\n",
       "      <td>0</td>\n",
       "      <td>{'sale-data-attributes': {'asciiCat': 'cars', ...</td>\n",
       "      <td>NaN</td>\n",
       "      <td>NaN</td>\n",
       "      <td>EUROPEAN</td>\n",
       "      <td>2 владельца</td>\n",
       "      <td>3 месяца</td>\n",
       "      <td>Оригинал</td>\n",
       "      <td>NaN</td>\n",
       "      <td>Левый</td>\n",
       "      <td>Не требует ремонта</td>\n",
       "      <td>Растаможен</td>\n",
       "      <td>NaN</td>\n",
       "      <td>1</td>\n",
       "      <td>1</td>\n",
       "      <td>768000.0</td>\n",
       "      <td>9 августа</td>\n",
       "      <td>13.551545</td>\n",
       "    </tr>\n",
       "  </tbody>\n",
       "</table>\n",
       "</div>"
      ],
      "text/plain": [
       "       bodyType  brand       color  \\\n",
       "59310       nan  HONDA  серебряный   \n",
       "160253      nan  HONDA   пурпурный   \n",
       "261029      nan  VOLVO  коричневый   \n",
       "\n",
       "                                              description engineDisplacement  \\\n",
       "59310   Продаю Honda Civic Suttle 1989 г. выпуска, неу...                NaN   \n",
       "160253                        В хорошем состоянии на ходу                LTR   \n",
       "261029  Продам VOLVO V70 универсал в отличном состояни...                LTR   \n",
       "\n",
       "          enginePower                                     equipment_dict  \\\n",
       "59310             NaN                                                NaN   \n",
       "160253  undefined N12                                                 {}   \n",
       "261029  undefined N12  {'engine-proof': True, 'cruise-control': True,...   \n",
       "\n",
       "         fuelType   mileage  modelDate model_name         name  numberOfDoors  \\\n",
       "59310   универсал  400000.0        NaN      CIVIC          NaN            NaN   \n",
       "160253        NaN  260000.0        NaN      Civic  Honda Civic            NaN   \n",
       "261029        NaN  133000.0        NaN        V70    Volvo V70            NaN   \n",
       "\n",
       "        parsing_unixtime priceCurrency  productionDate  sell_id  \\\n",
       "59310       1.599599e+09           NaN          1989.0        0   \n",
       "160253      1.634279e+09           RUB          1989.0        0   \n",
       "261029      1.634288e+09           RUB          2008.0        0   \n",
       "\n",
       "                                                super_gen  \\\n",
       "59310                                                 NaN   \n",
       "160253  {'sale-data-attributes': {'asciiCat': 'cars', ...   \n",
       "261029  {'sale-data-attributes': {'asciiCat': 'cars', ...   \n",
       "\n",
       "       vehicleConfiguration vehicleTransmission    vendor       owners  \\\n",
       "59310                   NaN                 NaN  JAPANESE          3.0   \n",
       "160253                  NaN                 NaN  JAPANESE  3 или более   \n",
       "261029                  NaN                 NaN  EUROPEAN  2 владельца   \n",
       "\n",
       "       ownership vehicle_licence driving_gear steering_wheel  \\\n",
       "59310        NaN        ORIGINAL          NaN           LEFT   \n",
       "160253       NaN        Оригинал          NaN          Левый   \n",
       "261029  3 месяца        Оригинал          NaN          Левый   \n",
       "\n",
       "                 condition     customs complectation_dict  train  new_data  \\\n",
       "59310                  NaN        True                NaN      1         0   \n",
       "160253  Не требует ремонта  Растаможен                NaN      1         1   \n",
       "261029  Не требует ремонта  Растаможен                NaN      1         1   \n",
       "\n",
       "           price            date_added  price_log  \n",
       "59310   120000.0  2020-04-10T16:07:57Z  11.695247  \n",
       "160253  104000.0         13 марта 2020  11.552146  \n",
       "261029  768000.0             9 августа  13.551545  "
      ]
     },
     "execution_count": 64,
     "metadata": {},
     "output_type": "execute_result"
    }
   ],
   "source": [
    "# As there are 3 nan values let's try to replace them\n",
    "bined_df[bined_df['bodyType'] == 'nan']"
   ]
  },
  {
   "cell_type": "code",
   "execution_count": 65,
   "id": "3109c842",
   "metadata": {
    "execution": {
     "iopub.execute_input": "2021-10-18T11:50:40.243589Z",
     "iopub.status.busy": "2021-10-18T11:50:40.242948Z",
     "iopub.status.idle": "2021-10-18T11:50:40.254785Z",
     "shell.execute_reply": "2021-10-18T11:50:40.255260Z",
     "shell.execute_reply.started": "2021-10-18T11:14:40.331403Z"
    },
    "papermill": {
     "duration": 0.073373,
     "end_time": "2021-10-18T11:50:40.255450",
     "exception": false,
     "start_time": "2021-10-18T11:50:40.182077",
     "status": "completed"
    },
    "tags": []
   },
   "outputs": [
    {
     "data": {
      "text/plain": [
       "str"
      ]
     },
     "execution_count": 65,
     "metadata": {},
     "output_type": "execute_result"
    }
   ],
   "source": [
    "type(bined_df.loc[160253]['bodyType'])"
   ]
  },
  {
   "cell_type": "code",
   "execution_count": 66,
   "id": "40bc9aca",
   "metadata": {
    "execution": {
     "iopub.execute_input": "2021-10-18T11:50:40.377949Z",
     "iopub.status.busy": "2021-10-18T11:50:40.377341Z",
     "iopub.status.idle": "2021-10-18T11:50:40.380680Z",
     "shell.execute_reply": "2021-10-18T11:50:40.380209Z",
     "shell.execute_reply.started": "2021-10-18T11:14:42.086941Z"
    },
    "papermill": {
     "duration": 0.066557,
     "end_time": "2021-10-18T11:50:40.380818",
     "exception": false,
     "start_time": "2021-10-18T11:50:40.314261",
     "status": "completed"
    },
    "tags": []
   },
   "outputs": [
    {
     "data": {
      "text/plain": [
       "'nan'"
      ]
     },
     "execution_count": 66,
     "metadata": {},
     "output_type": "execute_result"
    }
   ],
   "source": [
    "bined_df.loc[59310].bodyType"
   ]
  },
  {
   "cell_type": "code",
   "execution_count": 67,
   "id": "0591b3fd",
   "metadata": {
    "execution": {
     "iopub.execute_input": "2021-10-18T11:50:40.625920Z",
     "iopub.status.busy": "2021-10-18T11:50:40.625276Z",
     "iopub.status.idle": "2021-10-18T11:50:40.639305Z",
     "shell.execute_reply": "2021-10-18T11:50:40.639783Z",
     "shell.execute_reply.started": "2021-10-18T11:16:55.911816Z"
    },
    "papermill": {
     "duration": 0.076933,
     "end_time": "2021-10-18T11:50:40.639966",
     "exception": false,
     "start_time": "2021-10-18T11:50:40.563033",
     "status": "completed"
    },
    "tags": []
   },
   "outputs": [],
   "source": [
    "# Let's fill empty values with correct ones\n",
    "bined_df.bodyType.loc[59310] = 'универсал'\n",
    "bined_df.bodyType.loc[160253] = 'хэтчбек'\n",
    "bined_df.bodyType.loc[261029] = 'универсал'"
   ]
  },
  {
   "cell_type": "code",
   "execution_count": 68,
   "id": "235c9a67",
   "metadata": {
    "execution": {
     "iopub.execute_input": "2021-10-18T11:50:40.760576Z",
     "iopub.status.busy": "2021-10-18T11:50:40.759901Z",
     "iopub.status.idle": "2021-10-18T11:50:40.790750Z",
     "shell.execute_reply": "2021-10-18T11:50:40.791271Z",
     "shell.execute_reply.started": "2021-10-18T11:16:57.866813Z"
    },
    "papermill": {
     "duration": 0.093002,
     "end_time": "2021-10-18T11:50:40.791468",
     "exception": false,
     "start_time": "2021-10-18T11:50:40.698466",
     "status": "completed"
    },
    "tags": []
   },
   "outputs": [
    {
     "data": {
      "text/html": [
       "<div>\n",
       "<style scoped>\n",
       "    .dataframe tbody tr th:only-of-type {\n",
       "        vertical-align: middle;\n",
       "    }\n",
       "\n",
       "    .dataframe tbody tr th {\n",
       "        vertical-align: top;\n",
       "    }\n",
       "\n",
       "    .dataframe thead th {\n",
       "        text-align: right;\n",
       "    }\n",
       "</style>\n",
       "<table border=\"1\" class=\"dataframe\">\n",
       "  <thead>\n",
       "    <tr style=\"text-align: right;\">\n",
       "      <th></th>\n",
       "      <th>bodyType</th>\n",
       "      <th>brand</th>\n",
       "      <th>color</th>\n",
       "      <th>description</th>\n",
       "      <th>engineDisplacement</th>\n",
       "      <th>enginePower</th>\n",
       "      <th>equipment_dict</th>\n",
       "      <th>fuelType</th>\n",
       "      <th>mileage</th>\n",
       "      <th>modelDate</th>\n",
       "      <th>model_name</th>\n",
       "      <th>name</th>\n",
       "      <th>numberOfDoors</th>\n",
       "      <th>parsing_unixtime</th>\n",
       "      <th>priceCurrency</th>\n",
       "      <th>productionDate</th>\n",
       "      <th>sell_id</th>\n",
       "      <th>super_gen</th>\n",
       "      <th>vehicleConfiguration</th>\n",
       "      <th>vehicleTransmission</th>\n",
       "      <th>vendor</th>\n",
       "      <th>owners</th>\n",
       "      <th>ownership</th>\n",
       "      <th>vehicle_licence</th>\n",
       "      <th>driving_gear</th>\n",
       "      <th>steering_wheel</th>\n",
       "      <th>condition</th>\n",
       "      <th>customs</th>\n",
       "      <th>complectation_dict</th>\n",
       "      <th>train</th>\n",
       "      <th>new_data</th>\n",
       "      <th>price</th>\n",
       "      <th>date_added</th>\n",
       "      <th>price_log</th>\n",
       "    </tr>\n",
       "  </thead>\n",
       "  <tbody>\n",
       "  </tbody>\n",
       "</table>\n",
       "</div>"
      ],
      "text/plain": [
       "Empty DataFrame\n",
       "Columns: [bodyType, brand, color, description, engineDisplacement, enginePower, equipment_dict, fuelType, mileage, modelDate, model_name, name, numberOfDoors, parsing_unixtime, priceCurrency, productionDate, sell_id, super_gen, vehicleConfiguration, vehicleTransmission, vendor, owners, ownership, vehicle_licence, driving_gear, steering_wheel, condition, customs, complectation_dict, train, new_data, price, date_added, price_log]\n",
       "Index: []"
      ]
     },
     "execution_count": 68,
     "metadata": {},
     "output_type": "execute_result"
    }
   ],
   "source": [
    "bined_df[bined_df['bodyType'] == 'nan']"
   ]
  },
  {
   "cell_type": "code",
   "execution_count": 69,
   "id": "7da8846a",
   "metadata": {
    "execution": {
     "iopub.execute_input": "2021-10-18T11:50:40.912854Z",
     "iopub.status.busy": "2021-10-18T11:50:40.912224Z",
     "iopub.status.idle": "2021-10-18T11:50:41.629992Z",
     "shell.execute_reply": "2021-10-18T11:50:41.629390Z",
     "shell.execute_reply.started": "2021-10-18T11:27:20.628717Z"
    },
    "papermill": {
     "duration": 0.779781,
     "end_time": "2021-10-18T11:50:41.630264",
     "exception": true,
     "start_time": "2021-10-18T11:50:40.850483",
     "status": "failed"
    },
    "tags": []
   },
   "outputs": [
    {
     "data": {
      "image/png": "[encoded data removed]",
      "text/plain": [
       "<Figure size 432x288 with 1 Axes>"
      ]
     },
     "metadata": {
      "needs_background": "light"
     },
     "output_type": "display_data"
    },
    {
     "data": {
      "image/png": "[encoded data removed]",
      "text/plain": [
       "<Figure size 1080x720 with 1 Axes>"
      ]
     },
     "metadata": {
      "needs_background": "light"
     },
     "output_type": "display_data"
    }
   ],
   "source": [
    "get_hist_box(bined_df, 'bodyType')"
   ]
  },
  {
   "cell_type": "markdown",
   "id": "78c24a80",
   "metadata": {
    "papermill": {
     "duration": null,
     "end_time": null,
     "exception": null,
     "start_time": null,
     "status": "pending"
    },
    "tags": []
   },
   "source": [
    "Here we can see that the most popular models are внедорожник, седан, хэтчбек, лифтбек. Тарга and лимузин have the highest average price. Among the most popular models body type внедорожник is the most expensive."
   ]
  },
  {
   "cell_type": "code",
   "execution_count": 70,
   "id": "8157caf0",
   "metadata": {},
   "outputs": [],
   "source": [
    "# Add this column to cat_cols\n",
    "cat_cols.append('bodyType')"
   ]
  },
  {
   "cell_type": "code",
   "execution_count": null,
   "id": "566bdcd6",
   "metadata": {},
   "outputs": [],
   "source": []
  },
  {
   "cell_type": "markdown",
   "id": "e17f6c52",
   "metadata": {
    "papermill": {
     "duration": null,
     "end_time": null,
     "exception": null,
     "start_time": null,
     "status": "pending"
    },
    "tags": []
   },
   "source": [
    "#### brand"
   ]
  },
  {
   "cell_type": "code",
   "execution_count": null,
   "id": "e2ac825a",
   "metadata": {
    "execution": {
     "iopub.execute_input": "2021-10-18T11:24:20.459065Z",
     "iopub.status.busy": "2021-10-18T11:24:20.458327Z",
     "iopub.status.idle": "2021-10-18T11:24:20.482956Z",
     "shell.execute_reply": "2021-10-18T11:24:20.481994Z",
     "shell.execute_reply.started": "2021-10-18T11:24:20.459018Z"
    },
    "papermill": {
     "duration": null,
     "end_time": null,
     "exception": null,
     "start_time": null,
     "status": "pending"
    },
    "tags": []
   },
   "outputs": [],
   "source": [
    "# Check the unique values for brand\n",
    "bined_df.brand.unique()"
   ]
  },
  {
   "cell_type": "code",
   "execution_count": null,
   "id": "96c653b0",
   "metadata": {
    "execution": {
     "iopub.execute_input": "2021-10-18T11:24:22.364946Z",
     "iopub.status.busy": "2021-10-18T11:24:22.364302Z",
     "iopub.status.idle": "2021-10-18T11:24:22.370911Z",
     "shell.execute_reply": "2021-10-18T11:24:22.369984Z",
     "shell.execute_reply.started": "2021-10-18T11:24:22.364906Z"
    },
    "papermill": {
     "duration": null,
     "end_time": null,
     "exception": null,
     "start_time": null,
     "status": "pending"
    },
    "tags": []
   },
   "outputs": [],
   "source": [
    "brands = test.brand.unique().tolist()"
   ]
  },
  {
   "cell_type": "code",
   "execution_count": null,
   "id": "bb255cb6",
   "metadata": {
    "execution": {
     "iopub.execute_input": "2021-10-18T11:24:27.942310Z",
     "iopub.status.busy": "2021-10-18T11:24:27.941467Z",
     "iopub.status.idle": "2021-10-18T11:24:27.947740Z",
     "shell.execute_reply": "2021-10-18T11:24:27.947097Z",
     "shell.execute_reply.started": "2021-10-18T11:24:27.942255Z"
    },
    "papermill": {
     "duration": null,
     "end_time": null,
     "exception": null,
     "start_time": null,
     "status": "pending"
    },
    "tags": []
   },
   "outputs": [],
   "source": [
    "brands"
   ]
  },
  {
   "cell_type": "code",
   "execution_count": null,
   "id": "834fdf9d",
   "metadata": {
    "execution": {
     "iopub.execute_input": "2021-10-18T11:24:30.173855Z",
     "iopub.status.busy": "2021-10-18T11:24:30.172882Z",
     "iopub.status.idle": "2021-10-18T11:24:30.450241Z",
     "shell.execute_reply": "2021-10-18T11:24:30.449522Z",
     "shell.execute_reply.started": "2021-10-18T11:24:30.173804Z"
    },
    "papermill": {
     "duration": null,
     "end_time": null,
     "exception": null,
     "start_time": null,
     "status": "pending"
    },
    "tags": []
   },
   "outputs": [],
   "source": [
    "# Delete brands that are not presented in test dataframe\n",
    "bined_df = bined_df[bined_df.brand.isin(brands)]"
   ]
  },
  {
   "cell_type": "code",
   "execution_count": null,
   "id": "4f13681b",
   "metadata": {
    "execution": {
     "iopub.execute_input": "2021-10-18T11:24:32.895348Z",
     "iopub.status.busy": "2021-10-18T11:24:32.895019Z",
     "iopub.status.idle": "2021-10-18T11:24:32.914663Z",
     "shell.execute_reply": "2021-10-18T11:24:32.913746Z",
     "shell.execute_reply.started": "2021-10-18T11:24:32.895313Z"
    },
    "papermill": {
     "duration": null,
     "end_time": null,
     "exception": null,
     "start_time": null,
     "status": "pending"
    },
    "tags": []
   },
   "outputs": [],
   "source": [
    "bined_df.brand.unique()"
   ]
  },
  {
   "cell_type": "code",
   "execution_count": null,
   "id": "3406b795",
   "metadata": {
    "execution": {
     "iopub.execute_input": "2021-10-18T11:27:45.686957Z",
     "iopub.status.busy": "2021-10-18T11:27:45.686650Z",
     "iopub.status.idle": "2021-10-18T11:27:46.416575Z",
     "shell.execute_reply": "2021-10-18T11:27:46.415629Z",
     "shell.execute_reply.started": "2021-10-18T11:27:45.686927Z"
    },
    "papermill": {
     "duration": null,
     "end_time": null,
     "exception": null,
     "start_time": null,
     "status": "pending"
    },
    "tags": []
   },
   "outputs": [],
   "source": [
    "get_hist_box(bined_df, 'brand')"
   ]
  },
  {
   "cell_type": "markdown",
   "id": "1fcf350c",
   "metadata": {
    "papermill": {
     "duration": null,
     "end_time": null,
     "exception": null,
     "start_time": null,
     "status": "pending"
    },
    "tags": []
   },
   "source": [
    "By the time of the analysis Mercedes has the highest average price and Honda has the lowest."
   ]
  },
  {
   "cell_type": "code",
   "execution_count": null,
   "id": "b5ce9ebc",
   "metadata": {},
   "outputs": [],
   "source": [
    "# Add this column to cat_cols\n",
    "cat_cols.append('brand')"
   ]
  },
  {
   "cell_type": "markdown",
   "id": "d5c077f9",
   "metadata": {
    "papermill": {
     "duration": null,
     "end_time": null,
     "exception": null,
     "start_time": null,
     "status": "pending"
    },
    "tags": []
   },
   "source": [
    "#### color"
   ]
  },
  {
   "cell_type": "code",
   "execution_count": null,
   "id": "7ab442f0",
   "metadata": {},
   "outputs": [],
   "source": [
    "# Check the unique values for color\n",
    "bined_df.color.unique()"
   ]
  },
  {
   "cell_type": "code",
   "execution_count": null,
   "id": "d7ffd33f",
   "metadata": {},
   "outputs": [],
   "source": [
    "get_hist_box(bined_df, 'color')"
   ]
  },
  {
   "cell_type": "markdown",
   "id": "943eea14",
   "metadata": {},
   "source": [
    "The most popular color is black, black cars have the highest average price."
   ]
  },
  {
   "cell_type": "code",
   "execution_count": null,
   "id": "5e0a8a73",
   "metadata": {},
   "outputs": [],
   "source": [
    "# Add this column to cat_cols\n",
    "cat_cols.append('color')"
   ]
  },
  {
   "cell_type": "markdown",
   "id": "c6ca82c4",
   "metadata": {
    "papermill": {
     "duration": null,
     "end_time": null,
     "exception": null,
     "start_time": null,
     "status": "pending"
    },
    "tags": []
   },
   "source": [
    "#### description"
   ]
  },
  {
   "cell_type": "markdown",
   "id": "2bfa3335",
   "metadata": {
    "papermill": {
     "duration": null,
     "end_time": null,
     "exception": null,
     "start_time": null,
     "status": "pending"
    },
    "tags": []
   },
   "source": [
    "#### engineDisplacement"
   ]
  },
  {
   "cell_type": "markdown",
   "id": "2f85a021",
   "metadata": {
    "papermill": {
     "duration": null,
     "end_time": null,
     "exception": null,
     "start_time": null,
     "status": "pending"
    },
    "tags": []
   },
   "source": [
    "#### enginePower"
   ]
  },
  {
   "cell_type": "markdown",
   "id": "27599a45",
   "metadata": {
    "papermill": {
     "duration": null,
     "end_time": null,
     "exception": null,
     "start_time": null,
     "status": "pending"
    },
    "tags": []
   },
   "source": [
    "#### fuelType"
   ]
  },
  {
   "cell_type": "markdown",
   "id": "c5711cf5",
   "metadata": {
    "papermill": {
     "duration": null,
     "end_time": null,
     "exception": null,
     "start_time": null,
     "status": "pending"
    },
    "tags": []
   },
   "source": [
    "#### mileage"
   ]
  },
  {
   "cell_type": "markdown",
   "id": "cf09ff25",
   "metadata": {
    "papermill": {
     "duration": null,
     "end_time": null,
     "exception": null,
     "start_time": null,
     "status": "pending"
    },
    "tags": []
   },
   "source": [
    "#### modelDate"
   ]
  },
  {
   "cell_type": "markdown",
   "id": "fe1e6b9b",
   "metadata": {
    "papermill": {
     "duration": null,
     "end_time": null,
     "exception": null,
     "start_time": null,
     "status": "pending"
    },
    "tags": []
   },
   "source": [
    "#### name"
   ]
  },
  {
   "cell_type": "markdown",
   "id": "d28c43af",
   "metadata": {
    "papermill": {
     "duration": null,
     "end_time": null,
     "exception": null,
     "start_time": null,
     "status": "pending"
    },
    "tags": []
   },
   "source": [
    "#### numberOfDoors"
   ]
  },
  {
   "cell_type": "markdown",
   "id": "08b79817",
   "metadata": {
    "papermill": {
     "duration": null,
     "end_time": null,
     "exception": null,
     "start_time": null,
     "status": "pending"
    },
    "tags": []
   },
   "source": [
    "#### parsing_unixtime"
   ]
  },
  {
   "cell_type": "code",
   "execution_count": 15,
   "id": "634703d6",
   "metadata": {},
   "outputs": [],
   "source": [
    "# get only year, month, day from the parsing_unixtime column as we have only them for train_ready df\n",
    "bined_df['parsing_unixtime_1'] = bined_df.parsing_unixtime.apply(lambda x: \\\n",
    "                                 datetime.timestamp(datetime.strptime(datetime.fromtimestamp(x).\\\n",
    "                                                                      strftime('%Y-%m-%d'), '%Y-%m-%d')))\n",
    "bined_df.drop('parsing_unixtime', inplace = True, axis=1)\n",
    "bined_df.rename(columns= {'parsing_unixtime_1':'parsing_unixtime'}, inplace=True)"
   ]
  },
  {
   "cell_type": "markdown",
   "id": "d3ac5d9b",
   "metadata": {
    "papermill": {
     "duration": null,
     "end_time": null,
     "exception": null,
     "start_time": null,
     "status": "pending"
    },
    "tags": []
   },
   "source": [
    "#### productionDate"
   ]
  },
  {
   "cell_type": "code",
   "execution_count": null,
   "id": "10b7de2c",
   "metadata": {},
   "outputs": [],
   "source": []
  },
  {
   "cell_type": "markdown",
   "id": "decb9fdd",
   "metadata": {
    "papermill": {
     "duration": null,
     "end_time": null,
     "exception": null,
     "start_time": null,
     "status": "pending"
    },
    "tags": []
   },
   "source": [
    "#### price"
   ]
  },
  {
   "cell_type": "code",
   "execution_count": null,
   "id": "4c33f81b",
   "metadata": {
    "execution": {
     "iopub.execute_input": "2021-10-18T10:40:59.816712Z",
     "iopub.status.busy": "2021-10-18T10:40:59.815813Z",
     "iopub.status.idle": "2021-10-18T10:40:59.829742Z",
     "shell.execute_reply": "2021-10-18T10:40:59.828955Z",
     "shell.execute_reply.started": "2021-10-18T10:40:59.816663Z"
    },
    "papermill": {
     "duration": null,
     "end_time": null,
     "exception": null,
     "start_time": null,
     "status": "pending"
    },
    "tags": []
   },
   "outputs": [],
   "source": [
    "bined_df['price']"
   ]
  },
  {
   "cell_type": "markdown",
   "id": "619c0f75",
   "metadata": {
    "papermill": {
     "duration": null,
     "end_time": null,
     "exception": null,
     "start_time": null,
     "status": "pending"
    },
    "tags": []
   },
   "source": [
    "#### vehicleConfiguration"
   ]
  },
  {
   "cell_type": "markdown",
   "id": "ea6cd371",
   "metadata": {
    "papermill": {
     "duration": null,
     "end_time": null,
     "exception": null,
     "start_time": null,
     "status": "pending"
    },
    "tags": []
   },
   "source": [
    "#### vehicleTransmission"
   ]
  },
  {
   "cell_type": "markdown",
   "id": "6a2f76bc",
   "metadata": {
    "papermill": {
     "duration": null,
     "end_time": null,
     "exception": null,
     "start_time": null,
     "status": "pending"
    },
    "tags": []
   },
   "source": [
    "#### vendor"
   ]
  },
  {
   "cell_type": "markdown",
   "id": "8cb399eb",
   "metadata": {
    "papermill": {
     "duration": null,
     "end_time": null,
     "exception": null,
     "start_time": null,
     "status": "pending"
    },
    "tags": []
   },
   "source": [
    "#### owners"
   ]
  },
  {
   "cell_type": "markdown",
   "id": "f647b25c",
   "metadata": {
    "papermill": {
     "duration": null,
     "end_time": null,
     "exception": null,
     "start_time": null,
     "status": "pending"
    },
    "tags": []
   },
   "source": [
    "#### ownership"
   ]
  },
  {
   "cell_type": "markdown",
   "id": "6c053ae3",
   "metadata": {
    "papermill": {
     "duration": null,
     "end_time": null,
     "exception": null,
     "start_time": null,
     "status": "pending"
    },
    "tags": []
   },
   "source": [
    "#### vehicleLicense"
   ]
  },
  {
   "cell_type": "markdown",
   "id": "d6bf6e43",
   "metadata": {
    "papermill": {
     "duration": null,
     "end_time": null,
     "exception": null,
     "start_time": null,
     "status": "pending"
    },
    "tags": []
   },
   "source": [
    "#### driving_gear"
   ]
  },
  {
   "cell_type": "markdown",
   "id": "470b9cc2",
   "metadata": {
    "papermill": {
     "duration": null,
     "end_time": null,
     "exception": null,
     "start_time": null,
     "status": "pending"
    },
    "tags": []
   },
   "source": [
    "#### steering_wheel"
   ]
  },
  {
   "cell_type": "markdown",
   "id": "19cb194b",
   "metadata": {
    "papermill": {
     "duration": null,
     "end_time": null,
     "exception": null,
     "start_time": null,
     "status": "pending"
    },
    "tags": []
   },
   "source": [
    "#### condition"
   ]
  },
  {
   "cell_type": "markdown",
   "id": "2c2c3fc1",
   "metadata": {
    "papermill": {
     "duration": null,
     "end_time": null,
     "exception": null,
     "start_time": null,
     "status": "pending"
    },
    "tags": []
   },
   "source": [
    "#### customs"
   ]
  },
  {
   "cell_type": "markdown",
   "id": "0d7f64e7",
   "metadata": {},
   "source": [
    "#### equipment_dict"
   ]
  },
  {
   "cell_type": "code",
   "execution_count": 16,
   "id": "7596e6d5",
   "metadata": {},
   "outputs": [],
   "source": [
    "bined_df['equipment'] = bined_df.apply(equip, axis = 1)\n",
    "bined_df.drop('equipment_dict', inplace = True, axis = 1)"
   ]
  },
  {
   "cell_type": "markdown",
   "id": "7205d95e",
   "metadata": {},
   "source": [
    "##### bind equipment & complectation_dict in one column"
   ]
  },
  {
   "cell_type": "code",
   "execution_count": 42,
   "id": "2a0bc471",
   "metadata": {
    "scrolled": false
   },
   "outputs": [],
   "source": [
    "bined_df['equip_compl'] = bined_df.apply(equip_compl, axis = 1)\n",
    "bined_df.drop(['equipment', 'complectation_dict'], axis = 1, inplace = True)"
   ]
  },
  {
   "cell_type": "code",
   "execution_count": null,
   "id": "e1b30036",
   "metadata": {},
   "outputs": [],
   "source": []
  },
  {
   "cell_type": "code",
   "execution_count": 48,
   "id": "35c4a26d",
   "metadata": {
    "execution": {
     "iopub.status.busy": "2021-10-16T20:27:20.876601Z",
     "iopub.status.idle": "2021-10-16T20:27:20.877055Z",
     "shell.execute_reply": "2021-10-16T20:27:20.876831Z",
     "shell.execute_reply.started": "2021-10-16T20:27:20.876812Z"
    },
    "papermill": {
     "duration": null,
     "end_time": null,
     "exception": null,
     "start_time": null,
     "status": "pending"
    },
    "tags": []
   },
   "outputs": [],
   "source": [
    "# Create feature categories lists\n",
    "\n",
    "# numerical features\n",
    "num_cols = [x for x in bined_df.select_dtypes(include=np.number).columns.tolist() \\\n",
    "            if x not in ['sell_id', 'train','new_data']]\n",
    "\n",
    "# binary features\n",
    "bin_cols = []\n",
    "\n",
    "# categorical features\n",
    "cat_cols = []"
   ]
  },
  {
   "cell_type": "markdown",
   "id": "578de844",
   "metadata": {
    "papermill": {
     "duration": null,
     "end_time": null,
     "exception": null,
     "start_time": null,
     "status": "pending"
    },
    "tags": []
   },
   "source": [
    "### Feature importance and correlation"
   ]
  },
  {
   "cell_type": "code",
   "execution_count": null,
   "id": "17659287",
   "metadata": {
    "execution": {
     "iopub.status.busy": "2021-10-16T20:27:20.899933Z",
     "iopub.status.idle": "2021-10-16T20:27:20.900385Z",
     "shell.execute_reply": "2021-10-16T20:27:20.900156Z",
     "shell.execute_reply.started": "2021-10-16T20:27:20.900138Z"
    },
    "papermill": {
     "duration": null,
     "end_time": null,
     "exception": null,
     "start_time": null,
     "status": "pending"
    },
    "tags": []
   },
   "outputs": [],
   "source": [
    "# Numeric features importance\n",
    "imp_num = Series(f_classif(bined_df[num_cols], bined_df['price'])[\n",
    "                 0], index=num_cols)\n",
    "imp_num.sort_values(inplace=True)\n",
    "imp_num.plot(kind='barh', title='Numeric features importance')"
   ]
  },
  {
   "cell_type": "code",
   "execution_count": null,
   "id": "b0df73ad",
   "metadata": {
    "execution": {
     "iopub.status.busy": "2021-10-16T20:27:20.907521Z",
     "iopub.status.idle": "2021-10-16T20:27:20.908138Z",
     "shell.execute_reply": "2021-10-16T20:27:20.907957Z",
     "shell.execute_reply.started": "2021-10-16T20:27:20.907933Z"
    },
    "papermill": {
     "duration": null,
     "end_time": null,
     "exception": null,
     "start_time": null,
     "status": "pending"
    },
    "tags": []
   },
   "outputs": [],
   "source": [
    "# Numeric features correlation\n",
    "fig, ax = plt.subplots(1, 1, figsize=(10, 5))\n",
    "sns.heatmap(bined_df[num_cols + ['price']].corr(), annot=True,\n",
    "            fmt='.1g', vmin=-1, vmax=1, center=0, cmap='RdBu')"
   ]
  },
  {
   "cell_type": "code",
   "execution_count": null,
   "id": "350fb945",
   "metadata": {
    "execution": {
     "iopub.status.busy": "2021-10-16T20:27:20.925910Z",
     "iopub.status.idle": "2021-10-16T20:27:20.926357Z",
     "shell.execute_reply": "2021-10-16T20:27:20.926146Z",
     "shell.execute_reply.started": "2021-10-16T20:27:20.926124Z"
    },
    "papermill": {
     "duration": null,
     "end_time": null,
     "exception": null,
     "start_time": null,
     "status": "pending"
    },
    "tags": []
   },
   "outputs": [],
   "source": [
    "# Categoriсal and binary features importance\n",
    "imp_cat = Series(mutual_info_classif(bined_df[bin_cols + cat_cols], bined_df['price'],\n",
    "                                     discrete_features=True), index=bin_cols + cat_cols)\n",
    "imp_cat.sort_values(inplace=True)\n",
    "imp_cat.plot(kind='barh')"
   ]
  },
  {
   "cell_type": "code",
   "execution_count": null,
   "id": "a0a2bdea",
   "metadata": {
    "execution": {
     "iopub.status.busy": "2021-10-16T20:27:20.928371Z",
     "iopub.status.idle": "2021-10-16T20:27:20.928859Z",
     "shell.execute_reply": "2021-10-16T20:27:20.928624Z",
     "shell.execute_reply.started": "2021-10-16T20:27:20.928600Z"
    },
    "papermill": {
     "duration": null,
     "end_time": null,
     "exception": null,
     "start_time": null,
     "status": "pending"
    },
    "tags": []
   },
   "outputs": [],
   "source": [
    "# Categoriсal and binary features correlation\n",
    "fig, ax = plt.subplots(1, 1, figsize=(12, 10))\n",
    "sns.heatmap(bined_df[cat_cols + bin_cols].corr(), annot=True,\n",
    "            fmt='.1g', vmin=-1, vmax=1, center=0, cmap='RdBu')"
   ]
  },
  {
   "cell_type": "code",
   "execution_count": null,
   "id": "c47086c9",
   "metadata": {
    "papermill": {
     "duration": null,
     "end_time": null,
     "exception": null,
     "start_time": null,
     "status": "pending"
    },
    "tags": []
   },
   "outputs": [],
   "source": []
  }
 ],
 "metadata": {
  "kernelspec": {
   "display_name": "Python 3",
   "language": "python",
   "name": "python3"
  },
  "language_info": {
   "codemirror_mode": {
    "name": "ipython",
    "version": 3
   },
   "file_extension": ".py",
   "mimetype": "text/x-python",
   "name": "python",
   "nbconvert_exporter": "python",
   "pygments_lexer": "ipython3",
   "version": "3.8.8"
  },
  "papermill": {
   "default_parameters": {},
   "duration": 58.882263,
   "end_time": "2021-10-18T11:50:43.536166",
   "environment_variables": {},
   "exception": true,
   "input_path": "__notebook__.ipynb",
   "output_path": "__notebook__.ipynb",
   "parameters": {},
   "start_time": "2021-10-18T11:49:44.653903",
   "version": "2.3.3"
  }
 },
 "nbformat": 4,
 "nbformat_minor": 5
}
